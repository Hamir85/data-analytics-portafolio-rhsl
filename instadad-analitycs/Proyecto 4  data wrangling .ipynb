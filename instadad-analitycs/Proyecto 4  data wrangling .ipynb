{
 "cells": [
  {
   "cell_type": "markdown",
   "id": "mhIvmmkW414q",
   "metadata": {
    "id": "mhIvmmkW414q"
   },
   "source": [
    "# Introducción\n",
    "\n",
    "Instacart es una plataforma de entregas de comestibles donde la clientela puede registrar un pedido y hacer que se lo entreguen, similar a Uber Eats y Door Dash.\n",
    "El conjunto de datos que te hemos proporcionado tiene modificaciones del original. Redujimos el tamaño del conjunto para que tus cálculos se hicieran más rápido e introdujimos valores ausentes y duplicados. Tuvimos cuidado de conservar las distribuciones de los datos originales cuando hicimos los cambios.\n",
    "\n",
    "Debes completar tres pasos. Para cada uno de ellos, escribe una breve introducción que refleje con claridad cómo pretendes resolver cada paso, y escribe párrafos explicatorios que justifiquen tus decisiones al tiempo que avanzas en tu solución.  También escribe una conclusión que resuma tus hallazgos y elecciones.\n"
   ]
  },
  {
   "cell_type": "markdown",
   "id": "3MbyzpOQZ5Or",
   "metadata": {
    "id": "3MbyzpOQZ5Or"
   },
   "source": [
    "## Diccionario de datos\n",
    "\n",
    "Hay cinco tablas en el conjunto de datos, y tendrás que usarlas todas para hacer el preprocesamiento de datos y el análisis exploratorio de datos. A continuación se muestra un diccionario de datos que enumera las columnas de cada tabla y describe los datos que contienen.\n",
    "\n",
    "- `instacart_orders.csv`: cada fila corresponde a un pedido en la aplicación Instacart.\n",
    "    - `'order_id'`: número de ID que identifica de manera única cada pedido.\n",
    "    - `'user_id'`: número de ID que identifica de manera única la cuenta de cada cliente.\n",
    "    - `'order_number'`: el número de veces que este cliente ha hecho un pedido.\n",
    "    - `'order_dow'`: día de la semana en que se hizo el pedido (0 si es domingo).\n",
    "    - `'order_hour_of_day'`: hora del día en que se hizo el pedido.\n",
    "    - `'days_since_prior_order'`: número de días transcurridos desde que este cliente hizo su pedido anterior.\n",
    "- `products.csv`: cada fila corresponde a un producto único que pueden comprar los clientes.\n",
    "    - `'product_id'`: número ID que identifica de manera única cada producto.\n",
    "    - `'product_name'`: nombre del producto.\n",
    "    - `'aisle_id'`: número ID que identifica de manera única cada categoría de pasillo de víveres.\n",
    "    - `'department_id'`: número ID que identifica de manera única cada departamento de víveres.\n",
    "- `order_products.csv`: cada fila corresponde a un artículo pedido en un pedido.\n",
    "    - `'order_id'`: número de ID que identifica de manera única cada pedido.\n",
    "    - `'product_id'`: número ID que identifica de manera única cada producto.\n",
    "    - `'add_to_cart_order'`: el orden secuencial en el que se añadió cada artículo en el carrito.\n",
    "    - `'reordered'`: 0 si el cliente nunca ha pedido este producto antes, 1 si lo ha pedido.\n",
    "- `aisles.csv`\n",
    "    - `'aisle_id'`: número ID que identifica de manera única cada categoría de pasillo de víveres.\n",
    "    - `'aisle'`: nombre del pasillo.\n",
    "- `departments.csv`\n",
    "    - `'department_id'`: número ID que identifica de manera única cada departamento de víveres.\n",
    "    - `'department'`: nombre del departamento."
   ]
  },
  {
   "cell_type": "markdown",
   "id": "n3Ha_cNSZ8lK",
   "metadata": {
    "id": "n3Ha_cNSZ8lK"
   },
   "source": [
    "# Paso 1. Descripción de los datos\n",
    "\n",
    "Lee los archivos de datos (`/datasets/instacart_orders.csv`, `/datasets/products.csv`, `/datasets/aisles.csv`, `/datasets/departments.csv` y `/datasets/order_products.csv`) con `pd.read_csv()` usando los parámetros adecuados para leer los datos correctamente. Verifica la información para cada DataFrame creado.\n"
   ]
  },
  {
   "cell_type": "markdown",
   "id": "OmlQPLlyaAfR",
   "metadata": {
    "id": "OmlQPLlyaAfR"
   },
   "source": [
    "## Plan de solución\n",
    "\n",
    "Primero observare los datos para darme una idea de como vienen. Posterior creare distintos dataframe separados por \";\" para el analisis y los mostare con info() y aplicar el metedo head() para ver los datos."
   ]
  },
  {
   "cell_type": "code",
   "execution_count": 1,
   "id": "fbf1adab",
   "metadata": {
    "id": "fbf1adab"
   },
   "outputs": [],
   "source": [
    "import pandas as pd # importar librerías"
   ]
  },
  {
   "cell_type": "code",
   "execution_count": 2,
   "id": "ad36396d",
   "metadata": {
    "id": "ad36396d"
   },
   "outputs": [],
   "source": [
    "df_instacart = pd.read_csv('/datasets/instacart_orders.csv',sep=';')\n",
    "df_products = pd.read_csv('/datasets/products.csv',sep=';')\n",
    "df_aisles = pd.read_csv('/datasets/aisles.csv',sep=';')\n",
    "df_departments = pd.read_csv('/datasets/departments.csv',sep=';')\n",
    "df_order = pd.read_csv('/datasets/order_products.csv',sep=';')\n",
    "    # leer conjuntos de datos en los DataFrames"
   ]
  },
  {
   "cell_type": "code",
   "execution_count": 3,
   "id": "ad6a1efa",
   "metadata": {
    "id": "ad6a1efa"
   },
   "outputs": [
    {
     "name": "stdout",
     "output_type": "stream",
     "text": [
      "<class 'pandas.core.frame.DataFrame'>\n",
      "RangeIndex: 478967 entries, 0 to 478966\n",
      "Data columns (total 6 columns):\n",
      " #   Column                  Non-Null Count   Dtype  \n",
      "---  ------                  --------------   -----  \n",
      " 0   order_id                478967 non-null  int64  \n",
      " 1   user_id                 478967 non-null  int64  \n",
      " 2   order_number            478967 non-null  int64  \n",
      " 3   order_dow               478967 non-null  int64  \n",
      " 4   order_hour_of_day       478967 non-null  int64  \n",
      " 5   days_since_prior_order  450148 non-null  float64\n",
      "dtypes: float64(1), int64(5)\n",
      "memory usage: 21.9 MB\n"
     ]
    },
    {
     "data": {
      "text/html": [
       "<div>\n",
       "<style scoped>\n",
       "    .dataframe tbody tr th:only-of-type {\n",
       "        vertical-align: middle;\n",
       "    }\n",
       "\n",
       "    .dataframe tbody tr th {\n",
       "        vertical-align: top;\n",
       "    }\n",
       "\n",
       "    .dataframe thead th {\n",
       "        text-align: right;\n",
       "    }\n",
       "</style>\n",
       "<table border=\"1\" class=\"dataframe\">\n",
       "  <thead>\n",
       "    <tr style=\"text-align: right;\">\n",
       "      <th></th>\n",
       "      <th>order_id</th>\n",
       "      <th>user_id</th>\n",
       "      <th>order_number</th>\n",
       "      <th>order_dow</th>\n",
       "      <th>order_hour_of_day</th>\n",
       "      <th>days_since_prior_order</th>\n",
       "    </tr>\n",
       "  </thead>\n",
       "  <tbody>\n",
       "    <tr>\n",
       "      <th>0</th>\n",
       "      <td>1515936</td>\n",
       "      <td>183418</td>\n",
       "      <td>11</td>\n",
       "      <td>6</td>\n",
       "      <td>13</td>\n",
       "      <td>30.0</td>\n",
       "    </tr>\n",
       "    <tr>\n",
       "      <th>1</th>\n",
       "      <td>1690866</td>\n",
       "      <td>163593</td>\n",
       "      <td>5</td>\n",
       "      <td>5</td>\n",
       "      <td>12</td>\n",
       "      <td>9.0</td>\n",
       "    </tr>\n",
       "    <tr>\n",
       "      <th>2</th>\n",
       "      <td>1454967</td>\n",
       "      <td>39980</td>\n",
       "      <td>4</td>\n",
       "      <td>5</td>\n",
       "      <td>19</td>\n",
       "      <td>2.0</td>\n",
       "    </tr>\n",
       "    <tr>\n",
       "      <th>3</th>\n",
       "      <td>1768857</td>\n",
       "      <td>82516</td>\n",
       "      <td>56</td>\n",
       "      <td>0</td>\n",
       "      <td>20</td>\n",
       "      <td>10.0</td>\n",
       "    </tr>\n",
       "    <tr>\n",
       "      <th>4</th>\n",
       "      <td>3007858</td>\n",
       "      <td>196724</td>\n",
       "      <td>2</td>\n",
       "      <td>4</td>\n",
       "      <td>12</td>\n",
       "      <td>17.0</td>\n",
       "    </tr>\n",
       "  </tbody>\n",
       "</table>\n",
       "</div>"
      ],
      "text/plain": [
       "   order_id  user_id  order_number  order_dow  order_hour_of_day  \\\n",
       "0   1515936   183418            11          6                 13   \n",
       "1   1690866   163593             5          5                 12   \n",
       "2   1454967    39980             4          5                 19   \n",
       "3   1768857    82516            56          0                 20   \n",
       "4   3007858   196724             2          4                 12   \n",
       "\n",
       "   days_since_prior_order  \n",
       "0                    30.0  \n",
       "1                     9.0  \n",
       "2                     2.0  \n",
       "3                    10.0  \n",
       "4                    17.0  "
      ]
     },
     "execution_count": 3,
     "metadata": {},
     "output_type": "execute_result"
    }
   ],
   "source": [
    "df_instacart.info()\n",
    "df_instacart.head()# mostrar información del DataFrame"
   ]
  },
  {
   "cell_type": "code",
   "execution_count": 4,
   "id": "5130e05e",
   "metadata": {
    "id": "5130e05e"
   },
   "outputs": [
    {
     "name": "stdout",
     "output_type": "stream",
     "text": [
      "<class 'pandas.core.frame.DataFrame'>\n",
      "RangeIndex: 49694 entries, 0 to 49693\n",
      "Data columns (total 4 columns):\n",
      " #   Column         Non-Null Count  Dtype \n",
      "---  ------         --------------  ----- \n",
      " 0   product_id     49694 non-null  int64 \n",
      " 1   product_name   48436 non-null  object\n",
      " 2   aisle_id       49694 non-null  int64 \n",
      " 3   department_id  49694 non-null  int64 \n",
      "dtypes: int64(3), object(1)\n",
      "memory usage: 1.5+ MB\n"
     ]
    },
    {
     "data": {
      "text/html": [
       "<div>\n",
       "<style scoped>\n",
       "    .dataframe tbody tr th:only-of-type {\n",
       "        vertical-align: middle;\n",
       "    }\n",
       "\n",
       "    .dataframe tbody tr th {\n",
       "        vertical-align: top;\n",
       "    }\n",
       "\n",
       "    .dataframe thead th {\n",
       "        text-align: right;\n",
       "    }\n",
       "</style>\n",
       "<table border=\"1\" class=\"dataframe\">\n",
       "  <thead>\n",
       "    <tr style=\"text-align: right;\">\n",
       "      <th></th>\n",
       "      <th>product_id</th>\n",
       "      <th>product_name</th>\n",
       "      <th>aisle_id</th>\n",
       "      <th>department_id</th>\n",
       "    </tr>\n",
       "  </thead>\n",
       "  <tbody>\n",
       "    <tr>\n",
       "      <th>0</th>\n",
       "      <td>1</td>\n",
       "      <td>Chocolate Sandwich Cookies</td>\n",
       "      <td>61</td>\n",
       "      <td>19</td>\n",
       "    </tr>\n",
       "    <tr>\n",
       "      <th>1</th>\n",
       "      <td>2</td>\n",
       "      <td>All-Seasons Salt</td>\n",
       "      <td>104</td>\n",
       "      <td>13</td>\n",
       "    </tr>\n",
       "    <tr>\n",
       "      <th>2</th>\n",
       "      <td>3</td>\n",
       "      <td>Robust Golden Unsweetened Oolong Tea</td>\n",
       "      <td>94</td>\n",
       "      <td>7</td>\n",
       "    </tr>\n",
       "    <tr>\n",
       "      <th>3</th>\n",
       "      <td>4</td>\n",
       "      <td>Smart Ones Classic Favorites Mini Rigatoni Wit...</td>\n",
       "      <td>38</td>\n",
       "      <td>1</td>\n",
       "    </tr>\n",
       "    <tr>\n",
       "      <th>4</th>\n",
       "      <td>5</td>\n",
       "      <td>Green Chile Anytime Sauce</td>\n",
       "      <td>5</td>\n",
       "      <td>13</td>\n",
       "    </tr>\n",
       "  </tbody>\n",
       "</table>\n",
       "</div>"
      ],
      "text/plain": [
       "   product_id                                       product_name  aisle_id  \\\n",
       "0           1                         Chocolate Sandwich Cookies        61   \n",
       "1           2                                   All-Seasons Salt       104   \n",
       "2           3               Robust Golden Unsweetened Oolong Tea        94   \n",
       "3           4  Smart Ones Classic Favorites Mini Rigatoni Wit...        38   \n",
       "4           5                          Green Chile Anytime Sauce         5   \n",
       "\n",
       "   department_id  \n",
       "0             19  \n",
       "1             13  \n",
       "2              7  \n",
       "3              1  \n",
       "4             13  "
      ]
     },
     "execution_count": 4,
     "metadata": {},
     "output_type": "execute_result"
    }
   ],
   "source": [
    "df_products.info()\n",
    "df_products.head()# mostrar información del DataFrame"
   ]
  },
  {
   "cell_type": "code",
   "execution_count": 5,
   "id": "d8370c05",
   "metadata": {
    "id": "d8370c05"
   },
   "outputs": [
    {
     "name": "stdout",
     "output_type": "stream",
     "text": [
      "<class 'pandas.core.frame.DataFrame'>\n",
      "RangeIndex: 134 entries, 0 to 133\n",
      "Data columns (total 2 columns):\n",
      " #   Column    Non-Null Count  Dtype \n",
      "---  ------    --------------  ----- \n",
      " 0   aisle_id  134 non-null    int64 \n",
      " 1   aisle     134 non-null    object\n",
      "dtypes: int64(1), object(1)\n",
      "memory usage: 2.2+ KB\n"
     ]
    },
    {
     "data": {
      "text/html": [
       "<div>\n",
       "<style scoped>\n",
       "    .dataframe tbody tr th:only-of-type {\n",
       "        vertical-align: middle;\n",
       "    }\n",
       "\n",
       "    .dataframe tbody tr th {\n",
       "        vertical-align: top;\n",
       "    }\n",
       "\n",
       "    .dataframe thead th {\n",
       "        text-align: right;\n",
       "    }\n",
       "</style>\n",
       "<table border=\"1\" class=\"dataframe\">\n",
       "  <thead>\n",
       "    <tr style=\"text-align: right;\">\n",
       "      <th></th>\n",
       "      <th>aisle_id</th>\n",
       "      <th>aisle</th>\n",
       "    </tr>\n",
       "  </thead>\n",
       "  <tbody>\n",
       "    <tr>\n",
       "      <th>0</th>\n",
       "      <td>1</td>\n",
       "      <td>prepared soups salads</td>\n",
       "    </tr>\n",
       "    <tr>\n",
       "      <th>1</th>\n",
       "      <td>2</td>\n",
       "      <td>specialty cheeses</td>\n",
       "    </tr>\n",
       "    <tr>\n",
       "      <th>2</th>\n",
       "      <td>3</td>\n",
       "      <td>energy granola bars</td>\n",
       "    </tr>\n",
       "    <tr>\n",
       "      <th>3</th>\n",
       "      <td>4</td>\n",
       "      <td>instant foods</td>\n",
       "    </tr>\n",
       "    <tr>\n",
       "      <th>4</th>\n",
       "      <td>5</td>\n",
       "      <td>marinades meat preparation</td>\n",
       "    </tr>\n",
       "  </tbody>\n",
       "</table>\n",
       "</div>"
      ],
      "text/plain": [
       "   aisle_id                       aisle\n",
       "0         1       prepared soups salads\n",
       "1         2           specialty cheeses\n",
       "2         3         energy granola bars\n",
       "3         4               instant foods\n",
       "4         5  marinades meat preparation"
      ]
     },
     "execution_count": 5,
     "metadata": {},
     "output_type": "execute_result"
    }
   ],
   "source": [
    "df_aisles.info()\n",
    "df_aisles.head()# mostrar información del DataFrame"
   ]
  },
  {
   "cell_type": "code",
   "execution_count": 6,
   "id": "59e2090f",
   "metadata": {
    "id": "59e2090f"
   },
   "outputs": [
    {
     "name": "stdout",
     "output_type": "stream",
     "text": [
      "<class 'pandas.core.frame.DataFrame'>\n",
      "RangeIndex: 4545007 entries, 0 to 4545006\n",
      "Data columns (total 4 columns):\n",
      " #   Column             Non-Null Count    Dtype  \n",
      "---  ------             --------------    -----  \n",
      " 0   order_id           4545007 non-null  int64  \n",
      " 1   product_id         4545007 non-null  int64  \n",
      " 2   add_to_cart_order  4544171 non-null  float64\n",
      " 3   reordered          4545007 non-null  int64  \n",
      "dtypes: float64(1), int64(3)\n",
      "memory usage: 138.7 MB\n"
     ]
    },
    {
     "data": {
      "text/html": [
       "<div>\n",
       "<style scoped>\n",
       "    .dataframe tbody tr th:only-of-type {\n",
       "        vertical-align: middle;\n",
       "    }\n",
       "\n",
       "    .dataframe tbody tr th {\n",
       "        vertical-align: top;\n",
       "    }\n",
       "\n",
       "    .dataframe thead th {\n",
       "        text-align: right;\n",
       "    }\n",
       "</style>\n",
       "<table border=\"1\" class=\"dataframe\">\n",
       "  <thead>\n",
       "    <tr style=\"text-align: right;\">\n",
       "      <th></th>\n",
       "      <th>order_id</th>\n",
       "      <th>product_id</th>\n",
       "      <th>add_to_cart_order</th>\n",
       "      <th>reordered</th>\n",
       "    </tr>\n",
       "  </thead>\n",
       "  <tbody>\n",
       "    <tr>\n",
       "      <th>0</th>\n",
       "      <td>2141543</td>\n",
       "      <td>11440</td>\n",
       "      <td>17.0</td>\n",
       "      <td>0</td>\n",
       "    </tr>\n",
       "    <tr>\n",
       "      <th>1</th>\n",
       "      <td>567889</td>\n",
       "      <td>1560</td>\n",
       "      <td>1.0</td>\n",
       "      <td>1</td>\n",
       "    </tr>\n",
       "    <tr>\n",
       "      <th>2</th>\n",
       "      <td>2261212</td>\n",
       "      <td>26683</td>\n",
       "      <td>1.0</td>\n",
       "      <td>1</td>\n",
       "    </tr>\n",
       "    <tr>\n",
       "      <th>3</th>\n",
       "      <td>491251</td>\n",
       "      <td>8670</td>\n",
       "      <td>35.0</td>\n",
       "      <td>1</td>\n",
       "    </tr>\n",
       "    <tr>\n",
       "      <th>4</th>\n",
       "      <td>2571142</td>\n",
       "      <td>1940</td>\n",
       "      <td>5.0</td>\n",
       "      <td>1</td>\n",
       "    </tr>\n",
       "  </tbody>\n",
       "</table>\n",
       "</div>"
      ],
      "text/plain": [
       "   order_id  product_id  add_to_cart_order  reordered\n",
       "0   2141543       11440               17.0          0\n",
       "1    567889        1560                1.0          1\n",
       "2   2261212       26683                1.0          1\n",
       "3    491251        8670               35.0          1\n",
       "4   2571142        1940                5.0          1"
      ]
     },
     "execution_count": 6,
     "metadata": {},
     "output_type": "execute_result"
    }
   ],
   "source": [
    "df_order.info(show_counts=True)\n",
    "df_order.head()# mostrar información del DataFrame"
   ]
  },
  {
   "cell_type": "code",
   "execution_count": 7,
   "id": "6fc81694",
   "metadata": {
    "id": "6fc81694"
   },
   "outputs": [
    {
     "name": "stdout",
     "output_type": "stream",
     "text": [
      "<class 'pandas.core.frame.DataFrame'>\n",
      "RangeIndex: 21 entries, 0 to 20\n",
      "Data columns (total 2 columns):\n",
      " #   Column         Non-Null Count  Dtype \n",
      "---  ------         --------------  ----- \n",
      " 0   department_id  21 non-null     int64 \n",
      " 1   department     21 non-null     object\n",
      "dtypes: int64(1), object(1)\n",
      "memory usage: 464.0+ bytes\n"
     ]
    },
    {
     "data": {
      "text/html": [
       "<div>\n",
       "<style scoped>\n",
       "    .dataframe tbody tr th:only-of-type {\n",
       "        vertical-align: middle;\n",
       "    }\n",
       "\n",
       "    .dataframe tbody tr th {\n",
       "        vertical-align: top;\n",
       "    }\n",
       "\n",
       "    .dataframe thead th {\n",
       "        text-align: right;\n",
       "    }\n",
       "</style>\n",
       "<table border=\"1\" class=\"dataframe\">\n",
       "  <thead>\n",
       "    <tr style=\"text-align: right;\">\n",
       "      <th></th>\n",
       "      <th>department_id</th>\n",
       "      <th>department</th>\n",
       "    </tr>\n",
       "  </thead>\n",
       "  <tbody>\n",
       "    <tr>\n",
       "      <th>0</th>\n",
       "      <td>1</td>\n",
       "      <td>frozen</td>\n",
       "    </tr>\n",
       "    <tr>\n",
       "      <th>1</th>\n",
       "      <td>2</td>\n",
       "      <td>other</td>\n",
       "    </tr>\n",
       "    <tr>\n",
       "      <th>2</th>\n",
       "      <td>3</td>\n",
       "      <td>bakery</td>\n",
       "    </tr>\n",
       "    <tr>\n",
       "      <th>3</th>\n",
       "      <td>4</td>\n",
       "      <td>produce</td>\n",
       "    </tr>\n",
       "    <tr>\n",
       "      <th>4</th>\n",
       "      <td>5</td>\n",
       "      <td>alcohol</td>\n",
       "    </tr>\n",
       "  </tbody>\n",
       "</table>\n",
       "</div>"
      ],
      "text/plain": [
       "   department_id department\n",
       "0              1     frozen\n",
       "1              2      other\n",
       "2              3     bakery\n",
       "3              4    produce\n",
       "4              5    alcohol"
      ]
     },
     "execution_count": 7,
     "metadata": {},
     "output_type": "execute_result"
    }
   ],
   "source": [
    "df_departments.info()\n",
    "df_departments.head()# mostrar información del DataFrame"
   ]
  },
  {
   "cell_type": "markdown",
   "id": "t75BD19oaR5f",
   "metadata": {
    "id": "t75BD19oaR5f"
   },
   "source": [
    "## Conclusiones\n",
    "Podemos observar en los datos que tenemos valores ausentes en algunos datafreme. Podemos ver que algunos datos tienes un tipo diferente."
   ]
  },
  {
   "cell_type": "markdown",
   "id": "8RJHqxVmaVsF",
   "metadata": {
    "id": "8RJHqxVmaVsF"
   },
   "source": [
    "# Paso 2. Preprocesamiento de los datos\n",
    "\n",
    "Preprocesa los datos de la siguiente manera:\n",
    "\n",
    "- Verifica y corrige los tipos de datos (por ejemplo, asegúrate de que las columnas de ID sean números enteros).\n",
    "- Identifica y completa los valores ausentes.\n",
    "- Identifica y elimina los valores duplicados.\n",
    "\n",
    "Asegúrate de explicar qué tipos de valores ausentes y duplicados encontraste, cómo los completaste o eliminaste y por qué usaste esos métodos. ¿Por qué crees que estos valores ausentes y duplicados pueden haber estado presentes en el conjunto de datos?"
   ]
  },
  {
   "cell_type": "markdown",
   "id": "p6poABZQaZYb",
   "metadata": {
    "id": "p6poABZQaZYb"
   },
   "source": [
    "## Plan de solución\n",
    "Voy a revisar las bases de datos y completar o eliminar los valores ausentes dependiendo el tipo de datos con los que estemos trabajando. De igual manera revisaremos los valosres dupliplicados y eliminarlos los que se tengan que eliminar. "
   ]
  },
  {
   "cell_type": "markdown",
   "id": "07357848-dc64-4156-9cc3-01ff4365226d",
   "metadata": {
    "id": "07357848-dc64-4156-9cc3-01ff4365226d"
   },
   "source": [
    "## Encuentra y elimina los valores duplicados (y describe cómo tomaste tus decisiones)."
   ]
  },
  {
   "cell_type": "markdown",
   "id": "f179f0a9",
   "metadata": {
    "id": "f179f0a9"
   },
   "source": [
    "### `instacart_orders` data frame"
   ]
  },
  {
   "cell_type": "code",
   "execution_count": 8,
   "id": "b99297a5-405a-463d-8535-9adc3da4ad74",
   "metadata": {
    "id": "b99297a5-405a-463d-8535-9adc3da4ad74"
   },
   "outputs": [
    {
     "data": {
      "text/html": [
       "<div>\n",
       "<style scoped>\n",
       "    .dataframe tbody tr th:only-of-type {\n",
       "        vertical-align: middle;\n",
       "    }\n",
       "\n",
       "    .dataframe tbody tr th {\n",
       "        vertical-align: top;\n",
       "    }\n",
       "\n",
       "    .dataframe thead th {\n",
       "        text-align: right;\n",
       "    }\n",
       "</style>\n",
       "<table border=\"1\" class=\"dataframe\">\n",
       "  <thead>\n",
       "    <tr style=\"text-align: right;\">\n",
       "      <th></th>\n",
       "      <th>order_id</th>\n",
       "      <th>user_id</th>\n",
       "      <th>order_number</th>\n",
       "      <th>order_dow</th>\n",
       "      <th>order_hour_of_day</th>\n",
       "      <th>days_since_prior_order</th>\n",
       "    </tr>\n",
       "  </thead>\n",
       "  <tbody>\n",
       "    <tr>\n",
       "      <th>145574</th>\n",
       "      <td>794638</td>\n",
       "      <td>50898</td>\n",
       "      <td>24</td>\n",
       "      <td>3</td>\n",
       "      <td>2</td>\n",
       "      <td>2.0</td>\n",
       "    </tr>\n",
       "    <tr>\n",
       "      <th>223105</th>\n",
       "      <td>2160484</td>\n",
       "      <td>107525</td>\n",
       "      <td>16</td>\n",
       "      <td>3</td>\n",
       "      <td>2</td>\n",
       "      <td>30.0</td>\n",
       "    </tr>\n",
       "    <tr>\n",
       "      <th>230807</th>\n",
       "      <td>1918001</td>\n",
       "      <td>188546</td>\n",
       "      <td>14</td>\n",
       "      <td>3</td>\n",
       "      <td>2</td>\n",
       "      <td>16.0</td>\n",
       "    </tr>\n",
       "    <tr>\n",
       "      <th>266232</th>\n",
       "      <td>1782114</td>\n",
       "      <td>106752</td>\n",
       "      <td>1</td>\n",
       "      <td>3</td>\n",
       "      <td>2</td>\n",
       "      <td>NaN</td>\n",
       "    </tr>\n",
       "    <tr>\n",
       "      <th>273805</th>\n",
       "      <td>1112182</td>\n",
       "      <td>202304</td>\n",
       "      <td>84</td>\n",
       "      <td>3</td>\n",
       "      <td>2</td>\n",
       "      <td>6.0</td>\n",
       "    </tr>\n",
       "    <tr>\n",
       "      <th>284038</th>\n",
       "      <td>2845099</td>\n",
       "      <td>31189</td>\n",
       "      <td>11</td>\n",
       "      <td>3</td>\n",
       "      <td>2</td>\n",
       "      <td>7.0</td>\n",
       "    </tr>\n",
       "    <tr>\n",
       "      <th>311713</th>\n",
       "      <td>1021560</td>\n",
       "      <td>53767</td>\n",
       "      <td>3</td>\n",
       "      <td>3</td>\n",
       "      <td>2</td>\n",
       "      <td>9.0</td>\n",
       "    </tr>\n",
       "    <tr>\n",
       "      <th>321100</th>\n",
       "      <td>408114</td>\n",
       "      <td>68324</td>\n",
       "      <td>4</td>\n",
       "      <td>3</td>\n",
       "      <td>2</td>\n",
       "      <td>18.0</td>\n",
       "    </tr>\n",
       "    <tr>\n",
       "      <th>323900</th>\n",
       "      <td>1919531</td>\n",
       "      <td>191501</td>\n",
       "      <td>32</td>\n",
       "      <td>3</td>\n",
       "      <td>2</td>\n",
       "      <td>7.0</td>\n",
       "    </tr>\n",
       "    <tr>\n",
       "      <th>345917</th>\n",
       "      <td>2232988</td>\n",
       "      <td>82565</td>\n",
       "      <td>1</td>\n",
       "      <td>3</td>\n",
       "      <td>2</td>\n",
       "      <td>NaN</td>\n",
       "    </tr>\n",
       "    <tr>\n",
       "      <th>371905</th>\n",
       "      <td>391768</td>\n",
       "      <td>57671</td>\n",
       "      <td>19</td>\n",
       "      <td>3</td>\n",
       "      <td>2</td>\n",
       "      <td>10.0</td>\n",
       "    </tr>\n",
       "    <tr>\n",
       "      <th>394347</th>\n",
       "      <td>467134</td>\n",
       "      <td>63189</td>\n",
       "      <td>21</td>\n",
       "      <td>3</td>\n",
       "      <td>2</td>\n",
       "      <td>2.0</td>\n",
       "    </tr>\n",
       "    <tr>\n",
       "      <th>411408</th>\n",
       "      <td>1286742</td>\n",
       "      <td>183220</td>\n",
       "      <td>48</td>\n",
       "      <td>3</td>\n",
       "      <td>2</td>\n",
       "      <td>4.0</td>\n",
       "    </tr>\n",
       "    <tr>\n",
       "      <th>415163</th>\n",
       "      <td>2282673</td>\n",
       "      <td>86751</td>\n",
       "      <td>49</td>\n",
       "      <td>3</td>\n",
       "      <td>2</td>\n",
       "      <td>2.0</td>\n",
       "    </tr>\n",
       "    <tr>\n",
       "      <th>441599</th>\n",
       "      <td>2125197</td>\n",
       "      <td>14050</td>\n",
       "      <td>48</td>\n",
       "      <td>3</td>\n",
       "      <td>2</td>\n",
       "      <td>3.0</td>\n",
       "    </tr>\n",
       "  </tbody>\n",
       "</table>\n",
       "</div>"
      ],
      "text/plain": [
       "        order_id  user_id  order_number  order_dow  order_hour_of_day  \\\n",
       "145574    794638    50898            24          3                  2   \n",
       "223105   2160484   107525            16          3                  2   \n",
       "230807   1918001   188546            14          3                  2   \n",
       "266232   1782114   106752             1          3                  2   \n",
       "273805   1112182   202304            84          3                  2   \n",
       "284038   2845099    31189            11          3                  2   \n",
       "311713   1021560    53767             3          3                  2   \n",
       "321100    408114    68324             4          3                  2   \n",
       "323900   1919531   191501            32          3                  2   \n",
       "345917   2232988    82565             1          3                  2   \n",
       "371905    391768    57671            19          3                  2   \n",
       "394347    467134    63189            21          3                  2   \n",
       "411408   1286742   183220            48          3                  2   \n",
       "415163   2282673    86751            49          3                  2   \n",
       "441599   2125197    14050            48          3                  2   \n",
       "\n",
       "        days_since_prior_order  \n",
       "145574                     2.0  \n",
       "223105                    30.0  \n",
       "230807                    16.0  \n",
       "266232                     NaN  \n",
       "273805                     6.0  \n",
       "284038                     7.0  \n",
       "311713                     9.0  \n",
       "321100                    18.0  \n",
       "323900                     7.0  \n",
       "345917                     NaN  \n",
       "371905                    10.0  \n",
       "394347                     2.0  \n",
       "411408                     4.0  \n",
       "415163                     2.0  \n",
       "441599                     3.0  "
      ]
     },
     "execution_count": 8,
     "metadata": {},
     "output_type": "execute_result"
    }
   ],
   "source": [
    "df_instacart.duplicated().sum()\n",
    "df_instacart[df_instacart.duplicated()]# Revisa si hay pedidos duplicados\n",
    "#Podemos indentificar que encontramos 13 valores duplicados"
   ]
  },
  {
   "cell_type": "markdown",
   "id": "PEkwUX_gvt5A",
   "metadata": {
    "id": "PEkwUX_gvt5A"
   },
   "source": [
    "¿Tienes líneas duplicadas? Si sí, ¿qué tienen en común?\n",
    "Todos los pedidos duplicados se realizaron a las 2 am."
   ]
  },
  {
   "cell_type": "code",
   "execution_count": 9,
   "id": "0d44de5d",
   "metadata": {
    "id": "0d44de5d"
   },
   "outputs": [
    {
     "data": {
      "text/html": [
       "<div>\n",
       "<style scoped>\n",
       "    .dataframe tbody tr th:only-of-type {\n",
       "        vertical-align: middle;\n",
       "    }\n",
       "\n",
       "    .dataframe tbody tr th {\n",
       "        vertical-align: top;\n",
       "    }\n",
       "\n",
       "    .dataframe thead th {\n",
       "        text-align: right;\n",
       "    }\n",
       "</style>\n",
       "<table border=\"1\" class=\"dataframe\">\n",
       "  <thead>\n",
       "    <tr style=\"text-align: right;\">\n",
       "      <th></th>\n",
       "      <th>order_id</th>\n",
       "      <th>user_id</th>\n",
       "      <th>order_number</th>\n",
       "      <th>order_dow</th>\n",
       "      <th>order_hour_of_day</th>\n",
       "      <th>days_since_prior_order</th>\n",
       "    </tr>\n",
       "  </thead>\n",
       "  <tbody>\n",
       "    <tr>\n",
       "      <th>145</th>\n",
       "      <td>1373529</td>\n",
       "      <td>143518</td>\n",
       "      <td>8</td>\n",
       "      <td>1</td>\n",
       "      <td>2</td>\n",
       "      <td>30.0</td>\n",
       "    </tr>\n",
       "    <tr>\n",
       "      <th>169</th>\n",
       "      <td>3129415</td>\n",
       "      <td>201917</td>\n",
       "      <td>4</td>\n",
       "      <td>1</td>\n",
       "      <td>2</td>\n",
       "      <td>8.0</td>\n",
       "    </tr>\n",
       "    <tr>\n",
       "      <th>894</th>\n",
       "      <td>2672805</td>\n",
       "      <td>134969</td>\n",
       "      <td>41</td>\n",
       "      <td>0</td>\n",
       "      <td>2</td>\n",
       "      <td>2.0</td>\n",
       "    </tr>\n",
       "    <tr>\n",
       "      <th>950</th>\n",
       "      <td>284735</td>\n",
       "      <td>8831</td>\n",
       "      <td>4</td>\n",
       "      <td>5</td>\n",
       "      <td>2</td>\n",
       "      <td>30.0</td>\n",
       "    </tr>\n",
       "    <tr>\n",
       "      <th>1260</th>\n",
       "      <td>2537018</td>\n",
       "      <td>7543</td>\n",
       "      <td>23</td>\n",
       "      <td>1</td>\n",
       "      <td>2</td>\n",
       "      <td>3.0</td>\n",
       "    </tr>\n",
       "    <tr>\n",
       "      <th>...</th>\n",
       "      <td>...</td>\n",
       "      <td>...</td>\n",
       "      <td>...</td>\n",
       "      <td>...</td>\n",
       "      <td>...</td>\n",
       "      <td>...</td>\n",
       "    </tr>\n",
       "    <tr>\n",
       "      <th>477526</th>\n",
       "      <td>2592344</td>\n",
       "      <td>46860</td>\n",
       "      <td>38</td>\n",
       "      <td>3</td>\n",
       "      <td>2</td>\n",
       "      <td>3.0</td>\n",
       "    </tr>\n",
       "    <tr>\n",
       "      <th>477624</th>\n",
       "      <td>1448965</td>\n",
       "      <td>201408</td>\n",
       "      <td>4</td>\n",
       "      <td>6</td>\n",
       "      <td>2</td>\n",
       "      <td>30.0</td>\n",
       "    </tr>\n",
       "    <tr>\n",
       "      <th>477920</th>\n",
       "      <td>2668224</td>\n",
       "      <td>139740</td>\n",
       "      <td>3</td>\n",
       "      <td>6</td>\n",
       "      <td>2</td>\n",
       "      <td>8.0</td>\n",
       "    </tr>\n",
       "    <tr>\n",
       "      <th>478126</th>\n",
       "      <td>852233</td>\n",
       "      <td>71024</td>\n",
       "      <td>1</td>\n",
       "      <td>4</td>\n",
       "      <td>2</td>\n",
       "      <td>NaN</td>\n",
       "    </tr>\n",
       "    <tr>\n",
       "      <th>478321</th>\n",
       "      <td>1629284</td>\n",
       "      <td>54187</td>\n",
       "      <td>12</td>\n",
       "      <td>6</td>\n",
       "      <td>2</td>\n",
       "      <td>7.0</td>\n",
       "    </tr>\n",
       "  </tbody>\n",
       "</table>\n",
       "<p>1004 rows × 6 columns</p>\n",
       "</div>"
      ],
      "text/plain": [
       "        order_id  user_id  order_number  order_dow  order_hour_of_day  \\\n",
       "145      1373529   143518             8          1                  2   \n",
       "169      3129415   201917             4          1                  2   \n",
       "894      2672805   134969            41          0                  2   \n",
       "950       284735     8831             4          5                  2   \n",
       "1260     2537018     7543            23          1                  2   \n",
       "...          ...      ...           ...        ...                ...   \n",
       "477526   2592344    46860            38          3                  2   \n",
       "477624   1448965   201408             4          6                  2   \n",
       "477920   2668224   139740             3          6                  2   \n",
       "478126    852233    71024             1          4                  2   \n",
       "478321   1629284    54187            12          6                  2   \n",
       "\n",
       "        days_since_prior_order  \n",
       "145                       30.0  \n",
       "169                        8.0  \n",
       "894                        2.0  \n",
       "950                       30.0  \n",
       "1260                       3.0  \n",
       "...                        ...  \n",
       "477526                     3.0  \n",
       "477624                    30.0  \n",
       "477920                     8.0  \n",
       "478126                     NaN  \n",
       "478321                     7.0  \n",
       "\n",
       "[1004 rows x 6 columns]"
      ]
     },
     "execution_count": 9,
     "metadata": {},
     "output_type": "execute_result"
    }
   ],
   "source": [
    "# Basándote en tus hallazgos,\n",
    "# Verifica todos los pedidos que se hicieron el miércoles a las 2:00 a.m.\n",
    "df_instacart[df_instacart['order_hour_of_day']==2]"
   ]
  },
  {
   "cell_type": "markdown",
   "id": "vu2OWyoqwOx5",
   "metadata": {
    "id": "vu2OWyoqwOx5"
   },
   "source": [
    "¿Qué sugiere este resultado? Eliminar las filas duplicadas ya que no nos sieven de nada"
   ]
  },
  {
   "cell_type": "code",
   "execution_count": 10,
   "id": "480563c7",
   "metadata": {
    "id": "480563c7"
   },
   "outputs": [],
   "source": [
    "df_instacart= df_instacart.drop_duplicates()# Elimina los pedidos duplicados\n"
   ]
  },
  {
   "cell_type": "code",
   "execution_count": 11,
   "id": "0b2396a2",
   "metadata": {
    "id": "0b2396a2"
   },
   "outputs": [
    {
     "data": {
      "text/plain": [
       "0"
      ]
     },
     "execution_count": 11,
     "metadata": {},
     "output_type": "execute_result"
    }
   ],
   "source": [
    "df_instacart.duplicated().sum()# Vuelve a verificar si hay filas duplicadas\n"
   ]
  },
  {
   "cell_type": "code",
   "execution_count": 12,
   "id": "f6113ef1",
   "metadata": {
    "id": "f6113ef1"
   },
   "outputs": [
    {
     "data": {
      "text/plain": [
       "0"
      ]
     },
     "execution_count": 12,
     "metadata": {},
     "output_type": "execute_result"
    }
   ],
   "source": [
    "df_instacart.duplicated(subset='order_id').sum()# Vuelve a verificar si hay IDs duplicados de pedidos"
   ]
  },
  {
   "cell_type": "markdown",
   "id": "5e8905ae",
   "metadata": {
    "id": "5e8905ae"
   },
   "source": [
    "Describe brevemente tus hallazgos y lo que hiciste con ellos:\n",
    "Revisé y elimune los valores duplicados que correspondián al día miercoles a las 2 am. "
   ]
  },
  {
   "cell_type": "markdown",
   "id": "45e6bc46",
   "metadata": {
    "id": "45e6bc46"
   },
   "source": [
    "### `products` data frame"
   ]
  },
  {
   "cell_type": "code",
   "execution_count": 13,
   "id": "5f526b5b-8175-46fa-a0fd-441767d50e64",
   "metadata": {
    "id": "5f526b5b-8175-46fa-a0fd-441767d50e64"
   },
   "outputs": [
    {
     "data": {
      "text/plain": [
       "0"
      ]
     },
     "execution_count": 13,
     "metadata": {},
     "output_type": "execute_result"
    }
   ],
   "source": [
    "df_products.duplicated().sum()# Verifica si hay filas totalmente duplicadas\n"
   ]
  },
  {
   "cell_type": "code",
   "execution_count": 14,
   "id": "88daa4f4",
   "metadata": {
    "id": "88daa4f4"
   },
   "outputs": [
    {
     "data": {
      "text/plain": [
       "0"
      ]
     },
     "execution_count": 14,
     "metadata": {},
     "output_type": "execute_result"
    }
   ],
   "source": [
    "df_products['product_id'].duplicated().sum()# Verifica si hay IDs duplicadas de productos"
   ]
  },
  {
   "cell_type": "code",
   "execution_count": 15,
   "id": "c773f0bf",
   "metadata": {
    "id": "c773f0bf"
   },
   "outputs": [
    {
     "data": {
      "text/plain": [
       "1361"
      ]
     },
     "execution_count": 15,
     "metadata": {},
     "output_type": "execute_result"
    }
   ],
   "source": [
    "df_products['product_name']=df_products['product_name'].str.upper()\n",
    "df_products['product_name'].duplicated().sum()# Revisa si hay nombres duplicados de productos (convierte los nombres a letras mayúsculas para compararlos mejor)"
   ]
  },
  {
   "cell_type": "code",
   "execution_count": 16,
   "id": "01efd02e",
   "metadata": {
    "id": "01efd02e"
   },
   "outputs": [
    {
     "data": {
      "text/html": [
       "<div>\n",
       "<style scoped>\n",
       "    .dataframe tbody tr th:only-of-type {\n",
       "        vertical-align: middle;\n",
       "    }\n",
       "\n",
       "    .dataframe tbody tr th {\n",
       "        vertical-align: top;\n",
       "    }\n",
       "\n",
       "    .dataframe thead th {\n",
       "        text-align: right;\n",
       "    }\n",
       "</style>\n",
       "<table border=\"1\" class=\"dataframe\">\n",
       "  <thead>\n",
       "    <tr style=\"text-align: right;\">\n",
       "      <th></th>\n",
       "      <th>product_id</th>\n",
       "      <th>product_name</th>\n",
       "      <th>aisle_id</th>\n",
       "      <th>department_id</th>\n",
       "    </tr>\n",
       "  </thead>\n",
       "  <tbody>\n",
       "  </tbody>\n",
       "</table>\n",
       "</div>"
      ],
      "text/plain": [
       "Empty DataFrame\n",
       "Columns: [product_id, product_name, aisle_id, department_id]\n",
       "Index: []"
      ]
     },
     "execution_count": 16,
     "metadata": {},
     "output_type": "execute_result"
    }
   ],
   "source": [
    "df_products.duplicated().sum()\n",
    "df_products[(df_products['product_name'].duplicated()) & (~df_products['aisle_id']==100)]\n"
   ]
  },
  {
   "cell_type": "markdown",
   "id": "9da8d293",
   "metadata": {
    "id": "9da8d293"
   },
   "source": [
    "Describe brevemente tus hallazgos y lo que hiciste con ellos:\n",
    "Pudimos indentificar que la mayoria de los nombres de los productos duplicados son de valores ausentes. Y tenemos otros nombres que se repiten pero son diferente id y no podemos eliminar esas filas."
   ]
  },
  {
   "cell_type": "markdown",
   "id": "60f30db1",
   "metadata": {
    "id": "60f30db1"
   },
   "source": [
    "### `departments` data frame"
   ]
  },
  {
   "cell_type": "code",
   "execution_count": 17,
   "id": "fb410ad4-0fbf-4b80-bb09-23fdea79afe3",
   "metadata": {
    "id": "fb410ad4-0fbf-4b80-bb09-23fdea79afe3"
   },
   "outputs": [
    {
     "data": {
      "text/plain": [
       "0"
      ]
     },
     "execution_count": 17,
     "metadata": {},
     "output_type": "execute_result"
    }
   ],
   "source": [
    "df_departments.duplicated().sum()# Revisa si hay filas totalmente duplicadas"
   ]
  },
  {
   "cell_type": "code",
   "execution_count": 18,
   "id": "332b12bb",
   "metadata": {
    "id": "332b12bb"
   },
   "outputs": [
    {
     "data": {
      "text/plain": [
       "0"
      ]
     },
     "execution_count": 18,
     "metadata": {},
     "output_type": "execute_result"
    }
   ],
   "source": [
    "df_departments['department_id'].duplicated().sum()# Revisa si hay IDs duplicadas de productos"
   ]
  },
  {
   "cell_type": "markdown",
   "id": "bd30d78e",
   "metadata": {
    "id": "bd30d78e"
   },
   "source": [
    "Describe brevemente tus hallazgos y lo que hiciste con ellos:\n",
    "Revisamos que no hubiera valores duplicados en cada fila y tambien en la columna de id."
   ]
  },
  {
   "cell_type": "markdown",
   "id": "889349c1",
   "metadata": {
    "id": "889349c1"
   },
   "source": [
    "### `aisles` data frame"
   ]
  },
  {
   "cell_type": "code",
   "execution_count": 19,
   "id": "9da89fb9-4679-40f5-ad0d-c34df753a3f8",
   "metadata": {
    "id": "9da89fb9-4679-40f5-ad0d-c34df753a3f8"
   },
   "outputs": [
    {
     "data": {
      "text/plain": [
       "0"
      ]
     },
     "execution_count": 19,
     "metadata": {},
     "output_type": "execute_result"
    }
   ],
   "source": [
    "df_aisles.duplicated().sum()# Revisa si hay filas totalmente duplicadas"
   ]
  },
  {
   "cell_type": "code",
   "execution_count": 20,
   "id": "da7c2822",
   "metadata": {
    "id": "da7c2822"
   },
   "outputs": [
    {
     "data": {
      "text/plain": [
       "0"
      ]
     },
     "execution_count": 20,
     "metadata": {},
     "output_type": "execute_result"
    }
   ],
   "source": [
    "df_aisles['aisle_id'].duplicated().sum()# Revisa si hay IDs duplicadas de productos"
   ]
  },
  {
   "cell_type": "markdown",
   "id": "ac63826f",
   "metadata": {
    "id": "ac63826f"
   },
   "source": [
    "Describe brevemente tus hallazgos y lo que hiciste con ellos:\n",
    "Revisamos de igual manera los valores ausentes de el dataframe y de la columna id."
   ]
  },
  {
   "cell_type": "markdown",
   "id": "274cd06a",
   "metadata": {
    "id": "274cd06a"
   },
   "source": [
    "### `order_products` data frame"
   ]
  },
  {
   "cell_type": "code",
   "execution_count": 21,
   "id": "52326689-84a8-4b8f-a881-7c68780f62c9",
   "metadata": {
    "id": "52326689-84a8-4b8f-a881-7c68780f62c9"
   },
   "outputs": [
    {
     "data": {
      "text/plain": [
       "0"
      ]
     },
     "execution_count": 21,
     "metadata": {},
     "output_type": "execute_result"
    }
   ],
   "source": [
    "df_order.duplicated().sum()# Revisa si hay filas totalmente duplicadas\n"
   ]
  },
  {
   "cell_type": "code",
   "execution_count": 22,
   "id": "7b861391",
   "metadata": {
    "id": "7b861391"
   },
   "outputs": [
    {
     "data": {
      "text/plain": [
       "4094961"
      ]
     },
     "execution_count": 22,
     "metadata": {},
     "output_type": "execute_result"
    }
   ],
   "source": [
    "df_order['order_id'].duplicated().sum() #Vuelve a verificar si hay cualquier otro duplicado engañoso\n"
   ]
  },
  {
   "cell_type": "markdown",
   "id": "0b890492",
   "metadata": {
    "id": "0b890492"
   },
   "source": [
    "Describe brevemente tus hallazgos y lo que hiciste con ellos:\n",
    "Podemos observar que los numeros de orden se repiten, ya que en una misma compra se agregan varios productos. "
   ]
  },
  {
   "cell_type": "markdown",
   "id": "1e46de76",
   "metadata": {
    "id": "1e46de76"
   },
   "source": [
    "## Encuentra y elimina los valores ausentes\n",
    "\n",
    "Al trabajar con valores duplicados, pudimos observar que también nos falta investigar valores ausentes:\n",
    "\n",
    "* La columna `'product_name'` de la tabla products.\n",
    "* La columna `'days_since_prior_order'` de la tabla orders.\n",
    "* La columna `'add_to_cart_order'` de la tabla order_productos."
   ]
  },
  {
   "cell_type": "markdown",
   "id": "c0aebd78",
   "metadata": {
    "id": "c0aebd78"
   },
   "source": [
    "### `products` data frame"
   ]
  },
  {
   "cell_type": "code",
   "execution_count": 23,
   "id": "fe4a8b0f",
   "metadata": {
    "id": "fe4a8b0f"
   },
   "outputs": [
    {
     "data": {
      "text/html": [
       "<div>\n",
       "<style scoped>\n",
       "    .dataframe tbody tr th:only-of-type {\n",
       "        vertical-align: middle;\n",
       "    }\n",
       "\n",
       "    .dataframe tbody tr th {\n",
       "        vertical-align: top;\n",
       "    }\n",
       "\n",
       "    .dataframe thead th {\n",
       "        text-align: right;\n",
       "    }\n",
       "</style>\n",
       "<table border=\"1\" class=\"dataframe\">\n",
       "  <thead>\n",
       "    <tr style=\"text-align: right;\">\n",
       "      <th></th>\n",
       "      <th>product_id</th>\n",
       "      <th>product_name</th>\n",
       "      <th>aisle_id</th>\n",
       "      <th>department_id</th>\n",
       "    </tr>\n",
       "  </thead>\n",
       "  <tbody>\n",
       "    <tr>\n",
       "      <th>37</th>\n",
       "      <td>38</td>\n",
       "      <td>NaN</td>\n",
       "      <td>100</td>\n",
       "      <td>21</td>\n",
       "    </tr>\n",
       "    <tr>\n",
       "      <th>71</th>\n",
       "      <td>72</td>\n",
       "      <td>NaN</td>\n",
       "      <td>100</td>\n",
       "      <td>21</td>\n",
       "    </tr>\n",
       "    <tr>\n",
       "      <th>109</th>\n",
       "      <td>110</td>\n",
       "      <td>NaN</td>\n",
       "      <td>100</td>\n",
       "      <td>21</td>\n",
       "    </tr>\n",
       "    <tr>\n",
       "      <th>296</th>\n",
       "      <td>297</td>\n",
       "      <td>NaN</td>\n",
       "      <td>100</td>\n",
       "      <td>21</td>\n",
       "    </tr>\n",
       "    <tr>\n",
       "      <th>416</th>\n",
       "      <td>417</td>\n",
       "      <td>NaN</td>\n",
       "      <td>100</td>\n",
       "      <td>21</td>\n",
       "    </tr>\n",
       "    <tr>\n",
       "      <th>...</th>\n",
       "      <td>...</td>\n",
       "      <td>...</td>\n",
       "      <td>...</td>\n",
       "      <td>...</td>\n",
       "    </tr>\n",
       "    <tr>\n",
       "      <th>49552</th>\n",
       "      <td>49553</td>\n",
       "      <td>NaN</td>\n",
       "      <td>100</td>\n",
       "      <td>21</td>\n",
       "    </tr>\n",
       "    <tr>\n",
       "      <th>49574</th>\n",
       "      <td>49575</td>\n",
       "      <td>NaN</td>\n",
       "      <td>100</td>\n",
       "      <td>21</td>\n",
       "    </tr>\n",
       "    <tr>\n",
       "      <th>49640</th>\n",
       "      <td>49641</td>\n",
       "      <td>NaN</td>\n",
       "      <td>100</td>\n",
       "      <td>21</td>\n",
       "    </tr>\n",
       "    <tr>\n",
       "      <th>49663</th>\n",
       "      <td>49664</td>\n",
       "      <td>NaN</td>\n",
       "      <td>100</td>\n",
       "      <td>21</td>\n",
       "    </tr>\n",
       "    <tr>\n",
       "      <th>49668</th>\n",
       "      <td>49669</td>\n",
       "      <td>NaN</td>\n",
       "      <td>100</td>\n",
       "      <td>21</td>\n",
       "    </tr>\n",
       "  </tbody>\n",
       "</table>\n",
       "<p>1258 rows × 4 columns</p>\n",
       "</div>"
      ],
      "text/plain": [
       "       product_id product_name  aisle_id  department_id\n",
       "37             38          NaN       100             21\n",
       "71             72          NaN       100             21\n",
       "109           110          NaN       100             21\n",
       "296           297          NaN       100             21\n",
       "416           417          NaN       100             21\n",
       "...           ...          ...       ...            ...\n",
       "49552       49553          NaN       100             21\n",
       "49574       49575          NaN       100             21\n",
       "49640       49641          NaN       100             21\n",
       "49663       49664          NaN       100             21\n",
       "49668       49669          NaN       100             21\n",
       "\n",
       "[1258 rows x 4 columns]"
      ]
     },
     "execution_count": 23,
     "metadata": {},
     "output_type": "execute_result"
    }
   ],
   "source": [
    "df_products[df_products['product_name'].isna()]# Encuentra los valores ausentes en la columna 'product_name'"
   ]
  },
  {
   "cell_type": "markdown",
   "id": "-A6x1AbJhjkp",
   "metadata": {
    "id": "-A6x1AbJhjkp"
   },
   "source": [
    "Describe brevemente cuáles son tus hallazgos. Podemos observar que los valores ausentes de la columna pruduct_name coincide con los valores duplicados y se encuentran en el pasillo 100 departamento 21"
   ]
  },
  {
   "cell_type": "code",
   "execution_count": 24,
   "id": "e96167bc",
   "metadata": {
    "id": "e96167bc"
   },
   "outputs": [
    {
     "data": {
      "text/plain": [
       "product_id       0\n",
       "product_name     0\n",
       "aisle_id         0\n",
       "department_id    0\n",
       "dtype: int64"
      ]
     },
     "execution_count": 24,
     "metadata": {},
     "output_type": "execute_result"
    }
   ],
   "source": [
    "aisle_100=df_products[df_products['aisle_id']!=100]# ¿Todos los nombres de productos ausentes están relacionados con el pasillo con ID 100?\n",
    "aisle_100.isna().sum()"
   ]
  },
  {
   "cell_type": "markdown",
   "id": "WRpIfXRphpSL",
   "metadata": {
    "id": "WRpIfXRphpSL"
   },
   "source": [
    "Describe brevemente cuáles son tus hallazgos. Podemos observar que todos los nombres de productos ausentes se encuentran en el pasillo 100."
   ]
  },
  {
   "cell_type": "code",
   "execution_count": 25,
   "id": "8fd0a541",
   "metadata": {
    "id": "8fd0a541"
   },
   "outputs": [
    {
     "data": {
      "text/plain": [
       "product_id       0\n",
       "product_name     0\n",
       "aisle_id         0\n",
       "department_id    0\n",
       "dtype: int64"
      ]
     },
     "execution_count": 25,
     "metadata": {},
     "output_type": "execute_result"
    }
   ],
   "source": [
    "dep_21= df_products[df_products['department_id']!=21]# ¿Todos los nombres de productos ausentes están relacionados con el departamento con ID 21?\n",
    "dep_21.isna().sum()"
   ]
  },
  {
   "cell_type": "markdown",
   "id": "qDpdYn1Fht_I",
   "metadata": {
    "id": "qDpdYn1Fht_I"
   },
   "source": [
    "Describe brevemente cuáles son tus hallazgos. Podemos ver que todos los valores ausentes se encuentran en el departamento 21"
   ]
  },
  {
   "cell_type": "code",
   "execution_count": 26,
   "id": "325c3464",
   "metadata": {
    "id": "325c3464"
   },
   "outputs": [
    {
     "data": {
      "text/html": [
       "<div>\n",
       "<style scoped>\n",
       "    .dataframe tbody tr th:only-of-type {\n",
       "        vertical-align: middle;\n",
       "    }\n",
       "\n",
       "    .dataframe tbody tr th {\n",
       "        vertical-align: top;\n",
       "    }\n",
       "\n",
       "    .dataframe thead th {\n",
       "        text-align: right;\n",
       "    }\n",
       "</style>\n",
       "<table border=\"1\" class=\"dataframe\">\n",
       "  <thead>\n",
       "    <tr style=\"text-align: right;\">\n",
       "      <th></th>\n",
       "      <th>product_id</th>\n",
       "      <th>product_name</th>\n",
       "      <th>aisle_id</th>\n",
       "      <th>department_id</th>\n",
       "    </tr>\n",
       "  </thead>\n",
       "  <tbody>\n",
       "    <tr>\n",
       "      <th>37</th>\n",
       "      <td>38</td>\n",
       "      <td>NaN</td>\n",
       "      <td>100</td>\n",
       "      <td>21</td>\n",
       "    </tr>\n",
       "    <tr>\n",
       "      <th>71</th>\n",
       "      <td>72</td>\n",
       "      <td>NaN</td>\n",
       "      <td>100</td>\n",
       "      <td>21</td>\n",
       "    </tr>\n",
       "    <tr>\n",
       "      <th>109</th>\n",
       "      <td>110</td>\n",
       "      <td>NaN</td>\n",
       "      <td>100</td>\n",
       "      <td>21</td>\n",
       "    </tr>\n",
       "    <tr>\n",
       "      <th>296</th>\n",
       "      <td>297</td>\n",
       "      <td>NaN</td>\n",
       "      <td>100</td>\n",
       "      <td>21</td>\n",
       "    </tr>\n",
       "    <tr>\n",
       "      <th>416</th>\n",
       "      <td>417</td>\n",
       "      <td>NaN</td>\n",
       "      <td>100</td>\n",
       "      <td>21</td>\n",
       "    </tr>\n",
       "    <tr>\n",
       "      <th>...</th>\n",
       "      <td>...</td>\n",
       "      <td>...</td>\n",
       "      <td>...</td>\n",
       "      <td>...</td>\n",
       "    </tr>\n",
       "    <tr>\n",
       "      <th>49552</th>\n",
       "      <td>49553</td>\n",
       "      <td>NaN</td>\n",
       "      <td>100</td>\n",
       "      <td>21</td>\n",
       "    </tr>\n",
       "    <tr>\n",
       "      <th>49574</th>\n",
       "      <td>49575</td>\n",
       "      <td>NaN</td>\n",
       "      <td>100</td>\n",
       "      <td>21</td>\n",
       "    </tr>\n",
       "    <tr>\n",
       "      <th>49640</th>\n",
       "      <td>49641</td>\n",
       "      <td>NaN</td>\n",
       "      <td>100</td>\n",
       "      <td>21</td>\n",
       "    </tr>\n",
       "    <tr>\n",
       "      <th>49663</th>\n",
       "      <td>49664</td>\n",
       "      <td>NaN</td>\n",
       "      <td>100</td>\n",
       "      <td>21</td>\n",
       "    </tr>\n",
       "    <tr>\n",
       "      <th>49668</th>\n",
       "      <td>49669</td>\n",
       "      <td>NaN</td>\n",
       "      <td>100</td>\n",
       "      <td>21</td>\n",
       "    </tr>\n",
       "  </tbody>\n",
       "</table>\n",
       "<p>1258 rows × 4 columns</p>\n",
       "</div>"
      ],
      "text/plain": [
       "       product_id product_name  aisle_id  department_id\n",
       "37             38          NaN       100             21\n",
       "71             72          NaN       100             21\n",
       "109           110          NaN       100             21\n",
       "296           297          NaN       100             21\n",
       "416           417          NaN       100             21\n",
       "...           ...          ...       ...            ...\n",
       "49552       49553          NaN       100             21\n",
       "49574       49575          NaN       100             21\n",
       "49640       49641          NaN       100             21\n",
       "49663       49664          NaN       100             21\n",
       "49668       49669          NaN       100             21\n",
       "\n",
       "[1258 rows x 4 columns]"
      ]
     },
     "execution_count": 26,
     "metadata": {},
     "output_type": "execute_result"
    }
   ],
   "source": [
    "# Usa las tablas department y aisle para revisar los datos del pasillo con ID 100 y el departamento con ID 21.\n",
    "df_products[(df_products['aisle_id']==100) & (df_products['department_id']==21)]"
   ]
  },
  {
   "cell_type": "markdown",
   "id": "nqhSTUPhhvEJ",
   "metadata": {
    "id": "nqhSTUPhhvEJ"
   },
   "source": [
    "Describe brevemente cuáles son tus hallazgos."
   ]
  },
  {
   "cell_type": "code",
   "execution_count": 27,
   "id": "6b295120",
   "metadata": {
    "id": "6b295120"
   },
   "outputs": [
    {
     "data": {
      "text/html": [
       "<div>\n",
       "<style scoped>\n",
       "    .dataframe tbody tr th:only-of-type {\n",
       "        vertical-align: middle;\n",
       "    }\n",
       "\n",
       "    .dataframe tbody tr th {\n",
       "        vertical-align: top;\n",
       "    }\n",
       "\n",
       "    .dataframe thead th {\n",
       "        text-align: right;\n",
       "    }\n",
       "</style>\n",
       "<table border=\"1\" class=\"dataframe\">\n",
       "  <thead>\n",
       "    <tr style=\"text-align: right;\">\n",
       "      <th></th>\n",
       "      <th>product_id</th>\n",
       "      <th>product_name</th>\n",
       "      <th>aisle_id</th>\n",
       "      <th>department_id</th>\n",
       "    </tr>\n",
       "  </thead>\n",
       "  <tbody>\n",
       "    <tr>\n",
       "      <th>37</th>\n",
       "      <td>38</td>\n",
       "      <td>Unknown</td>\n",
       "      <td>100</td>\n",
       "      <td>21</td>\n",
       "    </tr>\n",
       "    <tr>\n",
       "      <th>71</th>\n",
       "      <td>72</td>\n",
       "      <td>Unknown</td>\n",
       "      <td>100</td>\n",
       "      <td>21</td>\n",
       "    </tr>\n",
       "    <tr>\n",
       "      <th>109</th>\n",
       "      <td>110</td>\n",
       "      <td>Unknown</td>\n",
       "      <td>100</td>\n",
       "      <td>21</td>\n",
       "    </tr>\n",
       "    <tr>\n",
       "      <th>296</th>\n",
       "      <td>297</td>\n",
       "      <td>Unknown</td>\n",
       "      <td>100</td>\n",
       "      <td>21</td>\n",
       "    </tr>\n",
       "    <tr>\n",
       "      <th>416</th>\n",
       "      <td>417</td>\n",
       "      <td>Unknown</td>\n",
       "      <td>100</td>\n",
       "      <td>21</td>\n",
       "    </tr>\n",
       "    <tr>\n",
       "      <th>...</th>\n",
       "      <td>...</td>\n",
       "      <td>...</td>\n",
       "      <td>...</td>\n",
       "      <td>...</td>\n",
       "    </tr>\n",
       "    <tr>\n",
       "      <th>49552</th>\n",
       "      <td>49553</td>\n",
       "      <td>Unknown</td>\n",
       "      <td>100</td>\n",
       "      <td>21</td>\n",
       "    </tr>\n",
       "    <tr>\n",
       "      <th>49574</th>\n",
       "      <td>49575</td>\n",
       "      <td>Unknown</td>\n",
       "      <td>100</td>\n",
       "      <td>21</td>\n",
       "    </tr>\n",
       "    <tr>\n",
       "      <th>49640</th>\n",
       "      <td>49641</td>\n",
       "      <td>Unknown</td>\n",
       "      <td>100</td>\n",
       "      <td>21</td>\n",
       "    </tr>\n",
       "    <tr>\n",
       "      <th>49663</th>\n",
       "      <td>49664</td>\n",
       "      <td>Unknown</td>\n",
       "      <td>100</td>\n",
       "      <td>21</td>\n",
       "    </tr>\n",
       "    <tr>\n",
       "      <th>49668</th>\n",
       "      <td>49669</td>\n",
       "      <td>Unknown</td>\n",
       "      <td>100</td>\n",
       "      <td>21</td>\n",
       "    </tr>\n",
       "  </tbody>\n",
       "</table>\n",
       "<p>1258 rows × 4 columns</p>\n",
       "</div>"
      ],
      "text/plain": [
       "       product_id product_name  aisle_id  department_id\n",
       "37             38      Unknown       100             21\n",
       "71             72      Unknown       100             21\n",
       "109           110      Unknown       100             21\n",
       "296           297      Unknown       100             21\n",
       "416           417      Unknown       100             21\n",
       "...           ...          ...       ...            ...\n",
       "49552       49553      Unknown       100             21\n",
       "49574       49575      Unknown       100             21\n",
       "49640       49641      Unknown       100             21\n",
       "49663       49664      Unknown       100             21\n",
       "49668       49669      Unknown       100             21\n",
       "\n",
       "[1258 rows x 4 columns]"
      ]
     },
     "execution_count": 27,
     "metadata": {},
     "output_type": "execute_result"
    }
   ],
   "source": [
    "# Completa los nombres de productos ausentes con 'Unknown'\n",
    "df_products['product_name'].fillna('Unknown',inplace=True)\n",
    "df_products['product_name'].isna().sum()\n",
    "df_products[df_products['aisle_id']==100]\n"
   ]
  },
  {
   "cell_type": "markdown",
   "id": "fc70e5ad",
   "metadata": {
    "id": "fc70e5ad"
   },
   "source": [
    "Describe brevemente tus hallazgos y lo que hiciste con ellos. Validamos los valores ausentes en todo el dataframe, posterior validamos si la columna de nombre de productos. Donde encontramos que si hay valores ausentes y que coinciden con que estan en el pasillo 100 del departamento 21. Lo cual validamos para que esta información sea correcta. Al final rellenemos los nombres de los productos con la palabra 'Unknown'."
   ]
  },
  {
   "cell_type": "markdown",
   "id": "7eb45c86",
   "metadata": {
    "id": "7eb45c86"
   },
   "source": [
    "### `orders` data frame"
   ]
  },
  {
   "cell_type": "code",
   "execution_count": 28,
   "id": "93e41d96",
   "metadata": {
    "id": "93e41d96"
   },
   "outputs": [
    {
     "data": {
      "text/plain": [
       "order_id                      0\n",
       "user_id                       0\n",
       "order_number                  0\n",
       "order_dow                     0\n",
       "order_hour_of_day             0\n",
       "days_since_prior_order    28817\n",
       "dtype: int64"
      ]
     },
     "execution_count": 28,
     "metadata": {},
     "output_type": "execute_result"
    }
   ],
   "source": [
    "df_instacart.isna().sum()# Encuentra los valores ausentes"
   ]
  },
  {
   "cell_type": "code",
   "execution_count": 29,
   "id": "606912f7",
   "metadata": {},
   "outputs": [
    {
     "data": {
      "text/html": [
       "<div>\n",
       "<style scoped>\n",
       "    .dataframe tbody tr th:only-of-type {\n",
       "        vertical-align: middle;\n",
       "    }\n",
       "\n",
       "    .dataframe tbody tr th {\n",
       "        vertical-align: top;\n",
       "    }\n",
       "\n",
       "    .dataframe thead th {\n",
       "        text-align: right;\n",
       "    }\n",
       "</style>\n",
       "<table border=\"1\" class=\"dataframe\">\n",
       "  <thead>\n",
       "    <tr style=\"text-align: right;\">\n",
       "      <th></th>\n",
       "      <th>order_id</th>\n",
       "      <th>user_id</th>\n",
       "      <th>order_number</th>\n",
       "      <th>order_dow</th>\n",
       "      <th>order_hour_of_day</th>\n",
       "      <th>days_since_prior_order</th>\n",
       "    </tr>\n",
       "  </thead>\n",
       "  <tbody>\n",
       "  </tbody>\n",
       "</table>\n",
       "</div>"
      ],
      "text/plain": [
       "Empty DataFrame\n",
       "Columns: [order_id, user_id, order_number, order_dow, order_hour_of_day, days_since_prior_order]\n",
       "Index: []"
      ]
     },
     "execution_count": 29,
     "metadata": {},
     "output_type": "execute_result"
    }
   ],
   "source": [
    "df_instacart[(df_instacart['order_number']!=1).isna()]"
   ]
  },
  {
   "cell_type": "code",
   "execution_count": 30,
   "id": "166e5a86",
   "metadata": {
    "id": "166e5a86"
   },
   "outputs": [
    {
     "data": {
      "text/plain": [
       "order_id                  0\n",
       "user_id                   0\n",
       "order_number              0\n",
       "order_dow                 0\n",
       "order_hour_of_day         0\n",
       "days_since_prior_order    0\n",
       "dtype: int64"
      ]
     },
     "execution_count": 30,
     "metadata": {},
     "output_type": "execute_result"
    }
   ],
   "source": [
    "#¿Hay algún valor ausente que no sea el primer pedido del cliente?\n",
    "df_instacart['days_since_prior_order'].fillna(-1,inplace=True)\n",
    "df_instacart.isna().sum()"
   ]
  },
  {
   "cell_type": "markdown",
   "id": "4e23d089",
   "metadata": {
    "id": "4e23d089"
   },
   "source": [
    "Describe brevemente tus hallazgos y lo que hiciste con ellos. no hay valores ausentes que no sean la primer compra del dia. Por lo tanto no tenemos valores ausentes, ya que se reemplazn por -1."
   ]
  },
  {
   "cell_type": "markdown",
   "id": "de03b021",
   "metadata": {},
   "source": [
    "<div class=\"alert alert-block alert-success\">\n",
    "<b>Comentario del revisor - Revisión 1 </b> <a class=\"tocSkip\"></a>\n",
    "\n",
    "Buen trabajo en la validación de duplicados y comprobación que la imputación haya sido exitosa.\n",
    "</div>\n",
    "\n",
    "<div class=\"alert alert-block alert-warning\">\n",
    "<b>Comentario del revisor - Revisión 1 </b> <a class=\"tocSkip\"></a>\n",
    "\n",
    "El tratamiento no es del todo adecuado. Para hacer la revisión de si se trata del primer pedido, deberías usar la columna `order_number`.\n",
    " \n",
    "Además, reemplazar con 0 podría estar introduciendo un error. Esto significa que la anterior compra se hizo el mismo día. En estos casos es mejor dejar el faltante, o si se necesita un valor para entrenar un modelo, utilizar un valor distinto del rango de valores esperados, ejemplo -1.\n",
    "\n",
    "\n",
    "</div>\n",
    "\n",
    "\n",
    "<div class=\"alert alert-block alert-success\">\n",
    "<b>Comentario del revisor - Revisión 2 </b> <a class=\"tocSkip\"></a>\n",
    "\n",
    "Muy bien! Ahora esta imputación no genera problemas, separando bien estos datos del resto con valores válidos.\n",
    "</div>"
   ]
  },
  {
   "cell_type": "markdown",
   "id": "69dc9ca4",
   "metadata": {
    "id": "69dc9ca4"
   },
   "source": [
    "### `order_products` data frame"
   ]
  },
  {
   "cell_type": "code",
   "execution_count": 31,
   "id": "b8240253",
   "metadata": {
    "id": "b8240253"
   },
   "outputs": [
    {
     "data": {
      "text/plain": [
       "order_id               0\n",
       "product_id             0\n",
       "add_to_cart_order    836\n",
       "reordered              0\n",
       "dtype: int64"
      ]
     },
     "execution_count": 31,
     "metadata": {},
     "output_type": "execute_result"
    }
   ],
   "source": [
    "df_order.isna().sum()# Encuentra los valores ausentes"
   ]
  },
  {
   "cell_type": "code",
   "execution_count": 32,
   "id": "9a78e5ee",
   "metadata": {
    "id": "9a78e5ee"
   },
   "outputs": [
    {
     "name": "stdout",
     "output_type": "stream",
     "text": [
      "64.0\n"
     ]
    },
    {
     "data": {
      "text/plain": [
       "1.0"
      ]
     },
     "execution_count": 32,
     "metadata": {},
     "output_type": "execute_result"
    }
   ],
   "source": [
    "print(df_order['add_to_cart_order'].max())# ¿Cuáles son los valores mínimos y máximos en esta columna?\n",
    "df_order['add_to_cart_order'].min()"
   ]
  },
  {
   "cell_type": "markdown",
   "id": "-Z2Ja215jW78",
   "metadata": {
    "id": "-Z2Ja215jW78"
   },
   "source": [
    "Descubrimos que tenemos valores ausentes en la 'columna add_to_cart_order' y que el maximo es de 64 y el minimo de 1. Lo que nos dice que ya no cuenta el pedido a partir del producto 64. "
   ]
  },
  {
   "cell_type": "code",
   "execution_count": 33,
   "id": "ab9d0c2b",
   "metadata": {
    "id": "ab9d0c2b"
   },
   "outputs": [
    {
     "name": "stdout",
     "output_type": "stream",
     "text": [
      "         order_id  product_id  add_to_cart_order  reordered\n",
      "737       2449164        5068                NaN          0\n",
      "9926      1968313       43867                NaN          0\n",
      "14394     2926893       11688                NaN          0\n",
      "16418     1717990        4142                NaN          0\n",
      "30114     1959075       42828                NaN          1\n",
      "...           ...         ...                ...        ...\n",
      "4505662   1800005        7411                NaN          0\n",
      "4511400   1633337         260                NaN          0\n",
      "4517562    404157        9517                NaN          0\n",
      "4534112   1673227       17835                NaN          0\n",
      "4535739   1832957       17949                NaN          1\n",
      "\n",
      "[836 rows x 4 columns]\n"
     ]
    }
   ],
   "source": [
    "id_pedi = df_order[df_order['add_to_cart_order'].isna()]# Guarda todas las IDs de pedidos que tengan un valor ausente en 'add_to_cart_order'\n",
    "print(id_pedi)"
   ]
  },
  {
   "cell_type": "code",
   "execution_count": 34,
   "id": "54c31695",
   "metadata": {
    "id": "54c31695"
   },
   "outputs": [
    {
     "data": {
      "text/plain": [
       "Series([], Name: add_to_cart_order, dtype: float64)"
      ]
     },
     "execution_count": 34,
     "metadata": {},
     "output_type": "execute_result"
    }
   ],
   "source": [
    "df_order[(df_order['add_to_cart_order']<64).isna()]# ¿Todos los pedidos con valores ausentes tienen más de 64 productos?\n",
    "df_order.groupby('order_id')['add_to_cart_order'].count()# Agrupa todos los pedidos con datos ausentes por su ID de pedido.\n",
    "df_order[df_order['order_id'].isin(id_pedi)].groupby('order_id')['add_to_cart_order'].min()# Cuenta el número de 'product_id' en cada pedido y revisa el valor mínimo del conteo.\n"
   ]
  },
  {
   "cell_type": "markdown",
   "id": "p9V6pddtjglj",
   "metadata": {
    "id": "p9V6pddtjglj"
   },
   "source": [
    "Describe brevemente cuáles son tus hallazgos. Se enconraron que todos los valores ausentes se encuentran cuando en el carrito tienes más de 64 productos."
   ]
  },
  {
   "cell_type": "code",
   "execution_count": 35,
   "id": "7a987d08",
   "metadata": {
    "id": "7a987d08"
   },
   "outputs": [
    {
     "data": {
      "text/plain": [
       "order_id             0\n",
       "product_id           0\n",
       "add_to_cart_order    0\n",
       "reordered            0\n",
       "dtype: int64"
      ]
     },
     "execution_count": 35,
     "metadata": {},
     "output_type": "execute_result"
    }
   ],
   "source": [
    "df_order['add_to_cart_order'].fillna(999, inplace= True)# Remplaza los valores ausentes en la columna 'add_to_cart? con 999 y convierte la columna al tipo entero.\n",
    "df_order.isna().sum()"
   ]
  },
  {
   "cell_type": "markdown",
   "id": "fea4bcc7",
   "metadata": {
    "id": "fea4bcc7"
   },
   "source": [
    "Describe brevemente tus hallazgos y lo que hiciste con ellos: Reemplaze todas las celdas con datos ausentes y los rellene con 999 y posterior validamos que no hubiera valores ausentes. "
   ]
  },
  {
   "cell_type": "markdown",
   "id": "c5857e2c",
   "metadata": {},
   "source": [
    "<div class=\"alert alert-block alert-success\">\n",
    "<b>Comentario del revisor - Revisión 1 </b> <a class=\"tocSkip\"></a>\n",
    "\n",
    "Muy buen tratamiento en esta variable! Has realizado muy buen trabajo en la comprobación de la condición de los faltantes.\n",
    "\n",
    "</div>"
   ]
  },
  {
   "cell_type": "markdown",
   "id": "RnplPFY1gSrb",
   "metadata": {
    "id": "RnplPFY1gSrb"
   },
   "source": [
    "## Conclusiones\n",
    "\n",
    "Escribe aquí tus conclusiones intermedias sobre el Paso 2. Preprocesamiento de los datos:\n",
    "Los datos presentaban algunos problemas de datos duplicados y ausentes. Pudimos indentificar y resolver lso distintos problemas que tenian en los diferentes dataframe. \n"
   ]
  },
  {
   "cell_type": "markdown",
   "id": "UjrOIwTcz3ri",
   "metadata": {
    "id": "UjrOIwTcz3ri"
   },
   "source": [
    "# Paso 3. Análisis de los datos\n",
    "\n",
    "Una vez los datos estén procesados y listos, haz el siguiente análisis:"
   ]
  },
  {
   "cell_type": "markdown",
   "id": "turkish-kidney",
   "metadata": {
    "id": "turkish-kidney"
   },
   "source": [
    "# [A] Fácil (deben completarse todos para aprobar)\n",
    "\n",
    "1. Verifica que los valores en las columnas `'order_hour_of_day'` y `'order_dow'` en la tabla orders sean razonables (es decir, `'order_hour_of_day'` oscile entre 0 y 23 y `'order_dow'` oscile entre 0 y 6).\n",
    "2. Crea un gráfico que muestre el número de personas que hacen pedidos dependiendo de la hora del día.\n",
    "3. Crea un gráfico que muestre qué día de la semana la gente hace sus compras.\n",
    "4. Crea un gráfico que muestre el tiempo que la gente espera hasta hacer su siguiente pedido, y comenta sobre los valores mínimos y máximos."
   ]
  },
  {
   "cell_type": "markdown",
   "id": "short-capability",
   "metadata": {
    "id": "short-capability"
   },
   "source": [
    "### [A1] Verifica que los valores sean sensibles"
   ]
  },
  {
   "cell_type": "code",
   "execution_count": 36,
   "id": "growing-fruit",
   "metadata": {
    "id": "growing-fruit"
   },
   "outputs": [
    {
     "name": "stdout",
     "output_type": "stream",
     "text": [
      "23\n",
      "0\n"
     ]
    }
   ],
   "source": [
    "print(df_instacart['order_hour_of_day'].max())\n",
    "print(df_instacart['order_hour_of_day'].min())"
   ]
  },
  {
   "cell_type": "code",
   "execution_count": 37,
   "id": "accessory-malaysia",
   "metadata": {
    "id": "accessory-malaysia"
   },
   "outputs": [
    {
     "name": "stdout",
     "output_type": "stream",
     "text": [
      "6\n",
      "0\n"
     ]
    }
   ],
   "source": [
    "print(df_instacart['order_dow'].max())\n",
    "print(df_instacart['order_dow'].min())"
   ]
  },
  {
   "cell_type": "markdown",
   "id": "hmR2GNQ6lCsX",
   "metadata": {
    "id": "hmR2GNQ6lCsX"
   },
   "source": [
    "Escribe aquí tus conclusiones: Las columnas entran dentro del parametro de las horas y del día. "
   ]
  },
  {
   "cell_type": "markdown",
   "id": "a6743a70",
   "metadata": {
    "id": "a6743a70"
   },
   "source": [
    "### [A2] Para cada hora del día, ¿cuántas personas hacen órdenes?"
   ]
  },
  {
   "cell_type": "code",
   "execution_count": 38,
   "id": "a36cca27",
   "metadata": {
    "id": "a36cca27"
   },
   "outputs": [
    {
     "data": {
      "image/png": "[encoded data removed]",
      "text/plain": [
       "<Figure size 640x480 with 1 Axes>"
      ]
     },
     "metadata": {},
     "output_type": "display_data"
    }
   ],
   "source": [
    "from matplotlib import pyplot as plt\n",
    "\n",
    "compras_de_cada_dia = df_instacart['order_hour_of_day'].value_counts().sort_index()\n",
    "#print(compras_de_cada_dia)\n",
    "compras_de_cada_dia.plot(kind='bar',xlabel= 'Hora', ylabel= 'Compras', title= 'Cantidad de ordenes por hora')\n",
    "plt.show()"
   ]
  },
  {
   "cell_type": "markdown",
   "id": "11270eed",
   "metadata": {
    "id": "11270eed"
   },
   "source": [
    "Podemos observar que entre las 10 am y las 4 pm, son las horas que más compra la gente. "
   ]
  },
  {
   "cell_type": "markdown",
   "id": "documented-command",
   "metadata": {
    "id": "documented-command"
   },
   "source": [
    "### [A3] ¿Qué día de la semana compran víveres las personas?"
   ]
  },
  {
   "cell_type": "code",
   "execution_count": 39,
   "id": "chief-digit",
   "metadata": {
    "id": "chief-digit"
   },
   "outputs": [
    {
     "data": {
      "image/png": "[encoded data removed]",
      "text/plain": [
       "<Figure size 640x480 with 1 Axes>"
      ]
     },
     "metadata": {},
     "output_type": "display_data"
    }
   ],
   "source": [
    "compras_por_dia = df_instacart['order_dow'].value_counts().sort_index()\n",
    "compras_por_dia.plot(title='Compras por día de la semana', xlabel= 'Dia de la semana', ylabel= 'Ordenes', kind= 'bar')\n",
    "plt.show()"
   ]
  },
  {
   "cell_type": "markdown",
   "id": "dominant-lightning",
   "metadata": {
    "id": "dominant-lightning"
   },
   "source": [
    "Escribe aquí tus conclusiones Podemos observar que el día Domingo y Lunes, son los días que más compra las personas."
   ]
  },
  {
   "cell_type": "markdown",
   "id": "cutting-concert",
   "metadata": {
    "id": "cutting-concert"
   },
   "source": [
    "### [A4] ¿Cuánto tiempo esperan las personas hasta hacer otro pedido? Comenta sobre los valores mínimos y máximos."
   ]
  },
  {
   "cell_type": "code",
   "execution_count": 40,
   "id": "c231f523",
   "metadata": {
    "id": "c231f523"
   },
   "outputs": [
    {
     "data": {
      "text/plain": [
       "<AxesSubplot:title={'center':'Tiempo en hacer otro pedido'}, xlabel='Cantidad de días', ylabel='Ordenes'>"
      ]
     },
     "execution_count": 40,
     "metadata": {},
     "output_type": "execute_result"
    },
    {
     "data": {
      "image/png": "[encoded data removed]",
      "text/plain": [
       "<Figure size 640x480 with 1 Axes>"
      ]
     },
     "metadata": {},
     "output_type": "display_data"
    }
   ],
   "source": [
    "dias_en_comprar = df_instacart['days_since_prior_order'].value_counts().sort_index()\n",
    "dias_en_comprar.plot(title= 'Tiempo en hacer otro pedido', kind= 'bar',xlabel='Cantidad de días', ylabel= 'Ordenes')"
   ]
  },
  {
   "cell_type": "markdown",
   "id": "discrete-vertex",
   "metadata": {
    "id": "discrete-vertex"
   },
   "source": [
    "Podemos observar que normalmente las personas tardan en volver a comprar 30 días de necesidad para cada mes, pero hay una tendencia de volver a comprar en los primeros 7 días que podría ser una compra que se realiza cada semana y principalmente el mismo día que se realizo la primer compra. "
   ]
  },
  {
   "cell_type": "markdown",
   "id": "tight-staff",
   "metadata": {
    "id": "tight-staff"
   },
   "source": [
    "# [B] Intermedio (deben completarse todos para aprobar)\n",
    "\n",
    "1. ¿Existe alguna diferencia entre las distribuciones `'order_hour_of_day'` de los miércoles y los sábados? Traza gráficos de barra de `'order_hour_of_day'` para ambos días en la misma figura y describe las diferencias que observes.\n",
    "2. Grafica la distribución para el número de órdenes que hacen los clientes (es decir, cuántos clientes hicieron solo 1 pedido, cuántos hicieron 2, cuántos 3, y así sucesivamente...).\n",
    "3. ¿Cuáles son los 20 principales productos que se piden con más frecuencia (muestra su identificación y nombre)?"
   ]
  },
  {
   "cell_type": "markdown",
   "id": "packed-classic",
   "metadata": {
    "id": "packed-classic"
   },
   "source": [
    "### [B1] Diferencia entre miércoles y sábados para  `'order_hour_of_day'`. Traza gráficos de barra para los dos días y describe las diferencias que veas."
   ]
  },
  {
   "cell_type": "code",
   "execution_count": 41,
   "id": "d89b8403",
   "metadata": {
    "id": "d89b8403"
   },
   "outputs": [
    {
     "name": "stdout",
     "output_type": "stream",
     "text": [
      "0      373\n",
      "1      215\n",
      "2      106\n",
      "3      101\n",
      "4      108\n",
      "5      170\n",
      "6      643\n",
      "7     1732\n",
      "8     3125\n",
      "9     4490\n",
      "10    5026\n",
      "11    5004\n",
      "12    4688\n",
      "13    4674\n",
      "14    4774\n",
      "15    5163\n",
      "16    4976\n",
      "17    4175\n",
      "18    3463\n",
      "19    2652\n",
      "20    1917\n",
      "21    1450\n",
      "22    1154\n",
      "23     718\n",
      "Name: order_hour_of_day, dtype: int64\n"
     ]
    }
   ],
   "source": [
    "miercoles = df_instacart[df_instacart['order_dow']==3]\n",
    "miercoles = miercoles['order_hour_of_day'].value_counts().sort_index()\n",
    "print(miercoles)"
   ]
  },
  {
   "cell_type": "code",
   "execution_count": 42,
   "id": "94e54e8a",
   "metadata": {
    "id": "94e54e8a"
   },
   "outputs": [
    {
     "data": {
      "image/png": "[encoded data removed]",
      "text/plain": [
       "<Figure size 640x480 with 1 Axes>"
      ]
     },
     "metadata": {},
     "output_type": "display_data"
    }
   ],
   "source": [
    "miercoles.plot(kind='bar',title='Compras de miercoles', xlabel='Horas', ylabel= 'Ordenes')\n",
    "plt.show()"
   ]
  },
  {
   "cell_type": "code",
   "execution_count": 43,
   "id": "797c90a8",
   "metadata": {
    "id": "797c90a8"
   },
   "outputs": [
    {
     "name": "stdout",
     "output_type": "stream",
     "text": [
      "0      464\n",
      "1      254\n",
      "2      177\n",
      "3      125\n",
      "4      118\n",
      "5      161\n",
      "6      451\n",
      "7     1619\n",
      "8     3246\n",
      "9     4311\n",
      "10    4919\n",
      "11    5116\n",
      "12    5132\n",
      "13    5323\n",
      "14    5375\n",
      "15    5188\n",
      "16    5029\n",
      "17    4295\n",
      "18    3338\n",
      "19    2610\n",
      "20    1847\n",
      "21    1473\n",
      "22    1185\n",
      "23     893\n",
      "Name: order_hour_of_day, dtype: int64\n"
     ]
    }
   ],
   "source": [
    "sabado = df_instacart[df_instacart['order_dow']==6]\n",
    "sabado = sabado['order_hour_of_day'].value_counts().sort_index()\n",
    "print(sabado)"
   ]
  },
  {
   "cell_type": "markdown",
   "id": "charitable-congo",
   "metadata": {
    "id": "charitable-congo"
   },
   "source": [
    "Escribe aquí tus conclusiones"
   ]
  },
  {
   "cell_type": "code",
   "execution_count": 63,
   "id": "35bcea30",
   "metadata": {
    "id": "35bcea30"
   },
   "outputs": [
    {
     "data": {
      "image/png": "[encoded data removed]",
      "text/plain": [
       "<Figure size 640x480 with 1 Axes>"
      ]
     },
     "metadata": {},
     "output_type": "display_data"
    }
   ],
   "source": [
    "sabado.plot(kind='bar',title= 'Compras de Sabado',xlabel='Hora',ylabel='Ordenes')\n",
    "plt.show()"
   ]
  },
  {
   "cell_type": "markdown",
   "id": "4b2b2fb9",
   "metadata": {},
   "source": [
    "Podemos observar que la diferencia de ambos graficos es que entre la 1 y 2 de la tarde del sabado, se invrementan las ventas de mayor manera. Y el miercoles sus picos más importantes son a las 3 y 4 de la tarde."
   ]
  },
  {
   "cell_type": "markdown",
   "id": "e3891143",
   "metadata": {
    "id": "e3891143"
   },
   "source": [
    "### [B2] ¿Cuál es la distribución para el número de pedidos por cliente?"
   ]
  },
  {
   "cell_type": "code",
   "execution_count": 45,
   "id": "d8c26c23",
   "metadata": {
    "id": "d8c26c23"
   },
   "outputs": [
    {
     "name": "stdout",
     "output_type": "stream",
     "text": [
      "0         11\n",
      "1          5\n",
      "2          4\n",
      "3         56\n",
      "4          2\n",
      "          ..\n",
      "478962     5\n",
      "478963     2\n",
      "478964    16\n",
      "478965     3\n",
      "478966    18\n",
      "Name: order_number, Length: 478952, dtype: int64\n"
     ]
    }
   ],
   "source": [
    "distr_clientes = df_instacart['order_number']\n",
    "#distr_clientes = df_instacart['order_number'].value_counts().sort_index()\n",
    "print(distr_clientes)"
   ]
  },
  {
   "cell_type": "code",
   "execution_count": 46,
   "id": "00e69a66",
   "metadata": {
    "id": "00e69a66"
   },
   "outputs": [
    {
     "data": {
      "image/png": "[encoded data removed]",
      "text/plain": [
       "<Figure size 640x480 with 1 Axes>"
      ]
     },
     "metadata": {},
     "output_type": "display_data"
    }
   ],
   "source": [
    "distr_clientes.plot(kind='hist',title='Distribución de # pedidos', xlabel= 'Numero de pedidos(1 al 100)', ylabel='Cantidad de veces pedidas',)\n",
    "plt.show()"
   ]
  },
  {
   "cell_type": "markdown",
   "id": "d2eff7d5",
   "metadata": {
    "id": "d2eff7d5"
   },
   "source": [
    "En esta ocación, cree un hsitograma para ver la distribución y la frecuencia con la que piden cierta cantidad de productos. Como podemos ver se repite más veces la compra de 1, 2 y 3 productos que se compran. Eso quiere decir que las personas normalmente compran solo de 1 a 3 productos y va decendiendo la cantida de veces con respecto a la cantidad de productos. Entre más productos, menos veces se repiten esas compras."
   ]
  },
  {
   "cell_type": "markdown",
   "id": "54a0319c",
   "metadata": {
    "id": "54a0319c"
   },
   "source": [
    "### [B3] ¿Cuáles son los 20 productos más populares (muestra su ID y nombre)?"
   ]
  },
  {
   "cell_type": "code",
   "execution_count": 47,
   "id": "exterior-arizona",
   "metadata": {
    "id": "exterior-arizona",
    "scrolled": true
   },
   "outputs": [
    {
     "data": {
      "text/html": [
       "<div>\n",
       "<style scoped>\n",
       "    .dataframe tbody tr th:only-of-type {\n",
       "        vertical-align: middle;\n",
       "    }\n",
       "\n",
       "    .dataframe tbody tr th {\n",
       "        vertical-align: top;\n",
       "    }\n",
       "\n",
       "    .dataframe thead th {\n",
       "        text-align: right;\n",
       "    }\n",
       "</style>\n",
       "<table border=\"1\" class=\"dataframe\">\n",
       "  <thead>\n",
       "    <tr style=\"text-align: right;\">\n",
       "      <th></th>\n",
       "      <th>order_id</th>\n",
       "      <th>product_id</th>\n",
       "      <th>add_to_cart_order</th>\n",
       "      <th>reordered</th>\n",
       "      <th>product_name</th>\n",
       "      <th>aisle_id</th>\n",
       "      <th>department_id</th>\n",
       "    </tr>\n",
       "  </thead>\n",
       "  <tbody>\n",
       "    <tr>\n",
       "      <th>0</th>\n",
       "      <td>2141543</td>\n",
       "      <td>11440</td>\n",
       "      <td>17.0</td>\n",
       "      <td>0</td>\n",
       "      <td>CHICKEN BREAST TENDERS BREADED</td>\n",
       "      <td>129</td>\n",
       "      <td>1</td>\n",
       "    </tr>\n",
       "    <tr>\n",
       "      <th>1</th>\n",
       "      <td>147172</td>\n",
       "      <td>11440</td>\n",
       "      <td>7.0</td>\n",
       "      <td>1</td>\n",
       "      <td>CHICKEN BREAST TENDERS BREADED</td>\n",
       "      <td>129</td>\n",
       "      <td>1</td>\n",
       "    </tr>\n",
       "    <tr>\n",
       "      <th>2</th>\n",
       "      <td>3341719</td>\n",
       "      <td>11440</td>\n",
       "      <td>4.0</td>\n",
       "      <td>1</td>\n",
       "      <td>CHICKEN BREAST TENDERS BREADED</td>\n",
       "      <td>129</td>\n",
       "      <td>1</td>\n",
       "    </tr>\n",
       "    <tr>\n",
       "      <th>3</th>\n",
       "      <td>1938779</td>\n",
       "      <td>11440</td>\n",
       "      <td>8.0</td>\n",
       "      <td>1</td>\n",
       "      <td>CHICKEN BREAST TENDERS BREADED</td>\n",
       "      <td>129</td>\n",
       "      <td>1</td>\n",
       "    </tr>\n",
       "    <tr>\n",
       "      <th>4</th>\n",
       "      <td>1728338</td>\n",
       "      <td>11440</td>\n",
       "      <td>23.0</td>\n",
       "      <td>0</td>\n",
       "      <td>CHICKEN BREAST TENDERS BREADED</td>\n",
       "      <td>129</td>\n",
       "      <td>1</td>\n",
       "    </tr>\n",
       "    <tr>\n",
       "      <th>...</th>\n",
       "      <td>...</td>\n",
       "      <td>...</td>\n",
       "      <td>...</td>\n",
       "      <td>...</td>\n",
       "      <td>...</td>\n",
       "      <td>...</td>\n",
       "      <td>...</td>\n",
       "    </tr>\n",
       "    <tr>\n",
       "      <th>4545002</th>\n",
       "      <td>267402</td>\n",
       "      <td>45226</td>\n",
       "      <td>14.0</td>\n",
       "      <td>0</td>\n",
       "      <td>SWEET TERIYAKI CHICKEN OVEN SAUCE</td>\n",
       "      <td>5</td>\n",
       "      <td>13</td>\n",
       "    </tr>\n",
       "    <tr>\n",
       "      <th>4545003</th>\n",
       "      <td>2621676</td>\n",
       "      <td>25201</td>\n",
       "      <td>10.0</td>\n",
       "      <td>0</td>\n",
       "      <td>CRISP WATERS CANDLE SCENTS</td>\n",
       "      <td>101</td>\n",
       "      <td>17</td>\n",
       "    </tr>\n",
       "    <tr>\n",
       "      <th>4545004</th>\n",
       "      <td>937623</td>\n",
       "      <td>49153</td>\n",
       "      <td>2.0</td>\n",
       "      <td>0</td>\n",
       "      <td>SHINE COLLECTION BRILLANCE SHAMPOO</td>\n",
       "      <td>22</td>\n",
       "      <td>11</td>\n",
       "    </tr>\n",
       "    <tr>\n",
       "      <th>4545005</th>\n",
       "      <td>532895</td>\n",
       "      <td>8182</td>\n",
       "      <td>1.0</td>\n",
       "      <td>0</td>\n",
       "      <td>TOTAL MINT STRIPE GEL TOOTHPASTE</td>\n",
       "      <td>20</td>\n",
       "      <td>11</td>\n",
       "    </tr>\n",
       "    <tr>\n",
       "      <th>4545006</th>\n",
       "      <td>3132243</td>\n",
       "      <td>40024</td>\n",
       "      <td>1.0</td>\n",
       "      <td>0</td>\n",
       "      <td>EGG REPLACER POWDER</td>\n",
       "      <td>17</td>\n",
       "      <td>13</td>\n",
       "    </tr>\n",
       "  </tbody>\n",
       "</table>\n",
       "<p>4545007 rows × 7 columns</p>\n",
       "</div>"
      ],
      "text/plain": [
       "         order_id  product_id  add_to_cart_order  reordered  \\\n",
       "0         2141543       11440               17.0          0   \n",
       "1          147172       11440                7.0          1   \n",
       "2         3341719       11440                4.0          1   \n",
       "3         1938779       11440                8.0          1   \n",
       "4         1728338       11440               23.0          0   \n",
       "...           ...         ...                ...        ...   \n",
       "4545002    267402       45226               14.0          0   \n",
       "4545003   2621676       25201               10.0          0   \n",
       "4545004    937623       49153                2.0          0   \n",
       "4545005    532895        8182                1.0          0   \n",
       "4545006   3132243       40024                1.0          0   \n",
       "\n",
       "                               product_name  aisle_id  department_id  \n",
       "0            CHICKEN BREAST TENDERS BREADED       129              1  \n",
       "1            CHICKEN BREAST TENDERS BREADED       129              1  \n",
       "2            CHICKEN BREAST TENDERS BREADED       129              1  \n",
       "3            CHICKEN BREAST TENDERS BREADED       129              1  \n",
       "4            CHICKEN BREAST TENDERS BREADED       129              1  \n",
       "...                                     ...       ...            ...  \n",
       "4545002   SWEET TERIYAKI CHICKEN OVEN SAUCE         5             13  \n",
       "4545003          CRISP WATERS CANDLE SCENTS       101             17  \n",
       "4545004  SHINE COLLECTION BRILLANCE SHAMPOO        22             11  \n",
       "4545005    TOTAL MINT STRIPE GEL TOOTHPASTE        20             11  \n",
       "4545006                 EGG REPLACER POWDER        17             13  \n",
       "\n",
       "[4545007 rows x 7 columns]"
      ]
     },
     "execution_count": 47,
     "metadata": {},
     "output_type": "execute_result"
    }
   ],
   "source": [
    "ordenes_productos = df_order.merge(df_products, on='product_id')\n",
    "ordenes_productos"
   ]
  },
  {
   "cell_type": "code",
   "execution_count": 48,
   "id": "universal-facial",
   "metadata": {
    "id": "universal-facial"
   },
   "outputs": [
    {
     "name": "stdout",
     "output_type": "stream",
     "text": [
      "product_id  product_name            \n",
      "24852       BANANA                      66050\n",
      "13176       BAG OF ORGANIC BANANAS      53297\n",
      "21137       ORGANIC STRAWBERRIES        37039\n",
      "21903       ORGANIC BABY SPINACH        33971\n",
      "47209       ORGANIC HASS AVOCADO        29773\n",
      "47766       ORGANIC AVOCADO             24689\n",
      "47626       LARGE LEMON                 21495\n",
      "16797       STRAWBERRIES                20018\n",
      "26209       LIMES                       19690\n",
      "27845       ORGANIC WHOLE MILK          19600\n",
      "27966       ORGANIC RASPBERRIES         19197\n",
      "22935       ORGANIC YELLOW ONION        15898\n",
      "24964       ORGANIC GARLIC              15292\n",
      "45007       ORGANIC ZUCCHINI            14584\n",
      "39275       ORGANIC BLUEBERRIES         13879\n",
      "49683       CUCUMBER KIRBY              13675\n",
      "28204       ORGANIC FUJI APPLE          12544\n",
      "5876        ORGANIC LEMON               12232\n",
      "8277        APPLE HONEYCRISP ORGANIC    11993\n",
      "40706       ORGANIC GRAPE TOMATOES      11781\n",
      "Name: order_id, dtype: int64\n"
     ]
    }
   ],
   "source": [
    "mejores_productos = ordenes_productos.groupby(['product_id','product_name'])['order_id'].count().sort_values(ascending=False)\n",
    "mejores_20_productos = mejores_productos.head(20)\n",
    "print(mejores_20_productos)"
   ]
  },
  {
   "cell_type": "code",
   "execution_count": 49,
   "id": "bbcdd20b",
   "metadata": {
    "id": "bbcdd20b"
   },
   "outputs": [
    {
     "data": {
      "image/png": "[encoded data removed]",
      "text/plain": [
       "<Figure size 640x480 with 1 Axes>"
      ]
     },
     "metadata": {},
     "output_type": "display_data"
    }
   ],
   "source": [
    "mejores_20_productos.plot(kind='bar',title='20 productos más populares', xlabel= 'Productos', ylabel= 'Ordenes')\n",
    "plt.show()"
   ]
  },
  {
   "cell_type": "markdown",
   "id": "7df00f47",
   "metadata": {
    "id": "7df00f47"
   },
   "source": [
    "Creando en grupo que incluyera el id y el nombre de cada producto. Pudimos hacer una lista de lso 20 mejores prodcutos que se venden. Y mostramos una grafica de los productos y las cantidades. "
   ]
  },
  {
   "cell_type": "markdown",
   "id": "gross-theme",
   "metadata": {
    "id": "gross-theme"
   },
   "source": [
    "# [C] Difícil (deben completarse todos para aprobar)\n",
    "\n",
    "1. ¿Cuántos artículos suelen comprar las personas en un pedido? ¿Cómo es la distribución?\n",
    "2. ¿Cuáles son los 20 principales artículos que vuelven a pedirse con mayor frecuencia (muestra sus nombres e IDs de los productos)?\n",
    "3. Para cada producto, ¿cuál es la tasa de repetición del pedido (número de repeticiones de pedido/total de pedidos?\n",
    "4. Para cada cliente, ¿qué proporción de los productos que pidió ya los había pedido? Calcula la tasa de repetición de pedido para cada usuario en lugar de para cada producto.\n",
    "5. ¿Cuáles son los 20 principales artículos que la gente pone primero en sus carritos (muestra las IDs de los productos, sus nombres, y el número de veces en que fueron el primer artículo en añadirse al carrito)?"
   ]
  },
  {
   "cell_type": "markdown",
   "id": "romantic-deposit",
   "metadata": {
    "id": "romantic-deposit"
   },
   "source": [
    "### [C1] ¿Cuántos artículos compran normalmente las personas en un pedido? ¿Cómo es la distribución?"
   ]
  },
  {
   "cell_type": "code",
   "execution_count": 50,
   "id": "virtual-punch",
   "metadata": {
    "id": "virtual-punch"
   },
   "outputs": [],
   "source": [
    "art_x_persona = ordenes_productos.groupby('order_id')['product_id'].count()"
   ]
  },
  {
   "cell_type": "code",
   "execution_count": 51,
   "id": "sensitive-breathing",
   "metadata": {
    "id": "sensitive-breathing"
   },
   "outputs": [
    {
     "data": {
      "text/plain": [
       "order_id\n",
       "4          13\n",
       "9          15\n",
       "11          5\n",
       "19          3\n",
       "20          8\n",
       "           ..\n",
       "3421034    17\n",
       "3421053     9\n",
       "3421071     5\n",
       "3421077     4\n",
       "3421079     1\n",
       "Name: product_id, Length: 450046, dtype: int64"
      ]
     },
     "execution_count": 51,
     "metadata": {},
     "output_type": "execute_result"
    }
   ],
   "source": [
    "art_x_persona"
   ]
  },
  {
   "cell_type": "code",
   "execution_count": 52,
   "id": "completed-frank",
   "metadata": {
    "id": "completed-frank"
   },
   "outputs": [
    {
     "data": {
      "image/png": "[encoded data removed]",
      "text/plain": [
       "<Figure size 640x480 with 1 Axes>"
      ]
     },
     "metadata": {},
     "output_type": "display_data"
    }
   ],
   "source": [
    "art_x_persona.plot(kind = 'hist',title = 'Distribución de cantidad de articulos comprados', xlabel= 'Cantidad de productos repetidos',ylabel= 'Ordenes')\n",
    "plt.show()"
   ]
  },
  {
   "cell_type": "markdown",
   "id": "designed-mortality",
   "metadata": {
    "id": "designed-mortality"
   },
   "source": [
    "Escribe aquí tus conclusiones: realizamos un histograma para revisar la distribución de la cantidad de articulos que compra los usuarios en su compra. Podemos ver que hay una tendencia a la baja con respecto a la cantidad de productos en cada orden. "
   ]
  },
  {
   "cell_type": "markdown",
   "id": "5e6b5537",
   "metadata": {
    "id": "5e6b5537"
   },
   "source": [
    "### [C2] ¿Cuáles son los 20 principales artículos que vuelven a pedirse con mayor frecuencia (muestra sus nombres e IDs de los productos)?"
   ]
  },
  {
   "cell_type": "code",
   "execution_count": null,
   "id": "9374e55a",
   "metadata": {
    "id": "9374e55a"
   },
   "outputs": [],
   "source": []
  },
  {
   "cell_type": "code",
   "execution_count": 53,
   "id": "possible-change",
   "metadata": {
    "id": "possible-change",
    "scrolled": true
   },
   "outputs": [
    {
     "name": "stdout",
     "output_type": "stream",
     "text": [
      "product_id  product_name                                 \n",
      "24852       BANANA                                           55763\n",
      "13176       BAG OF ORGANIC BANANAS                           44450\n",
      "21137       ORGANIC STRAWBERRIES                             28639\n",
      "21903       ORGANIC BABY SPINACH                             26233\n",
      "47209       ORGANIC HASS AVOCADO                             23629\n",
      "                                                             ...  \n",
      "7092        MELATONIN NUTRASPRAY SUBLINGUAL ORANGE FLAVOR        1\n",
      "21003       WHITE CHOCOLATE MACADAMIA COFFEE CREAMER             1\n",
      "32856       CRAB RANGOON                                         1\n",
      "42727       CHOCOLATE LOVERS CHIPS DELUXE COOKIES                1\n",
      "24091       GARLIC MILL SPICES                                   1\n",
      "Name: order_id, Length: 36228, dtype: int64\n"
     ]
    }
   ],
   "source": [
    "frecuencia_compra = ordenes_productos[ordenes_productos['reordered'] == 1] .groupby(['product_id',\n",
    "'product_name']) ['order_id']. count().sort_values (ascending=False)\n",
    "print(frecuencia_compra)\n"
   ]
  },
  {
   "cell_type": "code",
   "execution_count": 54,
   "id": "professional-surfing",
   "metadata": {
    "id": "professional-surfing",
    "scrolled": true
   },
   "outputs": [
    {
     "data": {
      "text/plain": [
       "product_id  product_name            \n",
       "24852       BANANA                      55763\n",
       "13176       BAG OF ORGANIC BANANAS      44450\n",
       "21137       ORGANIC STRAWBERRIES        28639\n",
       "21903       ORGANIC BABY SPINACH        26233\n",
       "47209       ORGANIC HASS AVOCADO        23629\n",
       "47766       ORGANIC AVOCADO             18743\n",
       "27845       ORGANIC WHOLE MILK          16251\n",
       "47626       LARGE LEMON                 15044\n",
       "27966       ORGANIC RASPBERRIES         14748\n",
       "16797       STRAWBERRIES                13945\n",
       "26209       LIMES                       13327\n",
       "22935       ORGANIC YELLOW ONION        11145\n",
       "24964       ORGANIC GARLIC              10411\n",
       "45007       ORGANIC ZUCCHINI            10076\n",
       "49683       CUCUMBER KIRBY               9538\n",
       "28204       ORGANIC FUJI APPLE           8989\n",
       "8277        APPLE HONEYCRISP ORGANIC     8836\n",
       "39275       ORGANIC BLUEBERRIES          8799\n",
       "5876        ORGANIC LEMON                8412\n",
       "49235       ORGANIC HALF & HALF          8389\n",
       "Name: order_id, dtype: int64"
      ]
     },
     "execution_count": 54,
     "metadata": {},
     "output_type": "execute_result"
    }
   ],
   "source": [
    "mejores_20_=frecuencia_compra.head(20)\n",
    "mejores_20_"
   ]
  },
  {
   "cell_type": "code",
   "execution_count": 55,
   "id": "48dd3658",
   "metadata": {
    "id": "48dd3658"
   },
   "outputs": [
    {
     "data": {
      "image/png": "[encoded data removed]",
      "text/plain": [
       "<Figure size 640x480 with 1 Axes>"
      ]
     },
     "metadata": {},
     "output_type": "display_data"
    }
   ],
   "source": [
    "mejores_20_.plot(kind ='bar',xlabel= 'productos',ylabel='ordenes',title='Mejores 20 productos con mayor frecuencia de compra')\n",
    "plt.show()"
   ]
  },
  {
   "cell_type": "markdown",
   "id": "80e70c74",
   "metadata": {
    "id": "80e70c74"
   },
   "source": [
    "Escribe aquí tus conclusiones: Descubrimos que los productos que se compran con mayor frecuencia son casi los mismos que más se consumen."
   ]
  },
  {
   "cell_type": "markdown",
   "id": "1c61aba9",
   "metadata": {},
   "source": [
    "<div class=\"alert alert-block alert-success\">\n",
    "<b>Comentario del revisor - Revisión 1 </b> <a class=\"tocSkip\"></a>\n",
    "\n",
    "Excelente análisis y conclusiones!\n",
    "\n",
    "</div>"
   ]
  },
  {
   "cell_type": "markdown",
   "id": "9d312b14",
   "metadata": {
    "id": "9d312b14"
   },
   "source": [
    "### [C3] Para cada producto, ¿cuál es la proporción de las veces que se pide y que se vuelve a pedir?"
   ]
  },
  {
   "cell_type": "code",
   "execution_count": 56,
   "id": "8ae9f4b1",
   "metadata": {
    "id": "8ae9f4b1"
   },
   "outputs": [],
   "source": [
    "prop_de_reordenes=ordenes_productos.groupby(['product_id', 'product_name'])['reordered'].mean()"
   ]
  },
  {
   "cell_type": "code",
   "execution_count": 57,
   "id": "103e7fe1",
   "metadata": {
    "id": "103e7fe1"
   },
   "outputs": [
    {
     "data": {
      "text/plain": [
       "product_id  product_name                                                     \n",
       "1           CHOCOLATE SANDWICH COOKIES                                           0.564286\n",
       "2           ALL-SEASONS SALT                                                     0.000000\n",
       "3           ROBUST GOLDEN UNSWEETENED OOLONG TEA                                 0.738095\n",
       "4           SMART ONES CLASSIC FAVORITES MINI RIGATONI WITH VODKA CREAM SAUCE    0.510204\n",
       "7           PURE COCONUT WATER WITH ORANGE                                       0.500000\n",
       "8           CUT RUSSET POTATOES STEAM N' MASH                                    0.315789\n",
       "9           LIGHT STRAWBERRY BLUEBERRY YOGURT                                    0.761905\n",
       "10          SPARKLING ORANGE JUICE & PRICKLY PEAR BEVERAGE                       0.448071\n",
       "11          PEACH MANGO JUICE                                                    0.625000\n",
       "12          CHOCOLATE FUDGE LAYER CAKE                                           0.390244\n",
       "13          SALINE NASAL MIST                                                    0.500000\n",
       "14          FRESH SCENT DISHWASHER CLEANER                                       0.000000\n",
       "17          RENDERED DUCK FAT                                                    0.000000\n",
       "18          PIZZA FOR ONE SUPREMA  FROZEN PIZZA                                  0.533333\n",
       "19          GLUTEN FREE QUINOA THREE CHEESE & MUSHROOM BLEND                     0.000000\n",
       "21          SMALL & MEDIUM DENTAL DOG TREATS                                     0.000000\n",
       "22          FRESH BREATH ORAL RINSE MILD MINT                                    0.500000\n",
       "23          ORGANIC TURKEY BURGERS                                               0.380952\n",
       "24          TRI-VI-SOL® VITAMINS A-C-AND D SUPPLEMENT DROPS FOR INFANTS          0.000000\n",
       "25          SALTED CARAMEL LEAN PROTEIN & FIBER BAR                              0.674576\n",
       "Name: reordered, dtype: float64"
      ]
     },
     "execution_count": 57,
     "metadata": {},
     "output_type": "execute_result"
    }
   ],
   "source": [
    "prop_de_20reordenes= prop_de_reordenes.head(20)\n",
    "prop_de_20reordenes"
   ]
  },
  {
   "cell_type": "markdown",
   "id": "I10dEIAyldcO",
   "metadata": {
    "id": "I10dEIAyldcO"
   },
   "source": [
    "Escribe aquí tus conclusiones"
   ]
  },
  {
   "cell_type": "markdown",
   "id": "subject-boxing",
   "metadata": {
    "id": "subject-boxing"
   },
   "source": [
    "### [C4] Para cada cliente, ¿qué proporción de sus productos ya los había pedido?"
   ]
  },
  {
   "cell_type": "code",
   "execution_count": 58,
   "id": "medical-couple",
   "metadata": {
    "id": "medical-couple",
    "scrolled": true
   },
   "outputs": [
    {
     "data": {
      "text/html": [
       "<div>\n",
       "<style scoped>\n",
       "    .dataframe tbody tr th:only-of-type {\n",
       "        vertical-align: middle;\n",
       "    }\n",
       "\n",
       "    .dataframe tbody tr th {\n",
       "        vertical-align: top;\n",
       "    }\n",
       "\n",
       "    .dataframe thead th {\n",
       "        text-align: right;\n",
       "    }\n",
       "</style>\n",
       "<table border=\"1\" class=\"dataframe\">\n",
       "  <thead>\n",
       "    <tr style=\"text-align: right;\">\n",
       "      <th></th>\n",
       "      <th>order_id</th>\n",
       "      <th>product_id</th>\n",
       "      <th>add_to_cart_order</th>\n",
       "      <th>reordered</th>\n",
       "      <th>product_name</th>\n",
       "      <th>aisle_id</th>\n",
       "      <th>department_id</th>\n",
       "      <th>user_id</th>\n",
       "      <th>order_number</th>\n",
       "      <th>order_dow</th>\n",
       "      <th>order_hour_of_day</th>\n",
       "      <th>days_since_prior_order</th>\n",
       "    </tr>\n",
       "  </thead>\n",
       "  <tbody>\n",
       "    <tr>\n",
       "      <th>0</th>\n",
       "      <td>2141543</td>\n",
       "      <td>11440</td>\n",
       "      <td>17.0</td>\n",
       "      <td>0</td>\n",
       "      <td>CHICKEN BREAST TENDERS BREADED</td>\n",
       "      <td>129</td>\n",
       "      <td>1</td>\n",
       "      <td>58454</td>\n",
       "      <td>25</td>\n",
       "      <td>0</td>\n",
       "      <td>15</td>\n",
       "      <td>8.0</td>\n",
       "    </tr>\n",
       "    <tr>\n",
       "      <th>1</th>\n",
       "      <td>2141543</td>\n",
       "      <td>24561</td>\n",
       "      <td>13.0</td>\n",
       "      <td>1</td>\n",
       "      <td>ORGANIC CHEESE FROZEN PIZZA</td>\n",
       "      <td>79</td>\n",
       "      <td>1</td>\n",
       "      <td>58454</td>\n",
       "      <td>25</td>\n",
       "      <td>0</td>\n",
       "      <td>15</td>\n",
       "      <td>8.0</td>\n",
       "    </tr>\n",
       "    <tr>\n",
       "      <th>2</th>\n",
       "      <td>2141543</td>\n",
       "      <td>13176</td>\n",
       "      <td>2.0</td>\n",
       "      <td>1</td>\n",
       "      <td>BAG OF ORGANIC BANANAS</td>\n",
       "      <td>24</td>\n",
       "      <td>4</td>\n",
       "      <td>58454</td>\n",
       "      <td>25</td>\n",
       "      <td>0</td>\n",
       "      <td>15</td>\n",
       "      <td>8.0</td>\n",
       "    </tr>\n",
       "    <tr>\n",
       "      <th>3</th>\n",
       "      <td>2141543</td>\n",
       "      <td>31869</td>\n",
       "      <td>15.0</td>\n",
       "      <td>1</td>\n",
       "      <td>ORGANIC EDAMAME</td>\n",
       "      <td>116</td>\n",
       "      <td>1</td>\n",
       "      <td>58454</td>\n",
       "      <td>25</td>\n",
       "      <td>0</td>\n",
       "      <td>15</td>\n",
       "      <td>8.0</td>\n",
       "    </tr>\n",
       "    <tr>\n",
       "      <th>4</th>\n",
       "      <td>2141543</td>\n",
       "      <td>16759</td>\n",
       "      <td>5.0</td>\n",
       "      <td>1</td>\n",
       "      <td>ORGANIC CARROT BUNCH</td>\n",
       "      <td>83</td>\n",
       "      <td>4</td>\n",
       "      <td>58454</td>\n",
       "      <td>25</td>\n",
       "      <td>0</td>\n",
       "      <td>15</td>\n",
       "      <td>8.0</td>\n",
       "    </tr>\n",
       "    <tr>\n",
       "      <th>...</th>\n",
       "      <td>...</td>\n",
       "      <td>...</td>\n",
       "      <td>...</td>\n",
       "      <td>...</td>\n",
       "      <td>...</td>\n",
       "      <td>...</td>\n",
       "      <td>...</td>\n",
       "      <td>...</td>\n",
       "      <td>...</td>\n",
       "      <td>...</td>\n",
       "      <td>...</td>\n",
       "      <td>...</td>\n",
       "    </tr>\n",
       "    <tr>\n",
       "      <th>4545002</th>\n",
       "      <td>1176629</td>\n",
       "      <td>170</td>\n",
       "      <td>1.0</td>\n",
       "      <td>0</td>\n",
       "      <td>SINGLE HERBS GINKGO LEAF DIETARY SUPPLEMENT</td>\n",
       "      <td>47</td>\n",
       "      <td>11</td>\n",
       "      <td>72889</td>\n",
       "      <td>92</td>\n",
       "      <td>4</td>\n",
       "      <td>9</td>\n",
       "      <td>1.0</td>\n",
       "    </tr>\n",
       "    <tr>\n",
       "      <th>4545003</th>\n",
       "      <td>3139402</td>\n",
       "      <td>30458</td>\n",
       "      <td>1.0</td>\n",
       "      <td>0</td>\n",
       "      <td>REGULAR MOUTH LIDS WITH BANDS</td>\n",
       "      <td>10</td>\n",
       "      <td>17</td>\n",
       "      <td>196661</td>\n",
       "      <td>4</td>\n",
       "      <td>5</td>\n",
       "      <td>14</td>\n",
       "      <td>24.0</td>\n",
       "    </tr>\n",
       "    <tr>\n",
       "      <th>4545004</th>\n",
       "      <td>1859901</td>\n",
       "      <td>10363</td>\n",
       "      <td>1.0</td>\n",
       "      <td>0</td>\n",
       "      <td>100% RAW COCONUT DRINK</td>\n",
       "      <td>98</td>\n",
       "      <td>7</td>\n",
       "      <td>39917</td>\n",
       "      <td>14</td>\n",
       "      <td>1</td>\n",
       "      <td>20</td>\n",
       "      <td>15.0</td>\n",
       "    </tr>\n",
       "    <tr>\n",
       "      <th>4545005</th>\n",
       "      <td>1021500</td>\n",
       "      <td>25973</td>\n",
       "      <td>1.0</td>\n",
       "      <td>1</td>\n",
       "      <td>ASSORTMENT BITTERSWEET CHOCOLATE BOX</td>\n",
       "      <td>45</td>\n",
       "      <td>19</td>\n",
       "      <td>160507</td>\n",
       "      <td>3</td>\n",
       "      <td>3</td>\n",
       "      <td>9</td>\n",
       "      <td>2.0</td>\n",
       "    </tr>\n",
       "    <tr>\n",
       "      <th>4545006</th>\n",
       "      <td>792244</td>\n",
       "      <td>36373</td>\n",
       "      <td>1.0</td>\n",
       "      <td>1</td>\n",
       "      <td>GLUTEN FREE CHOCOLATE CHIP PANCAKE MIX</td>\n",
       "      <td>130</td>\n",
       "      <td>14</td>\n",
       "      <td>156143</td>\n",
       "      <td>3</td>\n",
       "      <td>0</td>\n",
       "      <td>17</td>\n",
       "      <td>23.0</td>\n",
       "    </tr>\n",
       "  </tbody>\n",
       "</table>\n",
       "<p>4545007 rows × 12 columns</p>\n",
       "</div>"
      ],
      "text/plain": [
       "         order_id  product_id  add_to_cart_order  reordered  \\\n",
       "0         2141543       11440               17.0          0   \n",
       "1         2141543       24561               13.0          1   \n",
       "2         2141543       13176                2.0          1   \n",
       "3         2141543       31869               15.0          1   \n",
       "4         2141543       16759                5.0          1   \n",
       "...           ...         ...                ...        ...   \n",
       "4545002   1176629         170                1.0          0   \n",
       "4545003   3139402       30458                1.0          0   \n",
       "4545004   1859901       10363                1.0          0   \n",
       "4545005   1021500       25973                1.0          1   \n",
       "4545006    792244       36373                1.0          1   \n",
       "\n",
       "                                        product_name  aisle_id  department_id  \\\n",
       "0                     CHICKEN BREAST TENDERS BREADED       129              1   \n",
       "1                        ORGANIC CHEESE FROZEN PIZZA        79              1   \n",
       "2                             BAG OF ORGANIC BANANAS        24              4   \n",
       "3                                    ORGANIC EDAMAME       116              1   \n",
       "4                               ORGANIC CARROT BUNCH        83              4   \n",
       "...                                              ...       ...            ...   \n",
       "4545002  SINGLE HERBS GINKGO LEAF DIETARY SUPPLEMENT        47             11   \n",
       "4545003                REGULAR MOUTH LIDS WITH BANDS        10             17   \n",
       "4545004                       100% RAW COCONUT DRINK        98              7   \n",
       "4545005         ASSORTMENT BITTERSWEET CHOCOLATE BOX        45             19   \n",
       "4545006       GLUTEN FREE CHOCOLATE CHIP PANCAKE MIX       130             14   \n",
       "\n",
       "         user_id  order_number  order_dow  order_hour_of_day  \\\n",
       "0          58454            25          0                 15   \n",
       "1          58454            25          0                 15   \n",
       "2          58454            25          0                 15   \n",
       "3          58454            25          0                 15   \n",
       "4          58454            25          0                 15   \n",
       "...          ...           ...        ...                ...   \n",
       "4545002    72889            92          4                  9   \n",
       "4545003   196661             4          5                 14   \n",
       "4545004    39917            14          1                 20   \n",
       "4545005   160507             3          3                  9   \n",
       "4545006   156143             3          0                 17   \n",
       "\n",
       "         days_since_prior_order  \n",
       "0                           8.0  \n",
       "1                           8.0  \n",
       "2                           8.0  \n",
       "3                           8.0  \n",
       "4                           8.0  \n",
       "...                         ...  \n",
       "4545002                     1.0  \n",
       "4545003                    24.0  \n",
       "4545004                    15.0  \n",
       "4545005                     2.0  \n",
       "4545006                    23.0  \n",
       "\n",
       "[4545007 rows x 12 columns]"
      ]
     },
     "execution_count": 58,
     "metadata": {},
     "output_type": "execute_result"
    }
   ],
   "source": [
    "produc_clientes=ordenes_productos.merge(df_instacart,on='order_id')\n",
    "produc_clientes"
   ]
  },
  {
   "cell_type": "code",
   "execution_count": 66,
   "id": "8892e4b4",
   "metadata": {
    "id": "8892e4b4"
   },
   "outputs": [],
   "source": [
    "prop_clientes = produc_clientes.groupby(['user_id'])['reordered'].mean()\n"
   ]
  },
  {
   "cell_type": "code",
   "execution_count": 70,
   "id": "57755386",
   "metadata": {},
   "outputs": [
    {
     "data": {
      "image/png": "[encoded data removed]",
      "text/plain": [
       "<Figure size 640x480 with 1 Axes>"
      ]
     },
     "metadata": {},
     "output_type": "display_data"
    }
   ],
   "source": [
    "prop_clientes.plot(kind='hist',title ='Proporción de Usuarios',xlabel='Proporción',ylabel='Usuarios')\n",
    "plt.show()"
   ]
  },
  {
   "cell_type": "markdown",
   "id": "BgJSvXDsleXz",
   "metadata": {
    "id": "BgJSvXDsleXz"
   },
   "source": [
    "Escribe aquí tus conclusiones: Podemos observar que La proporción que los usuarios vueven a pedir hay una tendencia en el .5. "
   ]
  },
  {
   "cell_type": "markdown",
   "id": "92d35137",
   "metadata": {
    "id": "92d35137"
   },
   "source": [
    "### [C5] ¿Cuáles son los 20 principales artículos que las personas ponen primero en sus carritos?"
   ]
  },
  {
   "cell_type": "code",
   "execution_count": 60,
   "id": "0ae57274",
   "metadata": {
    "id": "0ae57274",
    "scrolled": true
   },
   "outputs": [],
   "source": [
    "primer_articulo = produc_clientes[produc_clientes['order_number']==1]"
   ]
  },
  {
   "cell_type": "code",
   "execution_count": 61,
   "id": "forty-netherlands",
   "metadata": {
    "id": "forty-netherlands",
    "scrolled": true
   },
   "outputs": [],
   "source": [
    "primeros_20_articulos =primer_articulo.groupby(['product_id','product_name'])['order_id'].count().sort_values(ascending=False)"
   ]
  },
  {
   "cell_type": "code",
   "execution_count": 62,
   "id": "08e41ec2",
   "metadata": {
    "id": "08e41ec2"
   },
   "outputs": [
    {
     "data": {
      "text/plain": [
       "product_id  product_name          \n",
       "24852       BANANA                    4077\n",
       "13176       BAG OF ORGANIC BANANAS    2670\n",
       "21137       ORGANIC STRAWBERRIES      2250\n",
       "21903       ORGANIC BABY SPINACH      2147\n",
       "47766       ORGANIC AVOCADO           2062\n",
       "47209       ORGANIC HASS AVOCADO      1576\n",
       "16797       STRAWBERRIES              1244\n",
       "26209       LIMES                     1208\n",
       "47626       LARGE LEMON               1149\n",
       "27845       ORGANIC WHOLE MILK        1090\n",
       "24964       ORGANIC GARLIC             958\n",
       "39275       ORGANIC BLUEBERRIES        943\n",
       "49683       CUCUMBER KIRBY             934\n",
       "27966       ORGANIC RASPBERRIES        899\n",
       "22935       ORGANIC YELLOW ONION       827\n",
       "4605        YELLOW ONIONS              820\n",
       "28204       ORGANIC FUJI APPLE         759\n",
       "5876        ORGANIC LEMON              746\n",
       "40706       ORGANIC GRAPE TOMATOES     734\n",
       "45066       HONEYCRISP APPLE           701\n",
       "Name: order_id, dtype: int64"
      ]
     },
     "execution_count": 62,
     "metadata": {},
     "output_type": "execute_result"
    }
   ],
   "source": [
    "primeros_20_articulos.head(20)"
   ]
  },
  {
   "cell_type": "markdown",
   "id": "28ce9872",
   "metadata": {
    "id": "28ce9872"
   },
   "source": [
    "Escribe aquí tus conclusiones:Podemos ver que de de nuevo el producto que más piden en su primera compra son las bananas. Es muy pareceida a la tendencia de los productos que más se venden y que se repite su compra. "
   ]
  },
  {
   "cell_type": "markdown",
   "id": "uITbFCEoDosC",
   "metadata": {
    "id": "uITbFCEoDosC"
   },
   "source": [
    "### Conclusion general del proyecto:"
   ]
  },
  {
   "cell_type": "markdown",
   "id": "0d1bc0f5",
   "metadata": {
    "id": "Nk-4GS7mDwqY"
   },
   "source": [
    "En este analisis, pudimos identificar la tendencia de las compras en la app. Los días que mas se consumen como tambien en los horarios en lso que se consume la mayor cantidad de articulos. Y como la tendencia a que el fin de semana haya un incremento en las compras. De Igual manera pudimos indentificar los productos que más se venden y que los usuarios sulen repetir la compra. Esto nos ayuda a tener información sobre las deciciones que toman las personas al momento de comprar articulos en la app. "
   ]
  },
  {
   "cell_type": "code",
   "execution_count": null,
   "id": "15b2b89e",
   "metadata": {},
   "outputs": [],
   "source": []
  }
 ],
 "metadata": {
  "ExecuteTimeLog": [
   {
    "duration": 10,
    "start_time": "2024-10-03T02:54:18.656Z"
   },
   {
    "duration": 3,
    "start_time": "2024-10-03T02:56:38.652Z"
   },
   {
    "duration": 230,
    "start_time": "2024-10-03T02:57:21.866Z"
   },
   {
    "duration": 399,
    "start_time": "2024-10-03T02:57:59.562Z"
   },
   {
    "duration": 343,
    "start_time": "2024-10-03T02:58:02.671Z"
   },
   {
    "duration": 678,
    "start_time": "2024-10-03T03:01:11.888Z"
   },
   {
    "duration": 2269,
    "start_time": "2024-10-03T03:01:23.791Z"
   },
   {
    "duration": 21,
    "start_time": "2024-10-03T03:01:52.598Z"
   },
   {
    "duration": 10,
    "start_time": "2024-10-03T03:02:38.213Z"
   },
   {
    "duration": 8,
    "start_time": "2024-10-03T03:03:05.737Z"
   },
   {
    "duration": 8,
    "start_time": "2024-10-03T03:03:29.695Z"
   },
   {
    "duration": 8,
    "start_time": "2024-10-03T03:03:51.602Z"
   },
   {
    "duration": 20,
    "start_time": "2024-10-03T03:04:18.080Z"
   },
   {
    "duration": 23,
    "start_time": "2024-10-03T03:04:53.291Z"
   },
   {
    "duration": 11,
    "start_time": "2024-10-03T03:05:09.665Z"
   },
   {
    "duration": 8,
    "start_time": "2024-10-03T03:05:14.892Z"
   },
   {
    "duration": 15,
    "start_time": "2024-10-03T03:05:27.898Z"
   },
   {
    "duration": 10,
    "start_time": "2024-10-03T03:05:41.049Z"
   },
   {
    "duration": 169,
    "start_time": "2024-10-04T01:39:09.058Z"
   },
   {
    "duration": 314,
    "start_time": "2024-10-04T01:39:41.372Z"
   },
   {
    "duration": 1030,
    "start_time": "2024-10-04T01:39:44.104Z"
   },
   {
    "duration": 20,
    "start_time": "2024-10-04T01:39:48.326Z"
   },
   {
    "duration": 17,
    "start_time": "2024-10-04T01:39:52.573Z"
   },
   {
    "duration": 12,
    "start_time": "2024-10-04T01:39:55.947Z"
   },
   {
    "duration": 12,
    "start_time": "2024-10-04T01:39:59.150Z"
   },
   {
    "duration": 11,
    "start_time": "2024-10-04T01:40:02.734Z"
   },
   {
    "duration": 157,
    "start_time": "2024-10-04T18:45:30.787Z"
   },
   {
    "duration": 288,
    "start_time": "2024-10-04T18:45:36.032Z"
   },
   {
    "duration": 1036,
    "start_time": "2024-10-04T18:45:38.201Z"
   },
   {
    "duration": 19,
    "start_time": "2024-10-04T18:45:41.481Z"
   },
   {
    "duration": 13,
    "start_time": "2024-10-04T18:45:45.116Z"
   },
   {
    "duration": 11,
    "start_time": "2024-10-04T18:45:47.843Z"
   },
   {
    "duration": 11,
    "start_time": "2024-10-04T18:45:52.057Z"
   },
   {
    "duration": 10,
    "start_time": "2024-10-04T18:45:57.260Z"
   },
   {
    "duration": 11,
    "start_time": "2024-10-04T18:46:30.149Z"
   },
   {
    "duration": 1964,
    "start_time": "2024-10-04T18:46:48.022Z"
   },
   {
    "duration": 10,
    "start_time": "2024-10-04T18:46:55.278Z"
   },
   {
    "duration": 869,
    "start_time": "2024-10-04T18:47:36.507Z"
   },
   {
    "duration": 13,
    "start_time": "2024-10-04T18:47:46.017Z"
   },
   {
    "duration": 313,
    "start_time": "2024-10-04T20:58:22.104Z"
   },
   {
    "duration": 1126,
    "start_time": "2024-10-04T20:58:22.420Z"
   },
   {
    "duration": 21,
    "start_time": "2024-10-04T20:58:23.548Z"
   },
   {
    "duration": 14,
    "start_time": "2024-10-04T20:58:23.572Z"
   },
   {
    "duration": 12,
    "start_time": "2024-10-04T20:58:23.589Z"
   },
   {
    "duration": 45,
    "start_time": "2024-10-04T20:58:23.603Z"
   },
   {
    "duration": 14,
    "start_time": "2024-10-04T20:58:23.650Z"
   },
   {
    "duration": 3,
    "start_time": "2024-10-04T20:58:23.666Z"
   },
   {
    "duration": 3,
    "start_time": "2024-10-04T20:58:23.671Z"
   },
   {
    "duration": 2,
    "start_time": "2024-10-04T20:58:23.678Z"
   },
   {
    "duration": 2,
    "start_time": "2024-10-04T20:58:23.682Z"
   },
   {
    "duration": 3,
    "start_time": "2024-10-04T20:58:23.686Z"
   },
   {
    "duration": 2,
    "start_time": "2024-10-04T20:58:23.691Z"
   },
   {
    "duration": 2,
    "start_time": "2024-10-04T20:58:23.695Z"
   },
   {
    "duration": 3,
    "start_time": "2024-10-04T20:58:23.743Z"
   },
   {
    "duration": 3,
    "start_time": "2024-10-04T20:58:23.748Z"
   },
   {
    "duration": 3,
    "start_time": "2024-10-04T20:58:23.752Z"
   },
   {
    "duration": 2,
    "start_time": "2024-10-04T20:58:23.757Z"
   },
   {
    "duration": 3,
    "start_time": "2024-10-04T20:58:23.761Z"
   },
   {
    "duration": 2,
    "start_time": "2024-10-04T20:58:23.766Z"
   },
   {
    "duration": 3,
    "start_time": "2024-10-04T20:58:23.769Z"
   },
   {
    "duration": 2,
    "start_time": "2024-10-04T20:58:23.774Z"
   },
   {
    "duration": 2,
    "start_time": "2024-10-04T20:58:23.778Z"
   },
   {
    "duration": 3,
    "start_time": "2024-10-04T20:58:23.781Z"
   },
   {
    "duration": 3,
    "start_time": "2024-10-04T20:58:23.785Z"
   },
   {
    "duration": 56,
    "start_time": "2024-10-04T20:58:23.789Z"
   },
   {
    "duration": 2,
    "start_time": "2024-10-04T20:58:23.847Z"
   },
   {
    "duration": 2,
    "start_time": "2024-10-04T20:58:23.854Z"
   },
   {
    "duration": 3,
    "start_time": "2024-10-04T20:58:23.858Z"
   },
   {
    "duration": 2,
    "start_time": "2024-10-04T20:58:23.864Z"
   },
   {
    "duration": 3,
    "start_time": "2024-10-04T20:58:23.868Z"
   },
   {
    "duration": 2,
    "start_time": "2024-10-04T20:58:23.873Z"
   },
   {
    "duration": 3,
    "start_time": "2024-10-04T20:58:23.877Z"
   },
   {
    "duration": 2,
    "start_time": "2024-10-04T20:58:23.882Z"
   },
   {
    "duration": 5,
    "start_time": "2024-10-04T21:30:41.021Z"
   },
   {
    "duration": 3,
    "start_time": "2024-10-04T21:30:48.847Z"
   },
   {
    "duration": 99,
    "start_time": "2024-10-04T21:31:25.325Z"
   },
   {
    "duration": 98,
    "start_time": "2024-10-04T21:31:31.955Z"
   },
   {
    "duration": 13,
    "start_time": "2024-10-04T21:34:19.934Z"
   },
   {
    "duration": 7,
    "start_time": "2024-10-04T21:34:30.819Z"
   },
   {
    "duration": 5,
    "start_time": "2024-10-04T21:35:04.417Z"
   },
   {
    "duration": 7,
    "start_time": "2024-10-04T21:35:24.419Z"
   },
   {
    "duration": 7,
    "start_time": "2024-10-04T21:38:57.577Z"
   },
   {
    "duration": 8,
    "start_time": "2024-10-04T21:54:05.336Z"
   },
   {
    "duration": 7,
    "start_time": "2024-10-04T21:54:40.863Z"
   },
   {
    "duration": 6,
    "start_time": "2024-10-04T21:55:53.308Z"
   },
   {
    "duration": 10,
    "start_time": "2024-10-04T21:56:01.704Z"
   },
   {
    "duration": 9,
    "start_time": "2024-10-04T21:56:16.646Z"
   },
   {
    "duration": 7,
    "start_time": "2024-10-04T22:01:34.904Z"
   },
   {
    "duration": 6,
    "start_time": "2024-10-04T22:02:11.525Z"
   },
   {
    "duration": 29,
    "start_time": "2024-10-04T22:04:44.902Z"
   },
   {
    "duration": 24,
    "start_time": "2024-10-04T22:05:20.076Z"
   },
   {
    "duration": 24,
    "start_time": "2024-10-04T22:06:52.295Z"
   },
   {
    "duration": 91,
    "start_time": "2024-10-04T22:26:40.170Z"
   },
   {
    "duration": 86,
    "start_time": "2024-10-04T22:28:56.013Z"
   },
   {
    "duration": 85,
    "start_time": "2024-10-04T22:29:06.071Z"
   },
   {
    "duration": 87,
    "start_time": "2024-10-04T22:30:05.421Z"
   },
   {
    "duration": 142,
    "start_time": "2024-10-04T22:33:19.033Z"
   },
   {
    "duration": 159,
    "start_time": "2024-10-04T22:33:32.575Z"
   },
   {
    "duration": 135,
    "start_time": "2024-10-04T22:34:00.778Z"
   },
   {
    "duration": 81,
    "start_time": "2024-10-04T22:35:25.142Z"
   },
   {
    "duration": 660,
    "start_time": "2024-10-04T22:37:45.763Z"
   },
   {
    "duration": 171,
    "start_time": "2024-10-04T22:37:59.709Z"
   },
   {
    "duration": 4,
    "start_time": "2024-10-04T22:45:26.204Z"
   },
   {
    "duration": 10,
    "start_time": "2024-10-04T22:45:34.354Z"
   },
   {
    "duration": 8,
    "start_time": "2024-10-04T22:47:44.911Z"
   },
   {
    "duration": 7,
    "start_time": "2024-10-04T22:48:04.279Z"
   },
   {
    "duration": 6,
    "start_time": "2024-10-04T22:48:09.903Z"
   },
   {
    "duration": 11,
    "start_time": "2024-10-04T22:48:19.533Z"
   },
   {
    "duration": 16,
    "start_time": "2024-10-04T22:49:50.539Z"
   },
   {
    "duration": 10,
    "start_time": "2024-10-04T22:49:57.237Z"
   },
   {
    "duration": 99,
    "start_time": "2024-10-04T22:50:32.138Z"
   },
   {
    "duration": 85,
    "start_time": "2024-10-04T22:51:26.319Z"
   },
   {
    "duration": 91,
    "start_time": "2024-10-04T22:51:32.157Z"
   },
   {
    "duration": 94,
    "start_time": "2024-10-04T22:51:37.500Z"
   },
   {
    "duration": 88,
    "start_time": "2024-10-04T22:51:40.238Z"
   },
   {
    "duration": 44,
    "start_time": "2024-10-04T22:55:30.587Z"
   },
   {
    "duration": 38,
    "start_time": "2024-10-04T22:55:37.695Z"
   },
   {
    "duration": 50,
    "start_time": "2024-10-04T22:56:15.226Z"
   },
   {
    "duration": 41,
    "start_time": "2024-10-04T22:56:31.604Z"
   },
   {
    "duration": 86,
    "start_time": "2024-10-04T22:56:36.625Z"
   },
   {
    "duration": 16,
    "start_time": "2024-10-04T22:57:42.970Z"
   },
   {
    "duration": 297,
    "start_time": "2024-10-05T19:08:20.093Z"
   },
   {
    "duration": 1039,
    "start_time": "2024-10-05T19:08:20.393Z"
   },
   {
    "duration": 20,
    "start_time": "2024-10-05T19:08:21.433Z"
   },
   {
    "duration": 12,
    "start_time": "2024-10-05T19:08:21.455Z"
   },
   {
    "duration": 12,
    "start_time": "2024-10-05T19:08:21.468Z"
   },
   {
    "duration": 10,
    "start_time": "2024-10-05T19:08:21.505Z"
   },
   {
    "duration": 10,
    "start_time": "2024-10-05T19:08:21.517Z"
   },
   {
    "duration": 210,
    "start_time": "2024-10-05T19:08:21.529Z"
   },
   {
    "duration": 11,
    "start_time": "2024-10-05T19:08:21.741Z"
   },
   {
    "duration": 112,
    "start_time": "2024-10-05T19:08:21.755Z"
   },
   {
    "duration": 95,
    "start_time": "2024-10-05T19:08:21.869Z"
   },
   {
    "duration": 62,
    "start_time": "2024-10-05T19:08:21.965Z"
   },
   {
    "duration": 12,
    "start_time": "2024-10-05T19:08:22.029Z"
   },
   {
    "duration": 3,
    "start_time": "2024-10-05T19:08:22.042Z"
   },
   {
    "duration": 3,
    "start_time": "2024-10-05T19:08:22.046Z"
   },
   {
    "duration": 3,
    "start_time": "2024-10-05T19:08:22.050Z"
   },
   {
    "duration": 3,
    "start_time": "2024-10-05T19:08:22.054Z"
   },
   {
    "duration": 3,
    "start_time": "2024-10-05T19:08:22.058Z"
   },
   {
    "duration": 3,
    "start_time": "2024-10-05T19:08:22.062Z"
   },
   {
    "duration": 37,
    "start_time": "2024-10-05T19:08:22.068Z"
   },
   {
    "duration": 3,
    "start_time": "2024-10-05T19:08:22.106Z"
   },
   {
    "duration": 2,
    "start_time": "2024-10-05T19:08:22.111Z"
   },
   {
    "duration": 3,
    "start_time": "2024-10-05T19:08:22.114Z"
   },
   {
    "duration": 4,
    "start_time": "2024-10-05T19:08:22.118Z"
   },
   {
    "duration": 3,
    "start_time": "2024-10-05T19:08:22.123Z"
   },
   {
    "duration": 4,
    "start_time": "2024-10-05T19:08:22.127Z"
   },
   {
    "duration": 3,
    "start_time": "2024-10-05T19:08:22.132Z"
   },
   {
    "duration": 2,
    "start_time": "2024-10-05T19:08:22.138Z"
   },
   {
    "duration": 2,
    "start_time": "2024-10-05T19:08:22.142Z"
   },
   {
    "duration": 2,
    "start_time": "2024-10-05T19:08:22.146Z"
   },
   {
    "duration": 3,
    "start_time": "2024-10-05T19:08:22.150Z"
   },
   {
    "duration": 3,
    "start_time": "2024-10-05T19:08:22.154Z"
   },
   {
    "duration": 3,
    "start_time": "2024-10-05T19:08:22.159Z"
   },
   {
    "duration": 2,
    "start_time": "2024-10-05T19:08:22.206Z"
   },
   {
    "duration": 4,
    "start_time": "2024-10-05T19:10:36.180Z"
   },
   {
    "duration": 8,
    "start_time": "2024-10-05T19:11:17.176Z"
   },
   {
    "duration": 85,
    "start_time": "2024-10-05T19:18:59.552Z"
   },
   {
    "duration": 5,
    "start_time": "2024-10-05T19:19:28.653Z"
   },
   {
    "duration": 16,
    "start_time": "2024-10-05T19:19:37.930Z"
   },
   {
    "duration": 21,
    "start_time": "2024-10-05T19:20:20.264Z"
   },
   {
    "duration": 9,
    "start_time": "2024-10-05T19:24:22.049Z"
   },
   {
    "duration": 101,
    "start_time": "2024-10-05T19:25:30.342Z"
   },
   {
    "duration": 9,
    "start_time": "2024-10-05T19:26:09.492Z"
   },
   {
    "duration": 9,
    "start_time": "2024-10-05T19:27:45.771Z"
   },
   {
    "duration": 9,
    "start_time": "2024-10-05T19:28:04.888Z"
   },
   {
    "duration": 15,
    "start_time": "2024-10-05T19:28:13.283Z"
   },
   {
    "duration": 7,
    "start_time": "2024-10-05T19:28:44.838Z"
   },
   {
    "duration": 20,
    "start_time": "2024-10-05T19:31:31.317Z"
   },
   {
    "duration": 163,
    "start_time": "2024-10-05T19:31:59.379Z"
   },
   {
    "duration": 66,
    "start_time": "2024-10-05T19:32:07.147Z"
   },
   {
    "duration": 27,
    "start_time": "2024-10-05T19:32:18.506Z"
   },
   {
    "duration": 9,
    "start_time": "2024-10-05T19:32:25.152Z"
   },
   {
    "duration": 38,
    "start_time": "2024-10-05T19:32:28.877Z"
   },
   {
    "duration": 26,
    "start_time": "2024-10-05T19:33:05.989Z"
   },
   {
    "duration": 4,
    "start_time": "2024-10-05T19:33:18.901Z"
   },
   {
    "duration": 35,
    "start_time": "2024-10-05T19:33:59.003Z"
   },
   {
    "duration": 7,
    "start_time": "2024-10-05T19:34:03.889Z"
   },
   {
    "duration": 8,
    "start_time": "2024-10-05T19:34:07.999Z"
   },
   {
    "duration": 313,
    "start_time": "2024-10-05T19:34:15.638Z"
   },
   {
    "duration": 887,
    "start_time": "2024-10-05T19:34:15.955Z"
   },
   {
    "duration": 18,
    "start_time": "2024-10-05T19:34:16.844Z"
   },
   {
    "duration": 13,
    "start_time": "2024-10-05T19:34:16.864Z"
   },
   {
    "duration": 34,
    "start_time": "2024-10-05T19:34:16.879Z"
   },
   {
    "duration": 11,
    "start_time": "2024-10-05T19:34:16.914Z"
   },
   {
    "duration": 10,
    "start_time": "2024-10-05T19:34:16.926Z"
   },
   {
    "duration": 208,
    "start_time": "2024-10-05T19:34:16.938Z"
   },
   {
    "duration": 11,
    "start_time": "2024-10-05T19:34:17.148Z"
   },
   {
    "duration": 118,
    "start_time": "2024-10-05T19:34:17.160Z"
   },
   {
    "duration": 97,
    "start_time": "2024-10-05T19:34:17.280Z"
   },
   {
    "duration": 77,
    "start_time": "2024-10-05T19:34:17.379Z"
   },
   {
    "duration": 21,
    "start_time": "2024-10-05T19:34:17.458Z"
   },
   {
    "duration": 4,
    "start_time": "2024-10-05T19:34:17.482Z"
   },
   {
    "duration": 32,
    "start_time": "2024-10-05T19:34:17.488Z"
   },
   {
    "duration": 317,
    "start_time": "2024-10-05T19:34:17.522Z"
   },
   {
    "duration": 0,
    "start_time": "2024-10-05T19:34:17.840Z"
   },
   {
    "duration": 0,
    "start_time": "2024-10-05T19:34:17.842Z"
   },
   {
    "duration": 0,
    "start_time": "2024-10-05T19:34:17.843Z"
   },
   {
    "duration": 0,
    "start_time": "2024-10-05T19:34:17.844Z"
   },
   {
    "duration": 0,
    "start_time": "2024-10-05T19:34:17.846Z"
   },
   {
    "duration": 0,
    "start_time": "2024-10-05T19:34:17.847Z"
   },
   {
    "duration": 0,
    "start_time": "2024-10-05T19:34:17.848Z"
   },
   {
    "duration": 0,
    "start_time": "2024-10-05T19:34:17.850Z"
   },
   {
    "duration": 0,
    "start_time": "2024-10-05T19:34:17.851Z"
   },
   {
    "duration": 0,
    "start_time": "2024-10-05T19:34:17.852Z"
   },
   {
    "duration": 0,
    "start_time": "2024-10-05T19:34:17.853Z"
   },
   {
    "duration": 0,
    "start_time": "2024-10-05T19:34:17.855Z"
   },
   {
    "duration": 0,
    "start_time": "2024-10-05T19:34:17.856Z"
   },
   {
    "duration": 0,
    "start_time": "2024-10-05T19:34:17.857Z"
   },
   {
    "duration": 0,
    "start_time": "2024-10-05T19:34:17.858Z"
   },
   {
    "duration": 0,
    "start_time": "2024-10-05T19:34:17.859Z"
   },
   {
    "duration": 0,
    "start_time": "2024-10-05T19:34:17.861Z"
   },
   {
    "duration": 0,
    "start_time": "2024-10-05T19:34:17.862Z"
   },
   {
    "duration": 59,
    "start_time": "2024-10-05T19:34:53.271Z"
   },
   {
    "duration": 2,
    "start_time": "2024-10-05T19:35:08.504Z"
   },
   {
    "duration": 27,
    "start_time": "2024-10-05T19:35:34.342Z"
   },
   {
    "duration": 37,
    "start_time": "2024-10-05T19:36:13.024Z"
   },
   {
    "duration": 30,
    "start_time": "2024-10-05T19:37:37.402Z"
   },
   {
    "duration": 27,
    "start_time": "2024-10-05T19:38:26.811Z"
   },
   {
    "duration": 35,
    "start_time": "2024-10-05T19:39:09.390Z"
   },
   {
    "duration": 7,
    "start_time": "2024-10-05T19:39:21.925Z"
   },
   {
    "duration": 28,
    "start_time": "2024-10-05T19:39:26.377Z"
   },
   {
    "duration": 333,
    "start_time": "2024-10-05T19:39:51.054Z"
   },
   {
    "duration": 904,
    "start_time": "2024-10-05T19:39:51.390Z"
   },
   {
    "duration": 27,
    "start_time": "2024-10-05T19:39:52.296Z"
   },
   {
    "duration": 14,
    "start_time": "2024-10-05T19:39:52.325Z"
   },
   {
    "duration": 12,
    "start_time": "2024-10-05T19:39:52.341Z"
   },
   {
    "duration": 12,
    "start_time": "2024-10-05T19:39:52.354Z"
   },
   {
    "duration": 38,
    "start_time": "2024-10-05T19:39:52.368Z"
   },
   {
    "duration": 272,
    "start_time": "2024-10-05T19:39:52.407Z"
   },
   {
    "duration": 13,
    "start_time": "2024-10-05T19:39:52.681Z"
   },
   {
    "duration": 126,
    "start_time": "2024-10-05T19:39:52.697Z"
   },
   {
    "duration": 103,
    "start_time": "2024-10-05T19:39:52.825Z"
   },
   {
    "duration": 52,
    "start_time": "2024-10-05T19:39:52.930Z"
   },
   {
    "duration": 24,
    "start_time": "2024-10-05T19:39:52.984Z"
   },
   {
    "duration": 6,
    "start_time": "2024-10-05T19:39:53.018Z"
   },
   {
    "duration": 488,
    "start_time": "2024-10-05T19:39:53.026Z"
   },
   {
    "duration": 0,
    "start_time": "2024-10-05T19:39:53.515Z"
   },
   {
    "duration": 0,
    "start_time": "2024-10-05T19:39:53.516Z"
   },
   {
    "duration": 0,
    "start_time": "2024-10-05T19:39:53.517Z"
   },
   {
    "duration": 0,
    "start_time": "2024-10-05T19:39:53.519Z"
   },
   {
    "duration": 0,
    "start_time": "2024-10-05T19:39:53.520Z"
   },
   {
    "duration": 0,
    "start_time": "2024-10-05T19:39:53.521Z"
   },
   {
    "duration": 0,
    "start_time": "2024-10-05T19:39:53.522Z"
   },
   {
    "duration": 0,
    "start_time": "2024-10-05T19:39:53.524Z"
   },
   {
    "duration": 0,
    "start_time": "2024-10-05T19:39:53.525Z"
   },
   {
    "duration": 0,
    "start_time": "2024-10-05T19:39:53.526Z"
   },
   {
    "duration": 0,
    "start_time": "2024-10-05T19:39:53.527Z"
   },
   {
    "duration": 0,
    "start_time": "2024-10-05T19:39:53.528Z"
   },
   {
    "duration": 0,
    "start_time": "2024-10-05T19:39:53.529Z"
   },
   {
    "duration": 0,
    "start_time": "2024-10-05T19:39:53.530Z"
   },
   {
    "duration": 0,
    "start_time": "2024-10-05T19:39:53.531Z"
   },
   {
    "duration": 0,
    "start_time": "2024-10-05T19:39:53.532Z"
   },
   {
    "duration": 0,
    "start_time": "2024-10-05T19:39:53.534Z"
   },
   {
    "duration": 0,
    "start_time": "2024-10-05T19:39:53.535Z"
   },
   {
    "duration": 0,
    "start_time": "2024-10-05T19:39:53.536Z"
   },
   {
    "duration": 2,
    "start_time": "2024-10-05T19:40:02.529Z"
   },
   {
    "duration": 38,
    "start_time": "2024-10-05T19:40:54.778Z"
   },
   {
    "duration": 39,
    "start_time": "2024-10-05T19:41:24.028Z"
   },
   {
    "duration": 21,
    "start_time": "2024-10-05T19:41:44.298Z"
   },
   {
    "duration": 22,
    "start_time": "2024-10-05T19:42:25.012Z"
   },
   {
    "duration": 11,
    "start_time": "2024-10-05T19:42:50.646Z"
   },
   {
    "duration": 13,
    "start_time": "2024-10-05T19:43:48.547Z"
   },
   {
    "duration": 415,
    "start_time": "2024-10-05T19:44:02.491Z"
   },
   {
    "duration": 12,
    "start_time": "2024-10-05T19:44:17.591Z"
   },
   {
    "duration": 4,
    "start_time": "2024-10-05T19:45:20.941Z"
   },
   {
    "duration": 5,
    "start_time": "2024-10-05T19:45:27.786Z"
   },
   {
    "duration": 14,
    "start_time": "2024-10-05T19:45:49.266Z"
   },
   {
    "duration": 5,
    "start_time": "2024-10-05T19:46:43.132Z"
   },
   {
    "duration": 3,
    "start_time": "2024-10-05T19:46:53.033Z"
   },
   {
    "duration": 3,
    "start_time": "2024-10-05T19:47:02.203Z"
   },
   {
    "duration": 3,
    "start_time": "2024-10-05T19:47:07.836Z"
   },
   {
    "duration": 17,
    "start_time": "2024-10-05T19:53:31.506Z"
   },
   {
    "duration": 11,
    "start_time": "2024-10-05T19:53:38.058Z"
   },
   {
    "duration": 15,
    "start_time": "2024-10-05T19:54:38.143Z"
   },
   {
    "duration": 3,
    "start_time": "2024-10-05T19:55:32.685Z"
   },
   {
    "duration": 16,
    "start_time": "2024-10-05T19:55:44.550Z"
   },
   {
    "duration": 9,
    "start_time": "2024-10-05T19:56:14.895Z"
   },
   {
    "duration": 5,
    "start_time": "2024-10-05T19:57:00.889Z"
   },
   {
    "duration": 12,
    "start_time": "2024-10-05T19:57:13.708Z"
   },
   {
    "duration": 3,
    "start_time": "2024-10-05T19:57:38.450Z"
   },
   {
    "duration": 15,
    "start_time": "2024-10-05T19:57:48.833Z"
   },
   {
    "duration": 9,
    "start_time": "2024-10-05T20:01:27.237Z"
   },
   {
    "duration": 12,
    "start_time": "2024-10-05T20:20:52.677Z"
   },
   {
    "duration": 20,
    "start_time": "2024-10-05T20:21:40.649Z"
   },
   {
    "duration": 912,
    "start_time": "2024-10-05T20:25:53.597Z"
   },
   {
    "duration": 5,
    "start_time": "2024-10-05T20:26:51.770Z"
   },
   {
    "duration": 41,
    "start_time": "2024-10-05T20:28:11.736Z"
   },
   {
    "duration": 4,
    "start_time": "2024-10-05T20:28:29.612Z"
   },
   {
    "duration": 5,
    "start_time": "2024-10-05T20:30:05.246Z"
   },
   {
    "duration": 40,
    "start_time": "2024-10-05T20:30:31.008Z"
   },
   {
    "duration": 4,
    "start_time": "2024-10-05T20:31:08.378Z"
   },
   {
    "duration": 771,
    "start_time": "2024-10-05T20:32:12.675Z"
   },
   {
    "duration": 94,
    "start_time": "2024-10-05T20:32:50.051Z"
   },
   {
    "duration": 5,
    "start_time": "2024-10-05T20:44:45.447Z"
   },
   {
    "duration": 3,
    "start_time": "2024-10-05T20:44:51.491Z"
   },
   {
    "duration": 74,
    "start_time": "2024-10-05T20:45:20.855Z"
   },
   {
    "duration": 76,
    "start_time": "2024-10-05T20:45:46.359Z"
   },
   {
    "duration": 12,
    "start_time": "2024-10-05T20:48:42.977Z"
   },
   {
    "duration": 16,
    "start_time": "2024-10-05T20:48:52.497Z"
   },
   {
    "duration": 6,
    "start_time": "2024-10-05T20:50:19.709Z"
   },
   {
    "duration": 8,
    "start_time": "2024-10-05T20:50:28.863Z"
   },
   {
    "duration": 11,
    "start_time": "2024-10-05T20:50:53.129Z"
   },
   {
    "duration": 11,
    "start_time": "2024-10-05T20:54:53.424Z"
   },
   {
    "duration": 12,
    "start_time": "2024-10-05T20:58:12.671Z"
   },
   {
    "duration": 10,
    "start_time": "2024-10-05T20:58:19.020Z"
   },
   {
    "duration": 4,
    "start_time": "2024-10-05T21:02:14.884Z"
   },
   {
    "duration": 6,
    "start_time": "2024-10-05T21:02:55.986Z"
   },
   {
    "duration": 11,
    "start_time": "2024-10-05T21:03:09.041Z"
   },
   {
    "duration": 9,
    "start_time": "2024-10-05T21:08:01.894Z"
   },
   {
    "duration": 15,
    "start_time": "2024-10-05T21:10:35.706Z"
   },
   {
    "duration": 17,
    "start_time": "2024-10-05T21:10:44.013Z"
   },
   {
    "duration": 160,
    "start_time": "2024-10-05T21:11:04.532Z"
   },
   {
    "duration": 27,
    "start_time": "2024-10-05T21:11:19.462Z"
   },
   {
    "duration": 106,
    "start_time": "2024-10-05T21:11:37.372Z"
   },
   {
    "duration": 27,
    "start_time": "2024-10-05T21:11:52.920Z"
   },
   {
    "duration": 27,
    "start_time": "2024-10-05T21:12:21.479Z"
   },
   {
    "duration": 35,
    "start_time": "2024-10-05T21:27:21.747Z"
   },
   {
    "duration": 27,
    "start_time": "2024-10-05T21:27:25.362Z"
   },
   {
    "duration": 36,
    "start_time": "2024-10-05T21:28:03.782Z"
   },
   {
    "duration": 313,
    "start_time": "2024-10-05T21:28:41.713Z"
   },
   {
    "duration": 917,
    "start_time": "2024-10-05T21:28:42.030Z"
   },
   {
    "duration": 20,
    "start_time": "2024-10-05T21:28:42.949Z"
   },
   {
    "duration": 15,
    "start_time": "2024-10-05T21:28:42.971Z"
   },
   {
    "duration": 15,
    "start_time": "2024-10-05T21:28:43.006Z"
   },
   {
    "duration": 198,
    "start_time": "2024-10-05T21:28:43.024Z"
   },
   {
    "duration": 0,
    "start_time": "2024-10-05T21:28:43.225Z"
   },
   {
    "duration": 0,
    "start_time": "2024-10-05T21:28:43.226Z"
   },
   {
    "duration": 0,
    "start_time": "2024-10-05T21:28:43.227Z"
   },
   {
    "duration": 0,
    "start_time": "2024-10-05T21:28:43.228Z"
   },
   {
    "duration": 0,
    "start_time": "2024-10-05T21:28:43.229Z"
   },
   {
    "duration": 0,
    "start_time": "2024-10-05T21:28:43.230Z"
   },
   {
    "duration": 0,
    "start_time": "2024-10-05T21:28:43.231Z"
   },
   {
    "duration": 0,
    "start_time": "2024-10-05T21:28:43.232Z"
   },
   {
    "duration": 0,
    "start_time": "2024-10-05T21:28:43.233Z"
   },
   {
    "duration": 0,
    "start_time": "2024-10-05T21:28:43.234Z"
   },
   {
    "duration": 0,
    "start_time": "2024-10-05T21:28:43.235Z"
   },
   {
    "duration": 0,
    "start_time": "2024-10-05T21:28:43.236Z"
   },
   {
    "duration": 0,
    "start_time": "2024-10-05T21:28:43.237Z"
   },
   {
    "duration": 0,
    "start_time": "2024-10-05T21:28:43.238Z"
   },
   {
    "duration": 0,
    "start_time": "2024-10-05T21:28:43.239Z"
   },
   {
    "duration": 0,
    "start_time": "2024-10-05T21:28:43.240Z"
   },
   {
    "duration": 0,
    "start_time": "2024-10-05T21:28:43.241Z"
   },
   {
    "duration": 0,
    "start_time": "2024-10-05T21:28:43.242Z"
   },
   {
    "duration": 0,
    "start_time": "2024-10-05T21:28:43.243Z"
   },
   {
    "duration": 0,
    "start_time": "2024-10-05T21:28:43.244Z"
   },
   {
    "duration": 0,
    "start_time": "2024-10-05T21:28:43.245Z"
   },
   {
    "duration": 0,
    "start_time": "2024-10-05T21:28:43.245Z"
   },
   {
    "duration": 0,
    "start_time": "2024-10-05T21:28:43.246Z"
   },
   {
    "duration": 0,
    "start_time": "2024-10-05T21:28:43.247Z"
   },
   {
    "duration": 0,
    "start_time": "2024-10-05T21:28:43.248Z"
   },
   {
    "duration": 0,
    "start_time": "2024-10-05T21:28:43.249Z"
   },
   {
    "duration": 1,
    "start_time": "2024-10-05T21:28:43.250Z"
   },
   {
    "duration": 0,
    "start_time": "2024-10-05T21:28:43.251Z"
   },
   {
    "duration": 15,
    "start_time": "2024-10-05T21:28:48.092Z"
   },
   {
    "duration": 4,
    "start_time": "2024-10-05T21:29:03.472Z"
   },
   {
    "duration": 9,
    "start_time": "2024-10-05T21:29:28.499Z"
   },
   {
    "duration": 10,
    "start_time": "2024-10-05T21:29:34.642Z"
   },
   {
    "duration": 383,
    "start_time": "2024-10-05T21:30:19.584Z"
   },
   {
    "duration": 8,
    "start_time": "2024-10-05T21:30:30.734Z"
   },
   {
    "duration": 19,
    "start_time": "2024-10-05T21:32:07.170Z"
   },
   {
    "duration": 20,
    "start_time": "2024-10-05T21:32:12.450Z"
   },
   {
    "duration": 11,
    "start_time": "2024-10-05T21:35:29.351Z"
   },
   {
    "duration": 6,
    "start_time": "2024-10-05T21:36:26.129Z"
   },
   {
    "duration": 8,
    "start_time": "2024-10-05T21:36:30.267Z"
   },
   {
    "duration": 10,
    "start_time": "2024-10-05T21:36:33.165Z"
   },
   {
    "duration": 184,
    "start_time": "2024-10-05T21:36:43.875Z"
   },
   {
    "duration": 12,
    "start_time": "2024-10-05T21:36:47.183Z"
   },
   {
    "duration": 139,
    "start_time": "2024-10-05T21:36:51.192Z"
   },
   {
    "duration": 118,
    "start_time": "2024-10-05T21:36:55.537Z"
   },
   {
    "duration": 59,
    "start_time": "2024-10-05T21:37:01.674Z"
   },
   {
    "duration": 15,
    "start_time": "2024-10-05T21:37:04.872Z"
   },
   {
    "duration": 4,
    "start_time": "2024-10-05T21:37:07.699Z"
   },
   {
    "duration": 22,
    "start_time": "2024-10-05T21:37:11.397Z"
   },
   {
    "duration": 20,
    "start_time": "2024-10-05T21:37:15.765Z"
   },
   {
    "duration": 12,
    "start_time": "2024-10-05T21:41:50.315Z"
   },
   {
    "duration": 10,
    "start_time": "2024-10-05T21:42:15.569Z"
   },
   {
    "duration": 13,
    "start_time": "2024-10-05T21:43:07.630Z"
   },
   {
    "duration": 17,
    "start_time": "2024-10-05T21:43:16.068Z"
   },
   {
    "duration": 6,
    "start_time": "2024-10-05T21:46:30.305Z"
   },
   {
    "duration": 278,
    "start_time": "2024-10-07T22:35:44.635Z"
   },
   {
    "duration": 1017,
    "start_time": "2024-10-07T22:35:44.915Z"
   },
   {
    "duration": 20,
    "start_time": "2024-10-07T22:35:45.933Z"
   },
   {
    "duration": 25,
    "start_time": "2024-10-07T22:35:45.955Z"
   },
   {
    "duration": 11,
    "start_time": "2024-10-07T22:35:45.982Z"
   },
   {
    "duration": 10,
    "start_time": "2024-10-07T22:35:45.995Z"
   },
   {
    "duration": 11,
    "start_time": "2024-10-07T22:35:46.006Z"
   },
   {
    "duration": 215,
    "start_time": "2024-10-07T22:35:46.019Z"
   },
   {
    "duration": 11,
    "start_time": "2024-10-07T22:35:46.235Z"
   },
   {
    "duration": 144,
    "start_time": "2024-10-07T22:35:46.248Z"
   },
   {
    "duration": 98,
    "start_time": "2024-10-07T22:35:46.394Z"
   },
   {
    "duration": 60,
    "start_time": "2024-10-07T22:35:46.494Z"
   },
   {
    "duration": 21,
    "start_time": "2024-10-07T22:35:46.556Z"
   },
   {
    "duration": 4,
    "start_time": "2024-10-07T22:35:46.580Z"
   },
   {
    "duration": 20,
    "start_time": "2024-10-07T22:35:46.586Z"
   },
   {
    "duration": 14,
    "start_time": "2024-10-07T22:35:46.607Z"
   },
   {
    "duration": 4,
    "start_time": "2024-10-07T22:35:46.623Z"
   },
   {
    "duration": 42,
    "start_time": "2024-10-07T22:35:46.629Z"
   },
   {
    "duration": 8,
    "start_time": "2024-10-07T22:35:46.672Z"
   },
   {
    "duration": 5,
    "start_time": "2024-10-07T22:35:46.682Z"
   },
   {
    "duration": 781,
    "start_time": "2024-10-07T22:35:46.689Z"
   },
   {
    "duration": 80,
    "start_time": "2024-10-07T22:35:47.471Z"
   },
   {
    "duration": 23,
    "start_time": "2024-10-07T22:35:47.553Z"
   },
   {
    "duration": 8,
    "start_time": "2024-10-07T22:35:47.577Z"
   },
   {
    "duration": 8,
    "start_time": "2024-10-07T22:35:47.586Z"
   },
   {
    "duration": 9,
    "start_time": "2024-10-07T22:35:47.597Z"
   },
   {
    "duration": 12,
    "start_time": "2024-10-07T22:35:47.607Z"
   },
   {
    "duration": 7,
    "start_time": "2024-10-07T22:35:47.620Z"
   },
   {
    "duration": 3,
    "start_time": "2024-10-07T22:35:47.628Z"
   },
   {
    "duration": 39,
    "start_time": "2024-10-07T22:35:47.632Z"
   },
   {
    "duration": 2,
    "start_time": "2024-10-07T22:35:47.673Z"
   },
   {
    "duration": 2,
    "start_time": "2024-10-07T22:35:47.677Z"
   },
   {
    "duration": 2,
    "start_time": "2024-10-07T22:35:47.681Z"
   },
   {
    "duration": 3,
    "start_time": "2024-10-07T22:35:47.685Z"
   },
   {
    "duration": 18,
    "start_time": "2024-10-07T22:38:22.567Z"
   },
   {
    "duration": 17,
    "start_time": "2024-10-07T22:38:34.542Z"
   },
   {
    "duration": 181,
    "start_time": "2024-10-07T22:39:53.025Z"
   },
   {
    "duration": 19,
    "start_time": "2024-10-07T22:39:57.439Z"
   },
   {
    "duration": 4,
    "start_time": "2024-10-07T22:40:02.363Z"
   },
   {
    "duration": 12,
    "start_time": "2024-10-07T22:40:11.526Z"
   },
   {
    "duration": 5,
    "start_time": "2024-10-07T22:40:49.517Z"
   },
   {
    "duration": 20,
    "start_time": "2024-10-07T22:40:55.859Z"
   },
   {
    "duration": 8,
    "start_time": "2024-10-07T22:41:27.620Z"
   },
   {
    "duration": 7,
    "start_time": "2024-10-07T22:41:32.882Z"
   },
   {
    "duration": 42,
    "start_time": "2024-10-07T22:51:10.518Z"
   },
   {
    "duration": 11,
    "start_time": "2024-10-07T22:55:52.512Z"
   },
   {
    "duration": 6,
    "start_time": "2024-10-07T22:56:45.861Z"
   },
   {
    "duration": 8,
    "start_time": "2024-10-07T22:57:58.363Z"
   },
   {
    "duration": 16,
    "start_time": "2024-10-07T22:58:33.245Z"
   },
   {
    "duration": 20,
    "start_time": "2024-10-07T23:02:18.204Z"
   },
   {
    "duration": 19,
    "start_time": "2024-10-07T23:02:24.455Z"
   },
   {
    "duration": 33,
    "start_time": "2024-10-07T23:02:39.593Z"
   },
   {
    "duration": 17,
    "start_time": "2024-10-07T23:03:55.920Z"
   },
   {
    "duration": 31,
    "start_time": "2024-10-07T23:04:29.601Z"
   },
   {
    "duration": 32,
    "start_time": "2024-10-07T23:04:59.941Z"
   },
   {
    "duration": 33,
    "start_time": "2024-10-07T23:05:14.727Z"
   },
   {
    "duration": 279,
    "start_time": "2024-10-08T00:09:22.607Z"
   },
   {
    "duration": 375,
    "start_time": "2024-10-08T00:09:54.886Z"
   },
   {
    "duration": 1414,
    "start_time": "2024-10-08T00:09:55.266Z"
   },
   {
    "duration": 29,
    "start_time": "2024-10-08T00:09:56.682Z"
   },
   {
    "duration": 18,
    "start_time": "2024-10-08T00:09:56.713Z"
   },
   {
    "duration": 15,
    "start_time": "2024-10-08T00:09:56.735Z"
   },
   {
    "duration": 36,
    "start_time": "2024-10-08T00:09:56.752Z"
   },
   {
    "duration": 13,
    "start_time": "2024-10-08T00:09:56.790Z"
   },
   {
    "duration": 310,
    "start_time": "2024-10-08T00:09:56.805Z"
   },
   {
    "duration": 12,
    "start_time": "2024-10-08T00:09:57.117Z"
   },
   {
    "duration": 174,
    "start_time": "2024-10-08T00:09:57.131Z"
   },
   {
    "duration": 154,
    "start_time": "2024-10-08T00:09:57.307Z"
   },
   {
    "duration": 90,
    "start_time": "2024-10-08T00:09:57.463Z"
   },
   {
    "duration": 20,
    "start_time": "2024-10-08T00:09:57.555Z"
   },
   {
    "duration": 5,
    "start_time": "2024-10-08T00:09:57.589Z"
   },
   {
    "duration": 37,
    "start_time": "2024-10-08T00:09:57.596Z"
   },
   {
    "duration": 28,
    "start_time": "2024-10-08T00:09:57.635Z"
   },
   {
    "duration": 26,
    "start_time": "2024-10-08T00:09:57.665Z"
   },
   {
    "duration": 5,
    "start_time": "2024-10-08T00:09:57.693Z"
   },
   {
    "duration": 5,
    "start_time": "2024-10-08T00:09:57.701Z"
   },
   {
    "duration": 5,
    "start_time": "2024-10-08T00:09:57.709Z"
   },
   {
    "duration": 1467,
    "start_time": "2024-10-08T00:09:57.716Z"
   },
   {
    "duration": 346,
    "start_time": "2024-10-08T00:09:59.187Z"
   },
   {
    "duration": 17,
    "start_time": "2024-10-08T00:09:59.534Z"
   },
   {
    "duration": 11,
    "start_time": "2024-10-08T00:09:59.553Z"
   },
   {
    "duration": 10,
    "start_time": "2024-10-08T00:09:59.587Z"
   },
   {
    "duration": 14,
    "start_time": "2024-10-08T00:09:59.599Z"
   },
   {
    "duration": 20,
    "start_time": "2024-10-08T00:09:59.616Z"
   },
   {
    "duration": 9,
    "start_time": "2024-10-08T00:09:59.638Z"
   },
   {
    "duration": 38,
    "start_time": "2024-10-08T00:09:59.649Z"
   },
   {
    "duration": 23,
    "start_time": "2024-10-08T00:09:59.689Z"
   },
   {
    "duration": 40,
    "start_time": "2024-10-08T00:09:59.714Z"
   },
   {
    "duration": 5,
    "start_time": "2024-10-08T00:09:59.755Z"
   },
   {
    "duration": 4,
    "start_time": "2024-10-08T00:09:59.786Z"
   },
   {
    "duration": 2,
    "start_time": "2024-10-08T00:09:59.792Z"
   },
   {
    "duration": 5,
    "start_time": "2024-10-08T00:10:05.366Z"
   },
   {
    "duration": 7,
    "start_time": "2024-10-08T00:10:15.735Z"
   },
   {
    "duration": 22,
    "start_time": "2024-10-08T00:10:43.139Z"
   },
   {
    "duration": 124,
    "start_time": "2024-10-08T00:12:28.145Z"
   },
   {
    "duration": 11,
    "start_time": "2024-10-08T00:12:53.702Z"
   },
   {
    "duration": 312,
    "start_time": "2024-10-08T00:17:27.454Z"
   },
   {
    "duration": 10,
    "start_time": "2024-10-08T00:17:39.658Z"
   },
   {
    "duration": 9,
    "start_time": "2024-10-08T00:18:53.684Z"
   },
   {
    "duration": 7,
    "start_time": "2024-10-08T00:19:01.065Z"
   },
   {
    "duration": 15,
    "start_time": "2024-10-08T00:22:09.907Z"
   },
   {
    "duration": 5,
    "start_time": "2024-10-08T00:22:32.477Z"
   },
   {
    "duration": 9,
    "start_time": "2024-10-08T00:22:51.672Z"
   },
   {
    "duration": 299,
    "start_time": "2024-10-08T00:26:15.506Z"
   },
   {
    "duration": 306,
    "start_time": "2024-10-08T00:26:26.554Z"
   },
   {
    "duration": 302,
    "start_time": "2024-10-08T00:26:57.541Z"
   },
   {
    "duration": 1031,
    "start_time": "2024-10-08T00:33:56.230Z"
   },
   {
    "duration": 781,
    "start_time": "2024-10-08T00:35:07.815Z"
   },
   {
    "duration": 500,
    "start_time": "2024-10-08T00:37:13.507Z"
   },
   {
    "duration": 9,
    "start_time": "2024-10-08T00:37:37.629Z"
   },
   {
    "duration": 34,
    "start_time": "2024-10-08T00:37:53.699Z"
   },
   {
    "duration": 4,
    "start_time": "2024-10-08T00:53:26.969Z"
   },
   {
    "duration": 15,
    "start_time": "2024-10-08T00:54:11.345Z"
   },
   {
    "duration": 4,
    "start_time": "2024-10-08T00:54:25.450Z"
   },
   {
    "duration": 4,
    "start_time": "2024-10-08T00:55:46.992Z"
   },
   {
    "duration": 5,
    "start_time": "2024-10-08T00:55:50.080Z"
   },
   {
    "duration": 2044,
    "start_time": "2024-10-08T00:59:10.501Z"
   },
   {
    "duration": 2468,
    "start_time": "2024-10-08T01:03:10.742Z"
   },
   {
    "duration": 1611,
    "start_time": "2024-10-08T01:03:17.079Z"
   },
   {
    "duration": 1598,
    "start_time": "2024-10-08T01:03:26.499Z"
   },
   {
    "duration": 748,
    "start_time": "2024-10-08T01:05:09.368Z"
   },
   {
    "duration": 1409,
    "start_time": "2024-10-08T01:06:04.922Z"
   },
   {
    "duration": 4,
    "start_time": "2024-10-08T01:07:48.362Z"
   },
   {
    "duration": 8,
    "start_time": "2024-10-08T01:14:01.980Z"
   },
   {
    "duration": 8,
    "start_time": "2024-10-08T01:14:28.063Z"
   },
   {
    "duration": 183,
    "start_time": "2024-10-08T01:15:55.758Z"
   },
   {
    "duration": 294,
    "start_time": "2024-10-08T01:18:04.751Z"
   },
   {
    "duration": 195,
    "start_time": "2024-10-08T01:18:17.711Z"
   },
   {
    "duration": 234,
    "start_time": "2024-10-08T01:24:28.073Z"
   },
   {
    "duration": 6,
    "start_time": "2024-10-08T01:25:54.227Z"
   },
   {
    "duration": 127,
    "start_time": "2024-10-08T01:27:20.732Z"
   },
   {
    "duration": 123,
    "start_time": "2024-10-08T01:27:36.717Z"
   },
   {
    "duration": 126,
    "start_time": "2024-10-08T01:28:03.002Z"
   },
   {
    "duration": 9,
    "start_time": "2024-10-08T01:31:24.347Z"
   },
   {
    "duration": 106,
    "start_time": "2024-10-08T01:32:45.313Z"
   },
   {
    "duration": 216,
    "start_time": "2024-10-08T01:34:11.331Z"
   },
   {
    "duration": 1782,
    "start_time": "2024-10-08T02:03:53.184Z"
   },
   {
    "duration": 39,
    "start_time": "2024-10-08T02:06:30.808Z"
   },
   {
    "duration": 50,
    "start_time": "2024-10-08T02:06:42.500Z"
   },
   {
    "duration": 46,
    "start_time": "2024-10-08T02:06:47.957Z"
   },
   {
    "duration": 42,
    "start_time": "2024-10-08T02:07:08.286Z"
   },
   {
    "duration": 165,
    "start_time": "2024-10-08T06:31:55.050Z"
   },
   {
    "duration": 12,
    "start_time": "2024-10-08T06:32:01.711Z"
   },
   {
    "duration": 12,
    "start_time": "2024-10-08T06:32:30.413Z"
   },
   {
    "duration": 11,
    "start_time": "2024-10-08T06:32:38.659Z"
   },
   {
    "duration": 364,
    "start_time": "2024-10-08T06:32:52.555Z"
   },
   {
    "duration": 1276,
    "start_time": "2024-10-08T06:32:52.923Z"
   },
   {
    "duration": 19,
    "start_time": "2024-10-08T06:32:54.201Z"
   },
   {
    "duration": 27,
    "start_time": "2024-10-08T06:32:54.222Z"
   },
   {
    "duration": 15,
    "start_time": "2024-10-08T06:32:54.252Z"
   },
   {
    "duration": 12,
    "start_time": "2024-10-08T06:32:54.268Z"
   },
   {
    "duration": 12,
    "start_time": "2024-10-08T06:32:54.282Z"
   },
   {
    "duration": 235,
    "start_time": "2024-10-08T06:32:54.295Z"
   },
   {
    "duration": 21,
    "start_time": "2024-10-08T06:32:54.532Z"
   },
   {
    "duration": 113,
    "start_time": "2024-10-08T06:32:54.555Z"
   },
   {
    "duration": 105,
    "start_time": "2024-10-08T06:32:54.670Z"
   },
   {
    "duration": 56,
    "start_time": "2024-10-08T06:32:54.777Z"
   },
   {
    "duration": 14,
    "start_time": "2024-10-08T06:32:54.843Z"
   },
   {
    "duration": 4,
    "start_time": "2024-10-08T06:32:54.862Z"
   },
   {
    "duration": 20,
    "start_time": "2024-10-08T06:32:54.867Z"
   },
   {
    "duration": 14,
    "start_time": "2024-10-08T06:32:54.888Z"
   },
   {
    "duration": 4,
    "start_time": "2024-10-08T06:32:54.904Z"
   },
   {
    "duration": 4,
    "start_time": "2024-10-08T06:32:54.942Z"
   },
   {
    "duration": 5,
    "start_time": "2024-10-08T06:32:54.947Z"
   },
   {
    "duration": 4,
    "start_time": "2024-10-08T06:32:54.953Z"
   },
   {
    "duration": 822,
    "start_time": "2024-10-08T06:32:54.959Z"
   },
   {
    "duration": 93,
    "start_time": "2024-10-08T06:32:55.783Z"
   },
   {
    "duration": 10,
    "start_time": "2024-10-08T06:32:55.878Z"
   },
   {
    "duration": 8,
    "start_time": "2024-10-08T06:32:55.890Z"
   },
   {
    "duration": 7,
    "start_time": "2024-10-08T06:32:55.900Z"
   },
   {
    "duration": 34,
    "start_time": "2024-10-08T06:32:55.909Z"
   },
   {
    "duration": 12,
    "start_time": "2024-10-08T06:32:55.945Z"
   },
   {
    "duration": 6,
    "start_time": "2024-10-08T06:32:55.959Z"
   },
   {
    "duration": 8,
    "start_time": "2024-10-08T06:32:55.966Z"
   },
   {
    "duration": 16,
    "start_time": "2024-10-08T06:32:55.976Z"
   },
   {
    "duration": 64,
    "start_time": "2024-10-08T06:32:55.994Z"
   },
   {
    "duration": 14,
    "start_time": "2024-10-08T06:32:56.061Z"
   },
   {
    "duration": 661,
    "start_time": "2024-10-08T06:32:56.077Z"
   },
   {
    "duration": 23,
    "start_time": "2024-10-08T06:32:56.740Z"
   },
   {
    "duration": 4,
    "start_time": "2024-10-08T06:32:56.765Z"
   },
   {
    "duration": 3,
    "start_time": "2024-10-08T06:32:56.772Z"
   },
   {
    "duration": 2049,
    "start_time": "2024-10-08T06:32:56.777Z"
   },
   {
    "duration": 129,
    "start_time": "2024-10-08T06:32:58.828Z"
   },
   {
    "duration": 215,
    "start_time": "2024-10-08T06:32:58.961Z"
   },
   {
    "duration": 3,
    "start_time": "2024-10-08T06:32:59.178Z"
   },
   {
    "duration": 3,
    "start_time": "2024-10-08T06:33:40.502Z"
   },
   {
    "duration": 3,
    "start_time": "2024-10-08T06:33:51.108Z"
   },
   {
    "duration": 8,
    "start_time": "2024-10-08T06:36:23.908Z"
   },
   {
    "duration": 3,
    "start_time": "2024-10-08T06:36:43.156Z"
   },
   {
    "duration": 101,
    "start_time": "2024-10-08T06:37:25.705Z"
   },
   {
    "duration": 28,
    "start_time": "2024-10-08T06:37:41.970Z"
   },
   {
    "duration": 18,
    "start_time": "2024-10-08T06:38:24.038Z"
   },
   {
    "duration": 5,
    "start_time": "2024-10-08T06:38:27.201Z"
   },
   {
    "duration": 147,
    "start_time": "2024-10-08T06:45:14.698Z"
   },
   {
    "duration": 3,
    "start_time": "2024-10-08T06:45:32.805Z"
   },
   {
    "duration": 3,
    "start_time": "2024-10-08T06:45:50.826Z"
   },
   {
    "duration": 3,
    "start_time": "2024-10-08T06:46:22.690Z"
   },
   {
    "duration": 4,
    "start_time": "2024-10-08T06:46:34.721Z"
   },
   {
    "duration": 6,
    "start_time": "2024-10-08T06:47:35.831Z"
   },
   {
    "duration": 4,
    "start_time": "2024-10-08T06:47:49.716Z"
   },
   {
    "duration": 6,
    "start_time": "2024-10-08T06:48:27.723Z"
   },
   {
    "duration": 6,
    "start_time": "2024-10-08T06:48:30.345Z"
   },
   {
    "duration": 9,
    "start_time": "2024-10-08T06:48:52.987Z"
   },
   {
    "duration": 87,
    "start_time": "2024-10-08T06:49:38.036Z"
   },
   {
    "duration": 9,
    "start_time": "2024-10-08T06:49:45.226Z"
   },
   {
    "duration": 36,
    "start_time": "2024-10-08T06:58:07.427Z"
   },
   {
    "duration": 8,
    "start_time": "2024-10-08T06:59:20.891Z"
   },
   {
    "duration": 9,
    "start_time": "2024-10-08T07:00:03.949Z"
   },
   {
    "duration": 11,
    "start_time": "2024-10-08T07:28:29.662Z"
   },
   {
    "duration": 6,
    "start_time": "2024-10-08T07:29:01.865Z"
   },
   {
    "duration": 8,
    "start_time": "2024-10-08T07:29:15.307Z"
   },
   {
    "duration": 7,
    "start_time": "2024-10-08T07:29:58.024Z"
   },
   {
    "duration": 8,
    "start_time": "2024-10-08T07:30:06.500Z"
   },
   {
    "duration": 9,
    "start_time": "2024-10-08T07:30:28.523Z"
   },
   {
    "duration": 17,
    "start_time": "2024-10-08T07:32:15.183Z"
   },
   {
    "duration": 15,
    "start_time": "2024-10-08T07:32:19.938Z"
   },
   {
    "duration": 52,
    "start_time": "2024-10-08T07:32:34.537Z"
   },
   {
    "duration": 120,
    "start_time": "2024-10-08T07:34:11.969Z"
   },
   {
    "duration": 5,
    "start_time": "2024-10-08T07:35:06.003Z"
   },
   {
    "duration": 6,
    "start_time": "2024-10-08T07:35:15.819Z"
   },
   {
    "duration": 95,
    "start_time": "2024-10-08T07:35:20.981Z"
   },
   {
    "duration": 5,
    "start_time": "2024-10-08T07:35:58.908Z"
   },
   {
    "duration": 9,
    "start_time": "2024-10-08T07:37:12.673Z"
   },
   {
    "duration": 134,
    "start_time": "2024-10-08T07:37:24.547Z"
   },
   {
    "duration": 9,
    "start_time": "2024-10-08T07:39:18.513Z"
   },
   {
    "duration": 465,
    "start_time": "2024-10-08T07:39:20.638Z"
   },
   {
    "duration": 9,
    "start_time": "2024-10-08T07:39:56.783Z"
   },
   {
    "duration": 8,
    "start_time": "2024-10-08T07:40:07.661Z"
   },
   {
    "duration": 152,
    "start_time": "2024-10-08T07:40:56.110Z"
   },
   {
    "duration": 163,
    "start_time": "2024-10-08T07:42:53.279Z"
   },
   {
    "duration": 247,
    "start_time": "2024-10-08T07:43:17.988Z"
   },
   {
    "duration": 10,
    "start_time": "2024-10-08T07:45:54.703Z"
   },
   {
    "duration": 163,
    "start_time": "2024-10-08T07:47:55.380Z"
   },
   {
    "duration": 39,
    "start_time": "2024-10-08T07:54:47.864Z"
   },
   {
    "duration": 12,
    "start_time": "2024-10-08T07:55:15.902Z"
   },
   {
    "duration": 12,
    "start_time": "2024-10-08T07:55:55.982Z"
   },
   {
    "duration": 12,
    "start_time": "2024-10-08T07:56:07.393Z"
   },
   {
    "duration": 3,
    "start_time": "2024-10-08T07:56:17.114Z"
   },
   {
    "duration": 8,
    "start_time": "2024-10-08T07:57:00.482Z"
   },
   {
    "duration": 7,
    "start_time": "2024-10-08T07:57:17.810Z"
   },
   {
    "duration": 6,
    "start_time": "2024-10-08T07:57:39.912Z"
   },
   {
    "duration": 7,
    "start_time": "2024-10-08T07:58:46.334Z"
   },
   {
    "duration": 899,
    "start_time": "2024-10-08T08:00:07.634Z"
   },
   {
    "duration": 951,
    "start_time": "2024-10-08T08:03:04.558Z"
   },
   {
    "duration": 958,
    "start_time": "2024-10-08T08:03:25.125Z"
   },
   {
    "duration": 123,
    "start_time": "2024-10-08T08:05:15.867Z"
   },
   {
    "duration": 112,
    "start_time": "2024-10-08T08:05:19.052Z"
   },
   {
    "duration": 4,
    "start_time": "2024-10-08T08:08:38.013Z"
   },
   {
    "duration": 134,
    "start_time": "2024-10-08T08:08:41.309Z"
   },
   {
    "duration": 754,
    "start_time": "2024-10-08T08:18:26.103Z"
   },
   {
    "duration": 675,
    "start_time": "2024-10-08T08:18:43.495Z"
   },
   {
    "duration": 734,
    "start_time": "2024-10-08T08:19:27.134Z"
   },
   {
    "duration": 487,
    "start_time": "2024-10-08T08:21:39.777Z"
   },
   {
    "duration": 492,
    "start_time": "2024-10-08T08:22:19.052Z"
   },
   {
    "duration": 488,
    "start_time": "2024-10-08T08:22:34.184Z"
   },
   {
    "duration": 479,
    "start_time": "2024-10-08T08:23:31.719Z"
   },
   {
    "duration": 503,
    "start_time": "2024-10-08T08:24:10.430Z"
   },
   {
    "duration": 507,
    "start_time": "2024-10-08T08:28:00.395Z"
   },
   {
    "duration": 235,
    "start_time": "2024-10-08T08:29:02.836Z"
   },
   {
    "duration": 210,
    "start_time": "2024-10-08T08:31:05.094Z"
   },
   {
    "duration": 366,
    "start_time": "2024-10-08T21:46:11.050Z"
   },
   {
    "duration": 1115,
    "start_time": "2024-10-08T21:46:11.418Z"
   },
   {
    "duration": 18,
    "start_time": "2024-10-08T21:46:12.535Z"
   },
   {
    "duration": 14,
    "start_time": "2024-10-08T21:46:12.555Z"
   },
   {
    "duration": 11,
    "start_time": "2024-10-08T21:46:12.571Z"
   },
   {
    "duration": 11,
    "start_time": "2024-10-08T21:46:12.584Z"
   },
   {
    "duration": 45,
    "start_time": "2024-10-08T21:46:12.597Z"
   },
   {
    "duration": 237,
    "start_time": "2024-10-08T21:46:12.644Z"
   },
   {
    "duration": 10,
    "start_time": "2024-10-08T21:46:12.883Z"
   },
   {
    "duration": 125,
    "start_time": "2024-10-08T21:46:12.894Z"
   },
   {
    "duration": 112,
    "start_time": "2024-10-08T21:46:13.021Z"
   },
   {
    "duration": 70,
    "start_time": "2024-10-08T21:46:13.135Z"
   },
   {
    "duration": 29,
    "start_time": "2024-10-08T21:46:13.208Z"
   },
   {
    "duration": 4,
    "start_time": "2024-10-08T21:46:13.240Z"
   },
   {
    "duration": 21,
    "start_time": "2024-10-08T21:46:13.246Z"
   },
   {
    "duration": 15,
    "start_time": "2024-10-08T21:46:13.269Z"
   },
   {
    "duration": 4,
    "start_time": "2024-10-08T21:46:13.286Z"
   },
   {
    "duration": 4,
    "start_time": "2024-10-08T21:46:13.291Z"
   },
   {
    "duration": 38,
    "start_time": "2024-10-08T21:46:13.297Z"
   },
   {
    "duration": 5,
    "start_time": "2024-10-08T21:46:13.336Z"
   },
   {
    "duration": 875,
    "start_time": "2024-10-08T21:46:13.343Z"
   },
   {
    "duration": 99,
    "start_time": "2024-10-08T21:46:14.221Z"
   },
   {
    "duration": 17,
    "start_time": "2024-10-08T21:46:14.322Z"
   },
   {
    "duration": 7,
    "start_time": "2024-10-08T21:46:14.341Z"
   },
   {
    "duration": 8,
    "start_time": "2024-10-08T21:46:14.350Z"
   },
   {
    "duration": 11,
    "start_time": "2024-10-08T21:46:14.359Z"
   },
   {
    "duration": 14,
    "start_time": "2024-10-08T21:46:14.372Z"
   },
   {
    "duration": 6,
    "start_time": "2024-10-08T21:46:14.388Z"
   },
   {
    "duration": 9,
    "start_time": "2024-10-08T21:46:14.431Z"
   },
   {
    "duration": 17,
    "start_time": "2024-10-08T21:46:14.442Z"
   },
   {
    "duration": 31,
    "start_time": "2024-10-08T21:46:14.460Z"
   },
   {
    "duration": 43,
    "start_time": "2024-10-08T21:46:14.494Z"
   },
   {
    "duration": 702,
    "start_time": "2024-10-08T21:46:14.539Z"
   },
   {
    "duration": 22,
    "start_time": "2024-10-08T21:46:15.243Z"
   },
   {
    "duration": 4,
    "start_time": "2024-10-08T21:46:15.268Z"
   },
   {
    "duration": 4,
    "start_time": "2024-10-08T21:46:15.273Z"
   },
   {
    "duration": 2126,
    "start_time": "2024-10-08T21:46:15.279Z"
   },
   {
    "duration": 165,
    "start_time": "2024-10-08T21:46:17.407Z"
   },
   {
    "duration": 221,
    "start_time": "2024-10-08T21:46:17.574Z"
   },
   {
    "duration": 8,
    "start_time": "2024-10-08T21:46:17.797Z"
   },
   {
    "duration": 196,
    "start_time": "2024-10-08T21:46:17.809Z"
   },
   {
    "duration": 8,
    "start_time": "2024-10-08T21:46:18.007Z"
   },
   {
    "duration": 186,
    "start_time": "2024-10-08T21:46:18.017Z"
   },
   {
    "duration": 4,
    "start_time": "2024-10-08T21:46:18.205Z"
   },
   {
    "duration": 148,
    "start_time": "2024-10-08T21:46:18.211Z"
   },
   {
    "duration": 704,
    "start_time": "2024-10-08T21:46:18.361Z"
   },
   {
    "duration": 494,
    "start_time": "2024-10-08T21:46:19.067Z"
   },
   {
    "duration": 249,
    "start_time": "2024-10-08T21:46:19.563Z"
   },
   {
    "duration": 296,
    "start_time": "2024-10-08T21:55:17.108Z"
   },
   {
    "duration": 8,
    "start_time": "2024-10-08T21:55:51.480Z"
   },
   {
    "duration": 306,
    "start_time": "2024-10-08T21:57:41.740Z"
   },
   {
    "duration": 5,
    "start_time": "2024-10-08T21:57:44.504Z"
   },
   {
    "duration": 150,
    "start_time": "2024-10-08T21:58:22.067Z"
   },
   {
    "duration": 139,
    "start_time": "2024-10-08T21:59:15.510Z"
   },
   {
    "duration": 243,
    "start_time": "2024-10-08T22:02:18.779Z"
   },
   {
    "duration": 371,
    "start_time": "2024-10-08T22:02:44.769Z"
   },
   {
    "duration": 9,
    "start_time": "2024-10-08T22:02:51.871Z"
   },
   {
    "duration": 380,
    "start_time": "2024-10-08T22:03:45.871Z"
   },
   {
    "duration": 4,
    "start_time": "2024-10-08T22:03:48.927Z"
   },
   {
    "duration": 370,
    "start_time": "2024-10-08T22:04:18.598Z"
   },
   {
    "duration": 490,
    "start_time": "2024-10-08T22:04:40.441Z"
   },
   {
    "duration": 13,
    "start_time": "2024-10-08T22:04:41.797Z"
   },
   {
    "duration": 15,
    "start_time": "2024-10-08T22:05:49.730Z"
   },
   {
    "duration": 13,
    "start_time": "2024-10-08T22:06:22.777Z"
   },
   {
    "duration": 505,
    "start_time": "2024-10-08T22:07:04.833Z"
   },
   {
    "duration": 488,
    "start_time": "2024-10-08T22:07:43.843Z"
   },
   {
    "duration": 13,
    "start_time": "2024-10-08T22:07:47.143Z"
   },
   {
    "duration": 306,
    "start_time": "2024-10-08T23:42:07.815Z"
   },
   {
    "duration": 1043,
    "start_time": "2024-10-08T23:42:08.123Z"
   },
   {
    "duration": 23,
    "start_time": "2024-10-08T23:42:09.170Z"
   },
   {
    "duration": 15,
    "start_time": "2024-10-08T23:42:09.197Z"
   },
   {
    "duration": 12,
    "start_time": "2024-10-08T23:42:09.214Z"
   },
   {
    "duration": 10,
    "start_time": "2024-10-08T23:42:09.227Z"
   },
   {
    "duration": 39,
    "start_time": "2024-10-08T23:42:09.239Z"
   },
   {
    "duration": 195,
    "start_time": "2024-10-08T23:42:09.280Z"
   },
   {
    "duration": 11,
    "start_time": "2024-10-08T23:42:09.476Z"
   },
   {
    "duration": 117,
    "start_time": "2024-10-08T23:42:09.490Z"
   },
   {
    "duration": 104,
    "start_time": "2024-10-08T23:42:09.608Z"
   },
   {
    "duration": 62,
    "start_time": "2024-10-08T23:42:09.714Z"
   },
   {
    "duration": 13,
    "start_time": "2024-10-08T23:42:09.778Z"
   },
   {
    "duration": 4,
    "start_time": "2024-10-08T23:42:09.793Z"
   },
   {
    "duration": 19,
    "start_time": "2024-10-08T23:42:09.798Z"
   },
   {
    "duration": 15,
    "start_time": "2024-10-08T23:42:09.819Z"
   },
   {
    "duration": 34,
    "start_time": "2024-10-08T23:42:09.836Z"
   },
   {
    "duration": 4,
    "start_time": "2024-10-08T23:42:09.871Z"
   },
   {
    "duration": 5,
    "start_time": "2024-10-08T23:42:09.876Z"
   },
   {
    "duration": 4,
    "start_time": "2024-10-08T23:42:09.882Z"
   },
   {
    "duration": 803,
    "start_time": "2024-10-08T23:42:09.888Z"
   },
   {
    "duration": 90,
    "start_time": "2024-10-08T23:42:10.693Z"
   },
   {
    "duration": 11,
    "start_time": "2024-10-08T23:42:10.785Z"
   },
   {
    "duration": 8,
    "start_time": "2024-10-08T23:42:10.797Z"
   },
   {
    "duration": 7,
    "start_time": "2024-10-08T23:42:10.807Z"
   },
   {
    "duration": 9,
    "start_time": "2024-10-08T23:42:10.816Z"
   },
   {
    "duration": 45,
    "start_time": "2024-10-08T23:42:10.826Z"
   },
   {
    "duration": 7,
    "start_time": "2024-10-08T23:42:10.876Z"
   },
   {
    "duration": 9,
    "start_time": "2024-10-08T23:42:10.884Z"
   },
   {
    "duration": 17,
    "start_time": "2024-10-08T23:42:10.894Z"
   },
   {
    "duration": 31,
    "start_time": "2024-10-08T23:42:10.912Z"
   },
   {
    "duration": 14,
    "start_time": "2024-10-08T23:42:10.970Z"
   },
   {
    "duration": 675,
    "start_time": "2024-10-08T23:42:10.986Z"
   },
   {
    "duration": 25,
    "start_time": "2024-10-08T23:42:11.663Z"
   },
   {
    "duration": 5,
    "start_time": "2024-10-08T23:42:11.690Z"
   },
   {
    "duration": 4,
    "start_time": "2024-10-08T23:42:11.696Z"
   },
   {
    "duration": 2043,
    "start_time": "2024-10-08T23:42:11.702Z"
   },
   {
    "duration": 116,
    "start_time": "2024-10-08T23:42:13.748Z"
   },
   {
    "duration": 203,
    "start_time": "2024-10-08T23:42:13.866Z"
   },
   {
    "duration": 8,
    "start_time": "2024-10-08T23:42:14.070Z"
   },
   {
    "duration": 170,
    "start_time": "2024-10-08T23:42:14.080Z"
   },
   {
    "duration": 8,
    "start_time": "2024-10-08T23:42:14.251Z"
   },
   {
    "duration": 214,
    "start_time": "2024-10-08T23:42:14.270Z"
   },
   {
    "duration": 4,
    "start_time": "2024-10-08T23:42:14.486Z"
   },
   {
    "duration": 140,
    "start_time": "2024-10-08T23:42:14.492Z"
   },
   {
    "duration": 668,
    "start_time": "2024-10-08T23:42:14.634Z"
   },
   {
    "duration": 484,
    "start_time": "2024-10-08T23:42:15.304Z"
   },
   {
    "duration": 223,
    "start_time": "2024-10-08T23:42:15.791Z"
   },
   {
    "duration": 258,
    "start_time": "2024-10-08T23:42:16.017Z"
   },
   {
    "duration": 5,
    "start_time": "2024-10-08T23:42:16.277Z"
   },
   {
    "duration": 160,
    "start_time": "2024-10-08T23:42:16.283Z"
   },
   {
    "duration": 492,
    "start_time": "2024-10-08T23:42:16.444Z"
   },
   {
    "duration": 10,
    "start_time": "2024-10-08T23:42:16.938Z"
   },
   {
    "duration": 1128,
    "start_time": "2024-10-08T23:44:37.054Z"
   },
   {
    "duration": 1113,
    "start_time": "2024-10-08T23:45:01.857Z"
   },
   {
    "duration": 4,
    "start_time": "2024-10-08T23:48:37.752Z"
   },
   {
    "duration": 725,
    "start_time": "2024-10-08T23:48:43.145Z"
   },
   {
    "duration": 686,
    "start_time": "2024-10-08T23:49:10.666Z"
   },
   {
    "duration": 415,
    "start_time": "2024-10-08T23:49:29.877Z"
   },
   {
    "duration": 1444,
    "start_time": "2024-10-08T23:49:37.209Z"
   },
   {
    "duration": 4,
    "start_time": "2024-10-08T23:50:04.090Z"
   },
   {
    "duration": 670,
    "start_time": "2024-10-08T23:50:07.921Z"
   },
   {
    "duration": 704,
    "start_time": "2024-10-08T23:50:15.288Z"
   },
   {
    "duration": 715,
    "start_time": "2024-10-08T23:50:32.288Z"
   },
   {
    "duration": 709,
    "start_time": "2024-10-08T23:51:11.183Z"
   },
   {
    "duration": 441,
    "start_time": "2024-10-09T00:07:04.486Z"
   },
   {
    "duration": 6,
    "start_time": "2024-10-09T00:07:42.607Z"
   },
   {
    "duration": 3,
    "start_time": "2024-10-09T00:08:47.445Z"
   },
   {
    "duration": 5,
    "start_time": "2024-10-09T00:09:03.608Z"
   },
   {
    "duration": 200,
    "start_time": "2024-10-09T00:10:41.768Z"
   },
   {
    "duration": 458,
    "start_time": "2024-10-09T00:21:39.578Z"
   },
   {
    "duration": 458,
    "start_time": "2024-10-09T00:24:06.354Z"
   },
   {
    "duration": 2,
    "start_time": "2024-10-09T00:24:47.591Z"
   },
   {
    "duration": 5,
    "start_time": "2024-10-09T00:24:59.174Z"
   },
   {
    "duration": 487,
    "start_time": "2024-10-09T00:25:21.670Z"
   },
   {
    "duration": 418,
    "start_time": "2024-10-09T00:25:41.505Z"
   },
   {
    "duration": 5,
    "start_time": "2024-10-09T00:25:44.227Z"
   },
   {
    "duration": 416,
    "start_time": "2024-10-09T00:25:50.971Z"
   },
   {
    "duration": 12,
    "start_time": "2024-10-09T00:25:53.707Z"
   },
   {
    "duration": 418,
    "start_time": "2024-10-09T00:25:57.768Z"
   },
   {
    "duration": 5,
    "start_time": "2024-10-09T00:25:58.611Z"
   },
   {
    "duration": 5,
    "start_time": "2024-10-09T00:26:05.262Z"
   },
   {
    "duration": 6,
    "start_time": "2024-10-09T00:26:12.913Z"
   },
   {
    "duration": 416,
    "start_time": "2024-10-09T00:26:15.932Z"
   },
   {
    "duration": 6,
    "start_time": "2024-10-09T00:26:17.200Z"
   },
   {
    "duration": 237,
    "start_time": "2024-10-09T00:28:22.266Z"
   },
   {
    "duration": 1522,
    "start_time": "2024-10-09T00:30:08.839Z"
   },
   {
    "duration": 39,
    "start_time": "2024-10-09T00:30:22.081Z"
   },
   {
    "duration": 51,
    "start_time": "2024-10-09T00:30:46.511Z"
   },
   {
    "duration": 1464,
    "start_time": "2024-10-09T00:31:21.662Z"
   },
   {
    "duration": 1775,
    "start_time": "2024-10-09T00:31:25.554Z"
   },
   {
    "duration": 1479,
    "start_time": "2024-10-09T00:32:48.045Z"
   },
   {
    "duration": 1768,
    "start_time": "2024-10-09T00:34:03.242Z"
   },
   {
    "duration": 1761,
    "start_time": "2024-10-09T00:34:25.813Z"
   },
   {
    "duration": 1746,
    "start_time": "2024-10-09T00:34:37.178Z"
   },
   {
    "duration": 262,
    "start_time": "2024-10-09T00:34:41.186Z"
   },
   {
    "duration": 1462,
    "start_time": "2024-10-09T00:34:54.628Z"
   },
   {
    "duration": 1668,
    "start_time": "2024-10-09T00:34:57.117Z"
   },
   {
    "duration": 239,
    "start_time": "2024-10-09T00:35:35.947Z"
   },
   {
    "duration": 237,
    "start_time": "2024-10-09T00:35:57.334Z"
   },
   {
    "duration": 232,
    "start_time": "2024-10-09T00:36:07.405Z"
   },
   {
    "duration": 231,
    "start_time": "2024-10-09T00:36:38.864Z"
   },
   {
    "duration": 297,
    "start_time": "2024-10-09T00:37:01.307Z"
   },
   {
    "duration": 1090,
    "start_time": "2024-10-09T00:37:01.606Z"
   },
   {
    "duration": 19,
    "start_time": "2024-10-09T00:37:02.698Z"
   },
   {
    "duration": 12,
    "start_time": "2024-10-09T00:37:02.719Z"
   },
   {
    "duration": 12,
    "start_time": "2024-10-09T00:37:02.734Z"
   },
   {
    "duration": 10,
    "start_time": "2024-10-09T00:37:02.771Z"
   },
   {
    "duration": 10,
    "start_time": "2024-10-09T00:37:02.783Z"
   },
   {
    "duration": 212,
    "start_time": "2024-10-09T00:37:02.795Z"
   },
   {
    "duration": 11,
    "start_time": "2024-10-09T00:37:03.009Z"
   },
   {
    "duration": 116,
    "start_time": "2024-10-09T00:37:03.021Z"
   },
   {
    "duration": 105,
    "start_time": "2024-10-09T00:37:03.139Z"
   },
   {
    "duration": 65,
    "start_time": "2024-10-09T00:37:03.245Z"
   },
   {
    "duration": 13,
    "start_time": "2024-10-09T00:37:03.311Z"
   },
   {
    "duration": 4,
    "start_time": "2024-10-09T00:37:03.328Z"
   },
   {
    "duration": 38,
    "start_time": "2024-10-09T00:37:03.334Z"
   },
   {
    "duration": 15,
    "start_time": "2024-10-09T00:37:03.373Z"
   },
   {
    "duration": 4,
    "start_time": "2024-10-09T00:37:03.389Z"
   },
   {
    "duration": 4,
    "start_time": "2024-10-09T00:37:03.395Z"
   },
   {
    "duration": 4,
    "start_time": "2024-10-09T00:37:03.401Z"
   },
   {
    "duration": 4,
    "start_time": "2024-10-09T00:37:03.407Z"
   },
   {
    "duration": 814,
    "start_time": "2024-10-09T00:37:03.412Z"
   },
   {
    "duration": 96,
    "start_time": "2024-10-09T00:37:04.230Z"
   },
   {
    "duration": 12,
    "start_time": "2024-10-09T00:37:04.327Z"
   },
   {
    "duration": 10,
    "start_time": "2024-10-09T00:37:04.340Z"
   },
   {
    "duration": 19,
    "start_time": "2024-10-09T00:37:04.352Z"
   },
   {
    "duration": 10,
    "start_time": "2024-10-09T00:37:04.373Z"
   },
   {
    "duration": 13,
    "start_time": "2024-10-09T00:37:04.384Z"
   },
   {
    "duration": 7,
    "start_time": "2024-10-09T00:37:04.398Z"
   },
   {
    "duration": 13,
    "start_time": "2024-10-09T00:37:04.407Z"
   },
   {
    "duration": 75,
    "start_time": "2024-10-09T00:37:04.422Z"
   },
   {
    "duration": 32,
    "start_time": "2024-10-09T00:37:04.499Z"
   },
   {
    "duration": 17,
    "start_time": "2024-10-09T00:37:04.533Z"
   },
   {
    "duration": 948,
    "start_time": "2024-10-09T00:37:04.551Z"
   },
   {
    "duration": 21,
    "start_time": "2024-10-09T00:37:05.501Z"
   },
   {
    "duration": 3,
    "start_time": "2024-10-09T00:37:05.524Z"
   },
   {
    "duration": 4,
    "start_time": "2024-10-09T00:37:05.529Z"
   },
   {
    "duration": 374,
    "start_time": "2024-10-09T00:37:05.534Z"
   },
   {
    "duration": 123,
    "start_time": "2024-10-09T00:37:05.910Z"
   },
   {
    "duration": 221,
    "start_time": "2024-10-09T00:37:06.035Z"
   },
   {
    "duration": 13,
    "start_time": "2024-10-09T00:37:06.259Z"
   },
   {
    "duration": 212,
    "start_time": "2024-10-09T00:37:06.278Z"
   },
   {
    "duration": 9,
    "start_time": "2024-10-09T00:37:06.492Z"
   },
   {
    "duration": 250,
    "start_time": "2024-10-09T00:37:06.504Z"
   },
   {
    "duration": 4,
    "start_time": "2024-10-09T00:37:06.755Z"
   },
   {
    "duration": 148,
    "start_time": "2024-10-09T00:37:06.762Z"
   },
   {
    "duration": 749,
    "start_time": "2024-10-09T00:37:06.912Z"
   },
   {
    "duration": 488,
    "start_time": "2024-10-09T00:37:07.663Z"
   },
   {
    "duration": 229,
    "start_time": "2024-10-09T00:37:08.153Z"
   },
   {
    "duration": 270,
    "start_time": "2024-10-09T00:37:08.384Z"
   },
   {
    "duration": 5,
    "start_time": "2024-10-09T00:37:08.656Z"
   },
   {
    "duration": 141,
    "start_time": "2024-10-09T00:37:08.664Z"
   },
   {
    "duration": 434,
    "start_time": "2024-10-09T00:37:08.807Z"
   },
   {
    "duration": 5,
    "start_time": "2024-10-09T00:37:09.243Z"
   },
   {
    "duration": 217,
    "start_time": "2024-10-09T00:37:09.249Z"
   },
   {
    "duration": 470,
    "start_time": "2024-10-09T00:37:09.467Z"
   },
   {
    "duration": 6,
    "start_time": "2024-10-09T00:37:09.939Z"
   },
   {
    "duration": 1494,
    "start_time": "2024-10-09T00:37:09.947Z"
   },
   {
    "duration": 1812,
    "start_time": "2024-10-09T00:37:11.443Z"
   },
   {
    "duration": 230,
    "start_time": "2024-10-09T00:39:47.461Z"
   },
   {
    "duration": 13,
    "start_time": "2024-10-09T00:40:00.980Z"
   },
   {
    "duration": 133,
    "start_time": "2024-10-09T00:42:16.161Z"
   },
   {
    "duration": 88,
    "start_time": "2024-10-09T00:43:07.586Z"
   },
   {
    "duration": 60,
    "start_time": "2024-10-09T00:43:33.375Z"
   },
   {
    "duration": 65,
    "start_time": "2024-10-09T00:43:44.518Z"
   },
   {
    "duration": 68,
    "start_time": "2024-10-09T00:44:04.536Z"
   },
   {
    "duration": 62,
    "start_time": "2024-10-09T00:44:20.328Z"
   },
   {
    "duration": 58,
    "start_time": "2024-10-09T00:45:02.291Z"
   },
   {
    "duration": 12,
    "start_time": "2024-10-09T00:45:31.722Z"
   },
   {
    "duration": 59,
    "start_time": "2024-10-09T00:45:42.652Z"
   },
   {
    "duration": 5,
    "start_time": "2024-10-09T00:45:44.212Z"
   },
   {
    "duration": 5,
    "start_time": "2024-10-09T00:51:11.814Z"
   },
   {
    "duration": 4,
    "start_time": "2024-10-09T00:51:17.909Z"
   },
   {
    "duration": 9,
    "start_time": "2024-10-09T13:20:08.173Z"
   },
   {
    "duration": 4,
    "start_time": "2024-10-09T13:25:52.764Z"
   },
   {
    "duration": 4,
    "start_time": "2024-10-09T14:07:31.442Z"
   },
   {
    "duration": 4,
    "start_time": "2024-10-09T14:14:36.121Z"
   },
   {
    "duration": 172,
    "start_time": "2024-10-09T18:44:34.594Z"
   },
   {
    "duration": 11,
    "start_time": "2024-10-09T18:44:37.594Z"
   },
   {
    "duration": 320,
    "start_time": "2024-10-09T20:56:46.433Z"
   },
   {
    "duration": 1211,
    "start_time": "2024-10-09T20:56:46.756Z"
   },
   {
    "duration": 20,
    "start_time": "2024-10-09T20:56:47.969Z"
   },
   {
    "duration": 46,
    "start_time": "2024-10-09T20:56:47.991Z"
   },
   {
    "duration": 11,
    "start_time": "2024-10-09T20:56:48.039Z"
   },
   {
    "duration": 28,
    "start_time": "2024-10-09T20:56:48.051Z"
   },
   {
    "duration": 12,
    "start_time": "2024-10-09T20:56:48.080Z"
   },
   {
    "duration": 199,
    "start_time": "2024-10-09T20:56:48.093Z"
   },
   {
    "duration": 38,
    "start_time": "2024-10-09T20:56:48.295Z"
   },
   {
    "duration": 99,
    "start_time": "2024-10-09T20:56:48.337Z"
   },
   {
    "duration": 98,
    "start_time": "2024-10-09T20:56:48.438Z"
   },
   {
    "duration": 41,
    "start_time": "2024-10-09T20:56:48.538Z"
   },
   {
    "duration": 13,
    "start_time": "2024-10-09T20:56:48.581Z"
   },
   {
    "duration": 4,
    "start_time": "2024-10-09T20:56:48.595Z"
   },
   {
    "duration": 46,
    "start_time": "2024-10-09T20:56:48.600Z"
   },
   {
    "duration": 14,
    "start_time": "2024-10-09T20:56:48.648Z"
   },
   {
    "duration": 4,
    "start_time": "2024-10-09T20:56:48.664Z"
   },
   {
    "duration": 4,
    "start_time": "2024-10-09T20:56:48.670Z"
   },
   {
    "duration": 4,
    "start_time": "2024-10-09T20:56:48.676Z"
   },
   {
    "duration": 4,
    "start_time": "2024-10-09T20:56:48.682Z"
   },
   {
    "duration": 974,
    "start_time": "2024-10-09T20:56:48.687Z"
   },
   {
    "duration": 119,
    "start_time": "2024-10-09T20:56:49.663Z"
   },
   {
    "duration": 11,
    "start_time": "2024-10-09T20:56:49.784Z"
   },
   {
    "duration": 39,
    "start_time": "2024-10-09T20:56:49.797Z"
   },
   {
    "duration": 8,
    "start_time": "2024-10-09T20:56:49.837Z"
   },
   {
    "duration": 9,
    "start_time": "2024-10-09T20:56:49.847Z"
   },
   {
    "duration": 13,
    "start_time": "2024-10-09T20:56:49.857Z"
   },
   {
    "duration": 6,
    "start_time": "2024-10-09T20:56:49.875Z"
   },
   {
    "duration": 8,
    "start_time": "2024-10-09T20:56:49.883Z"
   },
   {
    "duration": 26,
    "start_time": "2024-10-09T20:56:49.921Z"
   },
   {
    "duration": 35,
    "start_time": "2024-10-09T20:56:49.949Z"
   },
   {
    "duration": 30,
    "start_time": "2024-10-09T20:56:49.986Z"
   },
   {
    "duration": 739,
    "start_time": "2024-10-09T20:56:50.029Z"
   },
   {
    "duration": 23,
    "start_time": "2024-10-09T20:56:50.770Z"
   },
   {
    "duration": 38,
    "start_time": "2024-10-09T20:56:50.794Z"
   },
   {
    "duration": 4,
    "start_time": "2024-10-09T20:56:50.837Z"
   },
   {
    "duration": 2221,
    "start_time": "2024-10-09T20:56:50.844Z"
   },
   {
    "duration": 125,
    "start_time": "2024-10-09T20:56:53.067Z"
   },
   {
    "duration": 259,
    "start_time": "2024-10-09T20:56:53.195Z"
   },
   {
    "duration": 9,
    "start_time": "2024-10-09T20:56:53.456Z"
   },
   {
    "duration": 187,
    "start_time": "2024-10-09T20:56:53.467Z"
   },
   {
    "duration": 8,
    "start_time": "2024-10-09T20:56:53.656Z"
   },
   {
    "duration": 187,
    "start_time": "2024-10-09T20:56:53.665Z"
   },
   {
    "duration": 4,
    "start_time": "2024-10-09T20:56:53.854Z"
   },
   {
    "duration": 204,
    "start_time": "2024-10-09T20:56:53.860Z"
   },
   {
    "duration": 712,
    "start_time": "2024-10-09T20:56:54.066Z"
   },
   {
    "duration": 516,
    "start_time": "2024-10-09T20:56:54.780Z"
   },
   {
    "duration": 256,
    "start_time": "2024-10-09T20:56:55.298Z"
   },
   {
    "duration": 281,
    "start_time": "2024-10-09T20:56:55.555Z"
   },
   {
    "duration": 10,
    "start_time": "2024-10-09T20:56:55.838Z"
   },
   {
    "duration": 147,
    "start_time": "2024-10-09T20:56:55.849Z"
   },
   {
    "duration": 459,
    "start_time": "2024-10-09T20:56:55.998Z"
   },
   {
    "duration": 5,
    "start_time": "2024-10-09T20:56:56.459Z"
   },
   {
    "duration": 236,
    "start_time": "2024-10-09T20:56:56.465Z"
   },
   {
    "duration": 501,
    "start_time": "2024-10-09T20:56:56.703Z"
   },
   {
    "duration": 12,
    "start_time": "2024-10-09T20:56:57.208Z"
   },
   {
    "duration": 1682,
    "start_time": "2024-10-09T20:56:57.222Z"
   },
   {
    "duration": 1874,
    "start_time": "2024-10-09T20:56:58.910Z"
   },
   {
    "duration": 155,
    "start_time": "2024-10-09T20:57:00.786Z"
   },
   {
    "duration": 95,
    "start_time": "2024-10-09T20:57:00.942Z"
   },
   {
    "duration": 6,
    "start_time": "2024-10-09T20:57:01.039Z"
   },
   {
    "duration": 8,
    "start_time": "2024-10-09T20:58:54.949Z"
   },
   {
    "duration": 29,
    "start_time": "2024-10-09T21:00:15.007Z"
   },
   {
    "duration": 7,
    "start_time": "2024-10-09T21:02:42.737Z"
   },
   {
    "duration": 203,
    "start_time": "2024-10-09T21:03:36.584Z"
   },
   {
    "duration": 285,
    "start_time": "2024-10-09T21:04:16.169Z"
   },
   {
    "duration": 990,
    "start_time": "2024-10-09T21:04:16.457Z"
   },
   {
    "duration": 19,
    "start_time": "2024-10-09T21:04:17.449Z"
   },
   {
    "duration": 14,
    "start_time": "2024-10-09T21:04:17.470Z"
   },
   {
    "duration": 52,
    "start_time": "2024-10-09T21:04:17.486Z"
   },
   {
    "duration": 34,
    "start_time": "2024-10-09T21:04:17.539Z"
   },
   {
    "duration": 10,
    "start_time": "2024-10-09T21:04:17.576Z"
   },
   {
    "duration": 191,
    "start_time": "2024-10-09T21:04:17.588Z"
   },
   {
    "duration": 11,
    "start_time": "2024-10-09T21:04:17.781Z"
   },
   {
    "duration": 118,
    "start_time": "2024-10-09T21:04:17.794Z"
   },
   {
    "duration": 106,
    "start_time": "2024-10-09T21:04:17.914Z"
   },
   {
    "duration": 46,
    "start_time": "2024-10-09T21:04:18.024Z"
   },
   {
    "duration": 13,
    "start_time": "2024-10-09T21:04:18.072Z"
   },
   {
    "duration": 24,
    "start_time": "2024-10-09T21:04:18.089Z"
   },
   {
    "duration": 28,
    "start_time": "2024-10-09T21:04:18.115Z"
   },
   {
    "duration": 15,
    "start_time": "2024-10-09T21:04:18.146Z"
   },
   {
    "duration": 4,
    "start_time": "2024-10-09T21:04:18.163Z"
   },
   {
    "duration": 4,
    "start_time": "2024-10-09T21:04:18.170Z"
   },
   {
    "duration": 5,
    "start_time": "2024-10-09T21:04:18.176Z"
   },
   {
    "duration": 46,
    "start_time": "2024-10-09T21:04:18.182Z"
   },
   {
    "duration": 871,
    "start_time": "2024-10-09T21:04:18.237Z"
   },
   {
    "duration": 111,
    "start_time": "2024-10-09T21:04:19.109Z"
   },
   {
    "duration": 15,
    "start_time": "2024-10-09T21:04:19.222Z"
   },
   {
    "duration": 11,
    "start_time": "2024-10-09T21:04:19.238Z"
   },
   {
    "duration": 8,
    "start_time": "2024-10-09T21:04:19.250Z"
   },
   {
    "duration": 9,
    "start_time": "2024-10-09T21:04:19.259Z"
   },
   {
    "duration": 13,
    "start_time": "2024-10-09T21:04:19.269Z"
   },
   {
    "duration": 28,
    "start_time": "2024-10-09T21:04:19.284Z"
   },
   {
    "duration": 10,
    "start_time": "2024-10-09T21:04:19.313Z"
   },
   {
    "duration": 15,
    "start_time": "2024-10-09T21:04:19.325Z"
   },
   {
    "duration": 17,
    "start_time": "2024-10-09T21:04:19.343Z"
   },
   {
    "duration": 32,
    "start_time": "2024-10-09T21:04:19.361Z"
   },
   {
    "duration": 42,
    "start_time": "2024-10-09T21:04:19.395Z"
   },
   {
    "duration": 763,
    "start_time": "2024-10-09T21:04:19.439Z"
   },
   {
    "duration": 36,
    "start_time": "2024-10-09T21:04:20.209Z"
   },
   {
    "duration": 4,
    "start_time": "2024-10-09T21:04:20.248Z"
   },
   {
    "duration": 4,
    "start_time": "2024-10-09T21:04:20.253Z"
   },
   {
    "duration": 381,
    "start_time": "2024-10-09T21:04:20.259Z"
   },
   {
    "duration": 124,
    "start_time": "2024-10-09T21:04:20.645Z"
   },
   {
    "duration": 211,
    "start_time": "2024-10-09T21:04:20.771Z"
   },
   {
    "duration": 8,
    "start_time": "2024-10-09T21:04:20.988Z"
   },
   {
    "duration": 180,
    "start_time": "2024-10-09T21:04:21.009Z"
   },
   {
    "duration": 9,
    "start_time": "2024-10-09T21:04:21.192Z"
   },
   {
    "duration": 212,
    "start_time": "2024-10-09T21:04:21.224Z"
   },
   {
    "duration": 4,
    "start_time": "2024-10-09T21:04:21.438Z"
   },
   {
    "duration": 139,
    "start_time": "2024-10-09T21:04:21.444Z"
   },
   {
    "duration": 746,
    "start_time": "2024-10-09T21:04:21.585Z"
   },
   {
    "duration": 515,
    "start_time": "2024-10-09T21:04:22.333Z"
   },
   {
    "duration": 235,
    "start_time": "2024-10-09T21:04:22.850Z"
   },
   {
    "duration": 274,
    "start_time": "2024-10-09T21:04:23.087Z"
   },
   {
    "duration": 6,
    "start_time": "2024-10-09T21:04:23.363Z"
   },
   {
    "duration": 155,
    "start_time": "2024-10-09T21:04:23.371Z"
   },
   {
    "duration": 449,
    "start_time": "2024-10-09T21:04:23.528Z"
   },
   {
    "duration": 5,
    "start_time": "2024-10-09T21:04:23.979Z"
   },
   {
    "duration": 252,
    "start_time": "2024-10-09T21:04:23.986Z"
   },
   {
    "duration": 497,
    "start_time": "2024-10-09T21:04:24.240Z"
   },
   {
    "duration": 6,
    "start_time": "2024-10-09T21:04:24.739Z"
   },
   {
    "duration": 1731,
    "start_time": "2024-10-09T21:04:24.747Z"
   },
   {
    "duration": 2014,
    "start_time": "2024-10-09T21:04:26.479Z"
   },
   {
    "duration": 155,
    "start_time": "2024-10-09T21:04:28.496Z"
   },
   {
    "duration": 72,
    "start_time": "2024-10-09T21:04:28.652Z"
   },
   {
    "duration": 6,
    "start_time": "2024-10-09T21:04:28.725Z"
   },
   {
    "duration": 242,
    "start_time": "2024-10-09T21:05:36.712Z"
   },
   {
    "duration": 103,
    "start_time": "2024-10-09T21:31:30.789Z"
   },
   {
    "duration": 207,
    "start_time": "2024-10-09T21:33:26.336Z"
   },
   {
    "duration": 99,
    "start_time": "2024-10-09T21:33:45.129Z"
   },
   {
    "duration": 699,
    "start_time": "2024-10-09T21:33:46.244Z"
   },
   {
    "duration": 183,
    "start_time": "2024-10-09T21:34:31.593Z"
   },
   {
    "duration": 203,
    "start_time": "2024-10-09T21:34:41.842Z"
   },
   {
    "duration": 120,
    "start_time": "2024-10-09T21:35:26.075Z"
   }
  ],
  "colab": {
   "provenance": []
  },
  "kernelspec": {
   "display_name": "Python 3 (ipykernel)",
   "language": "python",
   "name": "python3"
  },
  "language_info": {
   "codemirror_mode": {
    "name": "ipython",
    "version": 3
   },
   "file_extension": ".py",
   "mimetype": "text/x-python",
   "name": "python",
   "nbconvert_exporter": "python",
   "pygments_lexer": "ipython3",
   "version": "3.9.19"
  },
  "toc": {
   "base_numbering": 1,
   "nav_menu": {},
   "number_sections": true,
   "sideBar": true,
   "skip_h1_title": true,
   "title_cell": "Table of Contents",
   "title_sidebar": "Contents",
   "toc_cell": false,
   "toc_position": {},
   "toc_section_display": true,
   "toc_window_display": false
  },
  "vscode": {
   "interpreter": {
    "hash": "01a7be9ec63e704a62cefc5fe7a4756944464ee731be31632bdf42a4cb4688cf"
   }
  }
 },
 "nbformat": 4,
 "nbformat_minor": 5
}
