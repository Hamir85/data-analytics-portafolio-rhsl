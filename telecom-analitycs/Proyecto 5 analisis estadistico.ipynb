{
 "cells": [
  {
   "cell_type": "markdown",
   "metadata": {
    "id": "3rYiDeEH0q0f"
   },
   "source": [
    "# ¿Cuál es la mejor tarifa?\n",
    "\n",
    "Trabajas como analista para el operador de telecomunicaciones Megaline. La empresa ofrece a sus clientes dos tarifas de prepago, Surf y Ultimate. El departamento comercial quiere saber cuál de las tarifas genera más ingresos para poder ajustar el presupuesto de publicidad.\n",
    "\n",
    "Vas a realizar un análisis preliminar de las tarifas basado en una selección de clientes relativamente pequeña. Tendrás los datos de 500 clientes de Megaline: quiénes son los clientes, de dónde son, qué tarifa usan, así como la cantidad de llamadas que hicieron y los mensajes de texto que enviaron en 2018. Tu trabajo es analizar el comportamiento de los clientes y determinar qué tarifa de prepago genera más ingresos."
   ]
  },
  {
   "cell_type": "markdown",
   "metadata": {
    "id": "VNddPNRQ0q0w"
   },
   "source": [
    "ANALISIS DE \"ULTIMATE\" Y \"SURF\"\n",
    "Realizaremos un analisis sobre los dos planes de la compañia, \"Ultimate\" y \"Surf\". \n",
    "Al inicio procederemos con la limpieza de los distintos DataFrame. Corregiremos los datos, en caso de tener valores duplicados o valores nulos, realizaremos las pruebas pertinentes y modificaremos los datos. \n",
    "Posteriormente empezaremos a unir todas las bases para poder estudiar el comportamiento de los usuarios en ambos planes. Por ultimó, revisaremos el ingreso y con ellos las pruebas de hipotesis para validar cual es el plan que genera más ingresos a la compañia. \n"
   ]
  },
  {
   "cell_type": "markdown",
   "metadata": {
    "id": "MQi4IPy70q0y"
   },
   "source": [
    "## Inicialización"
   ]
  },
  {
   "cell_type": "code",
   "execution_count": 2,
   "metadata": {
    "id": "MtYIuBxu0q0z"
   },
   "outputs": [],
   "source": [
    "import pandas as pd \n",
    "import numpy as np\n",
    "import matplotlib.pyplot as plt\n",
    "import seaborn as sns\n",
    "from scipy import stats as st\n",
    "# Cargar todas las librerías\n",
    "\n"
   ]
  },
  {
   "cell_type": "markdown",
   "metadata": {
    "id": "4ysWWC5i0q00"
   },
   "source": [
    "## Cargar datos"
   ]
  },
  {
   "cell_type": "code",
   "execution_count": 3,
   "metadata": {
    "id": "CCqPW7rS0q01"
   },
   "outputs": [],
   "source": [
    "llamadas = pd.read_csv('/datasets/megaline_calls.csv')# Carga los archivos de datos en diferentes DataFrames\n",
    "internet = pd.read_csv('/datasets/megaline_internet.csv')\n",
    "mensajes = pd.read_csv('/datasets/megaline_messages.csv')\n",
    "planes = pd.read_csv('/datasets/megaline_plans.csv')\n",
    "usuarios = pd.read_csv('/datasets/megaline_users.csv')"
   ]
  },
  {
   "cell_type": "markdown",
   "metadata": {
    "id": "69qqoJ3r0q01"
   },
   "source": [
    "## Preparar los datos"
   ]
  },
  {
   "cell_type": "markdown",
   "metadata": {
    "id": "ohBhimvH0q01"
   },
   "source": [
    "## Tarifas"
   ]
  },
  {
   "cell_type": "code",
   "execution_count": 4,
   "metadata": {
    "id": "GptqP3Q40q02"
   },
   "outputs": [
    {
     "name": "stdout",
     "output_type": "stream",
     "text": [
      "<class 'pandas.core.frame.DataFrame'>\n",
      "RangeIndex: 2 entries, 0 to 1\n",
      "Data columns (total 8 columns):\n",
      " #   Column                 Non-Null Count  Dtype  \n",
      "---  ------                 --------------  -----  \n",
      " 0   messages_included      2 non-null      int64  \n",
      " 1   mb_per_month_included  2 non-null      int64  \n",
      " 2   minutes_included       2 non-null      int64  \n",
      " 3   usd_monthly_pay        2 non-null      int64  \n",
      " 4   usd_per_gb             2 non-null      int64  \n",
      " 5   usd_per_message        2 non-null      float64\n",
      " 6   usd_per_minute         2 non-null      float64\n",
      " 7   plan_name              2 non-null      object \n",
      "dtypes: float64(2), int64(5), object(1)\n",
      "memory usage: 256.0+ bytes\n"
     ]
    }
   ],
   "source": [
    "planes.info()\n"
   ]
  },
  {
   "cell_type": "code",
   "execution_count": 5,
   "metadata": {
    "id": "64xzjwL70q02"
   },
   "outputs": [
    {
     "name": "stdout",
     "output_type": "stream",
     "text": [
      "   messages_included  mb_per_month_included  minutes_included  \\\n",
      "0                 50                  15360               500   \n",
      "1               1000                  30720              3000   \n",
      "\n",
      "   usd_monthly_pay  usd_per_gb  usd_per_message  usd_per_minute plan_name  \n",
      "0               20          10             0.03            0.03      surf  \n",
      "1               70           7             0.01            0.01  ultimate  \n",
      "\n",
      "Valores ausentes\n",
      "messages_included        0\n",
      "mb_per_month_included    0\n",
      "minutes_included         0\n",
      "usd_monthly_pay          0\n",
      "usd_per_gb               0\n",
      "usd_per_message          0\n",
      "usd_per_minute           0\n",
      "plan_name                0\n",
      "dtype: int64\n",
      "\n",
      "Valores duplicados\n",
      "0\n"
     ]
    }
   ],
   "source": [
    "def primera_vista(datos):\n",
    "    print(datos.head())\n",
    "    print()\n",
    "    print('Valores ausentes')\n",
    "    print(datos.isna().sum())\n",
    "    print()\n",
    "    print('Valores duplicados')\n",
    "    print(datos.duplicated().sum())# Imprime una muestra de los datos para las tarifas\n",
    "\n",
    "primera_vista(planes)"
   ]
  },
  {
   "cell_type": "markdown",
   "metadata": {
    "id": "mEc_3_hs0q02"
   },
   "source": [
    "En esta Dataframe, podemos observar que solo vienen dos filas las cuales podemos observar la información que viene en cada plan. Podemos identificar que no encontarmos valores duplicados ni valores ausentes lo cual no se le tiene que hacer ningun tipo de modificación. "
   ]
  },
  {
   "cell_type": "markdown",
   "metadata": {
    "id": "R3C05i1l0q03"
   },
   "source": [
    "## Corregir datos"
   ]
  },
  {
   "cell_type": "markdown",
   "metadata": {
    "id": "LJir7bml0q03"
   },
   "source": [
    "## Enriquecer los datos"
   ]
  },
  {
   "cell_type": "markdown",
   "metadata": {
    "id": "1n2X6WXf0q04"
   },
   "source": [
    "## Usuarios/as"
   ]
  },
  {
   "cell_type": "code",
   "execution_count": 6,
   "metadata": {
    "id": "2NgjWFqx0q05"
   },
   "outputs": [
    {
     "name": "stdout",
     "output_type": "stream",
     "text": [
      "<class 'pandas.core.frame.DataFrame'>\n",
      "RangeIndex: 500 entries, 0 to 499\n",
      "Data columns (total 8 columns):\n",
      " #   Column      Non-Null Count  Dtype \n",
      "---  ------      --------------  ----- \n",
      " 0   user_id     500 non-null    int64 \n",
      " 1   first_name  500 non-null    object\n",
      " 2   last_name   500 non-null    object\n",
      " 3   age         500 non-null    int64 \n",
      " 4   city        500 non-null    object\n",
      " 5   reg_date    500 non-null    object\n",
      " 6   plan        500 non-null    object\n",
      " 7   churn_date  34 non-null     object\n",
      "dtypes: int64(2), object(6)\n",
      "memory usage: 31.4+ KB\n"
     ]
    }
   ],
   "source": [
    "usuarios.info()# Imprime la información general/resumida sobre el DataFrame de usuarios\n",
    "\n"
   ]
  },
  {
   "cell_type": "code",
   "execution_count": 7,
   "metadata": {
    "id": "1IN1L9uh0q05"
   },
   "outputs": [
    {
     "name": "stdout",
     "output_type": "stream",
     "text": [
      "   user_id first_name  last_name  age                                   city  \\\n",
      "0     1000   Anamaria      Bauer   45  Atlanta-Sandy Springs-Roswell, GA MSA   \n",
      "1     1001     Mickey  Wilkerson   28        Seattle-Tacoma-Bellevue, WA MSA   \n",
      "2     1002     Carlee    Hoffman   36   Las Vegas-Henderson-Paradise, NV MSA   \n",
      "3     1003   Reynaldo    Jenkins   52                          Tulsa, OK MSA   \n",
      "4     1004    Leonila   Thompson   40        Seattle-Tacoma-Bellevue, WA MSA   \n",
      "\n",
      "     reg_date      plan churn_date  \n",
      "0  2018-12-24  ultimate        NaN  \n",
      "1  2018-08-13      surf        NaN  \n",
      "2  2018-10-21      surf        NaN  \n",
      "3  2018-01-28      surf        NaN  \n",
      "4  2018-05-23      surf        NaN  \n",
      "\n",
      "Valores ausentes\n",
      "user_id         0\n",
      "first_name      0\n",
      "last_name       0\n",
      "age             0\n",
      "city            0\n",
      "reg_date        0\n",
      "plan            0\n",
      "churn_date    466\n",
      "dtype: int64\n",
      "\n",
      "Valores duplicados\n",
      "0\n"
     ]
    }
   ],
   "source": [
    "primera_vista(usuarios)# Imprime una muestra de datos para usuarios\n",
    "\n"
   ]
  },
  {
   "cell_type": "markdown",
   "metadata": {
    "id": "dCZoUq4f0q06"
   },
   "source": [
    "En este DataFrame tenemos los datos  personales de los usuarios Podemos observar en los datos que no hay valores duplicados, pero si tenemos valores nulos en la calumna 'churn_date' que es la fecha el la que el usuario abandona el plan o lo cancela. Vamos a cambiar el tipo de dato de la fecha y vamos a omitir los valores nulos de la columna porque esos usuarios aun siguen con el plan. "
   ]
  },
  {
   "cell_type": "markdown",
   "metadata": {
    "id": "BX5FQh_I0q06"
   },
   "source": [
    "### Corregir los datos"
   ]
  },
  {
   "cell_type": "code",
   "execution_count": 8,
   "metadata": {
    "id": "yUqX-K0C0q07"
   },
   "outputs": [
    {
     "name": "stdout",
     "output_type": "stream",
     "text": [
      "<class 'pandas.core.frame.DataFrame'>\n",
      "RangeIndex: 500 entries, 0 to 499\n",
      "Data columns (total 8 columns):\n",
      " #   Column      Non-Null Count  Dtype         \n",
      "---  ------      --------------  -----         \n",
      " 0   user_id     500 non-null    int64         \n",
      " 1   first_name  500 non-null    object        \n",
      " 2   last_name   500 non-null    object        \n",
      " 3   age         500 non-null    int64         \n",
      " 4   city        500 non-null    object        \n",
      " 5   reg_date    500 non-null    datetime64[ns]\n",
      " 6   plan        500 non-null    object        \n",
      " 7   churn_date  34 non-null     datetime64[ns]\n",
      "dtypes: datetime64[ns](2), int64(2), object(4)\n",
      "memory usage: 31.4+ KB\n"
     ]
    }
   ],
   "source": [
    "usuarios['churn_date'] = pd.to_datetime(usuarios['churn_date'])\n",
    "usuarios['reg_date'] = pd.to_datetime(usuarios['reg_date'])\n",
    "usuarios.info()"
   ]
  },
  {
   "cell_type": "markdown",
   "metadata": {
    "id": "ycwuARJp0q07"
   },
   "source": [
    "### Enriquecer los datos"
   ]
  },
  {
   "cell_type": "markdown",
   "metadata": {
    "id": "o7MeKCid0q08"
   },
   "source": [
    "## Llamadas"
   ]
  },
  {
   "cell_type": "code",
   "execution_count": 9,
   "metadata": {
    "id": "6dDlnoDm0q08"
   },
   "outputs": [
    {
     "name": "stdout",
     "output_type": "stream",
     "text": [
      "<class 'pandas.core.frame.DataFrame'>\n",
      "RangeIndex: 137735 entries, 0 to 137734\n",
      "Data columns (total 4 columns):\n",
      " #   Column     Non-Null Count   Dtype  \n",
      "---  ------     --------------   -----  \n",
      " 0   id         137735 non-null  object \n",
      " 1   user_id    137735 non-null  int64  \n",
      " 2   call_date  137735 non-null  object \n",
      " 3   duration   137735 non-null  float64\n",
      "dtypes: float64(1), int64(1), object(2)\n",
      "memory usage: 4.2+ MB\n"
     ]
    }
   ],
   "source": [
    "llamadas.info()"
   ]
  },
  {
   "cell_type": "code",
   "execution_count": 10,
   "metadata": {
    "id": "kuh1vlNB0q09"
   },
   "outputs": [
    {
     "name": "stdout",
     "output_type": "stream",
     "text": [
      "         id  user_id   call_date  duration\n",
      "0   1000_93     1000  2018-12-27      8.52\n",
      "1  1000_145     1000  2018-12-27     13.66\n",
      "2  1000_247     1000  2018-12-27     14.48\n",
      "3  1000_309     1000  2018-12-28      5.76\n",
      "4  1000_380     1000  2018-12-30      4.22\n",
      "\n",
      "Valores ausentes\n",
      "id           0\n",
      "user_id      0\n",
      "call_date    0\n",
      "duration     0\n",
      "dtype: int64\n",
      "\n",
      "Valores duplicados\n",
      "0\n"
     ]
    }
   ],
   "source": [
    "primera_vista(llamadas)"
   ]
  },
  {
   "cell_type": "markdown",
   "metadata": {
    "id": "DOAxYJSx0q09"
   },
   "source": [
    "En este Dataframe tenemos los datos de las llamadas realisadas, el cual tiene un id por llamada resitrada. Podemos observar que los datos del df de llamadas, no tiene valores ausentes, no cuenta con valores duplicados. Pero el tipo de dato de la columna call_date no es tipo de dato fecha. Cambiaremos el tipo de datos a datetime. Se crea una columna de duración redondeada para poder hacer el analisis. Crearemos una variable llamada mes para poder identificar y hacer el analisis.\n"
   ]
  },
  {
   "cell_type": "markdown",
   "metadata": {
    "id": "S7hzxmbX0q0-"
   },
   "source": [
    "### Corregir los datos"
   ]
  },
  {
   "cell_type": "code",
   "execution_count": 11,
   "metadata": {
    "id": "S2r8xA4f0q0-"
   },
   "outputs": [
    {
     "name": "stdout",
     "output_type": "stream",
     "text": [
      "<class 'pandas.core.frame.DataFrame'>\n",
      "RangeIndex: 137735 entries, 0 to 137734\n",
      "Data columns (total 4 columns):\n",
      " #   Column     Non-Null Count   Dtype         \n",
      "---  ------     --------------   -----         \n",
      " 0   id         137735 non-null  object        \n",
      " 1   user_id    137735 non-null  int64         \n",
      " 2   call_date  137735 non-null  datetime64[ns]\n",
      " 3   duration   137735 non-null  float64       \n",
      "dtypes: datetime64[ns](1), float64(1), int64(1), object(1)\n",
      "memory usage: 4.2+ MB\n"
     ]
    }
   ],
   "source": [
    "llamadas['call_date']=pd.to_datetime(llamadas['call_date'])\n",
    "llamadas.info()"
   ]
  },
  {
   "cell_type": "markdown",
   "metadata": {
    "id": "KrMgTrlG0q0_"
   },
   "source": [
    "### Enriquecer los datos"
   ]
  },
  {
   "cell_type": "code",
   "execution_count": 12,
   "metadata": {
    "id": "iZ1avpA_0q0_"
   },
   "outputs": [
    {
     "data": {
      "text/html": [
       "<div>\n",
       "<style scoped>\n",
       "    .dataframe tbody tr th:only-of-type {\n",
       "        vertical-align: middle;\n",
       "    }\n",
       "\n",
       "    .dataframe tbody tr th {\n",
       "        vertical-align: top;\n",
       "    }\n",
       "\n",
       "    .dataframe thead th {\n",
       "        text-align: right;\n",
       "    }\n",
       "</style>\n",
       "<table border=\"1\" class=\"dataframe\">\n",
       "  <thead>\n",
       "    <tr style=\"text-align: right;\">\n",
       "      <th></th>\n",
       "      <th>id</th>\n",
       "      <th>user_id</th>\n",
       "      <th>call_date</th>\n",
       "      <th>duration</th>\n",
       "      <th>duracion_dedondeada</th>\n",
       "      <th>mes</th>\n",
       "    </tr>\n",
       "  </thead>\n",
       "  <tbody>\n",
       "    <tr>\n",
       "      <th>0</th>\n",
       "      <td>1000_93</td>\n",
       "      <td>1000</td>\n",
       "      <td>2018-12-27</td>\n",
       "      <td>8.52</td>\n",
       "      <td>9.0</td>\n",
       "      <td>12</td>\n",
       "    </tr>\n",
       "    <tr>\n",
       "      <th>1</th>\n",
       "      <td>1000_145</td>\n",
       "      <td>1000</td>\n",
       "      <td>2018-12-27</td>\n",
       "      <td>13.66</td>\n",
       "      <td>14.0</td>\n",
       "      <td>12</td>\n",
       "    </tr>\n",
       "    <tr>\n",
       "      <th>2</th>\n",
       "      <td>1000_247</td>\n",
       "      <td>1000</td>\n",
       "      <td>2018-12-27</td>\n",
       "      <td>14.48</td>\n",
       "      <td>15.0</td>\n",
       "      <td>12</td>\n",
       "    </tr>\n",
       "    <tr>\n",
       "      <th>3</th>\n",
       "      <td>1000_309</td>\n",
       "      <td>1000</td>\n",
       "      <td>2018-12-28</td>\n",
       "      <td>5.76</td>\n",
       "      <td>6.0</td>\n",
       "      <td>12</td>\n",
       "    </tr>\n",
       "    <tr>\n",
       "      <th>4</th>\n",
       "      <td>1000_380</td>\n",
       "      <td>1000</td>\n",
       "      <td>2018-12-30</td>\n",
       "      <td>4.22</td>\n",
       "      <td>5.0</td>\n",
       "      <td>12</td>\n",
       "    </tr>\n",
       "    <tr>\n",
       "      <th>...</th>\n",
       "      <td>...</td>\n",
       "      <td>...</td>\n",
       "      <td>...</td>\n",
       "      <td>...</td>\n",
       "      <td>...</td>\n",
       "      <td>...</td>\n",
       "    </tr>\n",
       "    <tr>\n",
       "      <th>137730</th>\n",
       "      <td>1499_199</td>\n",
       "      <td>1499</td>\n",
       "      <td>2018-11-21</td>\n",
       "      <td>8.72</td>\n",
       "      <td>9.0</td>\n",
       "      <td>11</td>\n",
       "    </tr>\n",
       "    <tr>\n",
       "      <th>137731</th>\n",
       "      <td>1499_200</td>\n",
       "      <td>1499</td>\n",
       "      <td>2018-10-20</td>\n",
       "      <td>10.89</td>\n",
       "      <td>11.0</td>\n",
       "      <td>10</td>\n",
       "    </tr>\n",
       "    <tr>\n",
       "      <th>137732</th>\n",
       "      <td>1499_201</td>\n",
       "      <td>1499</td>\n",
       "      <td>2018-09-21</td>\n",
       "      <td>8.12</td>\n",
       "      <td>9.0</td>\n",
       "      <td>9</td>\n",
       "    </tr>\n",
       "    <tr>\n",
       "      <th>137733</th>\n",
       "      <td>1499_202</td>\n",
       "      <td>1499</td>\n",
       "      <td>2018-10-10</td>\n",
       "      <td>0.37</td>\n",
       "      <td>1.0</td>\n",
       "      <td>10</td>\n",
       "    </tr>\n",
       "    <tr>\n",
       "      <th>137734</th>\n",
       "      <td>1499_203</td>\n",
       "      <td>1499</td>\n",
       "      <td>2018-12-29</td>\n",
       "      <td>13.86</td>\n",
       "      <td>14.0</td>\n",
       "      <td>12</td>\n",
       "    </tr>\n",
       "  </tbody>\n",
       "</table>\n",
       "<p>137735 rows × 6 columns</p>\n",
       "</div>"
      ],
      "text/plain": [
       "              id  user_id  call_date  duration  duracion_dedondeada  mes\n",
       "0        1000_93     1000 2018-12-27      8.52                  9.0   12\n",
       "1       1000_145     1000 2018-12-27     13.66                 14.0   12\n",
       "2       1000_247     1000 2018-12-27     14.48                 15.0   12\n",
       "3       1000_309     1000 2018-12-28      5.76                  6.0   12\n",
       "4       1000_380     1000 2018-12-30      4.22                  5.0   12\n",
       "...          ...      ...        ...       ...                  ...  ...\n",
       "137730  1499_199     1499 2018-11-21      8.72                  9.0   11\n",
       "137731  1499_200     1499 2018-10-20     10.89                 11.0   10\n",
       "137732  1499_201     1499 2018-09-21      8.12                  9.0    9\n",
       "137733  1499_202     1499 2018-10-10      0.37                  1.0   10\n",
       "137734  1499_203     1499 2018-12-29     13.86                 14.0   12\n",
       "\n",
       "[137735 rows x 6 columns]"
      ]
     },
     "execution_count": 12,
     "metadata": {},
     "output_type": "execute_result"
    }
   ],
   "source": [
    "def redondeo_a(duración):\n",
    "    redondeo = np.ceil(duración)\n",
    "    return redondeo\n",
    "llamadas['duracion_dedondeada'] = llamadas['duration'].apply(redondeo_a)\n",
    "llamadas['mes'] = llamadas['call_date'].dt.month\n",
    "llamadas\n"
   ]
  },
  {
   "cell_type": "markdown",
   "metadata": {
    "id": "mOUZSi180q0_"
   },
   "source": [
    "## Mensajes"
   ]
  },
  {
   "cell_type": "code",
   "execution_count": 13,
   "metadata": {
    "id": "R-bYJpdV0q1A"
   },
   "outputs": [
    {
     "name": "stdout",
     "output_type": "stream",
     "text": [
      "<class 'pandas.core.frame.DataFrame'>\n",
      "RangeIndex: 76051 entries, 0 to 76050\n",
      "Data columns (total 3 columns):\n",
      " #   Column        Non-Null Count  Dtype \n",
      "---  ------        --------------  ----- \n",
      " 0   id            76051 non-null  object\n",
      " 1   user_id       76051 non-null  int64 \n",
      " 2   message_date  76051 non-null  object\n",
      "dtypes: int64(1), object(2)\n",
      "memory usage: 1.7+ MB\n"
     ]
    }
   ],
   "source": [
    "mensajes.info()"
   ]
  },
  {
   "cell_type": "code",
   "execution_count": 14,
   "metadata": {
    "id": "mCEl2iGE0q1A"
   },
   "outputs": [
    {
     "name": "stdout",
     "output_type": "stream",
     "text": [
      "         id  user_id message_date\n",
      "0  1000_125     1000   2018-12-27\n",
      "1  1000_160     1000   2018-12-31\n",
      "2  1000_223     1000   2018-12-31\n",
      "3  1000_251     1000   2018-12-27\n",
      "4  1000_255     1000   2018-12-26\n",
      "\n",
      "Valores ausentes\n",
      "id              0\n",
      "user_id         0\n",
      "message_date    0\n",
      "dtype: int64\n",
      "\n",
      "Valores duplicados\n",
      "0\n"
     ]
    }
   ],
   "source": [
    "primera_vista(mensajes)"
   ]
  },
  {
   "cell_type": "markdown",
   "metadata": {
    "id": "04xDj7KH0q1A"
   },
   "source": [
    "En este DataFrame tenemos los datos de los mensajes enviados al igual que las llamdas con un id caracteristico. Podemos observar que los datos del df de llamadas, no tiene valores ausentes, no cuenta con valores duplicados. Pero el tipo de dato de la columna call_date no es tipo de dato fecha. Cambiaremos el tipo de datos a datetime. "
   ]
  },
  {
   "cell_type": "markdown",
   "metadata": {
    "id": "Sprfak900q1B"
   },
   "source": [
    "### Corregir los datos"
   ]
  },
  {
   "cell_type": "code",
   "execution_count": 15,
   "metadata": {
    "id": "vsllvkoa0q1B"
   },
   "outputs": [
    {
     "name": "stdout",
     "output_type": "stream",
     "text": [
      "<class 'pandas.core.frame.DataFrame'>\n",
      "RangeIndex: 76051 entries, 0 to 76050\n",
      "Data columns (total 3 columns):\n",
      " #   Column        Non-Null Count  Dtype         \n",
      "---  ------        --------------  -----         \n",
      " 0   id            76051 non-null  object        \n",
      " 1   user_id       76051 non-null  int64         \n",
      " 2   message_date  76051 non-null  datetime64[ns]\n",
      "dtypes: datetime64[ns](1), int64(1), object(1)\n",
      "memory usage: 1.7+ MB\n"
     ]
    }
   ],
   "source": [
    "mensajes['message_date']=pd.to_datetime(llamadas['call_date'])\n",
    "mensajes.info()"
   ]
  },
  {
   "cell_type": "markdown",
   "metadata": {
    "id": "HvLid7iD0q1B"
   },
   "source": [
    "### Enriquecer los datos"
   ]
  },
  {
   "cell_type": "markdown",
   "metadata": {
    "id": "bStkaxn40q1C"
   },
   "source": [
    "## Internet"
   ]
  },
  {
   "cell_type": "code",
   "execution_count": 16,
   "metadata": {
    "id": "e-Uz5qyn0q1C"
   },
   "outputs": [
    {
     "name": "stdout",
     "output_type": "stream",
     "text": [
      "<class 'pandas.core.frame.DataFrame'>\n",
      "RangeIndex: 104825 entries, 0 to 104824\n",
      "Data columns (total 4 columns):\n",
      " #   Column        Non-Null Count   Dtype  \n",
      "---  ------        --------------   -----  \n",
      " 0   id            104825 non-null  object \n",
      " 1   user_id       104825 non-null  int64  \n",
      " 2   session_date  104825 non-null  object \n",
      " 3   mb_used       104825 non-null  float64\n",
      "dtypes: float64(1), int64(1), object(2)\n",
      "memory usage: 3.2+ MB\n"
     ]
    }
   ],
   "source": [
    "internet.info()"
   ]
  },
  {
   "cell_type": "code",
   "execution_count": 17,
   "metadata": {
    "id": "9r3x_XLw0q1C"
   },
   "outputs": [
    {
     "name": "stdout",
     "output_type": "stream",
     "text": [
      "         id  user_id session_date  mb_used\n",
      "0   1000_13     1000   2018-12-29    89.86\n",
      "1  1000_204     1000   2018-12-31     0.00\n",
      "2  1000_379     1000   2018-12-28   660.40\n",
      "3  1000_413     1000   2018-12-26   270.99\n",
      "4  1000_442     1000   2018-12-27   880.22\n",
      "\n",
      "Valores ausentes\n",
      "id              0\n",
      "user_id         0\n",
      "session_date    0\n",
      "mb_used         0\n",
      "dtype: int64\n",
      "\n",
      "Valores duplicados\n",
      "0\n"
     ]
    }
   ],
   "source": [
    "primera_vista(internet)"
   ]
  },
  {
   "cell_type": "markdown",
   "metadata": {
    "id": "EzOG5ik30q1D"
   },
   "source": [
    "En este DF tenemos los datos del internet justo a sus id correspondientes. Podemos observar que los datos del df de llamadas, no tiene valores ausentes, no cuenta con valores duplicados. Pero el tipo de dato de la columna call_date no es tipo de dato fecha. Cambiaremos el tipo de datos a datetime. "
   ]
  },
  {
   "cell_type": "markdown",
   "metadata": {
    "id": "yA0tkPFg0q1D"
   },
   "source": [
    "### Corregir los datos"
   ]
  },
  {
   "cell_type": "code",
   "execution_count": 18,
   "metadata": {
    "id": "zVeanzdd0q1E"
   },
   "outputs": [
    {
     "name": "stdout",
     "output_type": "stream",
     "text": [
      "<class 'pandas.core.frame.DataFrame'>\n",
      "RangeIndex: 104825 entries, 0 to 104824\n",
      "Data columns (total 4 columns):\n",
      " #   Column        Non-Null Count   Dtype         \n",
      "---  ------        --------------   -----         \n",
      " 0   id            104825 non-null  object        \n",
      " 1   user_id       104825 non-null  int64         \n",
      " 2   session_date  104825 non-null  datetime64[ns]\n",
      " 3   mb_used       104825 non-null  float64       \n",
      "dtypes: datetime64[ns](1), float64(1), int64(1), object(1)\n",
      "memory usage: 3.2+ MB\n"
     ]
    }
   ],
   "source": [
    "internet['session_date'] = pd.to_datetime(internet['session_date'])\n",
    "internet.info()"
   ]
  },
  {
   "cell_type": "markdown",
   "metadata": {
    "id": "e8_mLF4a0q1E"
   },
   "source": [
    "### Enriquecer los datos"
   ]
  },
  {
   "cell_type": "markdown",
   "metadata": {
    "id": "3UA2cqIW0q1E"
   },
   "source": [
    "## Estudiar las condiciones de las tarifas"
   ]
  },
  {
   "cell_type": "code",
   "execution_count": 19,
   "metadata": {
    "id": "i409op8p0q1F"
   },
   "outputs": [
    {
     "name": "stdout",
     "output_type": "stream",
     "text": [
      "   messages_included  mb_per_month_included  minutes_included  \\\n",
      "0                 50                  15360               500   \n",
      "1               1000                  30720              3000   \n",
      "\n",
      "   usd_monthly_pay  usd_per_gb  usd_per_message  usd_per_minute plan_name  \n",
      "0               20          10             0.03            0.03      surf  \n",
      "1               70           7             0.01            0.01  ultimate  \n",
      "\n",
      "Valores ausentes\n",
      "messages_included        0\n",
      "mb_per_month_included    0\n",
      "minutes_included         0\n",
      "usd_monthly_pay          0\n",
      "usd_per_gb               0\n",
      "usd_per_message          0\n",
      "usd_per_minute           0\n",
      "plan_name                0\n",
      "dtype: int64\n",
      "\n",
      "Valores duplicados\n",
      "0\n"
     ]
    }
   ],
   "source": [
    "primera_vista(planes)"
   ]
  },
  {
   "cell_type": "markdown",
   "metadata": {
    "id": "hMR1tP5d0q1F"
   },
   "source": [
    "## Agregar datos por usuario\n"
   ]
  },
  {
   "cell_type": "code",
   "execution_count": 20,
   "metadata": {
    "id": "A332cedB0q1G"
   },
   "outputs": [
    {
     "data": {
      "text/html": [
       "<div>\n",
       "<style scoped>\n",
       "    .dataframe tbody tr th:only-of-type {\n",
       "        vertical-align: middle;\n",
       "    }\n",
       "\n",
       "    .dataframe tbody tr th {\n",
       "        vertical-align: top;\n",
       "    }\n",
       "\n",
       "    .dataframe thead th {\n",
       "        text-align: right;\n",
       "    }\n",
       "</style>\n",
       "<table border=\"1\" class=\"dataframe\">\n",
       "  <thead>\n",
       "    <tr style=\"text-align: right;\">\n",
       "      <th></th>\n",
       "      <th>user_id</th>\n",
       "      <th>mes</th>\n",
       "      <th>minutos_usados</th>\n",
       "      <th>total_llamadas</th>\n",
       "    </tr>\n",
       "  </thead>\n",
       "  <tbody>\n",
       "    <tr>\n",
       "      <th>0</th>\n",
       "      <td>1000</td>\n",
       "      <td>12</td>\n",
       "      <td>124.0</td>\n",
       "      <td>16</td>\n",
       "    </tr>\n",
       "    <tr>\n",
       "      <th>1</th>\n",
       "      <td>1001</td>\n",
       "      <td>8</td>\n",
       "      <td>182.0</td>\n",
       "      <td>27</td>\n",
       "    </tr>\n",
       "    <tr>\n",
       "      <th>2</th>\n",
       "      <td>1001</td>\n",
       "      <td>9</td>\n",
       "      <td>315.0</td>\n",
       "      <td>49</td>\n",
       "    </tr>\n",
       "    <tr>\n",
       "      <th>3</th>\n",
       "      <td>1001</td>\n",
       "      <td>10</td>\n",
       "      <td>393.0</td>\n",
       "      <td>65</td>\n",
       "    </tr>\n",
       "    <tr>\n",
       "      <th>4</th>\n",
       "      <td>1001</td>\n",
       "      <td>11</td>\n",
       "      <td>426.0</td>\n",
       "      <td>64</td>\n",
       "    </tr>\n",
       "    <tr>\n",
       "      <th>...</th>\n",
       "      <td>...</td>\n",
       "      <td>...</td>\n",
       "      <td>...</td>\n",
       "      <td>...</td>\n",
       "    </tr>\n",
       "    <tr>\n",
       "      <th>2253</th>\n",
       "      <td>1498</td>\n",
       "      <td>12</td>\n",
       "      <td>339.0</td>\n",
       "      <td>39</td>\n",
       "    </tr>\n",
       "    <tr>\n",
       "      <th>2254</th>\n",
       "      <td>1499</td>\n",
       "      <td>9</td>\n",
       "      <td>346.0</td>\n",
       "      <td>41</td>\n",
       "    </tr>\n",
       "    <tr>\n",
       "      <th>2255</th>\n",
       "      <td>1499</td>\n",
       "      <td>10</td>\n",
       "      <td>385.0</td>\n",
       "      <td>53</td>\n",
       "    </tr>\n",
       "    <tr>\n",
       "      <th>2256</th>\n",
       "      <td>1499</td>\n",
       "      <td>11</td>\n",
       "      <td>308.0</td>\n",
       "      <td>45</td>\n",
       "    </tr>\n",
       "    <tr>\n",
       "      <th>2257</th>\n",
       "      <td>1499</td>\n",
       "      <td>12</td>\n",
       "      <td>496.0</td>\n",
       "      <td>65</td>\n",
       "    </tr>\n",
       "  </tbody>\n",
       "</table>\n",
       "<p>2258 rows × 4 columns</p>\n",
       "</div>"
      ],
      "text/plain": [
       "      user_id  mes  minutos_usados  total_llamadas\n",
       "0        1000   12           124.0              16\n",
       "1        1001    8           182.0              27\n",
       "2        1001    9           315.0              49\n",
       "3        1001   10           393.0              65\n",
       "4        1001   11           426.0              64\n",
       "...       ...  ...             ...             ...\n",
       "2253     1498   12           339.0              39\n",
       "2254     1499    9           346.0              41\n",
       "2255     1499   10           385.0              53\n",
       "2256     1499   11           308.0              45\n",
       "2257     1499   12           496.0              65\n",
       "\n",
       "[2258 rows x 4 columns]"
      ]
     },
     "execution_count": 20,
     "metadata": {},
     "output_type": "execute_result"
    }
   ],
   "source": [
    "# Calcula el número de llamadas hechas por cada usuario al mes. Guarda el resultado.\n",
    "f_llamadas = llamadas.pivot_table(index = ['user_id', 'mes'], values = 'duracion_dedondeada', aggfunc = ['sum', 'count'])\n",
    "f_llamadas.columns = ['minutos_usados', 'total_llamadas']\n",
    "f_llamadas.reset_index(inplace=True)\n",
    "f_llamadas"
   ]
  },
  {
   "cell_type": "code",
   "execution_count": 21,
   "metadata": {
    "id": "aw2cmuql0q1G"
   },
   "outputs": [
    {
     "data": {
      "text/html": [
       "<div>\n",
       "<style scoped>\n",
       "    .dataframe tbody tr th:only-of-type {\n",
       "        vertical-align: middle;\n",
       "    }\n",
       "\n",
       "    .dataframe tbody tr th {\n",
       "        vertical-align: top;\n",
       "    }\n",
       "\n",
       "    .dataframe thead th {\n",
       "        text-align: right;\n",
       "    }\n",
       "</style>\n",
       "<table border=\"1\" class=\"dataframe\">\n",
       "  <thead>\n",
       "    <tr style=\"text-align: right;\">\n",
       "      <th></th>\n",
       "      <th>user_id</th>\n",
       "      <th>mes</th>\n",
       "      <th>minutos_usados</th>\n",
       "      <th>total_llamadas</th>\n",
       "    </tr>\n",
       "  </thead>\n",
       "  <tbody>\n",
       "    <tr>\n",
       "      <th>0</th>\n",
       "      <td>1000</td>\n",
       "      <td>12</td>\n",
       "      <td>124.0</td>\n",
       "      <td>16</td>\n",
       "    </tr>\n",
       "    <tr>\n",
       "      <th>1</th>\n",
       "      <td>1001</td>\n",
       "      <td>8</td>\n",
       "      <td>182.0</td>\n",
       "      <td>27</td>\n",
       "    </tr>\n",
       "    <tr>\n",
       "      <th>2</th>\n",
       "      <td>1001</td>\n",
       "      <td>9</td>\n",
       "      <td>315.0</td>\n",
       "      <td>49</td>\n",
       "    </tr>\n",
       "    <tr>\n",
       "      <th>3</th>\n",
       "      <td>1001</td>\n",
       "      <td>10</td>\n",
       "      <td>393.0</td>\n",
       "      <td>65</td>\n",
       "    </tr>\n",
       "    <tr>\n",
       "      <th>4</th>\n",
       "      <td>1001</td>\n",
       "      <td>11</td>\n",
       "      <td>426.0</td>\n",
       "      <td>64</td>\n",
       "    </tr>\n",
       "    <tr>\n",
       "      <th>...</th>\n",
       "      <td>...</td>\n",
       "      <td>...</td>\n",
       "      <td>...</td>\n",
       "      <td>...</td>\n",
       "    </tr>\n",
       "    <tr>\n",
       "      <th>2253</th>\n",
       "      <td>1498</td>\n",
       "      <td>12</td>\n",
       "      <td>339.0</td>\n",
       "      <td>39</td>\n",
       "    </tr>\n",
       "    <tr>\n",
       "      <th>2254</th>\n",
       "      <td>1499</td>\n",
       "      <td>9</td>\n",
       "      <td>346.0</td>\n",
       "      <td>41</td>\n",
       "    </tr>\n",
       "    <tr>\n",
       "      <th>2255</th>\n",
       "      <td>1499</td>\n",
       "      <td>10</td>\n",
       "      <td>385.0</td>\n",
       "      <td>53</td>\n",
       "    </tr>\n",
       "    <tr>\n",
       "      <th>2256</th>\n",
       "      <td>1499</td>\n",
       "      <td>11</td>\n",
       "      <td>308.0</td>\n",
       "      <td>45</td>\n",
       "    </tr>\n",
       "    <tr>\n",
       "      <th>2257</th>\n",
       "      <td>1499</td>\n",
       "      <td>12</td>\n",
       "      <td>496.0</td>\n",
       "      <td>65</td>\n",
       "    </tr>\n",
       "  </tbody>\n",
       "</table>\n",
       "<p>2258 rows × 4 columns</p>\n",
       "</div>"
      ],
      "text/plain": [
       "      user_id  mes  minutos_usados  total_llamadas\n",
       "0        1000   12           124.0              16\n",
       "1        1001    8           182.0              27\n",
       "2        1001    9           315.0              49\n",
       "3        1001   10           393.0              65\n",
       "4        1001   11           426.0              64\n",
       "...       ...  ...             ...             ...\n",
       "2253     1498   12           339.0              39\n",
       "2254     1499    9           346.0              41\n",
       "2255     1499   10           385.0              53\n",
       "2256     1499   11           308.0              45\n",
       "2257     1499   12           496.0              65\n",
       "\n",
       "[2258 rows x 4 columns]"
      ]
     },
     "execution_count": 21,
     "metadata": {},
     "output_type": "execute_result"
    }
   ],
   "source": [
    "f_llamadas"
   ]
  },
  {
   "cell_type": "code",
   "execution_count": 22,
   "metadata": {
    "id": "CcQvNHn60q1G"
   },
   "outputs": [
    {
     "data": {
      "text/html": [
       "<div>\n",
       "<style scoped>\n",
       "    .dataframe tbody tr th:only-of-type {\n",
       "        vertical-align: middle;\n",
       "    }\n",
       "\n",
       "    .dataframe tbody tr th {\n",
       "        vertical-align: top;\n",
       "    }\n",
       "\n",
       "    .dataframe thead th {\n",
       "        text-align: right;\n",
       "    }\n",
       "</style>\n",
       "<table border=\"1\" class=\"dataframe\">\n",
       "  <thead>\n",
       "    <tr style=\"text-align: right;\">\n",
       "      <th></th>\n",
       "      <th>user_id</th>\n",
       "      <th>mes</th>\n",
       "      <th>numero_de_mensajes</th>\n",
       "    </tr>\n",
       "  </thead>\n",
       "  <tbody>\n",
       "    <tr>\n",
       "      <th>0</th>\n",
       "      <td>1000</td>\n",
       "      <td>12</td>\n",
       "      <td>11</td>\n",
       "    </tr>\n",
       "    <tr>\n",
       "      <th>1</th>\n",
       "      <td>1001</td>\n",
       "      <td>8</td>\n",
       "      <td>21</td>\n",
       "    </tr>\n",
       "    <tr>\n",
       "      <th>2</th>\n",
       "      <td>1001</td>\n",
       "      <td>9</td>\n",
       "      <td>39</td>\n",
       "    </tr>\n",
       "    <tr>\n",
       "      <th>3</th>\n",
       "      <td>1001</td>\n",
       "      <td>10</td>\n",
       "      <td>52</td>\n",
       "    </tr>\n",
       "    <tr>\n",
       "      <th>4</th>\n",
       "      <td>1001</td>\n",
       "      <td>11</td>\n",
       "      <td>48</td>\n",
       "    </tr>\n",
       "    <tr>\n",
       "      <th>...</th>\n",
       "      <td>...</td>\n",
       "      <td>...</td>\n",
       "      <td>...</td>\n",
       "    </tr>\n",
       "    <tr>\n",
       "      <th>2945</th>\n",
       "      <td>1497</td>\n",
       "      <td>8</td>\n",
       "      <td>4</td>\n",
       "    </tr>\n",
       "    <tr>\n",
       "      <th>2946</th>\n",
       "      <td>1497</td>\n",
       "      <td>9</td>\n",
       "      <td>4</td>\n",
       "    </tr>\n",
       "    <tr>\n",
       "      <th>2947</th>\n",
       "      <td>1497</td>\n",
       "      <td>10</td>\n",
       "      <td>4</td>\n",
       "    </tr>\n",
       "    <tr>\n",
       "      <th>2948</th>\n",
       "      <td>1497</td>\n",
       "      <td>11</td>\n",
       "      <td>10</td>\n",
       "    </tr>\n",
       "    <tr>\n",
       "      <th>2949</th>\n",
       "      <td>1497</td>\n",
       "      <td>12</td>\n",
       "      <td>5</td>\n",
       "    </tr>\n",
       "  </tbody>\n",
       "</table>\n",
       "<p>2950 rows × 3 columns</p>\n",
       "</div>"
      ],
      "text/plain": [
       "      user_id  mes  numero_de_mensajes\n",
       "0        1000   12                  11\n",
       "1        1001    8                  21\n",
       "2        1001    9                  39\n",
       "3        1001   10                  52\n",
       "4        1001   11                  48\n",
       "...       ...  ...                 ...\n",
       "2945     1497    8                   4\n",
       "2946     1497    9                   4\n",
       "2947     1497   10                   4\n",
       "2948     1497   11                  10\n",
       "2949     1497   12                   5\n",
       "\n",
       "[2950 rows x 3 columns]"
      ]
     },
     "execution_count": 22,
     "metadata": {},
     "output_type": "execute_result"
    }
   ],
   "source": [
    "# Calcula el número de mensajes enviados por cada usuario al mes. Guarda el resultado.\n",
    "mensajes['mes'] = mensajes ['message_date'].dt.month\n",
    "f_mensajes = mensajes.pivot_table(index=['user_id','mes'], values='id', aggfunc='count')\n",
    "f_mensajes.columns = ['numero_de_mensajes']\n",
    "f_mensajes.reset_index( inplace=True)\n",
    "f_mensajes\n",
    "\n"
   ]
  },
  {
   "cell_type": "code",
   "execution_count": 23,
   "metadata": {
    "id": "H1AqN2eG0q1H"
   },
   "outputs": [
    {
     "data": {
      "text/html": [
       "<div>\n",
       "<style scoped>\n",
       "    .dataframe tbody tr th:only-of-type {\n",
       "        vertical-align: middle;\n",
       "    }\n",
       "\n",
       "    .dataframe tbody tr th {\n",
       "        vertical-align: top;\n",
       "    }\n",
       "\n",
       "    .dataframe thead th {\n",
       "        text-align: right;\n",
       "    }\n",
       "</style>\n",
       "<table border=\"1\" class=\"dataframe\">\n",
       "  <thead>\n",
       "    <tr style=\"text-align: right;\">\n",
       "      <th></th>\n",
       "      <th>user_id</th>\n",
       "      <th>mes</th>\n",
       "      <th>mb_used</th>\n",
       "      <th>gb_usados</th>\n",
       "    </tr>\n",
       "  </thead>\n",
       "  <tbody>\n",
       "    <tr>\n",
       "      <th>0</th>\n",
       "      <td>1000</td>\n",
       "      <td>12</td>\n",
       "      <td>1901.47</td>\n",
       "      <td>2.0</td>\n",
       "    </tr>\n",
       "    <tr>\n",
       "      <th>1</th>\n",
       "      <td>1001</td>\n",
       "      <td>8</td>\n",
       "      <td>6919.15</td>\n",
       "      <td>7.0</td>\n",
       "    </tr>\n",
       "    <tr>\n",
       "      <th>2</th>\n",
       "      <td>1001</td>\n",
       "      <td>9</td>\n",
       "      <td>13314.82</td>\n",
       "      <td>14.0</td>\n",
       "    </tr>\n",
       "    <tr>\n",
       "      <th>3</th>\n",
       "      <td>1001</td>\n",
       "      <td>10</td>\n",
       "      <td>22330.49</td>\n",
       "      <td>22.0</td>\n",
       "    </tr>\n",
       "    <tr>\n",
       "      <th>4</th>\n",
       "      <td>1001</td>\n",
       "      <td>11</td>\n",
       "      <td>18504.30</td>\n",
       "      <td>19.0</td>\n",
       "    </tr>\n",
       "    <tr>\n",
       "      <th>...</th>\n",
       "      <td>...</td>\n",
       "      <td>...</td>\n",
       "      <td>...</td>\n",
       "      <td>...</td>\n",
       "    </tr>\n",
       "    <tr>\n",
       "      <th>2272</th>\n",
       "      <td>1498</td>\n",
       "      <td>12</td>\n",
       "      <td>23137.69</td>\n",
       "      <td>23.0</td>\n",
       "    </tr>\n",
       "    <tr>\n",
       "      <th>2273</th>\n",
       "      <td>1499</td>\n",
       "      <td>9</td>\n",
       "      <td>12984.76</td>\n",
       "      <td>13.0</td>\n",
       "    </tr>\n",
       "    <tr>\n",
       "      <th>2274</th>\n",
       "      <td>1499</td>\n",
       "      <td>10</td>\n",
       "      <td>19492.43</td>\n",
       "      <td>20.0</td>\n",
       "    </tr>\n",
       "    <tr>\n",
       "      <th>2275</th>\n",
       "      <td>1499</td>\n",
       "      <td>11</td>\n",
       "      <td>16813.83</td>\n",
       "      <td>17.0</td>\n",
       "    </tr>\n",
       "    <tr>\n",
       "      <th>2276</th>\n",
       "      <td>1499</td>\n",
       "      <td>12</td>\n",
       "      <td>22059.21</td>\n",
       "      <td>22.0</td>\n",
       "    </tr>\n",
       "  </tbody>\n",
       "</table>\n",
       "<p>2277 rows × 4 columns</p>\n",
       "</div>"
      ],
      "text/plain": [
       "      user_id  mes   mb_used  gb_usados\n",
       "0        1000   12   1901.47        2.0\n",
       "1        1001    8   6919.15        7.0\n",
       "2        1001    9  13314.82       14.0\n",
       "3        1001   10  22330.49       22.0\n",
       "4        1001   11  18504.30       19.0\n",
       "...       ...  ...       ...        ...\n",
       "2272     1498   12  23137.69       23.0\n",
       "2273     1499    9  12984.76       13.0\n",
       "2274     1499   10  19492.43       20.0\n",
       "2275     1499   11  16813.83       17.0\n",
       "2276     1499   12  22059.21       22.0\n",
       "\n",
       "[2277 rows x 4 columns]"
      ]
     },
     "execution_count": 23,
     "metadata": {},
     "output_type": "execute_result"
    }
   ],
   "source": [
    "internet['mes'] = internet['session_date'].dt.month# Calcula el volumen del tráfico de Internet usado por cada usuario al mes. Guarda el resultado.\n",
    "f_internet = internet.pivot_table(index=['user_id','mes'], values='mb_used', aggfunc='sum')\n",
    "f_internet.reset_index(inplace=True)\n",
    "\n",
    "def redondeo_gb (mb):\n",
    "    redondeo = np.ceil(mb/ 1024)\n",
    "    return redondeo\n",
    "\n",
    "f_internet ['gb_usados'] = f_internet ['mb_used'].apply(redondeo_gb)\n",
    "\n",
    "f_internet\n"
   ]
  },
  {
   "cell_type": "code",
   "execution_count": 24,
   "metadata": {
    "id": "FW99ykyf0q1H"
   },
   "outputs": [
    {
     "data": {
      "text/html": [
       "<div>\n",
       "<style scoped>\n",
       "    .dataframe tbody tr th:only-of-type {\n",
       "        vertical-align: middle;\n",
       "    }\n",
       "\n",
       "    .dataframe tbody tr th {\n",
       "        vertical-align: top;\n",
       "    }\n",
       "\n",
       "    .dataframe thead th {\n",
       "        text-align: right;\n",
       "    }\n",
       "</style>\n",
       "<table border=\"1\" class=\"dataframe\">\n",
       "  <thead>\n",
       "    <tr style=\"text-align: right;\">\n",
       "      <th></th>\n",
       "      <th>user_id</th>\n",
       "      <th>mes</th>\n",
       "      <th>minutos_usados</th>\n",
       "      <th>total_llamadas</th>\n",
       "      <th>numero_de_mensajes</th>\n",
       "      <th>mb_used</th>\n",
       "      <th>gb_usados</th>\n",
       "      <th>plan</th>\n",
       "      <th>city</th>\n",
       "    </tr>\n",
       "  </thead>\n",
       "  <tbody>\n",
       "    <tr>\n",
       "      <th>0</th>\n",
       "      <td>1000</td>\n",
       "      <td>12.0</td>\n",
       "      <td>124.0</td>\n",
       "      <td>16.0</td>\n",
       "      <td>11.0</td>\n",
       "      <td>1901.47</td>\n",
       "      <td>2.0</td>\n",
       "      <td>ultimate</td>\n",
       "      <td>Atlanta-Sandy Springs-Roswell, GA MSA</td>\n",
       "    </tr>\n",
       "    <tr>\n",
       "      <th>1</th>\n",
       "      <td>1001</td>\n",
       "      <td>8.0</td>\n",
       "      <td>182.0</td>\n",
       "      <td>27.0</td>\n",
       "      <td>21.0</td>\n",
       "      <td>6919.15</td>\n",
       "      <td>7.0</td>\n",
       "      <td>surf</td>\n",
       "      <td>Seattle-Tacoma-Bellevue, WA MSA</td>\n",
       "    </tr>\n",
       "    <tr>\n",
       "      <th>2</th>\n",
       "      <td>1001</td>\n",
       "      <td>9.0</td>\n",
       "      <td>315.0</td>\n",
       "      <td>49.0</td>\n",
       "      <td>39.0</td>\n",
       "      <td>13314.82</td>\n",
       "      <td>14.0</td>\n",
       "      <td>surf</td>\n",
       "      <td>Seattle-Tacoma-Bellevue, WA MSA</td>\n",
       "    </tr>\n",
       "    <tr>\n",
       "      <th>3</th>\n",
       "      <td>1001</td>\n",
       "      <td>10.0</td>\n",
       "      <td>393.0</td>\n",
       "      <td>65.0</td>\n",
       "      <td>52.0</td>\n",
       "      <td>22330.49</td>\n",
       "      <td>22.0</td>\n",
       "      <td>surf</td>\n",
       "      <td>Seattle-Tacoma-Bellevue, WA MSA</td>\n",
       "    </tr>\n",
       "    <tr>\n",
       "      <th>4</th>\n",
       "      <td>1001</td>\n",
       "      <td>11.0</td>\n",
       "      <td>426.0</td>\n",
       "      <td>64.0</td>\n",
       "      <td>48.0</td>\n",
       "      <td>18504.30</td>\n",
       "      <td>19.0</td>\n",
       "      <td>surf</td>\n",
       "      <td>Seattle-Tacoma-Bellevue, WA MSA</td>\n",
       "    </tr>\n",
       "    <tr>\n",
       "      <th>...</th>\n",
       "      <td>...</td>\n",
       "      <td>...</td>\n",
       "      <td>...</td>\n",
       "      <td>...</td>\n",
       "      <td>...</td>\n",
       "      <td>...</td>\n",
       "      <td>...</td>\n",
       "      <td>...</td>\n",
       "      <td>...</td>\n",
       "    </tr>\n",
       "    <tr>\n",
       "      <th>3621</th>\n",
       "      <td>1307</td>\n",
       "      <td>NaN</td>\n",
       "      <td>NaN</td>\n",
       "      <td>NaN</td>\n",
       "      <td>NaN</td>\n",
       "      <td>NaN</td>\n",
       "      <td>NaN</td>\n",
       "      <td>surf</td>\n",
       "      <td>Boston-Cambridge-Newton, MA-NH MSA</td>\n",
       "    </tr>\n",
       "    <tr>\n",
       "      <th>3622</th>\n",
       "      <td>1319</td>\n",
       "      <td>NaN</td>\n",
       "      <td>NaN</td>\n",
       "      <td>NaN</td>\n",
       "      <td>NaN</td>\n",
       "      <td>NaN</td>\n",
       "      <td>NaN</td>\n",
       "      <td>surf</td>\n",
       "      <td>Colorado Springs, CO MSA</td>\n",
       "    </tr>\n",
       "    <tr>\n",
       "      <th>3623</th>\n",
       "      <td>1378</td>\n",
       "      <td>NaN</td>\n",
       "      <td>NaN</td>\n",
       "      <td>NaN</td>\n",
       "      <td>NaN</td>\n",
       "      <td>NaN</td>\n",
       "      <td>NaN</td>\n",
       "      <td>surf</td>\n",
       "      <td>Denver-Aurora-Lakewood, CO MSA</td>\n",
       "    </tr>\n",
       "    <tr>\n",
       "      <th>3624</th>\n",
       "      <td>1463</td>\n",
       "      <td>NaN</td>\n",
       "      <td>NaN</td>\n",
       "      <td>NaN</td>\n",
       "      <td>NaN</td>\n",
       "      <td>NaN</td>\n",
       "      <td>NaN</td>\n",
       "      <td>ultimate</td>\n",
       "      <td>Atlanta-Sandy Springs-Roswell, GA MSA</td>\n",
       "    </tr>\n",
       "    <tr>\n",
       "      <th>3625</th>\n",
       "      <td>1473</td>\n",
       "      <td>NaN</td>\n",
       "      <td>NaN</td>\n",
       "      <td>NaN</td>\n",
       "      <td>NaN</td>\n",
       "      <td>NaN</td>\n",
       "      <td>NaN</td>\n",
       "      <td>surf</td>\n",
       "      <td>Louisville/Jefferson County, KY-IN MSA</td>\n",
       "    </tr>\n",
       "  </tbody>\n",
       "</table>\n",
       "<p>3626 rows × 9 columns</p>\n",
       "</div>"
      ],
      "text/plain": [
       "      user_id   mes  minutos_usados  total_llamadas  numero_de_mensajes  \\\n",
       "0        1000  12.0           124.0            16.0                11.0   \n",
       "1        1001   8.0           182.0            27.0                21.0   \n",
       "2        1001   9.0           315.0            49.0                39.0   \n",
       "3        1001  10.0           393.0            65.0                52.0   \n",
       "4        1001  11.0           426.0            64.0                48.0   \n",
       "...       ...   ...             ...             ...                 ...   \n",
       "3621     1307   NaN             NaN             NaN                 NaN   \n",
       "3622     1319   NaN             NaN             NaN                 NaN   \n",
       "3623     1378   NaN             NaN             NaN                 NaN   \n",
       "3624     1463   NaN             NaN             NaN                 NaN   \n",
       "3625     1473   NaN             NaN             NaN                 NaN   \n",
       "\n",
       "       mb_used  gb_usados      plan                                    city  \n",
       "0      1901.47        2.0  ultimate   Atlanta-Sandy Springs-Roswell, GA MSA  \n",
       "1      6919.15        7.0      surf         Seattle-Tacoma-Bellevue, WA MSA  \n",
       "2     13314.82       14.0      surf         Seattle-Tacoma-Bellevue, WA MSA  \n",
       "3     22330.49       22.0      surf         Seattle-Tacoma-Bellevue, WA MSA  \n",
       "4     18504.30       19.0      surf         Seattle-Tacoma-Bellevue, WA MSA  \n",
       "...        ...        ...       ...                                     ...  \n",
       "3621       NaN        NaN      surf      Boston-Cambridge-Newton, MA-NH MSA  \n",
       "3622       NaN        NaN      surf                Colorado Springs, CO MSA  \n",
       "3623       NaN        NaN      surf          Denver-Aurora-Lakewood, CO MSA  \n",
       "3624       NaN        NaN  ultimate   Atlanta-Sandy Springs-Roswell, GA MSA  \n",
       "3625       NaN        NaN      surf  Louisville/Jefferson County, KY-IN MSA  \n",
       "\n",
       "[3626 rows x 9 columns]"
      ]
     },
     "execution_count": 24,
     "metadata": {},
     "output_type": "execute_result"
    }
   ],
   "source": [
    "int_llamadas_mensajes = f_llamadas.merge(f_mensajes, on = ['user_id', 'mes'], how='outer')\n",
    "int_internet_llamadas_mensajes = int_llamadas_mensajes.merge(f_internet, on = ['user_id', 'mes'], how='outer')\n",
    "int_internet_llamadas_mensajes# Fusiona los datos de llamadas, minutos, mensajes e Internet con base en user_id y month\n",
    "\n",
    "int_consumo = int_internet_llamadas_mensajes.merge(usuarios[['user_id','plan','city']], on = ['user_id'], how = 'outer')\n",
    "int_consumo"
   ]
  },
  {
   "cell_type": "code",
   "execution_count": 25,
   "metadata": {
    "id": "0dNOXHag0q1H"
   },
   "outputs": [
    {
     "data": {
      "text/html": [
       "<div>\n",
       "<style scoped>\n",
       "    .dataframe tbody tr th:only-of-type {\n",
       "        vertical-align: middle;\n",
       "    }\n",
       "\n",
       "    .dataframe tbody tr th {\n",
       "        vertical-align: top;\n",
       "    }\n",
       "\n",
       "    .dataframe thead th {\n",
       "        text-align: right;\n",
       "    }\n",
       "</style>\n",
       "<table border=\"1\" class=\"dataframe\">\n",
       "  <thead>\n",
       "    <tr style=\"text-align: right;\">\n",
       "      <th></th>\n",
       "      <th>user_id</th>\n",
       "      <th>mes</th>\n",
       "      <th>minutos_usados</th>\n",
       "      <th>total_llamadas</th>\n",
       "      <th>numero_de_mensajes</th>\n",
       "      <th>mb_used</th>\n",
       "      <th>gb_usados</th>\n",
       "      <th>plan</th>\n",
       "      <th>city</th>\n",
       "      <th>messages_included</th>\n",
       "      <th>mb_per_month_included</th>\n",
       "      <th>minutes_included</th>\n",
       "      <th>usd_monthly_pay</th>\n",
       "      <th>usd_per_gb</th>\n",
       "      <th>usd_per_message</th>\n",
       "      <th>usd_per_minute</th>\n",
       "      <th>plan_name</th>\n",
       "    </tr>\n",
       "  </thead>\n",
       "  <tbody>\n",
       "    <tr>\n",
       "      <th>0</th>\n",
       "      <td>1000</td>\n",
       "      <td>12.0</td>\n",
       "      <td>124.0</td>\n",
       "      <td>16.0</td>\n",
       "      <td>11.0</td>\n",
       "      <td>1901.47</td>\n",
       "      <td>2.0</td>\n",
       "      <td>ultimate</td>\n",
       "      <td>Atlanta-Sandy Springs-Roswell, GA MSA</td>\n",
       "      <td>1000</td>\n",
       "      <td>30720</td>\n",
       "      <td>3000</td>\n",
       "      <td>70</td>\n",
       "      <td>7</td>\n",
       "      <td>0.01</td>\n",
       "      <td>0.01</td>\n",
       "      <td>ultimate</td>\n",
       "    </tr>\n",
       "    <tr>\n",
       "      <th>1</th>\n",
       "      <td>1006</td>\n",
       "      <td>11.0</td>\n",
       "      <td>10.0</td>\n",
       "      <td>2.0</td>\n",
       "      <td>27.0</td>\n",
       "      <td>2068.37</td>\n",
       "      <td>3.0</td>\n",
       "      <td>ultimate</td>\n",
       "      <td>San Francisco-Oakland-Berkeley, CA MSA</td>\n",
       "      <td>1000</td>\n",
       "      <td>30720</td>\n",
       "      <td>3000</td>\n",
       "      <td>70</td>\n",
       "      <td>7</td>\n",
       "      <td>0.01</td>\n",
       "      <td>0.01</td>\n",
       "      <td>ultimate</td>\n",
       "    </tr>\n",
       "    <tr>\n",
       "      <th>2</th>\n",
       "      <td>1006</td>\n",
       "      <td>12.0</td>\n",
       "      <td>59.0</td>\n",
       "      <td>9.0</td>\n",
       "      <td>22.0</td>\n",
       "      <td>32118.82</td>\n",
       "      <td>32.0</td>\n",
       "      <td>ultimate</td>\n",
       "      <td>San Francisco-Oakland-Berkeley, CA MSA</td>\n",
       "      <td>1000</td>\n",
       "      <td>30720</td>\n",
       "      <td>3000</td>\n",
       "      <td>70</td>\n",
       "      <td>7</td>\n",
       "      <td>0.01</td>\n",
       "      <td>0.01</td>\n",
       "      <td>ultimate</td>\n",
       "    </tr>\n",
       "    <tr>\n",
       "      <th>3</th>\n",
       "      <td>1006</td>\n",
       "      <td>5.0</td>\n",
       "      <td>0.0</td>\n",
       "      <td>0.0</td>\n",
       "      <td>10.0</td>\n",
       "      <td>0.00</td>\n",
       "      <td>0.0</td>\n",
       "      <td>ultimate</td>\n",
       "      <td>San Francisco-Oakland-Berkeley, CA MSA</td>\n",
       "      <td>1000</td>\n",
       "      <td>30720</td>\n",
       "      <td>3000</td>\n",
       "      <td>70</td>\n",
       "      <td>7</td>\n",
       "      <td>0.01</td>\n",
       "      <td>0.01</td>\n",
       "      <td>ultimate</td>\n",
       "    </tr>\n",
       "    <tr>\n",
       "      <th>4</th>\n",
       "      <td>1006</td>\n",
       "      <td>6.0</td>\n",
       "      <td>0.0</td>\n",
       "      <td>0.0</td>\n",
       "      <td>16.0</td>\n",
       "      <td>0.00</td>\n",
       "      <td>0.0</td>\n",
       "      <td>ultimate</td>\n",
       "      <td>San Francisco-Oakland-Berkeley, CA MSA</td>\n",
       "      <td>1000</td>\n",
       "      <td>30720</td>\n",
       "      <td>3000</td>\n",
       "      <td>70</td>\n",
       "      <td>7</td>\n",
       "      <td>0.01</td>\n",
       "      <td>0.01</td>\n",
       "      <td>ultimate</td>\n",
       "    </tr>\n",
       "    <tr>\n",
       "      <th>...</th>\n",
       "      <td>...</td>\n",
       "      <td>...</td>\n",
       "      <td>...</td>\n",
       "      <td>...</td>\n",
       "      <td>...</td>\n",
       "      <td>...</td>\n",
       "      <td>...</td>\n",
       "      <td>...</td>\n",
       "      <td>...</td>\n",
       "      <td>...</td>\n",
       "      <td>...</td>\n",
       "      <td>...</td>\n",
       "      <td>...</td>\n",
       "      <td>...</td>\n",
       "      <td>...</td>\n",
       "      <td>...</td>\n",
       "      <td>...</td>\n",
       "    </tr>\n",
       "    <tr>\n",
       "      <th>3621</th>\n",
       "      <td>1143</td>\n",
       "      <td>0.0</td>\n",
       "      <td>0.0</td>\n",
       "      <td>0.0</td>\n",
       "      <td>0.0</td>\n",
       "      <td>0.00</td>\n",
       "      <td>0.0</td>\n",
       "      <td>surf</td>\n",
       "      <td>Cincinnati, OH-KY-IN MSA</td>\n",
       "      <td>50</td>\n",
       "      <td>15360</td>\n",
       "      <td>500</td>\n",
       "      <td>20</td>\n",
       "      <td>10</td>\n",
       "      <td>0.03</td>\n",
       "      <td>0.03</td>\n",
       "      <td>surf</td>\n",
       "    </tr>\n",
       "    <tr>\n",
       "      <th>3622</th>\n",
       "      <td>1307</td>\n",
       "      <td>0.0</td>\n",
       "      <td>0.0</td>\n",
       "      <td>0.0</td>\n",
       "      <td>0.0</td>\n",
       "      <td>0.00</td>\n",
       "      <td>0.0</td>\n",
       "      <td>surf</td>\n",
       "      <td>Boston-Cambridge-Newton, MA-NH MSA</td>\n",
       "      <td>50</td>\n",
       "      <td>15360</td>\n",
       "      <td>500</td>\n",
       "      <td>20</td>\n",
       "      <td>10</td>\n",
       "      <td>0.03</td>\n",
       "      <td>0.03</td>\n",
       "      <td>surf</td>\n",
       "    </tr>\n",
       "    <tr>\n",
       "      <th>3623</th>\n",
       "      <td>1319</td>\n",
       "      <td>0.0</td>\n",
       "      <td>0.0</td>\n",
       "      <td>0.0</td>\n",
       "      <td>0.0</td>\n",
       "      <td>0.00</td>\n",
       "      <td>0.0</td>\n",
       "      <td>surf</td>\n",
       "      <td>Colorado Springs, CO MSA</td>\n",
       "      <td>50</td>\n",
       "      <td>15360</td>\n",
       "      <td>500</td>\n",
       "      <td>20</td>\n",
       "      <td>10</td>\n",
       "      <td>0.03</td>\n",
       "      <td>0.03</td>\n",
       "      <td>surf</td>\n",
       "    </tr>\n",
       "    <tr>\n",
       "      <th>3624</th>\n",
       "      <td>1378</td>\n",
       "      <td>0.0</td>\n",
       "      <td>0.0</td>\n",
       "      <td>0.0</td>\n",
       "      <td>0.0</td>\n",
       "      <td>0.00</td>\n",
       "      <td>0.0</td>\n",
       "      <td>surf</td>\n",
       "      <td>Denver-Aurora-Lakewood, CO MSA</td>\n",
       "      <td>50</td>\n",
       "      <td>15360</td>\n",
       "      <td>500</td>\n",
       "      <td>20</td>\n",
       "      <td>10</td>\n",
       "      <td>0.03</td>\n",
       "      <td>0.03</td>\n",
       "      <td>surf</td>\n",
       "    </tr>\n",
       "    <tr>\n",
       "      <th>3625</th>\n",
       "      <td>1473</td>\n",
       "      <td>0.0</td>\n",
       "      <td>0.0</td>\n",
       "      <td>0.0</td>\n",
       "      <td>0.0</td>\n",
       "      <td>0.00</td>\n",
       "      <td>0.0</td>\n",
       "      <td>surf</td>\n",
       "      <td>Louisville/Jefferson County, KY-IN MSA</td>\n",
       "      <td>50</td>\n",
       "      <td>15360</td>\n",
       "      <td>500</td>\n",
       "      <td>20</td>\n",
       "      <td>10</td>\n",
       "      <td>0.03</td>\n",
       "      <td>0.03</td>\n",
       "      <td>surf</td>\n",
       "    </tr>\n",
       "  </tbody>\n",
       "</table>\n",
       "<p>3626 rows × 17 columns</p>\n",
       "</div>"
      ],
      "text/plain": [
       "      user_id   mes  minutos_usados  total_llamadas  numero_de_mensajes  \\\n",
       "0        1000  12.0           124.0            16.0                11.0   \n",
       "1        1006  11.0            10.0             2.0                27.0   \n",
       "2        1006  12.0            59.0             9.0                22.0   \n",
       "3        1006   5.0             0.0             0.0                10.0   \n",
       "4        1006   6.0             0.0             0.0                16.0   \n",
       "...       ...   ...             ...             ...                 ...   \n",
       "3621     1143   0.0             0.0             0.0                 0.0   \n",
       "3622     1307   0.0             0.0             0.0                 0.0   \n",
       "3623     1319   0.0             0.0             0.0                 0.0   \n",
       "3624     1378   0.0             0.0             0.0                 0.0   \n",
       "3625     1473   0.0             0.0             0.0                 0.0   \n",
       "\n",
       "       mb_used  gb_usados      plan                                    city  \\\n",
       "0      1901.47        2.0  ultimate   Atlanta-Sandy Springs-Roswell, GA MSA   \n",
       "1      2068.37        3.0  ultimate  San Francisco-Oakland-Berkeley, CA MSA   \n",
       "2     32118.82       32.0  ultimate  San Francisco-Oakland-Berkeley, CA MSA   \n",
       "3         0.00        0.0  ultimate  San Francisco-Oakland-Berkeley, CA MSA   \n",
       "4         0.00        0.0  ultimate  San Francisco-Oakland-Berkeley, CA MSA   \n",
       "...        ...        ...       ...                                     ...   \n",
       "3621      0.00        0.0      surf                Cincinnati, OH-KY-IN MSA   \n",
       "3622      0.00        0.0      surf      Boston-Cambridge-Newton, MA-NH MSA   \n",
       "3623      0.00        0.0      surf                Colorado Springs, CO MSA   \n",
       "3624      0.00        0.0      surf          Denver-Aurora-Lakewood, CO MSA   \n",
       "3625      0.00        0.0      surf  Louisville/Jefferson County, KY-IN MSA   \n",
       "\n",
       "      messages_included  mb_per_month_included  minutes_included  \\\n",
       "0                  1000                  30720              3000   \n",
       "1                  1000                  30720              3000   \n",
       "2                  1000                  30720              3000   \n",
       "3                  1000                  30720              3000   \n",
       "4                  1000                  30720              3000   \n",
       "...                 ...                    ...               ...   \n",
       "3621                 50                  15360               500   \n",
       "3622                 50                  15360               500   \n",
       "3623                 50                  15360               500   \n",
       "3624                 50                  15360               500   \n",
       "3625                 50                  15360               500   \n",
       "\n",
       "      usd_monthly_pay  usd_per_gb  usd_per_message  usd_per_minute plan_name  \n",
       "0                  70           7             0.01            0.01  ultimate  \n",
       "1                  70           7             0.01            0.01  ultimate  \n",
       "2                  70           7             0.01            0.01  ultimate  \n",
       "3                  70           7             0.01            0.01  ultimate  \n",
       "4                  70           7             0.01            0.01  ultimate  \n",
       "...               ...         ...              ...             ...       ...  \n",
       "3621               20          10             0.03            0.03      surf  \n",
       "3622               20          10             0.03            0.03      surf  \n",
       "3623               20          10             0.03            0.03      surf  \n",
       "3624               20          10             0.03            0.03      surf  \n",
       "3625               20          10             0.03            0.03      surf  \n",
       "\n",
       "[3626 rows x 17 columns]"
      ]
     },
     "execution_count": 25,
     "metadata": {},
     "output_type": "execute_result"
    }
   ],
   "source": [
    "f_sales = int_consumo.merge(planes, left_on='plan', right_on='plan_name', how='inner')\n",
    "f_sales.fillna(0,inplace = True)\n",
    "f_sales"
   ]
  },
  {
   "cell_type": "code",
   "execution_count": 26,
   "metadata": {
    "id": "5FGCf_c60q1I"
   },
   "outputs": [],
   "source": [
    "def llamadas_cobrables(fila):# Calcula el ingreso mensual para cada usuario\n",
    "    minutos_usados = fila['minutos_usados']\n",
    "    extra_consumido = 0\n",
    "    \n",
    "    if minutos_usados > fila ['minutes_included']:\n",
    "        extra_consumido = minutos_usados - fila['minutes_included']\n",
    "    return extra_consumido"
   ]
  },
  {
   "cell_type": "code",
   "execution_count": 27,
   "metadata": {},
   "outputs": [
    {
     "data": {
      "text/html": [
       "<div>\n",
       "<style scoped>\n",
       "    .dataframe tbody tr th:only-of-type {\n",
       "        vertical-align: middle;\n",
       "    }\n",
       "\n",
       "    .dataframe tbody tr th {\n",
       "        vertical-align: top;\n",
       "    }\n",
       "\n",
       "    .dataframe thead th {\n",
       "        text-align: right;\n",
       "    }\n",
       "</style>\n",
       "<table border=\"1\" class=\"dataframe\">\n",
       "  <thead>\n",
       "    <tr style=\"text-align: right;\">\n",
       "      <th></th>\n",
       "      <th>user_id</th>\n",
       "      <th>mes</th>\n",
       "      <th>minutos_usados</th>\n",
       "      <th>total_llamadas</th>\n",
       "      <th>numero_de_mensajes</th>\n",
       "      <th>mb_used</th>\n",
       "      <th>gb_usados</th>\n",
       "      <th>plan</th>\n",
       "      <th>city</th>\n",
       "      <th>messages_included</th>\n",
       "      <th>mb_per_month_included</th>\n",
       "      <th>minutes_included</th>\n",
       "      <th>usd_monthly_pay</th>\n",
       "      <th>usd_per_gb</th>\n",
       "      <th>usd_per_message</th>\n",
       "      <th>usd_per_minute</th>\n",
       "      <th>plan_name</th>\n",
       "      <th>minutos_cobrables</th>\n",
       "    </tr>\n",
       "  </thead>\n",
       "  <tbody>\n",
       "    <tr>\n",
       "      <th>0</th>\n",
       "      <td>1000</td>\n",
       "      <td>12.0</td>\n",
       "      <td>124.0</td>\n",
       "      <td>16.0</td>\n",
       "      <td>11.0</td>\n",
       "      <td>1901.47</td>\n",
       "      <td>2.0</td>\n",
       "      <td>ultimate</td>\n",
       "      <td>Atlanta-Sandy Springs-Roswell, GA MSA</td>\n",
       "      <td>1000</td>\n",
       "      <td>30720</td>\n",
       "      <td>3000</td>\n",
       "      <td>70</td>\n",
       "      <td>7</td>\n",
       "      <td>0.01</td>\n",
       "      <td>0.01</td>\n",
       "      <td>ultimate</td>\n",
       "      <td>0.0</td>\n",
       "    </tr>\n",
       "    <tr>\n",
       "      <th>1</th>\n",
       "      <td>1006</td>\n",
       "      <td>11.0</td>\n",
       "      <td>10.0</td>\n",
       "      <td>2.0</td>\n",
       "      <td>27.0</td>\n",
       "      <td>2068.37</td>\n",
       "      <td>3.0</td>\n",
       "      <td>ultimate</td>\n",
       "      <td>San Francisco-Oakland-Berkeley, CA MSA</td>\n",
       "      <td>1000</td>\n",
       "      <td>30720</td>\n",
       "      <td>3000</td>\n",
       "      <td>70</td>\n",
       "      <td>7</td>\n",
       "      <td>0.01</td>\n",
       "      <td>0.01</td>\n",
       "      <td>ultimate</td>\n",
       "      <td>0.0</td>\n",
       "    </tr>\n",
       "    <tr>\n",
       "      <th>2</th>\n",
       "      <td>1006</td>\n",
       "      <td>12.0</td>\n",
       "      <td>59.0</td>\n",
       "      <td>9.0</td>\n",
       "      <td>22.0</td>\n",
       "      <td>32118.82</td>\n",
       "      <td>32.0</td>\n",
       "      <td>ultimate</td>\n",
       "      <td>San Francisco-Oakland-Berkeley, CA MSA</td>\n",
       "      <td>1000</td>\n",
       "      <td>30720</td>\n",
       "      <td>3000</td>\n",
       "      <td>70</td>\n",
       "      <td>7</td>\n",
       "      <td>0.01</td>\n",
       "      <td>0.01</td>\n",
       "      <td>ultimate</td>\n",
       "      <td>0.0</td>\n",
       "    </tr>\n",
       "    <tr>\n",
       "      <th>3</th>\n",
       "      <td>1006</td>\n",
       "      <td>5.0</td>\n",
       "      <td>0.0</td>\n",
       "      <td>0.0</td>\n",
       "      <td>10.0</td>\n",
       "      <td>0.00</td>\n",
       "      <td>0.0</td>\n",
       "      <td>ultimate</td>\n",
       "      <td>San Francisco-Oakland-Berkeley, CA MSA</td>\n",
       "      <td>1000</td>\n",
       "      <td>30720</td>\n",
       "      <td>3000</td>\n",
       "      <td>70</td>\n",
       "      <td>7</td>\n",
       "      <td>0.01</td>\n",
       "      <td>0.01</td>\n",
       "      <td>ultimate</td>\n",
       "      <td>0.0</td>\n",
       "    </tr>\n",
       "    <tr>\n",
       "      <th>4</th>\n",
       "      <td>1006</td>\n",
       "      <td>6.0</td>\n",
       "      <td>0.0</td>\n",
       "      <td>0.0</td>\n",
       "      <td>16.0</td>\n",
       "      <td>0.00</td>\n",
       "      <td>0.0</td>\n",
       "      <td>ultimate</td>\n",
       "      <td>San Francisco-Oakland-Berkeley, CA MSA</td>\n",
       "      <td>1000</td>\n",
       "      <td>30720</td>\n",
       "      <td>3000</td>\n",
       "      <td>70</td>\n",
       "      <td>7</td>\n",
       "      <td>0.01</td>\n",
       "      <td>0.01</td>\n",
       "      <td>ultimate</td>\n",
       "      <td>0.0</td>\n",
       "    </tr>\n",
       "    <tr>\n",
       "      <th>...</th>\n",
       "      <td>...</td>\n",
       "      <td>...</td>\n",
       "      <td>...</td>\n",
       "      <td>...</td>\n",
       "      <td>...</td>\n",
       "      <td>...</td>\n",
       "      <td>...</td>\n",
       "      <td>...</td>\n",
       "      <td>...</td>\n",
       "      <td>...</td>\n",
       "      <td>...</td>\n",
       "      <td>...</td>\n",
       "      <td>...</td>\n",
       "      <td>...</td>\n",
       "      <td>...</td>\n",
       "      <td>...</td>\n",
       "      <td>...</td>\n",
       "      <td>...</td>\n",
       "    </tr>\n",
       "    <tr>\n",
       "      <th>3621</th>\n",
       "      <td>1143</td>\n",
       "      <td>0.0</td>\n",
       "      <td>0.0</td>\n",
       "      <td>0.0</td>\n",
       "      <td>0.0</td>\n",
       "      <td>0.00</td>\n",
       "      <td>0.0</td>\n",
       "      <td>surf</td>\n",
       "      <td>Cincinnati, OH-KY-IN MSA</td>\n",
       "      <td>50</td>\n",
       "      <td>15360</td>\n",
       "      <td>500</td>\n",
       "      <td>20</td>\n",
       "      <td>10</td>\n",
       "      <td>0.03</td>\n",
       "      <td>0.03</td>\n",
       "      <td>surf</td>\n",
       "      <td>0.0</td>\n",
       "    </tr>\n",
       "    <tr>\n",
       "      <th>3622</th>\n",
       "      <td>1307</td>\n",
       "      <td>0.0</td>\n",
       "      <td>0.0</td>\n",
       "      <td>0.0</td>\n",
       "      <td>0.0</td>\n",
       "      <td>0.00</td>\n",
       "      <td>0.0</td>\n",
       "      <td>surf</td>\n",
       "      <td>Boston-Cambridge-Newton, MA-NH MSA</td>\n",
       "      <td>50</td>\n",
       "      <td>15360</td>\n",
       "      <td>500</td>\n",
       "      <td>20</td>\n",
       "      <td>10</td>\n",
       "      <td>0.03</td>\n",
       "      <td>0.03</td>\n",
       "      <td>surf</td>\n",
       "      <td>0.0</td>\n",
       "    </tr>\n",
       "    <tr>\n",
       "      <th>3623</th>\n",
       "      <td>1319</td>\n",
       "      <td>0.0</td>\n",
       "      <td>0.0</td>\n",
       "      <td>0.0</td>\n",
       "      <td>0.0</td>\n",
       "      <td>0.00</td>\n",
       "      <td>0.0</td>\n",
       "      <td>surf</td>\n",
       "      <td>Colorado Springs, CO MSA</td>\n",
       "      <td>50</td>\n",
       "      <td>15360</td>\n",
       "      <td>500</td>\n",
       "      <td>20</td>\n",
       "      <td>10</td>\n",
       "      <td>0.03</td>\n",
       "      <td>0.03</td>\n",
       "      <td>surf</td>\n",
       "      <td>0.0</td>\n",
       "    </tr>\n",
       "    <tr>\n",
       "      <th>3624</th>\n",
       "      <td>1378</td>\n",
       "      <td>0.0</td>\n",
       "      <td>0.0</td>\n",
       "      <td>0.0</td>\n",
       "      <td>0.0</td>\n",
       "      <td>0.00</td>\n",
       "      <td>0.0</td>\n",
       "      <td>surf</td>\n",
       "      <td>Denver-Aurora-Lakewood, CO MSA</td>\n",
       "      <td>50</td>\n",
       "      <td>15360</td>\n",
       "      <td>500</td>\n",
       "      <td>20</td>\n",
       "      <td>10</td>\n",
       "      <td>0.03</td>\n",
       "      <td>0.03</td>\n",
       "      <td>surf</td>\n",
       "      <td>0.0</td>\n",
       "    </tr>\n",
       "    <tr>\n",
       "      <th>3625</th>\n",
       "      <td>1473</td>\n",
       "      <td>0.0</td>\n",
       "      <td>0.0</td>\n",
       "      <td>0.0</td>\n",
       "      <td>0.0</td>\n",
       "      <td>0.00</td>\n",
       "      <td>0.0</td>\n",
       "      <td>surf</td>\n",
       "      <td>Louisville/Jefferson County, KY-IN MSA</td>\n",
       "      <td>50</td>\n",
       "      <td>15360</td>\n",
       "      <td>500</td>\n",
       "      <td>20</td>\n",
       "      <td>10</td>\n",
       "      <td>0.03</td>\n",
       "      <td>0.03</td>\n",
       "      <td>surf</td>\n",
       "      <td>0.0</td>\n",
       "    </tr>\n",
       "  </tbody>\n",
       "</table>\n",
       "<p>3626 rows × 18 columns</p>\n",
       "</div>"
      ],
      "text/plain": [
       "      user_id   mes  minutos_usados  total_llamadas  numero_de_mensajes  \\\n",
       "0        1000  12.0           124.0            16.0                11.0   \n",
       "1        1006  11.0            10.0             2.0                27.0   \n",
       "2        1006  12.0            59.0             9.0                22.0   \n",
       "3        1006   5.0             0.0             0.0                10.0   \n",
       "4        1006   6.0             0.0             0.0                16.0   \n",
       "...       ...   ...             ...             ...                 ...   \n",
       "3621     1143   0.0             0.0             0.0                 0.0   \n",
       "3622     1307   0.0             0.0             0.0                 0.0   \n",
       "3623     1319   0.0             0.0             0.0                 0.0   \n",
       "3624     1378   0.0             0.0             0.0                 0.0   \n",
       "3625     1473   0.0             0.0             0.0                 0.0   \n",
       "\n",
       "       mb_used  gb_usados      plan                                    city  \\\n",
       "0      1901.47        2.0  ultimate   Atlanta-Sandy Springs-Roswell, GA MSA   \n",
       "1      2068.37        3.0  ultimate  San Francisco-Oakland-Berkeley, CA MSA   \n",
       "2     32118.82       32.0  ultimate  San Francisco-Oakland-Berkeley, CA MSA   \n",
       "3         0.00        0.0  ultimate  San Francisco-Oakland-Berkeley, CA MSA   \n",
       "4         0.00        0.0  ultimate  San Francisco-Oakland-Berkeley, CA MSA   \n",
       "...        ...        ...       ...                                     ...   \n",
       "3621      0.00        0.0      surf                Cincinnati, OH-KY-IN MSA   \n",
       "3622      0.00        0.0      surf      Boston-Cambridge-Newton, MA-NH MSA   \n",
       "3623      0.00        0.0      surf                Colorado Springs, CO MSA   \n",
       "3624      0.00        0.0      surf          Denver-Aurora-Lakewood, CO MSA   \n",
       "3625      0.00        0.0      surf  Louisville/Jefferson County, KY-IN MSA   \n",
       "\n",
       "      messages_included  mb_per_month_included  minutes_included  \\\n",
       "0                  1000                  30720              3000   \n",
       "1                  1000                  30720              3000   \n",
       "2                  1000                  30720              3000   \n",
       "3                  1000                  30720              3000   \n",
       "4                  1000                  30720              3000   \n",
       "...                 ...                    ...               ...   \n",
       "3621                 50                  15360               500   \n",
       "3622                 50                  15360               500   \n",
       "3623                 50                  15360               500   \n",
       "3624                 50                  15360               500   \n",
       "3625                 50                  15360               500   \n",
       "\n",
       "      usd_monthly_pay  usd_per_gb  usd_per_message  usd_per_minute plan_name  \\\n",
       "0                  70           7             0.01            0.01  ultimate   \n",
       "1                  70           7             0.01            0.01  ultimate   \n",
       "2                  70           7             0.01            0.01  ultimate   \n",
       "3                  70           7             0.01            0.01  ultimate   \n",
       "4                  70           7             0.01            0.01  ultimate   \n",
       "...               ...         ...              ...             ...       ...   \n",
       "3621               20          10             0.03            0.03      surf   \n",
       "3622               20          10             0.03            0.03      surf   \n",
       "3623               20          10             0.03            0.03      surf   \n",
       "3624               20          10             0.03            0.03      surf   \n",
       "3625               20          10             0.03            0.03      surf   \n",
       "\n",
       "      minutos_cobrables  \n",
       "0                   0.0  \n",
       "1                   0.0  \n",
       "2                   0.0  \n",
       "3                   0.0  \n",
       "4                   0.0  \n",
       "...                 ...  \n",
       "3621                0.0  \n",
       "3622                0.0  \n",
       "3623                0.0  \n",
       "3624                0.0  \n",
       "3625                0.0  \n",
       "\n",
       "[3626 rows x 18 columns]"
      ]
     },
     "execution_count": 27,
     "metadata": {},
     "output_type": "execute_result"
    }
   ],
   "source": [
    "f_sales['minutos_cobrables'] = f_sales.apply(llamadas_cobrables, axis=1)\n",
    "f_sales"
   ]
  },
  {
   "cell_type": "code",
   "execution_count": 28,
   "metadata": {},
   "outputs": [],
   "source": [
    "def internet_cobrables (fila):\n",
    "    internet = fila ['mb_used']\n",
    "    extra_consumido = 0\n",
    "    \n",
    "    if internet > fila ['mb_per_month_included']:\n",
    "        extra_consumido = internet - fila ['mb_per_month_included']\n",
    "    return extra_consumido    \n",
    "\n"
   ]
  },
  {
   "cell_type": "code",
   "execution_count": 29,
   "metadata": {},
   "outputs": [
    {
     "data": {
      "text/html": [
       "<div>\n",
       "<style scoped>\n",
       "    .dataframe tbody tr th:only-of-type {\n",
       "        vertical-align: middle;\n",
       "    }\n",
       "\n",
       "    .dataframe tbody tr th {\n",
       "        vertical-align: top;\n",
       "    }\n",
       "\n",
       "    .dataframe thead th {\n",
       "        text-align: right;\n",
       "    }\n",
       "</style>\n",
       "<table border=\"1\" class=\"dataframe\">\n",
       "  <thead>\n",
       "    <tr style=\"text-align: right;\">\n",
       "      <th></th>\n",
       "      <th>user_id</th>\n",
       "      <th>mes</th>\n",
       "      <th>minutos_usados</th>\n",
       "      <th>total_llamadas</th>\n",
       "      <th>numero_de_mensajes</th>\n",
       "      <th>mb_used</th>\n",
       "      <th>gb_usados</th>\n",
       "      <th>plan</th>\n",
       "      <th>city</th>\n",
       "      <th>messages_included</th>\n",
       "      <th>mb_per_month_included</th>\n",
       "      <th>minutes_included</th>\n",
       "      <th>usd_monthly_pay</th>\n",
       "      <th>usd_per_gb</th>\n",
       "      <th>usd_per_message</th>\n",
       "      <th>usd_per_minute</th>\n",
       "      <th>plan_name</th>\n",
       "      <th>minutos_cobrables</th>\n",
       "      <th>internet_mb_cobrables</th>\n",
       "    </tr>\n",
       "  </thead>\n",
       "  <tbody>\n",
       "    <tr>\n",
       "      <th>0</th>\n",
       "      <td>1000</td>\n",
       "      <td>12.0</td>\n",
       "      <td>124.0</td>\n",
       "      <td>16.0</td>\n",
       "      <td>11.0</td>\n",
       "      <td>1901.47</td>\n",
       "      <td>2.0</td>\n",
       "      <td>ultimate</td>\n",
       "      <td>Atlanta-Sandy Springs-Roswell, GA MSA</td>\n",
       "      <td>1000</td>\n",
       "      <td>30720</td>\n",
       "      <td>3000</td>\n",
       "      <td>70</td>\n",
       "      <td>7</td>\n",
       "      <td>0.01</td>\n",
       "      <td>0.01</td>\n",
       "      <td>ultimate</td>\n",
       "      <td>0.0</td>\n",
       "      <td>0.00</td>\n",
       "    </tr>\n",
       "    <tr>\n",
       "      <th>1</th>\n",
       "      <td>1006</td>\n",
       "      <td>11.0</td>\n",
       "      <td>10.0</td>\n",
       "      <td>2.0</td>\n",
       "      <td>27.0</td>\n",
       "      <td>2068.37</td>\n",
       "      <td>3.0</td>\n",
       "      <td>ultimate</td>\n",
       "      <td>San Francisco-Oakland-Berkeley, CA MSA</td>\n",
       "      <td>1000</td>\n",
       "      <td>30720</td>\n",
       "      <td>3000</td>\n",
       "      <td>70</td>\n",
       "      <td>7</td>\n",
       "      <td>0.01</td>\n",
       "      <td>0.01</td>\n",
       "      <td>ultimate</td>\n",
       "      <td>0.0</td>\n",
       "      <td>0.00</td>\n",
       "    </tr>\n",
       "    <tr>\n",
       "      <th>2</th>\n",
       "      <td>1006</td>\n",
       "      <td>12.0</td>\n",
       "      <td>59.0</td>\n",
       "      <td>9.0</td>\n",
       "      <td>22.0</td>\n",
       "      <td>32118.82</td>\n",
       "      <td>32.0</td>\n",
       "      <td>ultimate</td>\n",
       "      <td>San Francisco-Oakland-Berkeley, CA MSA</td>\n",
       "      <td>1000</td>\n",
       "      <td>30720</td>\n",
       "      <td>3000</td>\n",
       "      <td>70</td>\n",
       "      <td>7</td>\n",
       "      <td>0.01</td>\n",
       "      <td>0.01</td>\n",
       "      <td>ultimate</td>\n",
       "      <td>0.0</td>\n",
       "      <td>1398.82</td>\n",
       "    </tr>\n",
       "    <tr>\n",
       "      <th>3</th>\n",
       "      <td>1006</td>\n",
       "      <td>5.0</td>\n",
       "      <td>0.0</td>\n",
       "      <td>0.0</td>\n",
       "      <td>10.0</td>\n",
       "      <td>0.00</td>\n",
       "      <td>0.0</td>\n",
       "      <td>ultimate</td>\n",
       "      <td>San Francisco-Oakland-Berkeley, CA MSA</td>\n",
       "      <td>1000</td>\n",
       "      <td>30720</td>\n",
       "      <td>3000</td>\n",
       "      <td>70</td>\n",
       "      <td>7</td>\n",
       "      <td>0.01</td>\n",
       "      <td>0.01</td>\n",
       "      <td>ultimate</td>\n",
       "      <td>0.0</td>\n",
       "      <td>0.00</td>\n",
       "    </tr>\n",
       "    <tr>\n",
       "      <th>4</th>\n",
       "      <td>1006</td>\n",
       "      <td>6.0</td>\n",
       "      <td>0.0</td>\n",
       "      <td>0.0</td>\n",
       "      <td>16.0</td>\n",
       "      <td>0.00</td>\n",
       "      <td>0.0</td>\n",
       "      <td>ultimate</td>\n",
       "      <td>San Francisco-Oakland-Berkeley, CA MSA</td>\n",
       "      <td>1000</td>\n",
       "      <td>30720</td>\n",
       "      <td>3000</td>\n",
       "      <td>70</td>\n",
       "      <td>7</td>\n",
       "      <td>0.01</td>\n",
       "      <td>0.01</td>\n",
       "      <td>ultimate</td>\n",
       "      <td>0.0</td>\n",
       "      <td>0.00</td>\n",
       "    </tr>\n",
       "    <tr>\n",
       "      <th>...</th>\n",
       "      <td>...</td>\n",
       "      <td>...</td>\n",
       "      <td>...</td>\n",
       "      <td>...</td>\n",
       "      <td>...</td>\n",
       "      <td>...</td>\n",
       "      <td>...</td>\n",
       "      <td>...</td>\n",
       "      <td>...</td>\n",
       "      <td>...</td>\n",
       "      <td>...</td>\n",
       "      <td>...</td>\n",
       "      <td>...</td>\n",
       "      <td>...</td>\n",
       "      <td>...</td>\n",
       "      <td>...</td>\n",
       "      <td>...</td>\n",
       "      <td>...</td>\n",
       "      <td>...</td>\n",
       "    </tr>\n",
       "    <tr>\n",
       "      <th>3621</th>\n",
       "      <td>1143</td>\n",
       "      <td>0.0</td>\n",
       "      <td>0.0</td>\n",
       "      <td>0.0</td>\n",
       "      <td>0.0</td>\n",
       "      <td>0.00</td>\n",
       "      <td>0.0</td>\n",
       "      <td>surf</td>\n",
       "      <td>Cincinnati, OH-KY-IN MSA</td>\n",
       "      <td>50</td>\n",
       "      <td>15360</td>\n",
       "      <td>500</td>\n",
       "      <td>20</td>\n",
       "      <td>10</td>\n",
       "      <td>0.03</td>\n",
       "      <td>0.03</td>\n",
       "      <td>surf</td>\n",
       "      <td>0.0</td>\n",
       "      <td>0.00</td>\n",
       "    </tr>\n",
       "    <tr>\n",
       "      <th>3622</th>\n",
       "      <td>1307</td>\n",
       "      <td>0.0</td>\n",
       "      <td>0.0</td>\n",
       "      <td>0.0</td>\n",
       "      <td>0.0</td>\n",
       "      <td>0.00</td>\n",
       "      <td>0.0</td>\n",
       "      <td>surf</td>\n",
       "      <td>Boston-Cambridge-Newton, MA-NH MSA</td>\n",
       "      <td>50</td>\n",
       "      <td>15360</td>\n",
       "      <td>500</td>\n",
       "      <td>20</td>\n",
       "      <td>10</td>\n",
       "      <td>0.03</td>\n",
       "      <td>0.03</td>\n",
       "      <td>surf</td>\n",
       "      <td>0.0</td>\n",
       "      <td>0.00</td>\n",
       "    </tr>\n",
       "    <tr>\n",
       "      <th>3623</th>\n",
       "      <td>1319</td>\n",
       "      <td>0.0</td>\n",
       "      <td>0.0</td>\n",
       "      <td>0.0</td>\n",
       "      <td>0.0</td>\n",
       "      <td>0.00</td>\n",
       "      <td>0.0</td>\n",
       "      <td>surf</td>\n",
       "      <td>Colorado Springs, CO MSA</td>\n",
       "      <td>50</td>\n",
       "      <td>15360</td>\n",
       "      <td>500</td>\n",
       "      <td>20</td>\n",
       "      <td>10</td>\n",
       "      <td>0.03</td>\n",
       "      <td>0.03</td>\n",
       "      <td>surf</td>\n",
       "      <td>0.0</td>\n",
       "      <td>0.00</td>\n",
       "    </tr>\n",
       "    <tr>\n",
       "      <th>3624</th>\n",
       "      <td>1378</td>\n",
       "      <td>0.0</td>\n",
       "      <td>0.0</td>\n",
       "      <td>0.0</td>\n",
       "      <td>0.0</td>\n",
       "      <td>0.00</td>\n",
       "      <td>0.0</td>\n",
       "      <td>surf</td>\n",
       "      <td>Denver-Aurora-Lakewood, CO MSA</td>\n",
       "      <td>50</td>\n",
       "      <td>15360</td>\n",
       "      <td>500</td>\n",
       "      <td>20</td>\n",
       "      <td>10</td>\n",
       "      <td>0.03</td>\n",
       "      <td>0.03</td>\n",
       "      <td>surf</td>\n",
       "      <td>0.0</td>\n",
       "      <td>0.00</td>\n",
       "    </tr>\n",
       "    <tr>\n",
       "      <th>3625</th>\n",
       "      <td>1473</td>\n",
       "      <td>0.0</td>\n",
       "      <td>0.0</td>\n",
       "      <td>0.0</td>\n",
       "      <td>0.0</td>\n",
       "      <td>0.00</td>\n",
       "      <td>0.0</td>\n",
       "      <td>surf</td>\n",
       "      <td>Louisville/Jefferson County, KY-IN MSA</td>\n",
       "      <td>50</td>\n",
       "      <td>15360</td>\n",
       "      <td>500</td>\n",
       "      <td>20</td>\n",
       "      <td>10</td>\n",
       "      <td>0.03</td>\n",
       "      <td>0.03</td>\n",
       "      <td>surf</td>\n",
       "      <td>0.0</td>\n",
       "      <td>0.00</td>\n",
       "    </tr>\n",
       "  </tbody>\n",
       "</table>\n",
       "<p>3626 rows × 19 columns</p>\n",
       "</div>"
      ],
      "text/plain": [
       "      user_id   mes  minutos_usados  total_llamadas  numero_de_mensajes  \\\n",
       "0        1000  12.0           124.0            16.0                11.0   \n",
       "1        1006  11.0            10.0             2.0                27.0   \n",
       "2        1006  12.0            59.0             9.0                22.0   \n",
       "3        1006   5.0             0.0             0.0                10.0   \n",
       "4        1006   6.0             0.0             0.0                16.0   \n",
       "...       ...   ...             ...             ...                 ...   \n",
       "3621     1143   0.0             0.0             0.0                 0.0   \n",
       "3622     1307   0.0             0.0             0.0                 0.0   \n",
       "3623     1319   0.0             0.0             0.0                 0.0   \n",
       "3624     1378   0.0             0.0             0.0                 0.0   \n",
       "3625     1473   0.0             0.0             0.0                 0.0   \n",
       "\n",
       "       mb_used  gb_usados      plan                                    city  \\\n",
       "0      1901.47        2.0  ultimate   Atlanta-Sandy Springs-Roswell, GA MSA   \n",
       "1      2068.37        3.0  ultimate  San Francisco-Oakland-Berkeley, CA MSA   \n",
       "2     32118.82       32.0  ultimate  San Francisco-Oakland-Berkeley, CA MSA   \n",
       "3         0.00        0.0  ultimate  San Francisco-Oakland-Berkeley, CA MSA   \n",
       "4         0.00        0.0  ultimate  San Francisco-Oakland-Berkeley, CA MSA   \n",
       "...        ...        ...       ...                                     ...   \n",
       "3621      0.00        0.0      surf                Cincinnati, OH-KY-IN MSA   \n",
       "3622      0.00        0.0      surf      Boston-Cambridge-Newton, MA-NH MSA   \n",
       "3623      0.00        0.0      surf                Colorado Springs, CO MSA   \n",
       "3624      0.00        0.0      surf          Denver-Aurora-Lakewood, CO MSA   \n",
       "3625      0.00        0.0      surf  Louisville/Jefferson County, KY-IN MSA   \n",
       "\n",
       "      messages_included  mb_per_month_included  minutes_included  \\\n",
       "0                  1000                  30720              3000   \n",
       "1                  1000                  30720              3000   \n",
       "2                  1000                  30720              3000   \n",
       "3                  1000                  30720              3000   \n",
       "4                  1000                  30720              3000   \n",
       "...                 ...                    ...               ...   \n",
       "3621                 50                  15360               500   \n",
       "3622                 50                  15360               500   \n",
       "3623                 50                  15360               500   \n",
       "3624                 50                  15360               500   \n",
       "3625                 50                  15360               500   \n",
       "\n",
       "      usd_monthly_pay  usd_per_gb  usd_per_message  usd_per_minute plan_name  \\\n",
       "0                  70           7             0.01            0.01  ultimate   \n",
       "1                  70           7             0.01            0.01  ultimate   \n",
       "2                  70           7             0.01            0.01  ultimate   \n",
       "3                  70           7             0.01            0.01  ultimate   \n",
       "4                  70           7             0.01            0.01  ultimate   \n",
       "...               ...         ...              ...             ...       ...   \n",
       "3621               20          10             0.03            0.03      surf   \n",
       "3622               20          10             0.03            0.03      surf   \n",
       "3623               20          10             0.03            0.03      surf   \n",
       "3624               20          10             0.03            0.03      surf   \n",
       "3625               20          10             0.03            0.03      surf   \n",
       "\n",
       "      minutos_cobrables  internet_mb_cobrables  \n",
       "0                   0.0                   0.00  \n",
       "1                   0.0                   0.00  \n",
       "2                   0.0                1398.82  \n",
       "3                   0.0                   0.00  \n",
       "4                   0.0                   0.00  \n",
       "...                 ...                    ...  \n",
       "3621                0.0                   0.00  \n",
       "3622                0.0                   0.00  \n",
       "3623                0.0                   0.00  \n",
       "3624                0.0                   0.00  \n",
       "3625                0.0                   0.00  \n",
       "\n",
       "[3626 rows x 19 columns]"
      ]
     },
     "execution_count": 29,
     "metadata": {},
     "output_type": "execute_result"
    }
   ],
   "source": [
    "f_sales['internet_mb_cobrables'] = f_sales.apply(internet_cobrables, axis=1)\n",
    "f_sales"
   ]
  },
  {
   "cell_type": "code",
   "execution_count": 30,
   "metadata": {},
   "outputs": [],
   "source": [
    "def mensajes_cobrables(fila):\n",
    "    mensajes = fila['numero_de_mensajes']\n",
    "    extra_consumido = 0\n",
    "    \n",
    "    if mensajes > fila['messages_included']:\n",
    "        extra_consumido = mensajes - fila['messages_included']\n",
    "        \n",
    "    return extra_consumido\n",
    "        \n",
    "      \n"
   ]
  },
  {
   "cell_type": "code",
   "execution_count": 31,
   "metadata": {},
   "outputs": [
    {
     "data": {
      "text/html": [
       "<div>\n",
       "<style scoped>\n",
       "    .dataframe tbody tr th:only-of-type {\n",
       "        vertical-align: middle;\n",
       "    }\n",
       "\n",
       "    .dataframe tbody tr th {\n",
       "        vertical-align: top;\n",
       "    }\n",
       "\n",
       "    .dataframe thead th {\n",
       "        text-align: right;\n",
       "    }\n",
       "</style>\n",
       "<table border=\"1\" class=\"dataframe\">\n",
       "  <thead>\n",
       "    <tr style=\"text-align: right;\">\n",
       "      <th></th>\n",
       "      <th>user_id</th>\n",
       "      <th>mes</th>\n",
       "      <th>minutos_usados</th>\n",
       "      <th>total_llamadas</th>\n",
       "      <th>numero_de_mensajes</th>\n",
       "      <th>mb_used</th>\n",
       "      <th>gb_usados</th>\n",
       "      <th>plan</th>\n",
       "      <th>city</th>\n",
       "      <th>messages_included</th>\n",
       "      <th>mb_per_month_included</th>\n",
       "      <th>minutes_included</th>\n",
       "      <th>usd_monthly_pay</th>\n",
       "      <th>usd_per_gb</th>\n",
       "      <th>usd_per_message</th>\n",
       "      <th>usd_per_minute</th>\n",
       "      <th>plan_name</th>\n",
       "      <th>minutos_cobrables</th>\n",
       "      <th>internet_mb_cobrables</th>\n",
       "      <th>mensajes_cobrables</th>\n",
       "    </tr>\n",
       "  </thead>\n",
       "  <tbody>\n",
       "    <tr>\n",
       "      <th>0</th>\n",
       "      <td>1000</td>\n",
       "      <td>12.0</td>\n",
       "      <td>124.0</td>\n",
       "      <td>16.0</td>\n",
       "      <td>11.0</td>\n",
       "      <td>1901.47</td>\n",
       "      <td>2.0</td>\n",
       "      <td>ultimate</td>\n",
       "      <td>Atlanta-Sandy Springs-Roswell, GA MSA</td>\n",
       "      <td>1000</td>\n",
       "      <td>30720</td>\n",
       "      <td>3000</td>\n",
       "      <td>70</td>\n",
       "      <td>7</td>\n",
       "      <td>0.01</td>\n",
       "      <td>0.01</td>\n",
       "      <td>ultimate</td>\n",
       "      <td>0.0</td>\n",
       "      <td>0.00</td>\n",
       "      <td>0.0</td>\n",
       "    </tr>\n",
       "    <tr>\n",
       "      <th>1</th>\n",
       "      <td>1006</td>\n",
       "      <td>11.0</td>\n",
       "      <td>10.0</td>\n",
       "      <td>2.0</td>\n",
       "      <td>27.0</td>\n",
       "      <td>2068.37</td>\n",
       "      <td>3.0</td>\n",
       "      <td>ultimate</td>\n",
       "      <td>San Francisco-Oakland-Berkeley, CA MSA</td>\n",
       "      <td>1000</td>\n",
       "      <td>30720</td>\n",
       "      <td>3000</td>\n",
       "      <td>70</td>\n",
       "      <td>7</td>\n",
       "      <td>0.01</td>\n",
       "      <td>0.01</td>\n",
       "      <td>ultimate</td>\n",
       "      <td>0.0</td>\n",
       "      <td>0.00</td>\n",
       "      <td>0.0</td>\n",
       "    </tr>\n",
       "    <tr>\n",
       "      <th>2</th>\n",
       "      <td>1006</td>\n",
       "      <td>12.0</td>\n",
       "      <td>59.0</td>\n",
       "      <td>9.0</td>\n",
       "      <td>22.0</td>\n",
       "      <td>32118.82</td>\n",
       "      <td>32.0</td>\n",
       "      <td>ultimate</td>\n",
       "      <td>San Francisco-Oakland-Berkeley, CA MSA</td>\n",
       "      <td>1000</td>\n",
       "      <td>30720</td>\n",
       "      <td>3000</td>\n",
       "      <td>70</td>\n",
       "      <td>7</td>\n",
       "      <td>0.01</td>\n",
       "      <td>0.01</td>\n",
       "      <td>ultimate</td>\n",
       "      <td>0.0</td>\n",
       "      <td>1398.82</td>\n",
       "      <td>0.0</td>\n",
       "    </tr>\n",
       "    <tr>\n",
       "      <th>3</th>\n",
       "      <td>1006</td>\n",
       "      <td>5.0</td>\n",
       "      <td>0.0</td>\n",
       "      <td>0.0</td>\n",
       "      <td>10.0</td>\n",
       "      <td>0.00</td>\n",
       "      <td>0.0</td>\n",
       "      <td>ultimate</td>\n",
       "      <td>San Francisco-Oakland-Berkeley, CA MSA</td>\n",
       "      <td>1000</td>\n",
       "      <td>30720</td>\n",
       "      <td>3000</td>\n",
       "      <td>70</td>\n",
       "      <td>7</td>\n",
       "      <td>0.01</td>\n",
       "      <td>0.01</td>\n",
       "      <td>ultimate</td>\n",
       "      <td>0.0</td>\n",
       "      <td>0.00</td>\n",
       "      <td>0.0</td>\n",
       "    </tr>\n",
       "    <tr>\n",
       "      <th>4</th>\n",
       "      <td>1006</td>\n",
       "      <td>6.0</td>\n",
       "      <td>0.0</td>\n",
       "      <td>0.0</td>\n",
       "      <td>16.0</td>\n",
       "      <td>0.00</td>\n",
       "      <td>0.0</td>\n",
       "      <td>ultimate</td>\n",
       "      <td>San Francisco-Oakland-Berkeley, CA MSA</td>\n",
       "      <td>1000</td>\n",
       "      <td>30720</td>\n",
       "      <td>3000</td>\n",
       "      <td>70</td>\n",
       "      <td>7</td>\n",
       "      <td>0.01</td>\n",
       "      <td>0.01</td>\n",
       "      <td>ultimate</td>\n",
       "      <td>0.0</td>\n",
       "      <td>0.00</td>\n",
       "      <td>0.0</td>\n",
       "    </tr>\n",
       "    <tr>\n",
       "      <th>...</th>\n",
       "      <td>...</td>\n",
       "      <td>...</td>\n",
       "      <td>...</td>\n",
       "      <td>...</td>\n",
       "      <td>...</td>\n",
       "      <td>...</td>\n",
       "      <td>...</td>\n",
       "      <td>...</td>\n",
       "      <td>...</td>\n",
       "      <td>...</td>\n",
       "      <td>...</td>\n",
       "      <td>...</td>\n",
       "      <td>...</td>\n",
       "      <td>...</td>\n",
       "      <td>...</td>\n",
       "      <td>...</td>\n",
       "      <td>...</td>\n",
       "      <td>...</td>\n",
       "      <td>...</td>\n",
       "      <td>...</td>\n",
       "    </tr>\n",
       "    <tr>\n",
       "      <th>3621</th>\n",
       "      <td>1143</td>\n",
       "      <td>0.0</td>\n",
       "      <td>0.0</td>\n",
       "      <td>0.0</td>\n",
       "      <td>0.0</td>\n",
       "      <td>0.00</td>\n",
       "      <td>0.0</td>\n",
       "      <td>surf</td>\n",
       "      <td>Cincinnati, OH-KY-IN MSA</td>\n",
       "      <td>50</td>\n",
       "      <td>15360</td>\n",
       "      <td>500</td>\n",
       "      <td>20</td>\n",
       "      <td>10</td>\n",
       "      <td>0.03</td>\n",
       "      <td>0.03</td>\n",
       "      <td>surf</td>\n",
       "      <td>0.0</td>\n",
       "      <td>0.00</td>\n",
       "      <td>0.0</td>\n",
       "    </tr>\n",
       "    <tr>\n",
       "      <th>3622</th>\n",
       "      <td>1307</td>\n",
       "      <td>0.0</td>\n",
       "      <td>0.0</td>\n",
       "      <td>0.0</td>\n",
       "      <td>0.0</td>\n",
       "      <td>0.00</td>\n",
       "      <td>0.0</td>\n",
       "      <td>surf</td>\n",
       "      <td>Boston-Cambridge-Newton, MA-NH MSA</td>\n",
       "      <td>50</td>\n",
       "      <td>15360</td>\n",
       "      <td>500</td>\n",
       "      <td>20</td>\n",
       "      <td>10</td>\n",
       "      <td>0.03</td>\n",
       "      <td>0.03</td>\n",
       "      <td>surf</td>\n",
       "      <td>0.0</td>\n",
       "      <td>0.00</td>\n",
       "      <td>0.0</td>\n",
       "    </tr>\n",
       "    <tr>\n",
       "      <th>3623</th>\n",
       "      <td>1319</td>\n",
       "      <td>0.0</td>\n",
       "      <td>0.0</td>\n",
       "      <td>0.0</td>\n",
       "      <td>0.0</td>\n",
       "      <td>0.00</td>\n",
       "      <td>0.0</td>\n",
       "      <td>surf</td>\n",
       "      <td>Colorado Springs, CO MSA</td>\n",
       "      <td>50</td>\n",
       "      <td>15360</td>\n",
       "      <td>500</td>\n",
       "      <td>20</td>\n",
       "      <td>10</td>\n",
       "      <td>0.03</td>\n",
       "      <td>0.03</td>\n",
       "      <td>surf</td>\n",
       "      <td>0.0</td>\n",
       "      <td>0.00</td>\n",
       "      <td>0.0</td>\n",
       "    </tr>\n",
       "    <tr>\n",
       "      <th>3624</th>\n",
       "      <td>1378</td>\n",
       "      <td>0.0</td>\n",
       "      <td>0.0</td>\n",
       "      <td>0.0</td>\n",
       "      <td>0.0</td>\n",
       "      <td>0.00</td>\n",
       "      <td>0.0</td>\n",
       "      <td>surf</td>\n",
       "      <td>Denver-Aurora-Lakewood, CO MSA</td>\n",
       "      <td>50</td>\n",
       "      <td>15360</td>\n",
       "      <td>500</td>\n",
       "      <td>20</td>\n",
       "      <td>10</td>\n",
       "      <td>0.03</td>\n",
       "      <td>0.03</td>\n",
       "      <td>surf</td>\n",
       "      <td>0.0</td>\n",
       "      <td>0.00</td>\n",
       "      <td>0.0</td>\n",
       "    </tr>\n",
       "    <tr>\n",
       "      <th>3625</th>\n",
       "      <td>1473</td>\n",
       "      <td>0.0</td>\n",
       "      <td>0.0</td>\n",
       "      <td>0.0</td>\n",
       "      <td>0.0</td>\n",
       "      <td>0.00</td>\n",
       "      <td>0.0</td>\n",
       "      <td>surf</td>\n",
       "      <td>Louisville/Jefferson County, KY-IN MSA</td>\n",
       "      <td>50</td>\n",
       "      <td>15360</td>\n",
       "      <td>500</td>\n",
       "      <td>20</td>\n",
       "      <td>10</td>\n",
       "      <td>0.03</td>\n",
       "      <td>0.03</td>\n",
       "      <td>surf</td>\n",
       "      <td>0.0</td>\n",
       "      <td>0.00</td>\n",
       "      <td>0.0</td>\n",
       "    </tr>\n",
       "  </tbody>\n",
       "</table>\n",
       "<p>3626 rows × 20 columns</p>\n",
       "</div>"
      ],
      "text/plain": [
       "      user_id   mes  minutos_usados  total_llamadas  numero_de_mensajes  \\\n",
       "0        1000  12.0           124.0            16.0                11.0   \n",
       "1        1006  11.0            10.0             2.0                27.0   \n",
       "2        1006  12.0            59.0             9.0                22.0   \n",
       "3        1006   5.0             0.0             0.0                10.0   \n",
       "4        1006   6.0             0.0             0.0                16.0   \n",
       "...       ...   ...             ...             ...                 ...   \n",
       "3621     1143   0.0             0.0             0.0                 0.0   \n",
       "3622     1307   0.0             0.0             0.0                 0.0   \n",
       "3623     1319   0.0             0.0             0.0                 0.0   \n",
       "3624     1378   0.0             0.0             0.0                 0.0   \n",
       "3625     1473   0.0             0.0             0.0                 0.0   \n",
       "\n",
       "       mb_used  gb_usados      plan                                    city  \\\n",
       "0      1901.47        2.0  ultimate   Atlanta-Sandy Springs-Roswell, GA MSA   \n",
       "1      2068.37        3.0  ultimate  San Francisco-Oakland-Berkeley, CA MSA   \n",
       "2     32118.82       32.0  ultimate  San Francisco-Oakland-Berkeley, CA MSA   \n",
       "3         0.00        0.0  ultimate  San Francisco-Oakland-Berkeley, CA MSA   \n",
       "4         0.00        0.0  ultimate  San Francisco-Oakland-Berkeley, CA MSA   \n",
       "...        ...        ...       ...                                     ...   \n",
       "3621      0.00        0.0      surf                Cincinnati, OH-KY-IN MSA   \n",
       "3622      0.00        0.0      surf      Boston-Cambridge-Newton, MA-NH MSA   \n",
       "3623      0.00        0.0      surf                Colorado Springs, CO MSA   \n",
       "3624      0.00        0.0      surf          Denver-Aurora-Lakewood, CO MSA   \n",
       "3625      0.00        0.0      surf  Louisville/Jefferson County, KY-IN MSA   \n",
       "\n",
       "      messages_included  mb_per_month_included  minutes_included  \\\n",
       "0                  1000                  30720              3000   \n",
       "1                  1000                  30720              3000   \n",
       "2                  1000                  30720              3000   \n",
       "3                  1000                  30720              3000   \n",
       "4                  1000                  30720              3000   \n",
       "...                 ...                    ...               ...   \n",
       "3621                 50                  15360               500   \n",
       "3622                 50                  15360               500   \n",
       "3623                 50                  15360               500   \n",
       "3624                 50                  15360               500   \n",
       "3625                 50                  15360               500   \n",
       "\n",
       "      usd_monthly_pay  usd_per_gb  usd_per_message  usd_per_minute plan_name  \\\n",
       "0                  70           7             0.01            0.01  ultimate   \n",
       "1                  70           7             0.01            0.01  ultimate   \n",
       "2                  70           7             0.01            0.01  ultimate   \n",
       "3                  70           7             0.01            0.01  ultimate   \n",
       "4                  70           7             0.01            0.01  ultimate   \n",
       "...               ...         ...              ...             ...       ...   \n",
       "3621               20          10             0.03            0.03      surf   \n",
       "3622               20          10             0.03            0.03      surf   \n",
       "3623               20          10             0.03            0.03      surf   \n",
       "3624               20          10             0.03            0.03      surf   \n",
       "3625               20          10             0.03            0.03      surf   \n",
       "\n",
       "      minutos_cobrables  internet_mb_cobrables  mensajes_cobrables  \n",
       "0                   0.0                   0.00                 0.0  \n",
       "1                   0.0                   0.00                 0.0  \n",
       "2                   0.0                1398.82                 0.0  \n",
       "3                   0.0                   0.00                 0.0  \n",
       "4                   0.0                   0.00                 0.0  \n",
       "...                 ...                    ...                 ...  \n",
       "3621                0.0                   0.00                 0.0  \n",
       "3622                0.0                   0.00                 0.0  \n",
       "3623                0.0                   0.00                 0.0  \n",
       "3624                0.0                   0.00                 0.0  \n",
       "3625                0.0                   0.00                 0.0  \n",
       "\n",
       "[3626 rows x 20 columns]"
      ]
     },
     "execution_count": 31,
     "metadata": {},
     "output_type": "execute_result"
    }
   ],
   "source": [
    "f_sales['mensajes_cobrables'] = f_sales.apply(mensajes_cobrables, axis=1)\n",
    "f_sales"
   ]
  },
  {
   "cell_type": "code",
   "execution_count": 32,
   "metadata": {},
   "outputs": [
    {
     "data": {
      "text/html": [
       "<div>\n",
       "<style scoped>\n",
       "    .dataframe tbody tr th:only-of-type {\n",
       "        vertical-align: middle;\n",
       "    }\n",
       "\n",
       "    .dataframe tbody tr th {\n",
       "        vertical-align: top;\n",
       "    }\n",
       "\n",
       "    .dataframe thead th {\n",
       "        text-align: right;\n",
       "    }\n",
       "</style>\n",
       "<table border=\"1\" class=\"dataframe\">\n",
       "  <thead>\n",
       "    <tr style=\"text-align: right;\">\n",
       "      <th></th>\n",
       "      <th>user_id</th>\n",
       "      <th>mes</th>\n",
       "      <th>minutos_usados</th>\n",
       "      <th>total_llamadas</th>\n",
       "      <th>numero_de_mensajes</th>\n",
       "      <th>mb_used</th>\n",
       "      <th>gb_usados</th>\n",
       "      <th>plan</th>\n",
       "      <th>city</th>\n",
       "      <th>messages_included</th>\n",
       "      <th>...</th>\n",
       "      <th>minutes_included</th>\n",
       "      <th>usd_monthly_pay</th>\n",
       "      <th>usd_per_gb</th>\n",
       "      <th>usd_per_message</th>\n",
       "      <th>usd_per_minute</th>\n",
       "      <th>plan_name</th>\n",
       "      <th>minutos_cobrables</th>\n",
       "      <th>internet_mb_cobrables</th>\n",
       "      <th>mensajes_cobrables</th>\n",
       "      <th>internet_gb_cobrables</th>\n",
       "    </tr>\n",
       "  </thead>\n",
       "  <tbody>\n",
       "    <tr>\n",
       "      <th>0</th>\n",
       "      <td>1000</td>\n",
       "      <td>12.0</td>\n",
       "      <td>124.0</td>\n",
       "      <td>16.0</td>\n",
       "      <td>11.0</td>\n",
       "      <td>1901.47</td>\n",
       "      <td>2.0</td>\n",
       "      <td>ultimate</td>\n",
       "      <td>Atlanta-Sandy Springs-Roswell, GA MSA</td>\n",
       "      <td>1000</td>\n",
       "      <td>...</td>\n",
       "      <td>3000</td>\n",
       "      <td>70</td>\n",
       "      <td>7</td>\n",
       "      <td>0.01</td>\n",
       "      <td>0.01</td>\n",
       "      <td>ultimate</td>\n",
       "      <td>0.0</td>\n",
       "      <td>0.00</td>\n",
       "      <td>0.0</td>\n",
       "      <td>0.0</td>\n",
       "    </tr>\n",
       "    <tr>\n",
       "      <th>1</th>\n",
       "      <td>1006</td>\n",
       "      <td>11.0</td>\n",
       "      <td>10.0</td>\n",
       "      <td>2.0</td>\n",
       "      <td>27.0</td>\n",
       "      <td>2068.37</td>\n",
       "      <td>3.0</td>\n",
       "      <td>ultimate</td>\n",
       "      <td>San Francisco-Oakland-Berkeley, CA MSA</td>\n",
       "      <td>1000</td>\n",
       "      <td>...</td>\n",
       "      <td>3000</td>\n",
       "      <td>70</td>\n",
       "      <td>7</td>\n",
       "      <td>0.01</td>\n",
       "      <td>0.01</td>\n",
       "      <td>ultimate</td>\n",
       "      <td>0.0</td>\n",
       "      <td>0.00</td>\n",
       "      <td>0.0</td>\n",
       "      <td>0.0</td>\n",
       "    </tr>\n",
       "    <tr>\n",
       "      <th>2</th>\n",
       "      <td>1006</td>\n",
       "      <td>12.0</td>\n",
       "      <td>59.0</td>\n",
       "      <td>9.0</td>\n",
       "      <td>22.0</td>\n",
       "      <td>32118.82</td>\n",
       "      <td>32.0</td>\n",
       "      <td>ultimate</td>\n",
       "      <td>San Francisco-Oakland-Berkeley, CA MSA</td>\n",
       "      <td>1000</td>\n",
       "      <td>...</td>\n",
       "      <td>3000</td>\n",
       "      <td>70</td>\n",
       "      <td>7</td>\n",
       "      <td>0.01</td>\n",
       "      <td>0.01</td>\n",
       "      <td>ultimate</td>\n",
       "      <td>0.0</td>\n",
       "      <td>1398.82</td>\n",
       "      <td>0.0</td>\n",
       "      <td>2.0</td>\n",
       "    </tr>\n",
       "    <tr>\n",
       "      <th>3</th>\n",
       "      <td>1006</td>\n",
       "      <td>5.0</td>\n",
       "      <td>0.0</td>\n",
       "      <td>0.0</td>\n",
       "      <td>10.0</td>\n",
       "      <td>0.00</td>\n",
       "      <td>0.0</td>\n",
       "      <td>ultimate</td>\n",
       "      <td>San Francisco-Oakland-Berkeley, CA MSA</td>\n",
       "      <td>1000</td>\n",
       "      <td>...</td>\n",
       "      <td>3000</td>\n",
       "      <td>70</td>\n",
       "      <td>7</td>\n",
       "      <td>0.01</td>\n",
       "      <td>0.01</td>\n",
       "      <td>ultimate</td>\n",
       "      <td>0.0</td>\n",
       "      <td>0.00</td>\n",
       "      <td>0.0</td>\n",
       "      <td>0.0</td>\n",
       "    </tr>\n",
       "    <tr>\n",
       "      <th>4</th>\n",
       "      <td>1006</td>\n",
       "      <td>6.0</td>\n",
       "      <td>0.0</td>\n",
       "      <td>0.0</td>\n",
       "      <td>16.0</td>\n",
       "      <td>0.00</td>\n",
       "      <td>0.0</td>\n",
       "      <td>ultimate</td>\n",
       "      <td>San Francisco-Oakland-Berkeley, CA MSA</td>\n",
       "      <td>1000</td>\n",
       "      <td>...</td>\n",
       "      <td>3000</td>\n",
       "      <td>70</td>\n",
       "      <td>7</td>\n",
       "      <td>0.01</td>\n",
       "      <td>0.01</td>\n",
       "      <td>ultimate</td>\n",
       "      <td>0.0</td>\n",
       "      <td>0.00</td>\n",
       "      <td>0.0</td>\n",
       "      <td>0.0</td>\n",
       "    </tr>\n",
       "    <tr>\n",
       "      <th>...</th>\n",
       "      <td>...</td>\n",
       "      <td>...</td>\n",
       "      <td>...</td>\n",
       "      <td>...</td>\n",
       "      <td>...</td>\n",
       "      <td>...</td>\n",
       "      <td>...</td>\n",
       "      <td>...</td>\n",
       "      <td>...</td>\n",
       "      <td>...</td>\n",
       "      <td>...</td>\n",
       "      <td>...</td>\n",
       "      <td>...</td>\n",
       "      <td>...</td>\n",
       "      <td>...</td>\n",
       "      <td>...</td>\n",
       "      <td>...</td>\n",
       "      <td>...</td>\n",
       "      <td>...</td>\n",
       "      <td>...</td>\n",
       "      <td>...</td>\n",
       "    </tr>\n",
       "    <tr>\n",
       "      <th>3621</th>\n",
       "      <td>1143</td>\n",
       "      <td>0.0</td>\n",
       "      <td>0.0</td>\n",
       "      <td>0.0</td>\n",
       "      <td>0.0</td>\n",
       "      <td>0.00</td>\n",
       "      <td>0.0</td>\n",
       "      <td>surf</td>\n",
       "      <td>Cincinnati, OH-KY-IN MSA</td>\n",
       "      <td>50</td>\n",
       "      <td>...</td>\n",
       "      <td>500</td>\n",
       "      <td>20</td>\n",
       "      <td>10</td>\n",
       "      <td>0.03</td>\n",
       "      <td>0.03</td>\n",
       "      <td>surf</td>\n",
       "      <td>0.0</td>\n",
       "      <td>0.00</td>\n",
       "      <td>0.0</td>\n",
       "      <td>0.0</td>\n",
       "    </tr>\n",
       "    <tr>\n",
       "      <th>3622</th>\n",
       "      <td>1307</td>\n",
       "      <td>0.0</td>\n",
       "      <td>0.0</td>\n",
       "      <td>0.0</td>\n",
       "      <td>0.0</td>\n",
       "      <td>0.00</td>\n",
       "      <td>0.0</td>\n",
       "      <td>surf</td>\n",
       "      <td>Boston-Cambridge-Newton, MA-NH MSA</td>\n",
       "      <td>50</td>\n",
       "      <td>...</td>\n",
       "      <td>500</td>\n",
       "      <td>20</td>\n",
       "      <td>10</td>\n",
       "      <td>0.03</td>\n",
       "      <td>0.03</td>\n",
       "      <td>surf</td>\n",
       "      <td>0.0</td>\n",
       "      <td>0.00</td>\n",
       "      <td>0.0</td>\n",
       "      <td>0.0</td>\n",
       "    </tr>\n",
       "    <tr>\n",
       "      <th>3623</th>\n",
       "      <td>1319</td>\n",
       "      <td>0.0</td>\n",
       "      <td>0.0</td>\n",
       "      <td>0.0</td>\n",
       "      <td>0.0</td>\n",
       "      <td>0.00</td>\n",
       "      <td>0.0</td>\n",
       "      <td>surf</td>\n",
       "      <td>Colorado Springs, CO MSA</td>\n",
       "      <td>50</td>\n",
       "      <td>...</td>\n",
       "      <td>500</td>\n",
       "      <td>20</td>\n",
       "      <td>10</td>\n",
       "      <td>0.03</td>\n",
       "      <td>0.03</td>\n",
       "      <td>surf</td>\n",
       "      <td>0.0</td>\n",
       "      <td>0.00</td>\n",
       "      <td>0.0</td>\n",
       "      <td>0.0</td>\n",
       "    </tr>\n",
       "    <tr>\n",
       "      <th>3624</th>\n",
       "      <td>1378</td>\n",
       "      <td>0.0</td>\n",
       "      <td>0.0</td>\n",
       "      <td>0.0</td>\n",
       "      <td>0.0</td>\n",
       "      <td>0.00</td>\n",
       "      <td>0.0</td>\n",
       "      <td>surf</td>\n",
       "      <td>Denver-Aurora-Lakewood, CO MSA</td>\n",
       "      <td>50</td>\n",
       "      <td>...</td>\n",
       "      <td>500</td>\n",
       "      <td>20</td>\n",
       "      <td>10</td>\n",
       "      <td>0.03</td>\n",
       "      <td>0.03</td>\n",
       "      <td>surf</td>\n",
       "      <td>0.0</td>\n",
       "      <td>0.00</td>\n",
       "      <td>0.0</td>\n",
       "      <td>0.0</td>\n",
       "    </tr>\n",
       "    <tr>\n",
       "      <th>3625</th>\n",
       "      <td>1473</td>\n",
       "      <td>0.0</td>\n",
       "      <td>0.0</td>\n",
       "      <td>0.0</td>\n",
       "      <td>0.0</td>\n",
       "      <td>0.00</td>\n",
       "      <td>0.0</td>\n",
       "      <td>surf</td>\n",
       "      <td>Louisville/Jefferson County, KY-IN MSA</td>\n",
       "      <td>50</td>\n",
       "      <td>...</td>\n",
       "      <td>500</td>\n",
       "      <td>20</td>\n",
       "      <td>10</td>\n",
       "      <td>0.03</td>\n",
       "      <td>0.03</td>\n",
       "      <td>surf</td>\n",
       "      <td>0.0</td>\n",
       "      <td>0.00</td>\n",
       "      <td>0.0</td>\n",
       "      <td>0.0</td>\n",
       "    </tr>\n",
       "  </tbody>\n",
       "</table>\n",
       "<p>3626 rows × 21 columns</p>\n",
       "</div>"
      ],
      "text/plain": [
       "      user_id   mes  minutos_usados  total_llamadas  numero_de_mensajes  \\\n",
       "0        1000  12.0           124.0            16.0                11.0   \n",
       "1        1006  11.0            10.0             2.0                27.0   \n",
       "2        1006  12.0            59.0             9.0                22.0   \n",
       "3        1006   5.0             0.0             0.0                10.0   \n",
       "4        1006   6.0             0.0             0.0                16.0   \n",
       "...       ...   ...             ...             ...                 ...   \n",
       "3621     1143   0.0             0.0             0.0                 0.0   \n",
       "3622     1307   0.0             0.0             0.0                 0.0   \n",
       "3623     1319   0.0             0.0             0.0                 0.0   \n",
       "3624     1378   0.0             0.0             0.0                 0.0   \n",
       "3625     1473   0.0             0.0             0.0                 0.0   \n",
       "\n",
       "       mb_used  gb_usados      plan                                    city  \\\n",
       "0      1901.47        2.0  ultimate   Atlanta-Sandy Springs-Roswell, GA MSA   \n",
       "1      2068.37        3.0  ultimate  San Francisco-Oakland-Berkeley, CA MSA   \n",
       "2     32118.82       32.0  ultimate  San Francisco-Oakland-Berkeley, CA MSA   \n",
       "3         0.00        0.0  ultimate  San Francisco-Oakland-Berkeley, CA MSA   \n",
       "4         0.00        0.0  ultimate  San Francisco-Oakland-Berkeley, CA MSA   \n",
       "...        ...        ...       ...                                     ...   \n",
       "3621      0.00        0.0      surf                Cincinnati, OH-KY-IN MSA   \n",
       "3622      0.00        0.0      surf      Boston-Cambridge-Newton, MA-NH MSA   \n",
       "3623      0.00        0.0      surf                Colorado Springs, CO MSA   \n",
       "3624      0.00        0.0      surf          Denver-Aurora-Lakewood, CO MSA   \n",
       "3625      0.00        0.0      surf  Louisville/Jefferson County, KY-IN MSA   \n",
       "\n",
       "      messages_included  ...  minutes_included  usd_monthly_pay  usd_per_gb  \\\n",
       "0                  1000  ...              3000               70           7   \n",
       "1                  1000  ...              3000               70           7   \n",
       "2                  1000  ...              3000               70           7   \n",
       "3                  1000  ...              3000               70           7   \n",
       "4                  1000  ...              3000               70           7   \n",
       "...                 ...  ...               ...              ...         ...   \n",
       "3621                 50  ...               500               20          10   \n",
       "3622                 50  ...               500               20          10   \n",
       "3623                 50  ...               500               20          10   \n",
       "3624                 50  ...               500               20          10   \n",
       "3625                 50  ...               500               20          10   \n",
       "\n",
       "      usd_per_message  usd_per_minute  plan_name minutos_cobrables  \\\n",
       "0                0.01            0.01   ultimate               0.0   \n",
       "1                0.01            0.01   ultimate               0.0   \n",
       "2                0.01            0.01   ultimate               0.0   \n",
       "3                0.01            0.01   ultimate               0.0   \n",
       "4                0.01            0.01   ultimate               0.0   \n",
       "...               ...             ...        ...               ...   \n",
       "3621             0.03            0.03       surf               0.0   \n",
       "3622             0.03            0.03       surf               0.0   \n",
       "3623             0.03            0.03       surf               0.0   \n",
       "3624             0.03            0.03       surf               0.0   \n",
       "3625             0.03            0.03       surf               0.0   \n",
       "\n",
       "      internet_mb_cobrables  mensajes_cobrables  internet_gb_cobrables  \n",
       "0                      0.00                 0.0                    0.0  \n",
       "1                      0.00                 0.0                    0.0  \n",
       "2                   1398.82                 0.0                    2.0  \n",
       "3                      0.00                 0.0                    0.0  \n",
       "4                      0.00                 0.0                    0.0  \n",
       "...                     ...                 ...                    ...  \n",
       "3621                   0.00                 0.0                    0.0  \n",
       "3622                   0.00                 0.0                    0.0  \n",
       "3623                   0.00                 0.0                    0.0  \n",
       "3624                   0.00                 0.0                    0.0  \n",
       "3625                   0.00                 0.0                    0.0  \n",
       "\n",
       "[3626 rows x 21 columns]"
      ]
     },
     "execution_count": 32,
     "metadata": {},
     "output_type": "execute_result"
    }
   ],
   "source": [
    "f_sales['internet_gb_cobrables'] = f_sales['internet_mb_cobrables'].apply(redondeo_gb)\n",
    "f_sales"
   ]
  },
  {
   "cell_type": "code",
   "execution_count": 33,
   "metadata": {},
   "outputs": [],
   "source": [
    "def ingreso_mensual(fila):\n",
    "    extra_llamadas = fila['minutos_cobrables']\n",
    "    extra_mensajes = fila['mensajes_cobrables']\n",
    "    extra_internet = fila['internet_gb_cobrables']\n",
    "    \n",
    "    total_venta = fila['usd_monthly_pay'] + (extra_llamadas * fila['usd_per_minute'] + extra_mensajes * fila['usd_per_message'] + extra_internet * fila['usd_per_gb'])\n",
    "    \n",
    "    return total_venta\n"
   ]
  },
  {
   "cell_type": "code",
   "execution_count": 34,
   "metadata": {
    "scrolled": true
   },
   "outputs": [
    {
     "data": {
      "text/html": [
       "<div>\n",
       "<style scoped>\n",
       "    .dataframe tbody tr th:only-of-type {\n",
       "        vertical-align: middle;\n",
       "    }\n",
       "\n",
       "    .dataframe tbody tr th {\n",
       "        vertical-align: top;\n",
       "    }\n",
       "\n",
       "    .dataframe thead th {\n",
       "        text-align: right;\n",
       "    }\n",
       "</style>\n",
       "<table border=\"1\" class=\"dataframe\">\n",
       "  <thead>\n",
       "    <tr style=\"text-align: right;\">\n",
       "      <th></th>\n",
       "      <th>user_id</th>\n",
       "      <th>mes</th>\n",
       "      <th>minutos_usados</th>\n",
       "      <th>total_llamadas</th>\n",
       "      <th>numero_de_mensajes</th>\n",
       "      <th>mb_used</th>\n",
       "      <th>gb_usados</th>\n",
       "      <th>plan</th>\n",
       "      <th>city</th>\n",
       "      <th>messages_included</th>\n",
       "      <th>...</th>\n",
       "      <th>usd_monthly_pay</th>\n",
       "      <th>usd_per_gb</th>\n",
       "      <th>usd_per_message</th>\n",
       "      <th>usd_per_minute</th>\n",
       "      <th>plan_name</th>\n",
       "      <th>minutos_cobrables</th>\n",
       "      <th>internet_mb_cobrables</th>\n",
       "      <th>mensajes_cobrables</th>\n",
       "      <th>internet_gb_cobrables</th>\n",
       "      <th>ingreso_mensual</th>\n",
       "    </tr>\n",
       "  </thead>\n",
       "  <tbody>\n",
       "    <tr>\n",
       "      <th>0</th>\n",
       "      <td>1000</td>\n",
       "      <td>12.0</td>\n",
       "      <td>124.0</td>\n",
       "      <td>16.0</td>\n",
       "      <td>11.0</td>\n",
       "      <td>1901.47</td>\n",
       "      <td>2.0</td>\n",
       "      <td>ultimate</td>\n",
       "      <td>Atlanta-Sandy Springs-Roswell, GA MSA</td>\n",
       "      <td>1000</td>\n",
       "      <td>...</td>\n",
       "      <td>70</td>\n",
       "      <td>7</td>\n",
       "      <td>0.01</td>\n",
       "      <td>0.01</td>\n",
       "      <td>ultimate</td>\n",
       "      <td>0.0</td>\n",
       "      <td>0.00</td>\n",
       "      <td>0.0</td>\n",
       "      <td>0.0</td>\n",
       "      <td>70.0</td>\n",
       "    </tr>\n",
       "    <tr>\n",
       "      <th>1</th>\n",
       "      <td>1006</td>\n",
       "      <td>11.0</td>\n",
       "      <td>10.0</td>\n",
       "      <td>2.0</td>\n",
       "      <td>27.0</td>\n",
       "      <td>2068.37</td>\n",
       "      <td>3.0</td>\n",
       "      <td>ultimate</td>\n",
       "      <td>San Francisco-Oakland-Berkeley, CA MSA</td>\n",
       "      <td>1000</td>\n",
       "      <td>...</td>\n",
       "      <td>70</td>\n",
       "      <td>7</td>\n",
       "      <td>0.01</td>\n",
       "      <td>0.01</td>\n",
       "      <td>ultimate</td>\n",
       "      <td>0.0</td>\n",
       "      <td>0.00</td>\n",
       "      <td>0.0</td>\n",
       "      <td>0.0</td>\n",
       "      <td>70.0</td>\n",
       "    </tr>\n",
       "    <tr>\n",
       "      <th>2</th>\n",
       "      <td>1006</td>\n",
       "      <td>12.0</td>\n",
       "      <td>59.0</td>\n",
       "      <td>9.0</td>\n",
       "      <td>22.0</td>\n",
       "      <td>32118.82</td>\n",
       "      <td>32.0</td>\n",
       "      <td>ultimate</td>\n",
       "      <td>San Francisco-Oakland-Berkeley, CA MSA</td>\n",
       "      <td>1000</td>\n",
       "      <td>...</td>\n",
       "      <td>70</td>\n",
       "      <td>7</td>\n",
       "      <td>0.01</td>\n",
       "      <td>0.01</td>\n",
       "      <td>ultimate</td>\n",
       "      <td>0.0</td>\n",
       "      <td>1398.82</td>\n",
       "      <td>0.0</td>\n",
       "      <td>2.0</td>\n",
       "      <td>84.0</td>\n",
       "    </tr>\n",
       "    <tr>\n",
       "      <th>3</th>\n",
       "      <td>1006</td>\n",
       "      <td>5.0</td>\n",
       "      <td>0.0</td>\n",
       "      <td>0.0</td>\n",
       "      <td>10.0</td>\n",
       "      <td>0.00</td>\n",
       "      <td>0.0</td>\n",
       "      <td>ultimate</td>\n",
       "      <td>San Francisco-Oakland-Berkeley, CA MSA</td>\n",
       "      <td>1000</td>\n",
       "      <td>...</td>\n",
       "      <td>70</td>\n",
       "      <td>7</td>\n",
       "      <td>0.01</td>\n",
       "      <td>0.01</td>\n",
       "      <td>ultimate</td>\n",
       "      <td>0.0</td>\n",
       "      <td>0.00</td>\n",
       "      <td>0.0</td>\n",
       "      <td>0.0</td>\n",
       "      <td>70.0</td>\n",
       "    </tr>\n",
       "    <tr>\n",
       "      <th>4</th>\n",
       "      <td>1006</td>\n",
       "      <td>6.0</td>\n",
       "      <td>0.0</td>\n",
       "      <td>0.0</td>\n",
       "      <td>16.0</td>\n",
       "      <td>0.00</td>\n",
       "      <td>0.0</td>\n",
       "      <td>ultimate</td>\n",
       "      <td>San Francisco-Oakland-Berkeley, CA MSA</td>\n",
       "      <td>1000</td>\n",
       "      <td>...</td>\n",
       "      <td>70</td>\n",
       "      <td>7</td>\n",
       "      <td>0.01</td>\n",
       "      <td>0.01</td>\n",
       "      <td>ultimate</td>\n",
       "      <td>0.0</td>\n",
       "      <td>0.00</td>\n",
       "      <td>0.0</td>\n",
       "      <td>0.0</td>\n",
       "      <td>70.0</td>\n",
       "    </tr>\n",
       "  </tbody>\n",
       "</table>\n",
       "<p>5 rows × 22 columns</p>\n",
       "</div>"
      ],
      "text/plain": [
       "   user_id   mes  minutos_usados  total_llamadas  numero_de_mensajes  \\\n",
       "0     1000  12.0           124.0            16.0                11.0   \n",
       "1     1006  11.0            10.0             2.0                27.0   \n",
       "2     1006  12.0            59.0             9.0                22.0   \n",
       "3     1006   5.0             0.0             0.0                10.0   \n",
       "4     1006   6.0             0.0             0.0                16.0   \n",
       "\n",
       "    mb_used  gb_usados      plan                                    city  \\\n",
       "0   1901.47        2.0  ultimate   Atlanta-Sandy Springs-Roswell, GA MSA   \n",
       "1   2068.37        3.0  ultimate  San Francisco-Oakland-Berkeley, CA MSA   \n",
       "2  32118.82       32.0  ultimate  San Francisco-Oakland-Berkeley, CA MSA   \n",
       "3      0.00        0.0  ultimate  San Francisco-Oakland-Berkeley, CA MSA   \n",
       "4      0.00        0.0  ultimate  San Francisco-Oakland-Berkeley, CA MSA   \n",
       "\n",
       "   messages_included  ...  usd_monthly_pay  usd_per_gb  usd_per_message  \\\n",
       "0               1000  ...               70           7             0.01   \n",
       "1               1000  ...               70           7             0.01   \n",
       "2               1000  ...               70           7             0.01   \n",
       "3               1000  ...               70           7             0.01   \n",
       "4               1000  ...               70           7             0.01   \n",
       "\n",
       "   usd_per_minute  plan_name  minutos_cobrables internet_mb_cobrables  \\\n",
       "0            0.01   ultimate                0.0                  0.00   \n",
       "1            0.01   ultimate                0.0                  0.00   \n",
       "2            0.01   ultimate                0.0               1398.82   \n",
       "3            0.01   ultimate                0.0                  0.00   \n",
       "4            0.01   ultimate                0.0                  0.00   \n",
       "\n",
       "   mensajes_cobrables  internet_gb_cobrables  ingreso_mensual  \n",
       "0                 0.0                    0.0             70.0  \n",
       "1                 0.0                    0.0             70.0  \n",
       "2                 0.0                    2.0             84.0  \n",
       "3                 0.0                    0.0             70.0  \n",
       "4                 0.0                    0.0             70.0  \n",
       "\n",
       "[5 rows x 22 columns]"
      ]
     },
     "execution_count": 34,
     "metadata": {},
     "output_type": "execute_result"
    }
   ],
   "source": [
    "f_sales['ingreso_mensual'] = f_sales.apply(ingreso_mensual, axis = 1 )\n",
    "f_sales.head()"
   ]
  },
  {
   "cell_type": "markdown",
   "metadata": {
    "id": "-jtyHzJb0q1I"
   },
   "source": [
    "## Estudia el comportamiento de usuario"
   ]
  },
  {
   "cell_type": "markdown",
   "metadata": {
    "id": "vtW4CJEe0q1J"
   },
   "source": [
    "### Llamadas"
   ]
  },
  {
   "cell_type": "code",
   "execution_count": 35,
   "metadata": {},
   "outputs": [
    {
     "name": "stdout",
     "output_type": "stream",
     "text": [
      "ultimate\n",
      "Media\n",
      "263.31690739167374\n",
      "Varianza\n",
      "79412.1826475705\n",
      "Desviación estandar\n",
      "281.8016725421808\n",
      "Moda\n",
      "0    0.0\n",
      "dtype: float64\n",
      "Mediana\n",
      "213.0\n",
      "None\n",
      "\n",
      "surf\n",
      "Media\n",
      "275.38709677419354\n",
      "Varianza\n",
      "77549.54372232764\n",
      "Desviación estandar\n",
      "278.4771870770165\n",
      "Moda\n",
      "0    0.0\n",
      "dtype: float64\n",
      "Mediana\n",
      "251.0\n",
      "None\n"
     ]
    }
   ],
   "source": [
    "ultimate_minutos = f_sales.query('plan == \"ultimate\"')[['minutos_usados','mes']].reset_index(drop=True) #Compara la duración promedio de llamadas por cada plan y por cada mes. Traza un gráfico de barras para visualizarla.\n",
    "surf_minutos = f_sales.query('plan == \"surf\"')[['minutos_usados','mes']].reset_index(drop=True)\n",
    "\n",
    "def estadistica(datos):\n",
    "    print('Media')\n",
    "    print(datos.mean())\n",
    "    print('Varianza')\n",
    "    print(datos.var())\n",
    "    print('Desviación estandar')\n",
    "    print(datos.std())\n",
    "    print('Moda')\n",
    "    print(datos.mode())\n",
    "    print('Mediana')\n",
    "    print(datos.median())\n",
    "    \n",
    "print('ultimate')\n",
    "print(estadistica(ultimate_minutos['minutos_usados']))\n",
    "print()\n",
    "print('surf')\n",
    "print(estadistica(surf_minutos['minutos_usados']))"
   ]
  },
  {
   "cell_type": "markdown",
   "metadata": {},
   "source": [
    "<div class=\"alert alert-block alert-success\">\n",
    "<b>Comentario del revisor. (Iteración 2) </b> <a class=\"tocSkip\"></a>\n",
    "\n",
    "Muy bien! Excelente observación de la varianza!!!!"
   ]
  },
  {
   "cell_type": "markdown",
   "metadata": {},
   "source": [
    "<div class=\"alert alert-block alert-warning\">\n",
    "<b>Comentario del revisor. (Iteración 1) </b> <a class=\"tocSkip\"></a>\n",
    "\n",
    "¿Qué piensas? Aquí creo que valdría la pena colocar tu interpretación de la desviación estandar. ¿Cómo podemos interpretar este número?"
   ]
  },
  {
   "cell_type": "markdown",
   "metadata": {},
   "source": [
    "<div class=\"alert alert-block alert-info\">\n",
    "<b>Respuesta de estudiante.</b> <a class=\"tocSkip\"></a>\n",
    "\n",
    "Sii!\n",
    "Con respecto a la varianza y la desviación estar que tenemos por los resultados del df. Podemos observar que en el plan Ultimate,\n",
    "Tenemos una desviación estandar más elevada. Esto nos quiere decir que en promedio los valores estan más alejados de la medía,\n",
    "lo cual podemos concluir que el consumo de los usuarios tiene una tendencía irregular con respecto a la medía. "
   ]
  },
  {
   "cell_type": "code",
   "execution_count": 36,
   "metadata": {
    "id": "Jf5v5--k0q1J"
   },
   "outputs": [
    {
     "name": "stdout",
     "output_type": "stream",
     "text": [
      "Minutos de Ultimate promedio por mes\n",
      "     mes  minutos_usados\n",
      "0    0.0        0.000000\n",
      "1    1.0       77.400000\n",
      "2    2.0      141.100000\n",
      "3    3.0       93.615385\n",
      "4    4.0       98.250000\n",
      "5    5.0      135.413793\n",
      "6    6.0      158.500000\n",
      "7    7.0      209.975000\n",
      "8    8.0      226.681818\n",
      "9    9.0      278.711111\n",
      "10  10.0      338.851064\n",
      "11  11.0      376.933333\n",
      "12  12.0      441.554140\n",
      "Minutos de Surf promedio por mes\n",
      "     mes  minutos_usados\n",
      "0    0.0        0.000000\n",
      "1    1.0       31.230769\n",
      "2    2.0       66.825000\n",
      "3    3.0      105.416667\n",
      "4    4.0      133.159091\n",
      "5    5.0      164.534759\n",
      "6    6.0      184.299559\n",
      "7    7.0      216.924303\n",
      "8    8.0      245.158672\n",
      "9    9.0      272.406780\n",
      "10  10.0      329.598706\n",
      "11  11.0      377.921136\n",
      "12  12.0      457.993921\n"
     ]
    }
   ],
   "source": [
    "ultimate_minutos_prom = ultimate_minutos.groupby('mes')['minutos_usados'].mean().reset_index()\n",
    "surf_minutos_prom = surf_minutos.groupby('mes')['minutos_usados'].mean().reset_index()\n",
    "#Compara la duración promedio de llamadas por cada plan y por cada mes. Traza un gráfico de barras para visualizarla.\n",
    "print('Minutos de Ultimate promedio por mes')\n",
    "print(ultimate_minutos_prom)\n",
    "print('Minutos de Surf promedio por mes')\n",
    "print(surf_minutos_prom)"
   ]
  },
  {
   "cell_type": "code",
   "execution_count": 37,
   "metadata": {},
   "outputs": [
    {
     "data": {
      "text/html": [
       "<div>\n",
       "<style scoped>\n",
       "    .dataframe tbody tr th:only-of-type {\n",
       "        vertical-align: middle;\n",
       "    }\n",
       "\n",
       "    .dataframe tbody tr th {\n",
       "        vertical-align: top;\n",
       "    }\n",
       "\n",
       "    .dataframe thead th {\n",
       "        text-align: right;\n",
       "    }\n",
       "</style>\n",
       "<table border=\"1\" class=\"dataframe\">\n",
       "  <thead>\n",
       "    <tr style=\"text-align: right;\">\n",
       "      <th></th>\n",
       "      <th>mes</th>\n",
       "      <th>minutos_usados_ultimate</th>\n",
       "      <th>minutos_usados_surf</th>\n",
       "    </tr>\n",
       "  </thead>\n",
       "  <tbody>\n",
       "    <tr>\n",
       "      <th>0</th>\n",
       "      <td>0.0</td>\n",
       "      <td>0.000000</td>\n",
       "      <td>0.000000</td>\n",
       "    </tr>\n",
       "    <tr>\n",
       "      <th>1</th>\n",
       "      <td>1.0</td>\n",
       "      <td>77.400000</td>\n",
       "      <td>31.230769</td>\n",
       "    </tr>\n",
       "    <tr>\n",
       "      <th>2</th>\n",
       "      <td>2.0</td>\n",
       "      <td>141.100000</td>\n",
       "      <td>66.825000</td>\n",
       "    </tr>\n",
       "    <tr>\n",
       "      <th>3</th>\n",
       "      <td>3.0</td>\n",
       "      <td>93.615385</td>\n",
       "      <td>105.416667</td>\n",
       "    </tr>\n",
       "    <tr>\n",
       "      <th>4</th>\n",
       "      <td>4.0</td>\n",
       "      <td>98.250000</td>\n",
       "      <td>133.159091</td>\n",
       "    </tr>\n",
       "    <tr>\n",
       "      <th>5</th>\n",
       "      <td>5.0</td>\n",
       "      <td>135.413793</td>\n",
       "      <td>164.534759</td>\n",
       "    </tr>\n",
       "    <tr>\n",
       "      <th>6</th>\n",
       "      <td>6.0</td>\n",
       "      <td>158.500000</td>\n",
       "      <td>184.299559</td>\n",
       "    </tr>\n",
       "    <tr>\n",
       "      <th>7</th>\n",
       "      <td>7.0</td>\n",
       "      <td>209.975000</td>\n",
       "      <td>216.924303</td>\n",
       "    </tr>\n",
       "    <tr>\n",
       "      <th>8</th>\n",
       "      <td>8.0</td>\n",
       "      <td>226.681818</td>\n",
       "      <td>245.158672</td>\n",
       "    </tr>\n",
       "    <tr>\n",
       "      <th>9</th>\n",
       "      <td>9.0</td>\n",
       "      <td>278.711111</td>\n",
       "      <td>272.406780</td>\n",
       "    </tr>\n",
       "    <tr>\n",
       "      <th>10</th>\n",
       "      <td>10.0</td>\n",
       "      <td>338.851064</td>\n",
       "      <td>329.598706</td>\n",
       "    </tr>\n",
       "    <tr>\n",
       "      <th>11</th>\n",
       "      <td>11.0</td>\n",
       "      <td>376.933333</td>\n",
       "      <td>377.921136</td>\n",
       "    </tr>\n",
       "    <tr>\n",
       "      <th>12</th>\n",
       "      <td>12.0</td>\n",
       "      <td>441.554140</td>\n",
       "      <td>457.993921</td>\n",
       "    </tr>\n",
       "  </tbody>\n",
       "</table>\n",
       "</div>"
      ],
      "text/plain": [
       "     mes  minutos_usados_ultimate  minutos_usados_surf\n",
       "0    0.0                 0.000000             0.000000\n",
       "1    1.0                77.400000            31.230769\n",
       "2    2.0               141.100000            66.825000\n",
       "3    3.0                93.615385           105.416667\n",
       "4    4.0                98.250000           133.159091\n",
       "5    5.0               135.413793           164.534759\n",
       "6    6.0               158.500000           184.299559\n",
       "7    7.0               209.975000           216.924303\n",
       "8    8.0               226.681818           245.158672\n",
       "9    9.0               278.711111           272.406780\n",
       "10  10.0               338.851064           329.598706\n",
       "11  11.0               376.933333           377.921136\n",
       "12  12.0               441.554140           457.993921"
      ]
     },
     "execution_count": 37,
     "metadata": {},
     "output_type": "execute_result"
    }
   ],
   "source": [
    "min_us_surf_utimate = ultimate_minutos_prom.merge(surf_minutos_prom, on = 'mes')\n",
    "min_us_surf_utimate.columns=['mes','minutos_usados_ultimate','minutos_usados_surf']\n",
    "min_us_surf_utimate\n"
   ]
  },
  {
   "cell_type": "code",
   "execution_count": 38,
   "metadata": {},
   "outputs": [
    {
     "data": {
      "image/png": "[encoded data removed]",
      "text/plain": [
       "<Figure size 640x480 with 1 Axes>"
      ]
     },
     "metadata": {},
     "output_type": "display_data"
    }
   ],
   "source": [
    "min_us_surf_utimate.plot(kind='bar', x = 'mes', y = ['minutos_usados_ultimate','minutos_usados_surf'], ylabel='Promedio por mes', title = 'Minutos usados en Ultimate y Surf')\n",
    "plt.show()"
   ]
  },
  {
   "cell_type": "markdown",
   "metadata": {},
   "source": [
    "<div class=\"alert alert-block alert-success\">\n",
    "<b>Comentario del revisor. (Iteración 1) </b> <a class=\"tocSkip\"></a>\n",
    "\n",
    "Me parece correcto el gráfico, solamente tengo una sugerencia y esta sería no olvidar el título del mismo, pues esto puede hacerlo más legible."
   ]
  },
  {
   "cell_type": "markdown",
   "metadata": {},
   "source": [
    "<div class=\"alert alert-block alert-warning\">\n",
    "<b>Comentario del revisor. (Iteración 1) </b> <a class=\"tocSkip\"></a>\n",
    "\n",
    "Otra sugerencia que tengo aquí es la de colocar ambos gráficos en uno solo, para tener una mejor comparación de ambos planes. ¿Qué dices?"
   ]
  },
  {
   "cell_type": "markdown",
   "metadata": {},
   "source": [
    "\n",
    "<div class=\"alert alert-block alert-info\">\n",
    "<b>Respuesta de estudiante.</b> <a class=\"tocSkip\"></a>\n",
    "\n",
    "\n",
    "Listo! se ve mucho mejor! y se puede observar y comparar de mejor manera. "
   ]
  },
  {
   "cell_type": "markdown",
   "metadata": {},
   "source": [
    "<div class=\"alert alert-block alert-success\">\n",
    "<b>Comentario del revisor. (Iteración 2) </b> <a class=\"tocSkip\"></a>\n",
    "\n",
    "Totalmente de acuerdo, ahora ya es más facil el comparar los minutos usados. Muy bien!"
   ]
  },
  {
   "cell_type": "code",
   "execution_count": 39,
   "metadata": {
    "id": "QoLqW1S_0q1J"
   },
   "outputs": [
    {
     "name": "stdout",
     "output_type": "stream",
     "text": [
      "Minutos tot del plan Ultimate por mes\n",
      "     mes  minutos_usados\n",
      "0    0.0             0.0\n",
      "1    1.0           774.0\n",
      "2    2.0          2822.0\n",
      "3    3.0          3651.0\n",
      "4    4.0          7074.0\n",
      "5    5.0         11781.0\n",
      "6    6.0         17435.0\n",
      "7    7.0         25197.0\n",
      "8    8.0         29922.0\n",
      "9    9.0         37626.0\n",
      "10  10.0         47778.0\n",
      "11  11.0         56540.0\n",
      "12  12.0         69324.0\n",
      "Minutos tot del plan Surf por mes\n",
      "     mes  minutos_usados\n",
      "0    0.0             0.0\n",
      "1    1.0           406.0\n",
      "2    2.0          2673.0\n",
      "3    3.0          7590.0\n",
      "4    4.0         17577.0\n",
      "5    5.0         30768.0\n",
      "6    6.0         41836.0\n",
      "7    7.0         54448.0\n",
      "8    8.0         66438.0\n",
      "9    9.0         80360.0\n",
      "10  10.0        101846.0\n",
      "11  11.0        119801.0\n",
      "12  12.0        150680.0\n"
     ]
    }
   ],
   "source": [
    "ultimate_minutos_tot = ultimate_minutos.groupby('mes')['minutos_usados'].sum().reset_index()\n",
    "surf_minutos_tot = surf_minutos.groupby('mes')['minutos_usados'].sum().reset_index() # Compara el número de minutos mensuales que necesitan los usuarios de cada plan. Traza un histograma.\n",
    "print('Minutos tot del plan Ultimate por mes')\n",
    "print(ultimate_minutos_tot)  \n",
    "print('Minutos tot del plan Surf por mes')\n",
    "print(surf_minutos_tot)"
   ]
  },
  {
   "cell_type": "code",
   "execution_count": 65,
   "metadata": {},
   "outputs": [
    {
     "data": {
      "image/png": "[encoded data removed]",
      "text/plain": [
       "<Figure size 640x480 with 1 Axes>"
      ]
     },
     "metadata": {},
     "output_type": "display_data"
    }
   ],
   "source": [
    "ultimate_minutos['minutos_usados'].plot(kind='hist',\n",
    "                      bins=20,\n",
    "                      title='Minutos usados',\n",
    "                      ylabel='Frequency',alpha = 0.8)\n",
    "\n",
    "surf_minutos['minutos_usados'].plot(kind='hist',bins=10, alpha=0.3)\n",
    "plt.legend(['ultimate_minutos','surf_minutos'])\n",
    "plt.show()"
   ]
  },
  {
   "cell_type": "code",
   "execution_count": 74,
   "metadata": {
    "id": "oSndbAnt0q1K"
   },
   "outputs": [
    {
     "name": "stdout",
     "output_type": "stream",
     "text": [
      "mes\n",
      "0.0       0.000000\n",
      "1.0      31.230769\n",
      "2.0      66.825000\n",
      "3.0     105.416667\n",
      "4.0     133.159091\n",
      "5.0     164.534759\n",
      "6.0     184.299559\n",
      "7.0     216.924303\n",
      "8.0     245.158672\n",
      "9.0     272.406780\n",
      "10.0    329.598706\n",
      "11.0    377.921136\n",
      "12.0    457.993921\n",
      "Name: minutos_usados, dtype: float64\n",
      "\n",
      "mes\n",
      "0.0         0.000000\n",
      "1.0      7131.692308\n",
      "2.0     26488.968590\n",
      "3.0     35104.133803\n",
      "4.0     48327.875260\n",
      "5.0     63297.465183\n",
      "6.0     65090.086858\n",
      "7.0     80040.870247\n",
      "8.0     72994.808063\n",
      "9.0     69352.643491\n",
      "10.0    73167.961817\n",
      "11.0    63267.781735\n",
      "12.0    68773.518256\n",
      "Name: minutos_usados, dtype: float64\n"
     ]
    }
   ],
   "source": [
    "print(surf_minutos.groupby('mes')['minutos_usados'].mean())\n",
    "print()\n",
    "print(surf_minutos.groupby('mes')['minutos_usados'].var())# Calcula la media y la varianza de la duración mensual de llamadas.\n",
    "\n"
   ]
  },
  {
   "cell_type": "code",
   "execution_count": 96,
   "metadata": {
    "id": "nZzoRUKc0q1K"
   },
   "outputs": [
    {
     "data": {
      "image/png": "[encoded data removed]",
      "text/plain": [
       "<Figure size 1900x500 with 2 Axes>"
      ]
     },
     "metadata": {},
     "output_type": "display_data"
    }
   ],
   "source": [
    "#sns.boxplot(surf_minutos['minutos_usados'])\n",
    "#plt.show()\n",
    "# Traza un diagrama de caja para visualizar la distribución de la duración mensual de llamadas\n",
    "fig, ax=plt.subplots(1,2, figsize= (19,5))\n",
    "ax[0].set_title('Distribución duración mensual Surf')\n",
    "ax[0].boxplot(surf_minutos['minutos_usados'])\n",
    "ax[1].boxplot(ultimate_minutos['minutos_usados'])\n",
    "ax[1].set_title('Distribución de duración mensual Ultimate')\n",
    "plt.show()"
   ]
  },
  {
   "cell_type": "markdown",
   "metadata": {
    "id": "r627zBO50q1K"
   },
   "source": [
    "Realizamos este analisis despues de unir los DF y crear las variables correspondientes para sacar el ingreso de la compañia en lo que corresponde a los planes telefonicos antes mencionados. \n",
    "Podemos observar que la media del numero de llamadas es mayor en el plan Surf y como podemos observar en la grafica, va el numero de llamadas va incrementando el promedio de llamadas conforme a los meses a ecepción del mes de febrero en el plan ultimate que incremento de manera anormal. \n",
    "En los hsitogramas observamos que hay más numero de llamadas en el plan Surf y que se disftribuyen de manera muy similar al paso de los meses. \n",
    "En los boxplot podemos observar que la media esta entre los 250 aprox y que tenemos en el plan Surf más valoes o consumos atipicos que en el plan Ultimate"
   ]
  },
  {
   "cell_type": "markdown",
   "metadata": {
    "id": "8idKy8Wh0q1L"
   },
   "source": [
    "### Mensajes"
   ]
  },
  {
   "cell_type": "code",
   "execution_count": 98,
   "metadata": {
    "id": "NXLxiTit0q1L"
   },
   "outputs": [
    {
     "name": "stdout",
     "output_type": "stream",
     "text": [
      "ultimate\n",
      "Media\n",
      "22.97111299915038\n",
      "Varianza\n",
      "981.9923621105196\n",
      "Desviación estandar\n",
      "31.336757364324082\n",
      "Moda\n",
      "0    0.0\n",
      "dtype: float64\n",
      "Mediana\n",
      "12.0\n",
      "None\n",
      "\n",
      "surf\n",
      "Media\n",
      "20.013883217639854\n",
      "Varianza\n",
      "868.4385326677287\n",
      "Desviación estandar\n",
      "29.4692811698509\n",
      "Moda\n",
      "0    0.0\n",
      "dtype: float64\n",
      "Mediana\n",
      "10.0\n",
      "None\n"
     ]
    }
   ],
   "source": [
    "ultimate_mensajes = f_sales.query('plan == \"ultimate\"')[['numero_de_mensajes','mes']].reset_index(drop=True)\n",
    "surf_mensajes = f_sales.query('plan == \"surf\"')[['numero_de_mensajes','mes']].reset_index(drop=True)\n",
    "    \n",
    "    \n",
    "print('ultimate')\n",
    "print(estadistica(ultimate_mensajes['numero_de_mensajes']))\n",
    "print()\n",
    "print('surf')\n",
    "print(estadistica(surf_mensajes['numero_de_mensajes']))"
   ]
  },
  {
   "cell_type": "code",
   "execution_count": 114,
   "metadata": {
    "id": "GRI_R7xF0q1L"
   },
   "outputs": [
    {
     "name": "stdout",
     "output_type": "stream",
     "text": [
      "Numero de mensajes enviados por mes en el plan Ultimate\n",
      "     mes  numero_de_mensajes\n",
      "0    0.0                 0.0\n",
      "1    1.0                57.0\n",
      "2    2.0               158.0\n",
      "3    3.0               447.0\n",
      "4    4.0               742.0\n",
      "5    5.0              1204.0\n",
      "6    6.0              1717.0\n",
      "7    7.0              2307.0\n",
      "8    8.0              2822.0\n",
      "9    9.0              3175.0\n",
      "10  10.0              4133.0\n",
      "11  11.0              4625.0\n",
      "12  12.0              5650.0\n",
      "Numero de mensajes enviados por mes en plan Surf\n",
      "     mes  numero_de_mensajes\n",
      "0    0.0                 0.0\n",
      "1    1.0                73.0\n",
      "2    2.0               381.0\n",
      "3    3.0               581.0\n",
      "4    4.0              1294.0\n",
      "5    5.0              2366.0\n",
      "6    6.0              2951.0\n",
      "7    7.0              4066.0\n",
      "8    8.0              4850.0\n",
      "9    9.0              5686.0\n",
      "10  10.0              7486.0\n",
      "11  11.0              8478.0\n",
      "12  12.0             10802.0\n"
     ]
    }
   ],
   "source": [
    "print('Numero de mensajes enviados por mes en el plan Ultimate')\n",
    "ult_mens_env = ultimate_mensajes.groupby('mes')['numero_de_mensajes'].sum().reset_index()\n",
    "print(ult_mens_env)\n",
    "print('Numero de mensajes enviados por mes en plan Surf')\n",
    "surf_mens_env = surf_mensajes.groupby('mes')['numero_de_mensajes'].sum().reset_index()\n",
    "print(surf_mens_env)"
   ]
  },
  {
   "cell_type": "code",
   "execution_count": 117,
   "metadata": {
    "id": "dtFwCGAp0q1M"
   },
   "outputs": [
    {
     "data": {
      "image/png": "[encoded data removed]",
      "text/plain": [
       "<Figure size 640x480 with 1 Axes>"
      ]
     },
     "metadata": {},
     "output_type": "display_data"
    }
   ],
   "source": [
    "men_env_surf_ult = ult_mens_env.merge(surf_mens_env, on = 'mes')\n",
    "men_env_surf_ult.columns= ['mes','numero_de_men_ultimate','num_mens_surf']\n",
    "men_env_surf_ult .plot(kind='bar',x='mes',title='Mensajes enviados', y = ['numero_de_men_ultimate','num_mens_surf'])\n",
    "plt.show()\n",
    "#surf_mens_env.plot(kind='bar',x='mes',title='Mensajes Surf')\n",
    "#plt.show()"
   ]
  },
  {
   "cell_type": "code",
   "execution_count": 118,
   "metadata": {},
   "outputs": [
    {
     "data": {
      "image/png": "[encoded data removed]",
      "text/plain": [
       "<Figure size 1900x500 with 2 Axes>"
      ]
     },
     "metadata": {},
     "output_type": "display_data"
    }
   ],
   "source": [
    "fig, ax=plt.subplots(1,2, figsize= (19,5))\n",
    "ax[0].set_title('Distribución de mensajes mensual Surf')\n",
    "ax[0].boxplot(ult_mens_env['numero_de_mensajes'])\n",
    "ax[1].boxplot(surf_mens_env['numero_de_mensajes'])\n",
    "ax[1].set_title('Distribución de mensajes mensual Ultimate')\n",
    "plt.show()"
   ]
  },
  {
   "cell_type": "markdown",
   "metadata": {
    "id": "390SSL480q1M"
   },
   "source": [
    "En base a los resultados podemos observar que la media de los mensjaes enviados en el plan Ultimate es un poco mayor que en el Surf. Sin embargo, en el plan Surf se han enviado más mensajes que los que tienen el plan ultimate. Y como observamos en las graficas de barras la cantidad de mensajes va incrementando con respecto a los meses trascurridos. "
   ]
  },
  {
   "cell_type": "markdown",
   "metadata": {
    "id": "42YSypXz0q1M"
   },
   "source": [
    "### Internet"
   ]
  },
  {
   "cell_type": "code",
   "execution_count": 101,
   "metadata": {
    "id": "lSuKPtjh0q1M"
   },
   "outputs": [
    {
     "name": "stdout",
     "output_type": "stream",
     "text": [
      "ultimate\n",
      "Media\n",
      "10.587085811384878\n",
      "Varianza\n",
      "107.17289430640565\n",
      "Desviación estandar\n",
      "10.35243422130301\n",
      "Moda\n",
      "0    0.0\n",
      "dtype: float64\n",
      "Mediana\n",
      "11.0\n",
      "None\n",
      "\n",
      "surf\n",
      "Media\n",
      "10.70763576970192\n",
      "Varianza\n",
      "103.42265817447165\n",
      "Desviación estandar\n",
      "10.16969312095855\n",
      "Moda\n",
      "0    0.0\n",
      "dtype: float64\n",
      "Mediana\n",
      "11.0\n",
      "None\n"
     ]
    }
   ],
   "source": [
    "ultimate_int = f_sales.query('plan == \"ultimate\"')[['gb_usados','mes']].reset_index(drop=True)\n",
    "surf_int = f_sales.query('plan == \"surf\"')[['gb_usados','mes']].reset_index(drop=True)\n",
    "\n",
    "print('ultimate')\n",
    "print(estadistica(ultimate_int['gb_usados']))\n",
    "print()\n",
    "print('surf')\n",
    "print(estadistica(surf_int['gb_usados']))"
   ]
  },
  {
   "cell_type": "code",
   "execution_count": 119,
   "metadata": {
    "id": "wnh8jYXi0q1N"
   },
   "outputs": [
    {
     "name": "stdout",
     "output_type": "stream",
     "text": [
      "GB usados por mes en ultimate\n",
      "     mes  gb_usados\n",
      "0    0.0        0.0\n",
      "1    1.0       29.0\n",
      "2    2.0      121.0\n",
      "3    3.0      221.0\n",
      "4    4.0      343.0\n",
      "5    5.0      489.0\n",
      "6    6.0      725.0\n",
      "7    7.0      973.0\n",
      "8    8.0     1267.0\n",
      "9    9.0     1463.0\n",
      "10  10.0     1878.0\n",
      "11  11.0     2174.0\n",
      "12  12.0     2778.0\n",
      "GB usados por mes en Surf\n",
      "     mes  gb_usados\n",
      "0    0.0        0.0\n",
      "1    1.0       10.0\n",
      "2    2.0      110.0\n",
      "3    3.0      312.0\n",
      "4    4.0      611.0\n",
      "5    5.0     1087.0\n",
      "6    6.0     1502.0\n",
      "7    7.0     2042.0\n",
      "8    8.0     2735.0\n",
      "9    9.0     3238.0\n",
      "10  10.0     4126.0\n",
      "11  11.0     4650.0\n",
      "12  12.0     5800.0\n"
     ]
    }
   ],
   "source": [
    "ult_int = ultimate_int.groupby('mes')['gb_usados'].sum().reset_index()\n",
    "surf_int_us = surf_int.groupby('mes')['gb_usados'].sum().reset_index()\n",
    "print('GB usados por mes en ultimate')\n",
    "print(ult_int)\n",
    "print('GB usados por mes en Surf')\n",
    "print(surf_int_us)"
   ]
  },
  {
   "cell_type": "code",
   "execution_count": 123,
   "metadata": {
    "id": "5VlyJ9ry0q1N"
   },
   "outputs": [
    {
     "data": {
      "text/plain": [
       "<AxesSubplot:title={'center':'GB usados'}, xlabel='mes'>"
      ]
     },
     "execution_count": 123,
     "metadata": {},
     "output_type": "execute_result"
    },
    {
     "data": {
      "image/png": "[encoded data removed]",
      "text/plain": [
       "<Figure size 640x480 with 1 Axes>"
      ]
     },
     "metadata": {},
     "output_type": "display_data"
    }
   ],
   "source": [
    "int_surf_ult = ult_int.merge(surf_int_us, on = 'mes')\n",
    "int_surf_ult.columns = ['mes','gb_ult','gb_surf']\n",
    "int_surf_ult.plot(kind='bar',x='mes',title='GB usados', y = ['gb_ult','gb_surf'])"
   ]
  },
  {
   "cell_type": "code",
   "execution_count": 124,
   "metadata": {
    "scrolled": true
   },
   "outputs": [
    {
     "data": {
      "image/png": "[encoded data removed]",
      "text/plain": [
       "<Figure size 1900x500 with 2 Axes>"
      ]
     },
     "metadata": {},
     "output_type": "display_data"
    }
   ],
   "source": [
    "fig, ax=plt.subplots(1,2, figsize= (19,5))\n",
    "ax[0].set_title('Distribución de gb mensual Ultimate')\n",
    "ax[0].boxplot(ult_int['gb_usados'])\n",
    "ax[1].boxplot(surf_int_us['gb_usados'])\n",
    "ax[1].set_title('Distribución de gb mensual Surf')\n",
    "plt.show()"
   ]
  },
  {
   "cell_type": "markdown",
   "metadata": {
    "id": "UN9zwuMP0q1N"
   },
   "source": [
    "Con base en los resultados podemos observar que la media del consumo ocila en los 10.80 gb usados, donde no hay mucha diferencia entre los dos planes. Sin embargo, podemos observar que el consumo de gb en el plan Surf es mucho más grande que el Ultimate. Y terminan pagando consumos extras. \n",
    "Y en las graficos podemos observar como va incrementando el consumo a travez de los meses del año. "
   ]
  },
  {
   "cell_type": "markdown",
   "metadata": {
    "id": "tCijq3260q1N"
   },
   "source": [
    "## Ingreso"
   ]
  },
  {
   "cell_type": "code",
   "execution_count": 104,
   "metadata": {
    "id": "tz-dq_V00q1O"
   },
   "outputs": [
    {
     "name": "stdout",
     "output_type": "stream",
     "text": [
      "ultimate\n",
      "Media\n",
      "71.41546304163127\n",
      "Varianza\n",
      "80.66142735768904\n",
      "Desviación estandar\n",
      "8.981170711977867\n",
      "Moda\n",
      "0    70.0\n",
      "dtype: float64\n",
      "Mediana\n",
      "70.0\n",
      "None\n",
      "\n",
      "surf\n",
      "Media\n",
      "46.12796243364639\n",
      "Varianza\n",
      "2344.3250404136206\n",
      "Desviación estandar\n",
      "48.41823045520789\n",
      "Moda\n",
      "0    20.0\n",
      "dtype: float64\n",
      "Mediana\n",
      "20.0\n",
      "None\n"
     ]
    }
   ],
   "source": [
    "ultimate_ingreso = f_sales.query('plan == \"ultimate\"')[['ingreso_mensual','mes']].reset_index(drop=True)\n",
    "surf_ingreso = f_sales.query('plan == \"surf\"')[['ingreso_mensual','mes']].reset_index(drop=True)\n",
    "\n",
    "print('ultimate')\n",
    "print(estadistica(ultimate_ingreso['ingreso_mensual']))\n",
    "print()\n",
    "print('surf')\n",
    "print(estadistica(surf_ingreso['ingreso_mensual']))"
   ]
  },
  {
   "cell_type": "code",
   "execution_count": 105,
   "metadata": {
    "id": "0Y1v8ZUz0q1P"
   },
   "outputs": [
    {
     "name": "stdout",
     "output_type": "stream",
     "text": [
      "Ingreso por mes en ultimate\n",
      "     mes  ingreso_mensual\n",
      "0    0.0            280.0\n",
      "1    1.0            700.0\n",
      "2    2.0           1400.0\n",
      "3    3.0           2786.0\n",
      "4    4.0           5103.0\n",
      "5    5.0           6111.0\n",
      "6    6.0           7777.0\n",
      "7    7.0           8512.0\n",
      "8    8.0           9443.0\n",
      "9    9.0           9625.0\n",
      "10  10.0          10115.0\n",
      "11  11.0          10717.0\n",
      "12  12.0          11487.0\n",
      "Ingreso por mes en Surf\n",
      "     mes  ingreso_mensual\n",
      "0    0.0           120.00\n",
      "1    1.0           260.00\n",
      "2    2.0           929.33\n",
      "3    3.0          2036.26\n",
      "4    4.0          3673.52\n",
      "5    5.0          5862.75\n",
      "6    6.0          7370.50\n",
      "7    7.0         10176.42\n",
      "8    8.0         12523.17\n",
      "9    9.0         13309.97\n",
      "10  10.0         16933.97\n",
      "11  11.0         17096.92\n",
      "12  12.0         22674.57\n"
     ]
    }
   ],
   "source": [
    "ult_ingre_men = ultimate_ingreso.groupby('mes')['ingreso_mensual'].sum().reset_index()\n",
    "surf_ingreso = surf_ingreso.groupby('mes')['ingreso_mensual'].sum().reset_index()\n",
    "print('Ingreso por mes en ultimate')\n",
    "print(ult_ingre_men)\n",
    "print('Ingreso por mes en Surf')\n",
    "print(surf_ingreso)\n"
   ]
  },
  {
   "cell_type": "code",
   "execution_count": 126,
   "metadata": {
    "id": "bYmwxyVh0q1P"
   },
   "outputs": [
    {
     "data": {
      "image/png": "[encoded data removed]",
      "text/plain": [
       "<Figure size 640x480 with 1 Axes>"
      ]
     },
     "metadata": {},
     "output_type": "display_data"
    }
   ],
   "source": [
    "ing_ult_surf = ult_ingre_men.merge(surf_ingreso, on = 'mes')\n",
    "ing_ult_surf.columns= ['mes','ing_ult','ing_surf']\n",
    "ing_ult_surf.plot(kind='bar',x='mes',title='Ingreso mensual de los planes', y = ['ing_ult','ing_surf'])\n",
    "plt.show()\n"
   ]
  },
  {
   "cell_type": "code",
   "execution_count": 127,
   "metadata": {},
   "outputs": [
    {
     "data": {
      "image/png": "[encoded data removed]",
      "text/plain": [
       "<Figure size 1900x500 with 2 Axes>"
      ]
     },
     "metadata": {},
     "output_type": "display_data"
    }
   ],
   "source": [
    "fig, ax=plt.subplots(1,2, figsize= (19,5))\n",
    "ax[0].set_title('Distribución de ingreso mensual Ultimate')\n",
    "ax[0].boxplot(ult_ingre_men['ingreso_mensual'])\n",
    "ax[1].boxplot(surf_ingreso['ingreso_mensual'])\n",
    "ax[1].set_title('Distribución de ingreso mensual Surf')\n",
    "plt.show()"
   ]
  },
  {
   "cell_type": "markdown",
   "metadata": {
    "id": "KAFidcXZ0q1P"
   },
   "source": [
    "Como podemos onbservar en los datos el ingreso del plan Surf es mayor que el Ultimate. Pero esto difiere en la cantidad de usuarios que consumen este plan. De igual manera podemos observar que la media en el ingreso por plan Surf es mayor que el Ultimate. Ahora comprobaremos si en realidad en meyor con las pruebas de hipotesis. "
   ]
  },
  {
   "cell_type": "markdown",
   "metadata": {
    "id": "ajJ7VKeI0q1Q"
   },
   "source": [
    "## Prueba las hipótesis estadísticas"
   ]
  },
  {
   "cell_type": "markdown",
   "metadata": {
    "id": "IQwa_hsh0q1Q"
   },
   "source": [
    "\n",
    "H1:El ingreso de Surf es > que el ingreso de ultimate\n",
    "\n",
    "H0:El ingreso de Surf no es > que el ingreso de ultimate"
   ]
  },
  {
   "cell_type": "code",
   "execution_count": 107,
   "metadata": {
    "id": "nFoPNlPq0q1R"
   },
   "outputs": [],
   "source": [
    "ventas_ultimate = f_sales.query('plan == \"ultimate\"')['ingreso_mensual']\n",
    "ventas_surf = f_sales.query('plan == \"surf\"')['ingreso_mensual']# Prueba las hipótesis"
   ]
  },
  {
   "cell_type": "code",
   "execution_count": 108,
   "metadata": {},
   "outputs": [],
   "source": [
    "hipotesis = st.ttest_ind(ventas_surf,ventas_ultimate, equal_var=False)\n",
    "alpha = .05"
   ]
  },
  {
   "cell_type": "code",
   "execution_count": 109,
   "metadata": {},
   "outputs": [
    {
     "name": "stdout",
     "output_type": "stream",
     "text": [
      "Rechazmos la hipotesis nula\n"
     ]
    }
   ],
   "source": [
    "if hipotesis.pvalue < 0.05:\n",
    "    print('Rechazmos la hipotesis nula')\n",
    "else:\n",
    "    print('Aceptamos la hipotesis nula')"
   ]
  },
  {
   "cell_type": "markdown",
   "metadata": {
    "id": "tCcAruM60q1R"
   },
   "source": [
    "H1:El ingreso de NY es != que el ingreso de otras regiones \n",
    "\n",
    "H0:El ingreso de NY no es != que el ingreso en otras regiones\n"
   ]
  },
  {
   "cell_type": "code",
   "execution_count": 110,
   "metadata": {},
   "outputs": [],
   "source": [
    "ventas_ny = f_sales.query('city == \"New York-Newark-Jersey City, NY-NJ-PA MSA\"')['ingreso_mensual']\n",
    "ventas_sin_ny = f_sales.query('city != \"New York-Newark-Jersey City, NY-NJ-PA MSA\"')['ingreso_mensual']"
   ]
  },
  {
   "cell_type": "code",
   "execution_count": 111,
   "metadata": {},
   "outputs": [],
   "source": [
    "hipotesis1 = st.ttest_ind(ventas_ny,ventas_sin_ny, equal_var=False)\n",
    "alpha = .05"
   ]
  },
  {
   "cell_type": "code",
   "execution_count": 112,
   "metadata": {
    "id": "Cqcj7wrZ0q1S"
   },
   "outputs": [
    {
     "name": "stdout",
     "output_type": "stream",
     "text": [
      "Rechazmos la hipotesis nula\n"
     ]
    }
   ],
   "source": [
    "if hipotesis1.pvalue > alpha:\n",
    "    print('Rechazmos la hipotesis nula')\n",
    "else:\n",
    "    print('Aceptamos la hipotesis nula')\n"
   ]
  },
  {
   "cell_type": "markdown",
   "metadata": {
    "id": "bbTR8UQO0q1T"
   },
   "source": [
    "## Conclusión general\n",
    "\n",
    "Con los resultados de este ejercicio, podemos observar ciertos comportamientos en el consumo, en los usuarios y en el ingreso. \n",
    "\n",
    "1- Con respecto al consumo, pudimos observar que aunque el plan Ultimate es más grande, los usuarios que contratan el plan Surf en promedio consumen más internet, llamadas y mensajes. \n",
    "\n",
    "2- Los usuarios prefieren contratar el plan más barato y pagar el consumo extra, que contratar el plan más caro y tener mayor capacidad de consumo. \n",
    "\n",
    "3- En lo que respecta al ingreso, pudimos realizar 2 hipotesis. La primera en la cual con el 95% de confianza, podemos asegurar que el plan Surf es el que tiene mayores ingresos. Y el segundo ejercicio de hipotesis, con el 95% de confianza, podemos asegurar que el ingreso con respecto en el consumo es mayor que el resto de las regiones. "
   ]
  },
  {
   "cell_type": "code",
   "execution_count": null,
   "metadata": {},
   "outputs": [],
   "source": []
  }
 ],
 "metadata": {
  "ExecuteTimeLog": [
   {
    "duration": 828,
    "start_time": "2021-11-16T09:21:11.304Z"
   },
   {
    "duration": 893,
    "start_time": "2021-11-16T09:21:17.728Z"
   },
   {
    "duration": 1150,
    "start_time": "2021-11-16T09:21:29.568Z"
   },
   {
    "duration": 3,
    "start_time": "2021-11-16T09:24:14.495Z"
   },
   {
    "duration": 120,
    "start_time": "2021-11-16T09:24:46.630Z"
   },
   {
    "duration": 3,
    "start_time": "2021-11-16T09:28:27.882Z"
   },
   {
    "duration": 4,
    "start_time": "2021-11-16T09:29:54.281Z"
   },
   {
    "duration": 3,
    "start_time": "2021-11-16T09:30:45.936Z"
   },
   {
    "duration": 4,
    "start_time": "2021-11-16T09:31:06.300Z"
   },
   {
    "duration": 113,
    "start_time": "2021-11-16T09:31:37.208Z"
   },
   {
    "duration": 143,
    "start_time": "2021-11-16T09:31:48.656Z"
   },
   {
    "duration": 98,
    "start_time": "2021-11-16T09:31:55.678Z"
   },
   {
    "duration": 3,
    "start_time": "2021-11-16T09:32:08.535Z"
   },
   {
    "duration": 111,
    "start_time": "2021-11-16T09:32:10.120Z"
   },
   {
    "duration": 3,
    "start_time": "2021-11-16T09:32:15.732Z"
   },
   {
    "duration": 4,
    "start_time": "2021-11-16T09:32:29.423Z"
   },
   {
    "duration": 3,
    "start_time": "2021-11-16T10:03:03.074Z"
   },
   {
    "duration": 3,
    "start_time": "2021-11-16T10:10:01.288Z"
   },
   {
    "duration": 3,
    "start_time": "2021-11-16T10:10:46.923Z"
   },
   {
    "duration": 121,
    "start_time": "2021-11-16T10:37:46.494Z"
   },
   {
    "duration": 125,
    "start_time": "2021-11-16T10:38:20.632Z"
   },
   {
    "duration": 112,
    "start_time": "2021-11-16T10:46:53.001Z"
   },
   {
    "duration": 110,
    "start_time": "2021-11-16T10:48:25.775Z"
   },
   {
    "duration": 3,
    "start_time": "2021-11-16T10:50:18.720Z"
   },
   {
    "duration": 4,
    "start_time": "2021-11-16T10:50:37.649Z"
   },
   {
    "duration": 2,
    "start_time": "2021-11-16T10:50:51.884Z"
   },
   {
    "duration": 3,
    "start_time": "2021-11-16T10:51:56.237Z"
   },
   {
    "duration": 101,
    "start_time": "2021-11-16T10:53:13.791Z"
   },
   {
    "duration": 3,
    "start_time": "2021-11-16T10:55:59.186Z"
   },
   {
    "duration": 3,
    "start_time": "2021-11-16T10:56:10.751Z"
   },
   {
    "duration": 3,
    "start_time": "2021-11-16T10:56:49.038Z"
   },
   {
    "duration": 3,
    "start_time": "2021-11-16T10:56:49.174Z"
   },
   {
    "duration": 4,
    "start_time": "2021-11-16T10:56:49.414Z"
   },
   {
    "duration": 3,
    "start_time": "2021-11-16T10:56:49.680Z"
   },
   {
    "duration": 3,
    "start_time": "2021-11-16T10:56:50.370Z"
   },
   {
    "duration": 114,
    "start_time": "2021-11-16T10:59:34.518Z"
   },
   {
    "duration": 3,
    "start_time": "2021-11-16T11:01:41.201Z"
   },
   {
    "duration": 116,
    "start_time": "2021-11-16T11:01:48.754Z"
   },
   {
    "duration": 3,
    "start_time": "2021-11-16T11:02:16.685Z"
   },
   {
    "duration": 3,
    "start_time": "2021-11-16T11:02:19.479Z"
   },
   {
    "duration": 3,
    "start_time": "2021-11-16T11:02:47.067Z"
   },
   {
    "duration": 3,
    "start_time": "2021-11-16T11:02:49.353Z"
   },
   {
    "duration": 3,
    "start_time": "2021-11-16T11:03:07.835Z"
   },
   {
    "duration": 3,
    "start_time": "2021-11-16T11:03:07.953Z"
   },
   {
    "duration": 112,
    "start_time": "2021-11-16T11:07:52.072Z"
   },
   {
    "duration": 187,
    "start_time": "2021-11-16T11:09:23.468Z"
   },
   {
    "duration": 4,
    "start_time": "2021-11-16T11:10:01.455Z"
   },
   {
    "duration": 3,
    "start_time": "2021-11-16T11:10:05.069Z"
   },
   {
    "duration": 4,
    "start_time": "2021-11-16T11:10:13.376Z"
   },
   {
    "duration": 3,
    "start_time": "2021-11-16T11:10:14.434Z"
   },
   {
    "duration": 3,
    "start_time": "2021-11-16T11:10:22.853Z"
   },
   {
    "duration": 4,
    "start_time": "2021-11-16T11:27:29.279Z"
   },
   {
    "duration": 4,
    "start_time": "2021-11-16T11:29:08.919Z"
   },
   {
    "duration": 118,
    "start_time": "2021-11-16T11:29:46.703Z"
   },
   {
    "duration": 437,
    "start_time": "2021-11-16T11:36:02.181Z"
   },
   {
    "duration": 157,
    "start_time": "2021-11-16T11:36:14.388Z"
   },
   {
    "duration": 207,
    "start_time": "2021-11-16T11:47:15.898Z"
   },
   {
    "duration": 3,
    "start_time": "2021-11-16T11:53:52.092Z"
   },
   {
    "duration": 3,
    "start_time": "2021-11-16T11:53:52.236Z"
   },
   {
    "duration": 3,
    "start_time": "2021-11-16T11:59:12.005Z"
   },
   {
    "duration": 112,
    "start_time": "2021-11-16T12:00:33.446Z"
   },
   {
    "duration": 3,
    "start_time": "2021-11-16T12:02:14.453Z"
   },
   {
    "duration": 3,
    "start_time": "2021-11-16T12:02:39.512Z"
   },
   {
    "duration": 106,
    "start_time": "2021-11-16T12:03:03.460Z"
   },
   {
    "duration": 3,
    "start_time": "2021-11-17T20:37:21.139Z"
   },
   {
    "duration": 3,
    "start_time": "2021-11-17T20:37:22.229Z"
   },
   {
    "duration": 3,
    "start_time": "2021-11-17T20:38:38.806Z"
   },
   {
    "duration": 3,
    "start_time": "2021-11-17T20:38:41.958Z"
   },
   {
    "duration": 3,
    "start_time": "2021-11-17T20:43:46.551Z"
   },
   {
    "duration": 4,
    "start_time": "2021-11-17T20:58:21.835Z"
   },
   {
    "duration": 3,
    "start_time": "2021-11-17T20:59:21.872Z"
   },
   {
    "duration": 4,
    "start_time": "2021-11-17T20:59:45.352Z"
   },
   {
    "duration": 4,
    "start_time": "2021-11-17T20:59:49.646Z"
   },
   {
    "duration": 159,
    "start_time": "2021-11-17T21:02:26.949Z"
   },
   {
    "duration": 3,
    "start_time": "2021-11-17T21:03:53.461Z"
   },
   {
    "duration": 3,
    "start_time": "2021-11-17T21:03:53.694Z"
   },
   {
    "duration": 3,
    "start_time": "2021-11-17T21:05:28.145Z"
   },
   {
    "duration": 116,
    "start_time": "2021-11-17T21:05:57.787Z"
   },
   {
    "duration": 3,
    "start_time": "2021-11-17T21:06:37.993Z"
   },
   {
    "duration": 3,
    "start_time": "2021-11-17T21:06:38.261Z"
   },
   {
    "duration": 3,
    "start_time": "2021-11-17T21:11:54.358Z"
   },
   {
    "duration": 3,
    "start_time": "2021-11-17T21:12:43.846Z"
   },
   {
    "duration": 4,
    "start_time": "2021-11-17T21:13:08.773Z"
   },
   {
    "duration": 3,
    "start_time": "2021-11-17T21:14:44.441Z"
   },
   {
    "duration": 3,
    "start_time": "2021-11-17T21:15:42.059Z"
   },
   {
    "duration": 4,
    "start_time": "2021-11-17T21:15:51.995Z"
   },
   {
    "duration": 3,
    "start_time": "2021-11-17T21:15:53.923Z"
   },
   {
    "duration": 3,
    "start_time": "2021-11-17T21:15:55.282Z"
   },
   {
    "duration": 3,
    "start_time": "2021-11-17T21:16:28.492Z"
   },
   {
    "duration": 3,
    "start_time": "2021-11-17T21:16:32.603Z"
   },
   {
    "duration": 3,
    "start_time": "2021-11-17T21:17:06.941Z"
   },
   {
    "duration": 98,
    "start_time": "2021-11-17T21:18:05.733Z"
   },
   {
    "duration": 4,
    "start_time": "2021-11-17T21:21:35.255Z"
   },
   {
    "duration": 3,
    "start_time": "2021-11-17T21:21:37.804Z"
   },
   {
    "duration": 4,
    "start_time": "2021-11-17T21:23:06.071Z"
   },
   {
    "duration": 3,
    "start_time": "2021-11-17T21:23:24.799Z"
   },
   {
    "duration": 3,
    "start_time": "2021-11-17T21:23:32.591Z"
   },
   {
    "duration": 98,
    "start_time": "2021-11-17T21:28:31.559Z"
   },
   {
    "duration": 3,
    "start_time": "2021-11-17T21:28:45.448Z"
   },
   {
    "duration": 3,
    "start_time": "2021-11-17T21:29:17.303Z"
   },
   {
    "duration": 3,
    "start_time": "2021-11-17T21:29:29.617Z"
   },
   {
    "duration": 3,
    "start_time": "2021-11-17T21:29:32.681Z"
   },
   {
    "duration": 3,
    "start_time": "2021-11-17T21:36:11.474Z"
   },
   {
    "duration": 3,
    "start_time": "2021-11-17T21:36:14.791Z"
   },
   {
    "duration": 3,
    "start_time": "2021-11-17T21:36:53.943Z"
   },
   {
    "duration": 3,
    "start_time": "2021-11-17T21:36:56.165Z"
   },
   {
    "duration": 4,
    "start_time": "2021-11-17T21:37:16.590Z"
   },
   {
    "duration": 3,
    "start_time": "2021-11-17T21:37:22.702Z"
   },
   {
    "duration": 4,
    "start_time": "2021-11-17T21:38:03.479Z"
   },
   {
    "duration": 3,
    "start_time": "2021-11-17T21:38:08.601Z"
   },
   {
    "duration": 3,
    "start_time": "2021-11-17T21:38:12.928Z"
   },
   {
    "duration": 3,
    "start_time": "2021-11-17T21:38:48.896Z"
   },
   {
    "duration": 2,
    "start_time": "2021-11-17T21:38:49.171Z"
   },
   {
    "duration": 4,
    "start_time": "2021-11-17T21:39:57.889Z"
   },
   {
    "duration": 3,
    "start_time": "2021-11-17T21:39:58.057Z"
   },
   {
    "duration": 3,
    "start_time": "2021-11-17T21:41:20.108Z"
   },
   {
    "duration": 3,
    "start_time": "2021-11-17T21:41:20.629Z"
   },
   {
    "duration": 3,
    "start_time": "2021-11-17T21:42:49.136Z"
   },
   {
    "duration": 3,
    "start_time": "2021-11-17T21:43:15.137Z"
   },
   {
    "duration": 4,
    "start_time": "2021-11-17T21:43:16.766Z"
   },
   {
    "duration": 4,
    "start_time": "2021-11-17T21:43:31.711Z"
   },
   {
    "duration": 3,
    "start_time": "2021-11-17T21:43:36.312Z"
   },
   {
    "duration": 4,
    "start_time": "2021-11-17T21:45:08.825Z"
   },
   {
    "duration": 4,
    "start_time": "2021-11-17T21:45:10.119Z"
   },
   {
    "duration": 4,
    "start_time": "2021-11-17T21:45:13.748Z"
   },
   {
    "duration": 3,
    "start_time": "2021-11-17T21:45:22.219Z"
   },
   {
    "duration": 3,
    "start_time": "2021-11-17T21:45:33.412Z"
   },
   {
    "duration": 2,
    "start_time": "2021-11-17T21:46:01.885Z"
   },
   {
    "duration": 3,
    "start_time": "2021-11-17T21:46:03.628Z"
   },
   {
    "duration": 107,
    "start_time": "2021-11-17T21:47:32.512Z"
   },
   {
    "duration": 103,
    "start_time": "2021-11-17T21:50:36.243Z"
   },
   {
    "duration": 3,
    "start_time": "2021-11-18T06:28:31.440Z"
   },
   {
    "duration": 3,
    "start_time": "2021-11-18T06:29:00.168Z"
   },
   {
    "duration": 3,
    "start_time": "2021-11-18T06:31:27.008Z"
   },
   {
    "duration": 2,
    "start_time": "2021-11-18T06:35:34.288Z"
   },
   {
    "duration": 2,
    "start_time": "2021-11-18T06:38:04.527Z"
   },
   {
    "duration": 327,
    "start_time": "2024-11-04T00:11:25.464Z"
   },
   {
    "duration": 87,
    "start_time": "2024-11-04T00:11:30.239Z"
   },
   {
    "duration": 72,
    "start_time": "2024-11-04T00:11:40.968Z"
   },
   {
    "duration": 189,
    "start_time": "2024-11-04T00:16:17.119Z"
   },
   {
    "duration": 10,
    "start_time": "2024-11-04T00:17:22.702Z"
   },
   {
    "duration": 7,
    "start_time": "2024-11-04T00:17:27.163Z"
   },
   {
    "duration": 9,
    "start_time": "2024-11-04T01:11:36.418Z"
   },
   {
    "duration": 9,
    "start_time": "2024-11-04T01:11:39.915Z"
   },
   {
    "duration": 16,
    "start_time": "2024-11-04T01:12:21.384Z"
   },
   {
    "duration": 8,
    "start_time": "2024-11-04T01:12:24.058Z"
   },
   {
    "duration": 12,
    "start_time": "2024-11-04T01:12:56.926Z"
   },
   {
    "duration": 10,
    "start_time": "2024-11-04T01:13:09.212Z"
   },
   {
    "duration": 9,
    "start_time": "2024-11-04T01:13:28.801Z"
   },
   {
    "duration": 2,
    "start_time": "2024-11-04T01:16:32.487Z"
   },
   {
    "duration": 284,
    "start_time": "2024-11-04T01:16:57.112Z"
   },
   {
    "duration": 39,
    "start_time": "2024-11-04T01:17:04.212Z"
   },
   {
    "duration": 14,
    "start_time": "2024-11-04T01:17:34.539Z"
   },
   {
    "duration": 41,
    "start_time": "2024-11-04T01:17:39.583Z"
   },
   {
    "duration": 40,
    "start_time": "2024-11-04T01:17:48.144Z"
   },
   {
    "duration": 40,
    "start_time": "2024-11-04T01:17:55.064Z"
   },
   {
    "duration": 42,
    "start_time": "2024-11-04T01:18:54.372Z"
   },
   {
    "duration": 22,
    "start_time": "2024-11-04T01:19:25.481Z"
   },
   {
    "duration": 7,
    "start_time": "2024-11-04T01:20:28.193Z"
   },
   {
    "duration": 8,
    "start_time": "2024-11-04T01:21:10.017Z"
   },
   {
    "duration": 42,
    "start_time": "2024-11-04T01:21:18.461Z"
   },
   {
    "duration": 25,
    "start_time": "2024-11-04T01:21:27.102Z"
   },
   {
    "duration": 44,
    "start_time": "2024-11-04T01:21:39.846Z"
   },
   {
    "duration": 13,
    "start_time": "2024-11-04T01:21:51.740Z"
   },
   {
    "duration": 10,
    "start_time": "2024-11-04T01:30:19.098Z"
   },
   {
    "duration": 9,
    "start_time": "2024-11-04T01:30:39.260Z"
   },
   {
    "duration": 9,
    "start_time": "2024-11-04T01:30:46.511Z"
   },
   {
    "duration": 43,
    "start_time": "2024-11-04T01:30:51.511Z"
   },
   {
    "duration": 22,
    "start_time": "2024-11-04T01:30:55.511Z"
   },
   {
    "duration": 43,
    "start_time": "2024-11-04T01:30:59.406Z"
   },
   {
    "duration": 16,
    "start_time": "2024-11-04T01:33:02.752Z"
   },
   {
    "duration": 22,
    "start_time": "2024-11-04T01:33:14.320Z"
   },
   {
    "duration": 20,
    "start_time": "2024-11-04T01:33:19.711Z"
   },
   {
    "duration": 15,
    "start_time": "2024-11-04T01:33:43.561Z"
   },
   {
    "duration": 49,
    "start_time": "2024-11-04T01:38:28.488Z"
   },
   {
    "duration": 83,
    "start_time": "2024-11-04T01:40:15.211Z"
   },
   {
    "duration": 17,
    "start_time": "2024-11-04T01:41:21.121Z"
   },
   {
    "duration": 13,
    "start_time": "2024-11-04T01:41:38.350Z"
   },
   {
    "duration": 20,
    "start_time": "2024-11-04T01:41:56.925Z"
   },
   {
    "duration": 25,
    "start_time": "2024-11-04T01:45:30.852Z"
   },
   {
    "duration": 401,
    "start_time": "2024-11-04T02:14:46.397Z"
   },
   {
    "duration": 8,
    "start_time": "2024-11-04T02:14:54.624Z"
   },
   {
    "duration": 37,
    "start_time": "2024-11-04T02:14:57.833Z"
   },
   {
    "duration": 343,
    "start_time": "2024-11-04T02:15:48.362Z"
   },
   {
    "duration": 164,
    "start_time": "2024-11-04T02:15:48.707Z"
   },
   {
    "duration": 9,
    "start_time": "2024-11-04T02:15:48.873Z"
   },
   {
    "duration": 10,
    "start_time": "2024-11-04T02:15:48.884Z"
   },
   {
    "duration": 5,
    "start_time": "2024-11-04T02:15:48.897Z"
   },
   {
    "duration": 0,
    "start_time": "2024-11-04T02:15:48.905Z"
   },
   {
    "duration": 0,
    "start_time": "2024-11-04T02:15:48.906Z"
   },
   {
    "duration": 0,
    "start_time": "2024-11-04T02:15:48.907Z"
   },
   {
    "duration": 0,
    "start_time": "2024-11-04T02:15:48.908Z"
   },
   {
    "duration": 0,
    "start_time": "2024-11-04T02:15:48.909Z"
   },
   {
    "duration": 0,
    "start_time": "2024-11-04T02:15:48.910Z"
   },
   {
    "duration": 0,
    "start_time": "2024-11-04T02:15:48.911Z"
   },
   {
    "duration": 0,
    "start_time": "2024-11-04T02:15:48.912Z"
   },
   {
    "duration": 0,
    "start_time": "2024-11-04T02:15:48.914Z"
   },
   {
    "duration": 0,
    "start_time": "2024-11-04T02:15:48.943Z"
   },
   {
    "duration": 0,
    "start_time": "2024-11-04T02:15:48.944Z"
   },
   {
    "duration": 0,
    "start_time": "2024-11-04T02:15:48.945Z"
   },
   {
    "duration": 0,
    "start_time": "2024-11-04T02:15:48.946Z"
   },
   {
    "duration": 0,
    "start_time": "2024-11-04T02:15:48.947Z"
   },
   {
    "duration": 0,
    "start_time": "2024-11-04T02:15:48.948Z"
   },
   {
    "duration": 0,
    "start_time": "2024-11-04T02:15:48.949Z"
   },
   {
    "duration": 0,
    "start_time": "2024-11-04T02:15:48.951Z"
   },
   {
    "duration": 0,
    "start_time": "2024-11-04T02:15:48.952Z"
   },
   {
    "duration": 0,
    "start_time": "2024-11-04T02:15:48.953Z"
   },
   {
    "duration": 0,
    "start_time": "2024-11-04T02:15:48.954Z"
   },
   {
    "duration": 0,
    "start_time": "2024-11-04T02:15:48.955Z"
   },
   {
    "duration": 0,
    "start_time": "2024-11-04T02:15:48.956Z"
   },
   {
    "duration": 0,
    "start_time": "2024-11-04T02:15:48.957Z"
   },
   {
    "duration": 0,
    "start_time": "2024-11-04T02:15:48.962Z"
   },
   {
    "duration": 0,
    "start_time": "2024-11-04T02:15:48.964Z"
   },
   {
    "duration": 0,
    "start_time": "2024-11-04T02:15:48.965Z"
   },
   {
    "duration": 0,
    "start_time": "2024-11-04T02:15:48.965Z"
   },
   {
    "duration": 0,
    "start_time": "2024-11-04T02:15:48.966Z"
   },
   {
    "duration": 535,
    "start_time": "2024-11-04T02:16:01.939Z"
   },
   {
    "duration": 37,
    "start_time": "2024-11-04T02:16:06.371Z"
   },
   {
    "duration": 37,
    "start_time": "2024-11-04T02:16:19.754Z"
   },
   {
    "duration": 25,
    "start_time": "2024-11-04T02:16:38.875Z"
   },
   {
    "duration": 2,
    "start_time": "2024-11-04T02:16:53.043Z"
   },
   {
    "duration": 175,
    "start_time": "2024-11-04T02:16:53.047Z"
   },
   {
    "duration": 8,
    "start_time": "2024-11-04T02:16:53.224Z"
   },
   {
    "duration": 13,
    "start_time": "2024-11-04T02:16:53.234Z"
   },
   {
    "duration": 9,
    "start_time": "2024-11-04T02:16:53.249Z"
   },
   {
    "duration": 7,
    "start_time": "2024-11-04T02:16:53.260Z"
   },
   {
    "duration": 36,
    "start_time": "2024-11-04T02:16:53.269Z"
   },
   {
    "duration": 0,
    "start_time": "2024-11-04T02:16:53.307Z"
   },
   {
    "duration": 0,
    "start_time": "2024-11-04T02:16:53.308Z"
   },
   {
    "duration": 0,
    "start_time": "2024-11-04T02:16:53.309Z"
   },
   {
    "duration": 0,
    "start_time": "2024-11-04T02:16:53.311Z"
   },
   {
    "duration": 0,
    "start_time": "2024-11-04T02:16:53.312Z"
   },
   {
    "duration": 0,
    "start_time": "2024-11-04T02:16:53.314Z"
   },
   {
    "duration": 0,
    "start_time": "2024-11-04T02:16:53.315Z"
   },
   {
    "duration": 0,
    "start_time": "2024-11-04T02:16:53.343Z"
   },
   {
    "duration": 0,
    "start_time": "2024-11-04T02:16:53.344Z"
   },
   {
    "duration": 0,
    "start_time": "2024-11-04T02:16:53.346Z"
   },
   {
    "duration": 0,
    "start_time": "2024-11-04T02:16:53.348Z"
   },
   {
    "duration": 0,
    "start_time": "2024-11-04T02:16:53.349Z"
   },
   {
    "duration": 0,
    "start_time": "2024-11-04T02:16:53.351Z"
   },
   {
    "duration": 0,
    "start_time": "2024-11-04T02:16:53.352Z"
   },
   {
    "duration": 0,
    "start_time": "2024-11-04T02:16:53.353Z"
   },
   {
    "duration": 0,
    "start_time": "2024-11-04T02:16:53.355Z"
   },
   {
    "duration": 0,
    "start_time": "2024-11-04T02:16:53.356Z"
   },
   {
    "duration": 0,
    "start_time": "2024-11-04T02:16:53.357Z"
   },
   {
    "duration": 0,
    "start_time": "2024-11-04T02:16:53.359Z"
   },
   {
    "duration": 0,
    "start_time": "2024-11-04T02:16:53.360Z"
   },
   {
    "duration": 0,
    "start_time": "2024-11-04T02:16:53.361Z"
   },
   {
    "duration": 0,
    "start_time": "2024-11-04T02:16:53.362Z"
   },
   {
    "duration": 0,
    "start_time": "2024-11-04T02:16:53.362Z"
   },
   {
    "duration": 0,
    "start_time": "2024-11-04T02:16:53.363Z"
   },
   {
    "duration": 0,
    "start_time": "2024-11-04T02:16:53.364Z"
   },
   {
    "duration": 2,
    "start_time": "2024-11-04T02:17:19.732Z"
   },
   {
    "duration": 168,
    "start_time": "2024-11-04T02:17:19.737Z"
   },
   {
    "duration": 9,
    "start_time": "2024-11-04T02:17:19.907Z"
   },
   {
    "duration": 7,
    "start_time": "2024-11-04T02:17:19.917Z"
   },
   {
    "duration": 16,
    "start_time": "2024-11-04T02:17:19.927Z"
   },
   {
    "duration": 7,
    "start_time": "2024-11-04T02:17:19.944Z"
   },
   {
    "duration": 15,
    "start_time": "2024-11-04T02:17:19.953Z"
   },
   {
    "duration": 35,
    "start_time": "2024-11-04T02:17:19.970Z"
   },
   {
    "duration": 49,
    "start_time": "2024-11-04T02:17:20.007Z"
   },
   {
    "duration": 13,
    "start_time": "2024-11-04T02:17:20.057Z"
   },
   {
    "duration": 20,
    "start_time": "2024-11-04T02:17:20.072Z"
   },
   {
    "duration": 18,
    "start_time": "2024-11-04T02:17:20.093Z"
   },
   {
    "duration": 13,
    "start_time": "2024-11-04T02:17:20.143Z"
   },
   {
    "duration": 38,
    "start_time": "2024-11-04T02:17:20.158Z"
   },
   {
    "duration": 20,
    "start_time": "2024-11-04T02:17:20.198Z"
   },
   {
    "duration": 3,
    "start_time": "2024-11-04T02:17:20.219Z"
   },
   {
    "duration": 2,
    "start_time": "2024-11-04T02:17:20.247Z"
   },
   {
    "duration": 3,
    "start_time": "2024-11-04T02:17:20.250Z"
   },
   {
    "duration": 2,
    "start_time": "2024-11-04T02:17:20.254Z"
   },
   {
    "duration": 3,
    "start_time": "2024-11-04T02:17:20.258Z"
   },
   {
    "duration": 3,
    "start_time": "2024-11-04T02:17:20.262Z"
   },
   {
    "duration": 2,
    "start_time": "2024-11-04T02:17:20.266Z"
   },
   {
    "duration": 3,
    "start_time": "2024-11-04T02:17:20.270Z"
   },
   {
    "duration": 2,
    "start_time": "2024-11-04T02:17:20.274Z"
   },
   {
    "duration": 2,
    "start_time": "2024-11-04T02:17:20.278Z"
   },
   {
    "duration": 3,
    "start_time": "2024-11-04T02:17:20.282Z"
   },
   {
    "duration": 2,
    "start_time": "2024-11-04T02:17:20.286Z"
   },
   {
    "duration": 2,
    "start_time": "2024-11-04T02:17:20.290Z"
   },
   {
    "duration": 2,
    "start_time": "2024-11-04T02:17:20.343Z"
   },
   {
    "duration": 2,
    "start_time": "2024-11-04T02:17:20.347Z"
   },
   {
    "duration": 2,
    "start_time": "2024-11-04T02:17:20.351Z"
   },
   {
    "duration": 4,
    "start_time": "2024-11-04T02:21:34.606Z"
   },
   {
    "duration": 11,
    "start_time": "2024-11-04T02:21:46.839Z"
   },
   {
    "duration": 7,
    "start_time": "2024-11-04T02:24:34.477Z"
   },
   {
    "duration": 9,
    "start_time": "2024-11-04T02:24:41.834Z"
   },
   {
    "duration": 41,
    "start_time": "2024-11-04T02:25:50.059Z"
   },
   {
    "duration": 41,
    "start_time": "2024-11-04T02:26:08.595Z"
   },
   {
    "duration": 4,
    "start_time": "2024-11-04T02:26:26.432Z"
   },
   {
    "duration": 4,
    "start_time": "2024-11-04T02:27:15.610Z"
   },
   {
    "duration": 12,
    "start_time": "2024-11-04T02:27:24.652Z"
   },
   {
    "duration": 3,
    "start_time": "2024-11-04T02:32:48.372Z"
   },
   {
    "duration": 325,
    "start_time": "2024-11-04T03:29:48.420Z"
   },
   {
    "duration": 279,
    "start_time": "2024-11-04T03:29:48.747Z"
   },
   {
    "duration": 9,
    "start_time": "2024-11-04T03:29:49.028Z"
   },
   {
    "duration": 9,
    "start_time": "2024-11-04T03:29:49.040Z"
   },
   {
    "duration": 8,
    "start_time": "2024-11-04T03:29:49.050Z"
   },
   {
    "duration": 7,
    "start_time": "2024-11-04T03:29:49.060Z"
   },
   {
    "duration": 10,
    "start_time": "2024-11-04T03:29:49.068Z"
   },
   {
    "duration": 36,
    "start_time": "2024-11-04T03:29:49.080Z"
   },
   {
    "duration": 43,
    "start_time": "2024-11-04T03:29:49.117Z"
   },
   {
    "duration": 26,
    "start_time": "2024-11-04T03:29:49.164Z"
   },
   {
    "duration": 20,
    "start_time": "2024-11-04T03:29:49.192Z"
   },
   {
    "duration": 11,
    "start_time": "2024-11-04T03:29:49.214Z"
   },
   {
    "duration": 20,
    "start_time": "2024-11-04T03:29:49.226Z"
   },
   {
    "duration": 19,
    "start_time": "2024-11-04T03:29:49.248Z"
   },
   {
    "duration": 13,
    "start_time": "2024-11-04T03:29:49.269Z"
   },
   {
    "duration": 42,
    "start_time": "2024-11-04T03:29:49.312Z"
   },
   {
    "duration": 20,
    "start_time": "2024-11-04T03:29:49.355Z"
   },
   {
    "duration": 2,
    "start_time": "2024-11-04T03:29:49.377Z"
   },
   {
    "duration": 3,
    "start_time": "2024-11-04T03:29:49.381Z"
   },
   {
    "duration": 25,
    "start_time": "2024-11-04T03:29:49.387Z"
   },
   {
    "duration": 2,
    "start_time": "2024-11-04T03:29:49.414Z"
   },
   {
    "duration": 3,
    "start_time": "2024-11-04T03:29:49.417Z"
   },
   {
    "duration": 3,
    "start_time": "2024-11-04T03:29:49.421Z"
   },
   {
    "duration": 3,
    "start_time": "2024-11-04T03:29:49.425Z"
   },
   {
    "duration": 3,
    "start_time": "2024-11-04T03:29:49.430Z"
   },
   {
    "duration": 3,
    "start_time": "2024-11-04T03:29:49.434Z"
   },
   {
    "duration": 3,
    "start_time": "2024-11-04T03:29:49.438Z"
   },
   {
    "duration": 2,
    "start_time": "2024-11-04T03:29:49.445Z"
   },
   {
    "duration": 3,
    "start_time": "2024-11-04T03:29:49.448Z"
   },
   {
    "duration": 2,
    "start_time": "2024-11-04T03:29:49.453Z"
   },
   {
    "duration": 2,
    "start_time": "2024-11-04T03:29:49.458Z"
   },
   {
    "duration": 50,
    "start_time": "2024-11-04T03:29:49.462Z"
   },
   {
    "duration": 3,
    "start_time": "2024-11-04T03:29:49.513Z"
   },
   {
    "duration": 305,
    "start_time": "2024-11-04T03:32:24.469Z"
   },
   {
    "duration": 108,
    "start_time": "2024-11-04T03:33:08.829Z"
   },
   {
    "duration": 115,
    "start_time": "2024-11-04T03:33:20.913Z"
   },
   {
    "duration": 115,
    "start_time": "2024-11-04T03:38:19.097Z"
   },
   {
    "duration": 153,
    "start_time": "2024-11-04T03:38:26.176Z"
   },
   {
    "duration": 330,
    "start_time": "2024-11-05T03:21:14.215Z"
   },
   {
    "duration": 242,
    "start_time": "2024-11-05T03:21:14.547Z"
   },
   {
    "duration": 9,
    "start_time": "2024-11-05T03:21:14.791Z"
   },
   {
    "duration": 10,
    "start_time": "2024-11-05T03:21:14.802Z"
   },
   {
    "duration": 9,
    "start_time": "2024-11-05T03:21:14.816Z"
   },
   {
    "duration": 8,
    "start_time": "2024-11-05T03:21:14.827Z"
   },
   {
    "duration": 11,
    "start_time": "2024-11-05T03:21:14.838Z"
   },
   {
    "duration": 18,
    "start_time": "2024-11-05T03:21:14.851Z"
   },
   {
    "duration": 72,
    "start_time": "2024-11-05T03:21:14.871Z"
   },
   {
    "duration": 26,
    "start_time": "2024-11-05T03:21:14.944Z"
   },
   {
    "duration": 149,
    "start_time": "2024-11-05T03:21:14.972Z"
   },
   {
    "duration": 12,
    "start_time": "2024-11-05T03:21:15.123Z"
   },
   {
    "duration": 22,
    "start_time": "2024-11-05T03:21:15.137Z"
   },
   {
    "duration": 19,
    "start_time": "2024-11-05T03:21:15.162Z"
   },
   {
    "duration": 16,
    "start_time": "2024-11-05T03:21:15.211Z"
   },
   {
    "duration": 41,
    "start_time": "2024-11-05T03:21:15.228Z"
   },
   {
    "duration": 22,
    "start_time": "2024-11-05T03:21:15.271Z"
   },
   {
    "duration": 2,
    "start_time": "2024-11-05T03:21:15.312Z"
   },
   {
    "duration": 5,
    "start_time": "2024-11-05T03:21:15.316Z"
   },
   {
    "duration": 3,
    "start_time": "2024-11-05T03:21:15.323Z"
   },
   {
    "duration": 2,
    "start_time": "2024-11-05T03:21:15.327Z"
   },
   {
    "duration": 3,
    "start_time": "2024-11-05T03:21:15.331Z"
   },
   {
    "duration": 3,
    "start_time": "2024-11-05T03:21:15.336Z"
   },
   {
    "duration": 3,
    "start_time": "2024-11-05T03:21:15.340Z"
   },
   {
    "duration": 3,
    "start_time": "2024-11-05T03:21:15.344Z"
   },
   {
    "duration": 19,
    "start_time": "2024-11-05T03:21:15.348Z"
   },
   {
    "duration": 2,
    "start_time": "2024-11-05T03:21:15.369Z"
   },
   {
    "duration": 41,
    "start_time": "2024-11-05T03:21:15.372Z"
   },
   {
    "duration": 2,
    "start_time": "2024-11-05T03:21:15.416Z"
   },
   {
    "duration": 2,
    "start_time": "2024-11-05T03:21:15.420Z"
   },
   {
    "duration": 3,
    "start_time": "2024-11-05T03:21:15.424Z"
   },
   {
    "duration": 2,
    "start_time": "2024-11-05T03:21:15.429Z"
   },
   {
    "duration": 3,
    "start_time": "2024-11-05T03:21:15.433Z"
   },
   {
    "duration": 227,
    "start_time": "2024-11-05T03:23:36.658Z"
   },
   {
    "duration": 432,
    "start_time": "2024-11-05T03:24:04.332Z"
   },
   {
    "duration": 52,
    "start_time": "2024-11-05T03:24:21.947Z"
   },
   {
    "duration": 52,
    "start_time": "2024-11-05T03:25:28.822Z"
   },
   {
    "duration": 9,
    "start_time": "2024-11-05T03:41:39.844Z"
   },
   {
    "duration": 8,
    "start_time": "2024-11-05T03:42:24.260Z"
   },
   {
    "duration": 12,
    "start_time": "2024-11-05T04:03:21.959Z"
   },
   {
    "duration": 44,
    "start_time": "2024-11-05T04:03:28.934Z"
   },
   {
    "duration": 38,
    "start_time": "2024-11-05T04:03:44.749Z"
   },
   {
    "duration": 42,
    "start_time": "2024-11-05T04:04:50.430Z"
   },
   {
    "duration": 10,
    "start_time": "2024-11-05T04:05:27.980Z"
   },
   {
    "duration": 6,
    "start_time": "2024-11-05T04:07:59.930Z"
   },
   {
    "duration": 33,
    "start_time": "2024-11-05T04:08:13.590Z"
   },
   {
    "duration": 24,
    "start_time": "2024-11-05T04:08:23.186Z"
   },
   {
    "duration": 285,
    "start_time": "2024-11-05T04:11:04.808Z"
   },
   {
    "duration": 13,
    "start_time": "2024-11-05T04:11:37.716Z"
   },
   {
    "duration": 7,
    "start_time": "2024-11-05T04:11:53.454Z"
   },
   {
    "duration": 6,
    "start_time": "2024-11-05T04:13:42.578Z"
   },
   {
    "duration": 117,
    "start_time": "2024-11-05T04:14:18.941Z"
   },
   {
    "duration": 41,
    "start_time": "2024-11-05T04:14:40.436Z"
   },
   {
    "duration": 20,
    "start_time": "2024-11-05T04:16:58.334Z"
   },
   {
    "duration": 20,
    "start_time": "2024-11-05T04:17:20.056Z"
   },
   {
    "duration": 32,
    "start_time": "2024-11-05T04:17:28.027Z"
   },
   {
    "duration": 4,
    "start_time": "2024-11-05T04:19:39.525Z"
   },
   {
    "duration": 5,
    "start_time": "2024-11-05T04:19:46.647Z"
   },
   {
    "duration": 4,
    "start_time": "2024-11-05T04:19:53.261Z"
   },
   {
    "duration": 14,
    "start_time": "2024-11-05T04:19:58.654Z"
   },
   {
    "duration": 4,
    "start_time": "2024-11-05T04:27:47.891Z"
   },
   {
    "duration": 39,
    "start_time": "2024-11-05T04:28:21.021Z"
   },
   {
    "duration": 38,
    "start_time": "2024-11-05T04:28:54.740Z"
   },
   {
    "duration": 177,
    "start_time": "2024-11-05T04:30:56.274Z"
   },
   {
    "duration": 9,
    "start_time": "2024-11-05T04:31:07.849Z"
   },
   {
    "duration": 20,
    "start_time": "2024-11-05T04:31:23.034Z"
   },
   {
    "duration": 23,
    "start_time": "2024-11-05T04:31:31.905Z"
   },
   {
    "duration": 3,
    "start_time": "2024-11-05T04:32:04.425Z"
   },
   {
    "duration": 357,
    "start_time": "2024-11-06T01:32:26.551Z"
   },
   {
    "duration": 211,
    "start_time": "2024-11-06T01:32:26.911Z"
   },
   {
    "duration": 9,
    "start_time": "2024-11-06T01:32:27.124Z"
   },
   {
    "duration": 9,
    "start_time": "2024-11-06T01:32:27.135Z"
   },
   {
    "duration": 8,
    "start_time": "2024-11-06T01:32:27.146Z"
   },
   {
    "duration": 8,
    "start_time": "2024-11-06T01:32:27.155Z"
   },
   {
    "duration": 10,
    "start_time": "2024-11-06T01:32:27.164Z"
   },
   {
    "duration": 15,
    "start_time": "2024-11-06T01:32:27.176Z"
   },
   {
    "duration": 79,
    "start_time": "2024-11-06T01:32:27.193Z"
   },
   {
    "duration": 26,
    "start_time": "2024-11-06T01:32:27.275Z"
   },
   {
    "duration": 141,
    "start_time": "2024-11-06T01:32:27.303Z"
   },
   {
    "duration": 12,
    "start_time": "2024-11-06T01:32:27.446Z"
   },
   {
    "duration": 21,
    "start_time": "2024-11-06T01:32:27.459Z"
   },
   {
    "duration": 21,
    "start_time": "2024-11-06T01:32:27.482Z"
   },
   {
    "duration": 41,
    "start_time": "2024-11-06T01:32:27.505Z"
   },
   {
    "duration": 47,
    "start_time": "2024-11-06T01:32:27.548Z"
   },
   {
    "duration": 38,
    "start_time": "2024-11-06T01:32:27.596Z"
   },
   {
    "duration": 7,
    "start_time": "2024-11-06T01:32:27.636Z"
   },
   {
    "duration": 38,
    "start_time": "2024-11-06T01:32:27.645Z"
   },
   {
    "duration": 11,
    "start_time": "2024-11-06T01:32:27.684Z"
   },
   {
    "duration": 49,
    "start_time": "2024-11-06T01:32:27.696Z"
   },
   {
    "duration": 209,
    "start_time": "2024-11-06T01:32:27.747Z"
   },
   {
    "duration": 0,
    "start_time": "2024-11-06T01:32:27.958Z"
   },
   {
    "duration": 0,
    "start_time": "2024-11-06T01:32:27.959Z"
   },
   {
    "duration": 0,
    "start_time": "2024-11-06T01:32:27.961Z"
   },
   {
    "duration": 0,
    "start_time": "2024-11-06T01:32:27.962Z"
   },
   {
    "duration": 0,
    "start_time": "2024-11-06T01:32:27.964Z"
   },
   {
    "duration": 0,
    "start_time": "2024-11-06T01:32:27.965Z"
   },
   {
    "duration": 0,
    "start_time": "2024-11-06T01:32:27.967Z"
   },
   {
    "duration": 0,
    "start_time": "2024-11-06T01:32:27.968Z"
   },
   {
    "duration": 0,
    "start_time": "2024-11-06T01:32:27.970Z"
   },
   {
    "duration": 0,
    "start_time": "2024-11-06T01:32:27.972Z"
   },
   {
    "duration": 0,
    "start_time": "2024-11-06T01:32:27.973Z"
   },
   {
    "duration": 23,
    "start_time": "2024-11-06T01:33:28.283Z"
   },
   {
    "duration": 21,
    "start_time": "2024-11-06T01:33:32.435Z"
   },
   {
    "duration": 25,
    "start_time": "2024-11-06T01:33:36.363Z"
   },
   {
    "duration": 15,
    "start_time": "2024-11-06T01:34:25.821Z"
   },
   {
    "duration": 13,
    "start_time": "2024-11-06T01:34:42.446Z"
   },
   {
    "duration": 23,
    "start_time": "2024-11-06T01:38:19.787Z"
   },
   {
    "duration": 18,
    "start_time": "2024-11-06T01:38:42.612Z"
   },
   {
    "duration": 352,
    "start_time": "2024-11-06T03:08:58.426Z"
   },
   {
    "duration": 228,
    "start_time": "2024-11-06T03:08:58.780Z"
   },
   {
    "duration": 9,
    "start_time": "2024-11-06T03:08:59.010Z"
   },
   {
    "duration": 9,
    "start_time": "2024-11-06T03:08:59.021Z"
   },
   {
    "duration": 8,
    "start_time": "2024-11-06T03:08:59.032Z"
   },
   {
    "duration": 7,
    "start_time": "2024-11-06T03:08:59.042Z"
   },
   {
    "duration": 11,
    "start_time": "2024-11-06T03:08:59.051Z"
   },
   {
    "duration": 47,
    "start_time": "2024-11-06T03:08:59.064Z"
   },
   {
    "duration": 40,
    "start_time": "2024-11-06T03:08:59.113Z"
   },
   {
    "duration": 28,
    "start_time": "2024-11-06T03:08:59.155Z"
   },
   {
    "duration": 144,
    "start_time": "2024-11-06T03:08:59.185Z"
   },
   {
    "duration": 12,
    "start_time": "2024-11-06T03:08:59.331Z"
   },
   {
    "duration": 20,
    "start_time": "2024-11-06T03:08:59.345Z"
   },
   {
    "duration": 39,
    "start_time": "2024-11-06T03:08:59.371Z"
   },
   {
    "duration": 13,
    "start_time": "2024-11-06T03:08:59.411Z"
   },
   {
    "duration": 40,
    "start_time": "2024-11-06T03:08:59.426Z"
   },
   {
    "duration": 40,
    "start_time": "2024-11-06T03:08:59.468Z"
   },
   {
    "duration": 7,
    "start_time": "2024-11-06T03:08:59.511Z"
   },
   {
    "duration": 27,
    "start_time": "2024-11-06T03:08:59.520Z"
   },
   {
    "duration": 10,
    "start_time": "2024-11-06T03:08:59.549Z"
   },
   {
    "duration": 21,
    "start_time": "2024-11-06T03:08:59.561Z"
   },
   {
    "duration": 25,
    "start_time": "2024-11-06T03:08:59.609Z"
   },
   {
    "duration": 21,
    "start_time": "2024-11-06T03:08:59.635Z"
   },
   {
    "duration": 19,
    "start_time": "2024-11-06T03:08:59.657Z"
   },
   {
    "duration": 2,
    "start_time": "2024-11-06T03:08:59.678Z"
   },
   {
    "duration": 3,
    "start_time": "2024-11-06T03:08:59.681Z"
   },
   {
    "duration": 4,
    "start_time": "2024-11-06T03:08:59.710Z"
   },
   {
    "duration": 3,
    "start_time": "2024-11-06T03:08:59.716Z"
   },
   {
    "duration": 3,
    "start_time": "2024-11-06T03:08:59.720Z"
   },
   {
    "duration": 3,
    "start_time": "2024-11-06T03:08:59.724Z"
   },
   {
    "duration": 3,
    "start_time": "2024-11-06T03:08:59.729Z"
   },
   {
    "duration": 2,
    "start_time": "2024-11-06T03:08:59.734Z"
   },
   {
    "duration": 4,
    "start_time": "2024-11-06T03:08:59.738Z"
   },
   {
    "duration": 10,
    "start_time": "2024-11-06T03:10:17.591Z"
   },
   {
    "duration": 11,
    "start_time": "2024-11-06T03:10:22.954Z"
   },
   {
    "duration": 33,
    "start_time": "2024-11-06T03:10:37.169Z"
   },
   {
    "duration": 3,
    "start_time": "2024-11-06T03:53:13.142Z"
   },
   {
    "duration": 6,
    "start_time": "2024-11-06T03:54:03.463Z"
   },
   {
    "duration": 4,
    "start_time": "2024-11-06T03:54:15.803Z"
   },
   {
    "duration": 3,
    "start_time": "2024-11-06T03:54:39.463Z"
   },
   {
    "duration": 178,
    "start_time": "2024-11-06T03:54:50.404Z"
   },
   {
    "duration": 13,
    "start_time": "2024-11-06T03:55:02.595Z"
   },
   {
    "duration": 5,
    "start_time": "2024-11-06T03:55:16.757Z"
   },
   {
    "duration": 4,
    "start_time": "2024-11-06T03:55:26.138Z"
   },
   {
    "duration": 3,
    "start_time": "2024-11-06T03:55:31.393Z"
   },
   {
    "duration": 3,
    "start_time": "2024-11-06T03:55:48.130Z"
   },
   {
    "duration": 4,
    "start_time": "2024-11-06T03:55:49.506Z"
   },
   {
    "duration": 598,
    "start_time": "2024-11-06T03:55:52.875Z"
   },
   {
    "duration": 68,
    "start_time": "2024-11-06T03:56:43.350Z"
   },
   {
    "duration": 66,
    "start_time": "2024-11-06T03:58:10.832Z"
   },
   {
    "duration": 3,
    "start_time": "2024-11-06T03:58:29.606Z"
   },
   {
    "duration": 3,
    "start_time": "2024-11-06T03:58:30.983Z"
   },
   {
    "duration": 3,
    "start_time": "2024-11-06T03:58:31.682Z"
   },
   {
    "duration": 76,
    "start_time": "2024-11-06T03:59:09.701Z"
   },
   {
    "duration": 296,
    "start_time": "2024-11-07T04:06:59.997Z"
   },
   {
    "duration": 270,
    "start_time": "2024-11-07T04:07:00.295Z"
   },
   {
    "duration": 11,
    "start_time": "2024-11-07T04:07:00.567Z"
   },
   {
    "duration": 9,
    "start_time": "2024-11-07T04:07:00.580Z"
   },
   {
    "duration": 9,
    "start_time": "2024-11-07T04:07:00.591Z"
   },
   {
    "duration": 11,
    "start_time": "2024-11-07T04:07:00.601Z"
   },
   {
    "duration": 10,
    "start_time": "2024-11-07T04:07:00.613Z"
   },
   {
    "duration": 14,
    "start_time": "2024-11-07T04:07:00.625Z"
   },
   {
    "duration": 75,
    "start_time": "2024-11-07T04:07:00.641Z"
   },
   {
    "duration": 38,
    "start_time": "2024-11-07T04:07:00.720Z"
   },
   {
    "duration": 138,
    "start_time": "2024-11-07T04:07:00.759Z"
   },
   {
    "duration": 21,
    "start_time": "2024-11-07T04:07:00.899Z"
   },
   {
    "duration": 30,
    "start_time": "2024-11-07T04:07:00.922Z"
   },
   {
    "duration": 26,
    "start_time": "2024-11-07T04:07:00.957Z"
   },
   {
    "duration": 27,
    "start_time": "2024-11-07T04:07:00.985Z"
   },
   {
    "duration": 58,
    "start_time": "2024-11-07T04:07:01.013Z"
   },
   {
    "duration": 21,
    "start_time": "2024-11-07T04:07:01.073Z"
   },
   {
    "duration": 21,
    "start_time": "2024-11-07T04:07:01.096Z"
   },
   {
    "duration": 26,
    "start_time": "2024-11-07T04:07:01.119Z"
   },
   {
    "duration": 11,
    "start_time": "2024-11-07T04:07:01.147Z"
   },
   {
    "duration": 21,
    "start_time": "2024-11-07T04:07:01.160Z"
   },
   {
    "duration": 50,
    "start_time": "2024-11-07T04:07:01.183Z"
   },
   {
    "duration": 30,
    "start_time": "2024-11-07T04:07:01.235Z"
   },
   {
    "duration": 50,
    "start_time": "2024-11-07T04:07:01.267Z"
   },
   {
    "duration": 3,
    "start_time": "2024-11-07T04:07:01.318Z"
   },
   {
    "duration": 2,
    "start_time": "2024-11-07T04:07:01.323Z"
   },
   {
    "duration": 3,
    "start_time": "2024-11-07T04:07:01.327Z"
   },
   {
    "duration": 766,
    "start_time": "2024-11-07T04:07:01.333Z"
   },
   {
    "duration": 0,
    "start_time": "2024-11-07T04:07:02.101Z"
   },
   {
    "duration": 0,
    "start_time": "2024-11-07T04:07:02.102Z"
   },
   {
    "duration": 0,
    "start_time": "2024-11-07T04:07:02.112Z"
   },
   {
    "duration": 0,
    "start_time": "2024-11-07T04:07:02.113Z"
   },
   {
    "duration": 0,
    "start_time": "2024-11-07T04:07:02.115Z"
   },
   {
    "duration": 0,
    "start_time": "2024-11-07T04:07:02.116Z"
   },
   {
    "duration": 0,
    "start_time": "2024-11-07T04:07:02.117Z"
   },
   {
    "duration": 0,
    "start_time": "2024-11-07T04:07:02.118Z"
   },
   {
    "duration": 19,
    "start_time": "2024-11-07T04:23:39.867Z"
   },
   {
    "duration": 65,
    "start_time": "2024-11-07T04:23:54.534Z"
   },
   {
    "duration": 66,
    "start_time": "2024-11-07T04:24:12.163Z"
   },
   {
    "duration": 3,
    "start_time": "2024-11-07T04:24:50.533Z"
   },
   {
    "duration": 97,
    "start_time": "2024-11-07T04:25:00.901Z"
   },
   {
    "duration": 12,
    "start_time": "2024-11-07T04:25:48.161Z"
   },
   {
    "duration": 9,
    "start_time": "2024-11-07T04:25:50.515Z"
   },
   {
    "duration": 3,
    "start_time": "2024-11-07T04:27:45.091Z"
   },
   {
    "duration": 4,
    "start_time": "2024-11-07T04:27:46.684Z"
   },
   {
    "duration": 3,
    "start_time": "2024-11-07T04:27:47.315Z"
   },
   {
    "duration": 95,
    "start_time": "2024-11-07T04:27:48.361Z"
   },
   {
    "duration": 89,
    "start_time": "2024-11-07T04:29:00.362Z"
   },
   {
    "duration": 2,
    "start_time": "2024-11-07T04:30:00.669Z"
   },
   {
    "duration": 104,
    "start_time": "2024-11-07T04:30:03.666Z"
   },
   {
    "duration": 25,
    "start_time": "2024-11-07T04:30:30.376Z"
   },
   {
    "duration": 3,
    "start_time": "2024-11-07T04:31:43.587Z"
   },
   {
    "duration": 3,
    "start_time": "2024-11-07T04:31:44.929Z"
   },
   {
    "duration": 93,
    "start_time": "2024-11-07T04:31:45.438Z"
   },
   {
    "duration": 3,
    "start_time": "2024-11-07T04:36:03.792Z"
   },
   {
    "duration": 4,
    "start_time": "2024-11-07T04:36:05.888Z"
   },
   {
    "duration": 92,
    "start_time": "2024-11-07T04:36:06.458Z"
   },
   {
    "duration": 3,
    "start_time": "2024-11-07T04:37:39.440Z"
   },
   {
    "duration": 3,
    "start_time": "2024-11-07T04:37:40.996Z"
   },
   {
    "duration": 93,
    "start_time": "2024-11-07T04:37:41.451Z"
   },
   {
    "duration": 2,
    "start_time": "2024-11-07T04:40:09.548Z"
   },
   {
    "duration": 193,
    "start_time": "2024-11-07T04:40:12.246Z"
   },
   {
    "duration": 11,
    "start_time": "2024-11-07T04:40:16.297Z"
   },
   {
    "duration": 7,
    "start_time": "2024-11-07T04:40:17.881Z"
   },
   {
    "duration": 3,
    "start_time": "2024-11-07T04:40:26.917Z"
   },
   {
    "duration": 170,
    "start_time": "2024-11-07T04:40:26.923Z"
   },
   {
    "duration": 10,
    "start_time": "2024-11-07T04:40:27.095Z"
   },
   {
    "duration": 10,
    "start_time": "2024-11-07T04:40:27.107Z"
   },
   {
    "duration": 9,
    "start_time": "2024-11-07T04:40:27.119Z"
   },
   {
    "duration": 7,
    "start_time": "2024-11-07T04:40:27.130Z"
   },
   {
    "duration": 12,
    "start_time": "2024-11-07T04:40:27.139Z"
   },
   {
    "duration": 16,
    "start_time": "2024-11-07T04:40:27.152Z"
   },
   {
    "duration": 78,
    "start_time": "2024-11-07T04:40:27.170Z"
   },
   {
    "duration": 36,
    "start_time": "2024-11-07T04:40:27.251Z"
   },
   {
    "duration": 150,
    "start_time": "2024-11-07T04:40:27.290Z"
   },
   {
    "duration": 12,
    "start_time": "2024-11-07T04:40:27.442Z"
   },
   {
    "duration": 25,
    "start_time": "2024-11-07T04:40:27.456Z"
   },
   {
    "duration": 37,
    "start_time": "2024-11-07T04:40:27.486Z"
   },
   {
    "duration": 14,
    "start_time": "2024-11-07T04:40:27.524Z"
   },
   {
    "duration": 70,
    "start_time": "2024-11-07T04:40:27.541Z"
   },
   {
    "duration": 31,
    "start_time": "2024-11-07T04:40:27.613Z"
   },
   {
    "duration": 8,
    "start_time": "2024-11-07T04:40:27.647Z"
   },
   {
    "duration": 35,
    "start_time": "2024-11-07T04:40:27.656Z"
   },
   {
    "duration": 31,
    "start_time": "2024-11-07T04:40:27.693Z"
   },
   {
    "duration": 25,
    "start_time": "2024-11-07T04:40:27.725Z"
   },
   {
    "duration": 34,
    "start_time": "2024-11-07T04:40:27.752Z"
   },
   {
    "duration": 40,
    "start_time": "2024-11-07T04:40:27.789Z"
   },
   {
    "duration": 26,
    "start_time": "2024-11-07T04:40:27.831Z"
   },
   {
    "duration": 3,
    "start_time": "2024-11-07T04:40:27.859Z"
   },
   {
    "duration": 4,
    "start_time": "2024-11-07T04:40:27.864Z"
   },
   {
    "duration": 7,
    "start_time": "2024-11-07T04:40:27.870Z"
   },
   {
    "duration": 111,
    "start_time": "2024-11-07T04:40:27.880Z"
   },
   {
    "duration": 0,
    "start_time": "2024-11-07T04:40:27.993Z"
   },
   {
    "duration": 0,
    "start_time": "2024-11-07T04:40:27.994Z"
   },
   {
    "duration": 0,
    "start_time": "2024-11-07T04:40:27.995Z"
   },
   {
    "duration": 0,
    "start_time": "2024-11-07T04:40:27.996Z"
   },
   {
    "duration": 0,
    "start_time": "2024-11-07T04:40:27.997Z"
   },
   {
    "duration": 0,
    "start_time": "2024-11-07T04:40:27.998Z"
   },
   {
    "duration": 0,
    "start_time": "2024-11-07T04:40:27.999Z"
   },
   {
    "duration": 0,
    "start_time": "2024-11-07T04:40:28.000Z"
   },
   {
    "duration": 27,
    "start_time": "2024-11-07T04:40:41.680Z"
   },
   {
    "duration": 3,
    "start_time": "2024-11-07T04:42:47.085Z"
   },
   {
    "duration": 142,
    "start_time": "2024-11-07T04:42:51.673Z"
   },
   {
    "duration": 3,
    "start_time": "2024-11-07T04:47:17.431Z"
   },
   {
    "duration": 3,
    "start_time": "2024-11-07T04:47:17.876Z"
   },
   {
    "duration": 97,
    "start_time": "2024-11-07T04:47:18.516Z"
   },
   {
    "duration": 2,
    "start_time": "2024-11-07T04:58:30.599Z"
   },
   {
    "duration": 3,
    "start_time": "2024-11-07T04:58:33.631Z"
   },
   {
    "duration": 131,
    "start_time": "2024-11-07T04:58:35.456Z"
   },
   {
    "duration": 61,
    "start_time": "2024-11-07T04:59:16.879Z"
   },
   {
    "duration": 73,
    "start_time": "2024-11-07T04:59:32.407Z"
   },
   {
    "duration": 3,
    "start_time": "2024-11-07T04:59:54.044Z"
   },
   {
    "duration": 3,
    "start_time": "2024-11-07T05:00:13.853Z"
   },
   {
    "duration": 64,
    "start_time": "2024-11-07T05:00:17.396Z"
   },
   {
    "duration": 30,
    "start_time": "2024-11-07T05:02:33.791Z"
   },
   {
    "duration": 25,
    "start_time": "2024-11-07T05:03:10.185Z"
   },
   {
    "duration": 22,
    "start_time": "2024-11-07T05:08:30.658Z"
   },
   {
    "duration": 29,
    "start_time": "2024-11-07T05:08:52.933Z"
   },
   {
    "duration": 35,
    "start_time": "2024-11-07T05:08:55.276Z"
   },
   {
    "duration": 19,
    "start_time": "2024-11-07T05:14:13.664Z"
   },
   {
    "duration": 23,
    "start_time": "2024-11-07T05:16:22.778Z"
   },
   {
    "duration": 32,
    "start_time": "2024-11-07T05:17:12.162Z"
   },
   {
    "duration": 3,
    "start_time": "2024-11-07T05:17:24.230Z"
   },
   {
    "duration": 3,
    "start_time": "2024-11-07T05:17:24.840Z"
   },
   {
    "duration": 3,
    "start_time": "2024-11-07T05:17:29.047Z"
   },
   {
    "duration": 3,
    "start_time": "2024-11-07T05:17:30.260Z"
   },
   {
    "duration": 3,
    "start_time": "2024-11-07T05:17:30.953Z"
   },
   {
    "duration": 7,
    "start_time": "2024-11-07T05:17:49.798Z"
   },
   {
    "duration": 6,
    "start_time": "2024-11-07T05:19:26.062Z"
   },
   {
    "duration": 4,
    "start_time": "2024-11-07T05:19:41.223Z"
   },
   {
    "duration": 91,
    "start_time": "2024-11-07T05:20:04.093Z"
   },
   {
    "duration": 110,
    "start_time": "2024-11-07T05:20:22.780Z"
   },
   {
    "duration": 364,
    "start_time": "2024-11-08T02:31:45.985Z"
   },
   {
    "duration": 231,
    "start_time": "2024-11-08T02:31:46.351Z"
   },
   {
    "duration": 10,
    "start_time": "2024-11-08T02:31:46.587Z"
   },
   {
    "duration": 13,
    "start_time": "2024-11-08T02:31:46.599Z"
   },
   {
    "duration": 10,
    "start_time": "2024-11-08T02:31:46.618Z"
   },
   {
    "duration": 10,
    "start_time": "2024-11-08T02:31:46.632Z"
   },
   {
    "duration": 12,
    "start_time": "2024-11-08T02:31:46.643Z"
   },
   {
    "duration": 15,
    "start_time": "2024-11-08T02:31:46.659Z"
   },
   {
    "duration": 55,
    "start_time": "2024-11-08T02:31:46.677Z"
   },
   {
    "duration": 27,
    "start_time": "2024-11-08T02:31:46.735Z"
   },
   {
    "duration": 138,
    "start_time": "2024-11-08T02:31:46.764Z"
   },
   {
    "duration": 21,
    "start_time": "2024-11-08T02:31:46.904Z"
   },
   {
    "duration": 23,
    "start_time": "2024-11-08T02:31:46.927Z"
   },
   {
    "duration": 19,
    "start_time": "2024-11-08T02:31:46.955Z"
   },
   {
    "duration": 16,
    "start_time": "2024-11-08T02:31:46.976Z"
   },
   {
    "duration": 64,
    "start_time": "2024-11-08T02:31:46.994Z"
   },
   {
    "duration": 22,
    "start_time": "2024-11-08T02:31:47.060Z"
   },
   {
    "duration": 8,
    "start_time": "2024-11-08T02:31:47.084Z"
   },
   {
    "duration": 58,
    "start_time": "2024-11-08T02:31:47.094Z"
   },
   {
    "duration": 13,
    "start_time": "2024-11-08T02:31:47.153Z"
   },
   {
    "duration": 29,
    "start_time": "2024-11-08T02:31:47.169Z"
   },
   {
    "duration": 48,
    "start_time": "2024-11-08T02:31:47.201Z"
   },
   {
    "duration": 27,
    "start_time": "2024-11-08T02:31:47.251Z"
   },
   {
    "duration": 27,
    "start_time": "2024-11-08T02:31:47.280Z"
   },
   {
    "duration": 4,
    "start_time": "2024-11-08T02:31:47.324Z"
   },
   {
    "duration": 5,
    "start_time": "2024-11-08T02:31:47.330Z"
   },
   {
    "duration": 4,
    "start_time": "2024-11-08T02:31:47.338Z"
   },
   {
    "duration": 878,
    "start_time": "2024-11-08T02:31:47.344Z"
   },
   {
    "duration": 0,
    "start_time": "2024-11-08T02:31:48.224Z"
   },
   {
    "duration": 0,
    "start_time": "2024-11-08T02:31:48.225Z"
   },
   {
    "duration": 0,
    "start_time": "2024-11-08T02:31:48.226Z"
   },
   {
    "duration": 0,
    "start_time": "2024-11-08T02:31:48.228Z"
   },
   {
    "duration": 0,
    "start_time": "2024-11-08T02:31:48.229Z"
   },
   {
    "duration": 0,
    "start_time": "2024-11-08T02:31:48.231Z"
   },
   {
    "duration": 0,
    "start_time": "2024-11-08T02:31:48.232Z"
   },
   {
    "duration": 0,
    "start_time": "2024-11-08T02:31:48.233Z"
   },
   {
    "duration": 3,
    "start_time": "2024-11-08T02:54:56.631Z"
   },
   {
    "duration": 191,
    "start_time": "2024-11-08T02:54:56.657Z"
   },
   {
    "duration": 11,
    "start_time": "2024-11-08T02:54:56.850Z"
   },
   {
    "duration": 9,
    "start_time": "2024-11-08T02:54:56.863Z"
   },
   {
    "duration": 9,
    "start_time": "2024-11-08T02:54:56.874Z"
   },
   {
    "duration": 7,
    "start_time": "2024-11-08T02:54:56.884Z"
   },
   {
    "duration": 9,
    "start_time": "2024-11-08T02:54:56.893Z"
   },
   {
    "duration": 37,
    "start_time": "2024-11-08T02:54:56.904Z"
   },
   {
    "duration": 58,
    "start_time": "2024-11-08T02:54:56.946Z"
   },
   {
    "duration": 34,
    "start_time": "2024-11-08T02:54:57.014Z"
   },
   {
    "duration": 184,
    "start_time": "2024-11-08T02:54:57.051Z"
   },
   {
    "duration": 15,
    "start_time": "2024-11-08T02:54:57.239Z"
   },
   {
    "duration": 31,
    "start_time": "2024-11-08T02:54:57.261Z"
   },
   {
    "duration": 30,
    "start_time": "2024-11-08T02:54:57.297Z"
   },
   {
    "duration": 19,
    "start_time": "2024-11-08T02:54:57.330Z"
   },
   {
    "duration": 51,
    "start_time": "2024-11-08T02:54:57.350Z"
   },
   {
    "duration": 42,
    "start_time": "2024-11-08T02:54:57.403Z"
   },
   {
    "duration": 7,
    "start_time": "2024-11-08T02:54:57.447Z"
   },
   {
    "duration": 35,
    "start_time": "2024-11-08T02:54:57.456Z"
   },
   {
    "duration": 33,
    "start_time": "2024-11-08T02:54:57.493Z"
   },
   {
    "duration": 34,
    "start_time": "2024-11-08T02:54:57.529Z"
   },
   {
    "duration": 36,
    "start_time": "2024-11-08T02:54:57.565Z"
   },
   {
    "duration": 31,
    "start_time": "2024-11-08T02:54:57.603Z"
   },
   {
    "duration": 28,
    "start_time": "2024-11-08T02:54:57.635Z"
   },
   {
    "duration": 3,
    "start_time": "2024-11-08T02:54:57.664Z"
   },
   {
    "duration": 3,
    "start_time": "2024-11-08T02:54:57.669Z"
   },
   {
    "duration": 3,
    "start_time": "2024-11-08T02:54:57.674Z"
   },
   {
    "duration": 139,
    "start_time": "2024-11-08T02:54:57.678Z"
   },
   {
    "duration": 0,
    "start_time": "2024-11-08T02:54:57.820Z"
   },
   {
    "duration": 0,
    "start_time": "2024-11-08T02:54:57.828Z"
   },
   {
    "duration": 0,
    "start_time": "2024-11-08T02:54:57.829Z"
   },
   {
    "duration": 0,
    "start_time": "2024-11-08T02:54:57.830Z"
   },
   {
    "duration": 0,
    "start_time": "2024-11-08T02:54:57.831Z"
   },
   {
    "duration": 0,
    "start_time": "2024-11-08T02:54:57.851Z"
   },
   {
    "duration": 0,
    "start_time": "2024-11-08T02:54:57.851Z"
   },
   {
    "duration": 0,
    "start_time": "2024-11-08T02:54:57.852Z"
   },
   {
    "duration": 46,
    "start_time": "2024-11-08T02:57:55.678Z"
   },
   {
    "duration": 69,
    "start_time": "2024-11-08T02:58:41.839Z"
   },
   {
    "duration": 3,
    "start_time": "2024-11-08T03:05:29.169Z"
   },
   {
    "duration": 46,
    "start_time": "2024-11-08T03:05:32.244Z"
   },
   {
    "duration": 50,
    "start_time": "2024-11-08T03:07:40.032Z"
   },
   {
    "duration": 37,
    "start_time": "2024-11-08T03:08:08.776Z"
   },
   {
    "duration": 2,
    "start_time": "2024-11-08T03:09:41.096Z"
   },
   {
    "duration": 182,
    "start_time": "2024-11-08T03:09:43.188Z"
   },
   {
    "duration": 11,
    "start_time": "2024-11-08T03:09:46.051Z"
   },
   {
    "duration": 8,
    "start_time": "2024-11-08T03:09:47.082Z"
   },
   {
    "duration": 10,
    "start_time": "2024-11-08T03:09:55.848Z"
   },
   {
    "duration": 9,
    "start_time": "2024-11-08T03:09:56.982Z"
   },
   {
    "duration": 13,
    "start_time": "2024-11-08T03:10:02.352Z"
   },
   {
    "duration": 23,
    "start_time": "2024-11-08T03:10:04.529Z"
   },
   {
    "duration": 56,
    "start_time": "2024-11-08T03:10:04.734Z"
   },
   {
    "duration": 28,
    "start_time": "2024-11-08T03:10:05.540Z"
   },
   {
    "duration": 166,
    "start_time": "2024-11-08T03:10:10.514Z"
   },
   {
    "duration": 13,
    "start_time": "2024-11-08T03:10:12.270Z"
   },
   {
    "duration": 28,
    "start_time": "2024-11-08T03:10:13.209Z"
   },
   {
    "duration": 24,
    "start_time": "2024-11-08T03:10:15.721Z"
   },
   {
    "duration": 20,
    "start_time": "2024-11-08T03:10:19.457Z"
   },
   {
    "duration": 53,
    "start_time": "2024-11-08T03:10:20.418Z"
   },
   {
    "duration": 25,
    "start_time": "2024-11-08T03:10:21.709Z"
   },
   {
    "duration": 20,
    "start_time": "2024-11-08T03:10:27.609Z"
   },
   {
    "duration": 8,
    "start_time": "2024-11-08T03:10:30.526Z"
   },
   {
    "duration": 25,
    "start_time": "2024-11-08T03:10:32.985Z"
   },
   {
    "duration": 10,
    "start_time": "2024-11-08T03:10:36.309Z"
   },
   {
    "duration": 29,
    "start_time": "2024-11-08T03:10:38.622Z"
   },
   {
    "duration": 25,
    "start_time": "2024-11-08T03:10:40.081Z"
   },
   {
    "duration": 27,
    "start_time": "2024-11-08T03:10:48.258Z"
   },
   {
    "duration": 22,
    "start_time": "2024-11-08T03:10:55.597Z"
   },
   {
    "duration": 4,
    "start_time": "2024-11-08T03:11:25.574Z"
   },
   {
    "duration": 56,
    "start_time": "2024-11-08T03:11:26.903Z"
   },
   {
    "duration": 3,
    "start_time": "2024-11-08T03:11:31.177Z"
   },
   {
    "duration": 74,
    "start_time": "2024-11-08T03:11:34.544Z"
   },
   {
    "duration": 312,
    "start_time": "2024-11-10T18:57:46.428Z"
   },
   {
    "duration": 207,
    "start_time": "2024-11-10T18:57:49.694Z"
   },
   {
    "duration": 9,
    "start_time": "2024-11-10T18:57:54.411Z"
   },
   {
    "duration": 9,
    "start_time": "2024-11-10T18:57:57.154Z"
   },
   {
    "duration": 9,
    "start_time": "2024-11-10T18:58:51.785Z"
   },
   {
    "duration": 8,
    "start_time": "2024-11-10T18:58:54.244Z"
   },
   {
    "duration": 10,
    "start_time": "2024-11-10T18:59:48.585Z"
   },
   {
    "duration": 8,
    "start_time": "2024-11-10T18:59:51.054Z"
   },
   {
    "duration": 11,
    "start_time": "2024-11-10T18:59:56.540Z"
   },
   {
    "duration": 15,
    "start_time": "2024-11-10T19:00:04.553Z"
   },
   {
    "duration": 26,
    "start_time": "2024-11-10T19:00:12.126Z"
   },
   {
    "duration": 123,
    "start_time": "2024-11-10T19:00:18.591Z"
   },
   {
    "duration": 11,
    "start_time": "2024-11-10T19:00:23.059Z"
   },
   {
    "duration": 23,
    "start_time": "2024-11-10T19:00:26.059Z"
   },
   {
    "duration": 18,
    "start_time": "2024-11-10T19:00:29.583Z"
   },
   {
    "duration": 14,
    "start_time": "2024-11-10T19:00:35.260Z"
   },
   {
    "duration": 40,
    "start_time": "2024-11-10T19:00:38.357Z"
   },
   {
    "duration": 20,
    "start_time": "2024-11-10T19:03:09.705Z"
   },
   {
    "duration": 8,
    "start_time": "2024-11-10T19:03:14.816Z"
   },
   {
    "duration": 32,
    "start_time": "2024-11-10T19:03:19.129Z"
   },
   {
    "duration": 10,
    "start_time": "2024-11-10T19:03:23.919Z"
   },
   {
    "duration": 20,
    "start_time": "2024-11-10T19:03:28.242Z"
   },
   {
    "duration": 25,
    "start_time": "2024-11-10T19:03:36.153Z"
   },
   {
    "duration": 26,
    "start_time": "2024-11-10T19:03:40.020Z"
   },
   {
    "duration": 21,
    "start_time": "2024-11-10T19:03:43.182Z"
   },
   {
    "duration": 3,
    "start_time": "2024-11-10T19:03:46.908Z"
   },
   {
    "duration": 45,
    "start_time": "2024-11-10T19:03:49.960Z"
   },
   {
    "duration": 4,
    "start_time": "2024-11-10T19:03:53.857Z"
   },
   {
    "duration": 748,
    "start_time": "2024-11-10T19:03:57.798Z"
   },
   {
    "duration": 3,
    "start_time": "2024-11-10T19:05:26.515Z"
   },
   {
    "duration": 3,
    "start_time": "2024-11-10T19:21:34.537Z"
   },
   {
    "duration": 46,
    "start_time": "2024-11-10T19:21:38.300Z"
   },
   {
    "duration": 13,
    "start_time": "2024-11-10T19:28:14.945Z"
   },
   {
    "duration": 2,
    "start_time": "2024-11-10T19:28:21.219Z"
   },
   {
    "duration": 65,
    "start_time": "2024-11-10T19:28:22.531Z"
   },
   {
    "duration": 2,
    "start_time": "2024-11-10T19:29:53.373Z"
   },
   {
    "duration": 13,
    "start_time": "2024-11-10T20:07:13.163Z"
   },
   {
    "duration": 62,
    "start_time": "2024-11-10T20:07:48.833Z"
   },
   {
    "duration": 3,
    "start_time": "2024-11-10T20:08:08.744Z"
   },
   {
    "duration": 28,
    "start_time": "2024-11-10T20:08:34.106Z"
   },
   {
    "duration": 3,
    "start_time": "2024-11-10T20:09:04.149Z"
   },
   {
    "duration": 3,
    "start_time": "2024-11-10T20:11:25.646Z"
   },
   {
    "duration": 2,
    "start_time": "2024-11-10T20:17:30.561Z"
   },
   {
    "duration": 152,
    "start_time": "2024-11-10T20:17:30.566Z"
   },
   {
    "duration": 8,
    "start_time": "2024-11-10T20:17:30.720Z"
   },
   {
    "duration": 7,
    "start_time": "2024-11-10T20:17:30.730Z"
   },
   {
    "duration": 8,
    "start_time": "2024-11-10T20:17:30.740Z"
   },
   {
    "duration": 7,
    "start_time": "2024-11-10T20:17:30.750Z"
   },
   {
    "duration": 10,
    "start_time": "2024-11-10T20:17:30.759Z"
   },
   {
    "duration": 15,
    "start_time": "2024-11-10T20:17:30.770Z"
   },
   {
    "duration": 72,
    "start_time": "2024-11-10T20:17:30.786Z"
   },
   {
    "duration": 24,
    "start_time": "2024-11-10T20:17:30.860Z"
   },
   {
    "duration": 140,
    "start_time": "2024-11-10T20:17:30.886Z"
   },
   {
    "duration": 12,
    "start_time": "2024-11-10T20:17:31.028Z"
   },
   {
    "duration": 24,
    "start_time": "2024-11-10T20:17:31.045Z"
   },
   {
    "duration": 18,
    "start_time": "2024-11-10T20:17:31.071Z"
   },
   {
    "duration": 35,
    "start_time": "2024-11-10T20:17:31.090Z"
   },
   {
    "duration": 39,
    "start_time": "2024-11-10T20:17:31.126Z"
   },
   {
    "duration": 23,
    "start_time": "2024-11-10T20:17:31.167Z"
   },
   {
    "duration": 8,
    "start_time": "2024-11-10T20:17:31.192Z"
   },
   {
    "duration": 25,
    "start_time": "2024-11-10T20:17:31.224Z"
   },
   {
    "duration": 11,
    "start_time": "2024-11-10T20:17:31.251Z"
   },
   {
    "duration": 20,
    "start_time": "2024-11-10T20:17:31.263Z"
   },
   {
    "duration": 49,
    "start_time": "2024-11-10T20:17:31.284Z"
   },
   {
    "duration": 22,
    "start_time": "2024-11-10T20:17:31.334Z"
   },
   {
    "duration": 21,
    "start_time": "2024-11-10T20:17:31.358Z"
   },
   {
    "duration": 3,
    "start_time": "2024-11-10T20:17:31.380Z"
   },
   {
    "duration": 66,
    "start_time": "2024-11-10T20:17:31.384Z"
   },
   {
    "duration": 2,
    "start_time": "2024-11-10T20:17:31.452Z"
   },
   {
    "duration": 44,
    "start_time": "2024-11-10T20:17:31.456Z"
   },
   {
    "duration": 2,
    "start_time": "2024-11-10T20:17:31.502Z"
   },
   {
    "duration": 19,
    "start_time": "2024-11-10T20:17:31.506Z"
   },
   {
    "duration": 3,
    "start_time": "2024-11-10T20:17:31.527Z"
   },
   {
    "duration": 3,
    "start_time": "2024-11-10T20:17:31.531Z"
   },
   {
    "duration": 4,
    "start_time": "2024-11-10T20:17:31.535Z"
   },
   {
    "duration": 3,
    "start_time": "2024-11-10T20:17:31.540Z"
   },
   {
    "duration": 2,
    "start_time": "2024-11-10T20:17:31.545Z"
   },
   {
    "duration": 2,
    "start_time": "2024-11-10T20:17:31.549Z"
   },
   {
    "duration": 46,
    "start_time": "2024-11-10T20:17:39.970Z"
   },
   {
    "duration": 3,
    "start_time": "2024-11-10T20:23:13.973Z"
   },
   {
    "duration": 73,
    "start_time": "2024-11-10T20:24:34.200Z"
   },
   {
    "duration": 3,
    "start_time": "2024-11-10T20:25:06.979Z"
   },
   {
    "duration": 39,
    "start_time": "2024-11-10T20:25:07.741Z"
   },
   {
    "duration": 3,
    "start_time": "2024-11-10T20:27:16.556Z"
   },
   {
    "duration": 67,
    "start_time": "2024-11-10T20:27:17.276Z"
   },
   {
    "duration": 5,
    "start_time": "2024-11-10T20:32:06.074Z"
   },
   {
    "duration": 41,
    "start_time": "2024-11-10T20:32:18.596Z"
   },
   {
    "duration": 39,
    "start_time": "2024-11-10T20:32:52.007Z"
   },
   {
    "duration": 43,
    "start_time": "2024-11-10T20:33:27.992Z"
   },
   {
    "duration": 38,
    "start_time": "2024-11-10T20:33:41.722Z"
   },
   {
    "duration": 46,
    "start_time": "2024-11-10T20:33:56.358Z"
   },
   {
    "duration": 48,
    "start_time": "2024-11-10T20:37:04.791Z"
   },
   {
    "duration": 24,
    "start_time": "2024-11-10T20:37:33.264Z"
   },
   {
    "duration": 20,
    "start_time": "2024-11-10T20:37:39.621Z"
   },
   {
    "duration": 20,
    "start_time": "2024-11-10T20:37:53.922Z"
   },
   {
    "duration": 26,
    "start_time": "2024-11-10T20:37:56.415Z"
   },
   {
    "duration": 23,
    "start_time": "2024-11-10T20:38:01.761Z"
   },
   {
    "duration": 23,
    "start_time": "2024-11-10T20:38:04.495Z"
   },
   {
    "duration": 3,
    "start_time": "2024-11-10T20:38:09.133Z"
   },
   {
    "duration": 49,
    "start_time": "2024-11-10T20:38:11.181Z"
   },
   {
    "duration": 3,
    "start_time": "2024-11-10T20:38:16.076Z"
   },
   {
    "duration": 47,
    "start_time": "2024-11-10T20:38:18.809Z"
   },
   {
    "duration": 172,
    "start_time": "2024-11-10T20:38:29.360Z"
   },
   {
    "duration": 3,
    "start_time": "2024-11-10T20:38:48.937Z"
   },
   {
    "duration": 67,
    "start_time": "2024-11-10T20:38:50.590Z"
   },
   {
    "duration": 3,
    "start_time": "2024-11-10T20:39:46.139Z"
   },
   {
    "duration": 64,
    "start_time": "2024-11-10T20:39:46.730Z"
   },
   {
    "duration": 19,
    "start_time": "2024-11-10T20:40:11.266Z"
   },
   {
    "duration": 7,
    "start_time": "2024-11-10T20:40:16.240Z"
   },
   {
    "duration": 28,
    "start_time": "2024-11-10T20:40:21.214Z"
   },
   {
    "duration": 33,
    "start_time": "2024-11-10T20:40:28.853Z"
   },
   {
    "duration": 11,
    "start_time": "2024-11-10T20:40:41.114Z"
   },
   {
    "duration": 25,
    "start_time": "2024-11-10T20:40:51.173Z"
   },
   {
    "duration": 26,
    "start_time": "2024-11-10T20:40:54.674Z"
   },
   {
    "duration": 28,
    "start_time": "2024-11-10T20:40:58.201Z"
   },
   {
    "duration": 22,
    "start_time": "2024-11-10T20:41:01.426Z"
   },
   {
    "duration": 45,
    "start_time": "2024-11-10T20:41:04.546Z"
   },
   {
    "duration": 45,
    "start_time": "2024-11-10T20:41:07.967Z"
   },
   {
    "duration": 4,
    "start_time": "2024-11-10T20:41:10.841Z"
   },
   {
    "duration": 472,
    "start_time": "2024-11-10T20:41:11.767Z"
   },
   {
    "duration": 4,
    "start_time": "2024-11-10T20:41:47.747Z"
   },
   {
    "duration": 29,
    "start_time": "2024-11-10T20:43:49.103Z"
   },
   {
    "duration": 45,
    "start_time": "2024-11-10T20:43:57.341Z"
   },
   {
    "duration": 7,
    "start_time": "2024-11-10T20:54:22.619Z"
   },
   {
    "duration": 27,
    "start_time": "2024-11-10T20:54:29.309Z"
   },
   {
    "duration": 6,
    "start_time": "2024-11-10T21:13:11.182Z"
   },
   {
    "duration": 63,
    "start_time": "2024-11-10T21:14:06.607Z"
   },
   {
    "duration": 75,
    "start_time": "2024-11-10T21:14:18.821Z"
   },
   {
    "duration": 17,
    "start_time": "2024-11-10T21:17:27.071Z"
   },
   {
    "duration": 0,
    "start_time": "2024-11-10T21:17:27.089Z"
   },
   {
    "duration": 0,
    "start_time": "2024-11-10T21:17:27.090Z"
   },
   {
    "duration": 0,
    "start_time": "2024-11-10T21:17:27.091Z"
   },
   {
    "duration": 0,
    "start_time": "2024-11-10T21:17:27.092Z"
   },
   {
    "duration": 0,
    "start_time": "2024-11-10T21:17:27.094Z"
   },
   {
    "duration": 0,
    "start_time": "2024-11-10T21:17:27.096Z"
   },
   {
    "duration": 0,
    "start_time": "2024-11-10T21:17:27.098Z"
   },
   {
    "duration": 0,
    "start_time": "2024-11-10T21:17:27.099Z"
   },
   {
    "duration": 0,
    "start_time": "2024-11-10T21:17:27.100Z"
   },
   {
    "duration": 127,
    "start_time": "2024-11-10T21:17:27.103Z"
   },
   {
    "duration": 10,
    "start_time": "2024-11-10T21:17:27.232Z"
   },
   {
    "duration": 18,
    "start_time": "2024-11-10T21:17:27.243Z"
   },
   {
    "duration": 18,
    "start_time": "2024-11-10T21:17:27.263Z"
   },
   {
    "duration": 10,
    "start_time": "2024-11-10T21:17:27.283Z"
   },
   {
    "duration": 59,
    "start_time": "2024-11-10T21:17:27.295Z"
   },
   {
    "duration": 16,
    "start_time": "2024-11-10T21:17:27.357Z"
   },
   {
    "duration": 7,
    "start_time": "2024-11-10T21:17:27.375Z"
   },
   {
    "duration": 52,
    "start_time": "2024-11-10T21:17:27.387Z"
   },
   {
    "duration": 10,
    "start_time": "2024-11-10T21:17:27.441Z"
   },
   {
    "duration": 21,
    "start_time": "2024-11-10T21:17:27.453Z"
   },
   {
    "duration": 26,
    "start_time": "2024-11-10T21:17:27.476Z"
   },
   {
    "duration": 27,
    "start_time": "2024-11-10T21:17:27.526Z"
   },
   {
    "duration": 21,
    "start_time": "2024-11-10T21:17:27.554Z"
   },
   {
    "duration": 3,
    "start_time": "2024-11-10T21:17:27.577Z"
   },
   {
    "duration": 68,
    "start_time": "2024-11-10T21:17:27.582Z"
   },
   {
    "duration": 4,
    "start_time": "2024-11-10T21:17:27.651Z"
   },
   {
    "duration": 45,
    "start_time": "2024-11-10T21:17:27.657Z"
   },
   {
    "duration": 3,
    "start_time": "2024-11-10T21:17:27.704Z"
   },
   {
    "duration": 63,
    "start_time": "2024-11-10T21:17:27.708Z"
   },
   {
    "duration": 26,
    "start_time": "2024-11-10T21:17:27.773Z"
   },
   {
    "duration": 3,
    "start_time": "2024-11-10T21:17:27.801Z"
   },
   {
    "duration": 97,
    "start_time": "2024-11-10T21:17:27.805Z"
   },
   {
    "duration": 2,
    "start_time": "2024-11-10T21:17:27.904Z"
   },
   {
    "duration": 4,
    "start_time": "2024-11-10T21:17:27.908Z"
   },
   {
    "duration": 2,
    "start_time": "2024-11-10T21:17:27.924Z"
   },
   {
    "duration": 3,
    "start_time": "2024-11-10T21:17:27.929Z"
   },
   {
    "duration": 3,
    "start_time": "2024-11-10T21:17:27.934Z"
   },
   {
    "duration": 2,
    "start_time": "2024-11-10T21:17:27.938Z"
   },
   {
    "duration": 2,
    "start_time": "2024-11-10T21:17:27.942Z"
   },
   {
    "duration": 2,
    "start_time": "2024-11-10T21:17:27.946Z"
   },
   {
    "duration": 77,
    "start_time": "2024-11-10T21:17:35.870Z"
   },
   {
    "duration": 19,
    "start_time": "2024-11-10T21:30:52.620Z"
   },
   {
    "duration": 2325,
    "start_time": "2024-11-10T21:31:11.185Z"
   },
   {
    "duration": 2478,
    "start_time": "2024-11-10T23:50:42.119Z"
   },
   {
    "duration": 213,
    "start_time": "2024-11-10T23:50:44.599Z"
   },
   {
    "duration": 10,
    "start_time": "2024-11-10T23:50:44.813Z"
   },
   {
    "duration": 10,
    "start_time": "2024-11-10T23:50:44.825Z"
   },
   {
    "duration": 7,
    "start_time": "2024-11-10T23:50:44.837Z"
   },
   {
    "duration": 7,
    "start_time": "2024-11-10T23:50:44.846Z"
   },
   {
    "duration": 10,
    "start_time": "2024-11-10T23:50:44.870Z"
   },
   {
    "duration": 14,
    "start_time": "2024-11-10T23:50:44.883Z"
   },
   {
    "duration": 40,
    "start_time": "2024-11-10T23:50:44.898Z"
   },
   {
    "duration": 46,
    "start_time": "2024-11-10T23:50:44.941Z"
   },
   {
    "duration": 130,
    "start_time": "2024-11-10T23:50:44.988Z"
   },
   {
    "duration": 12,
    "start_time": "2024-11-10T23:50:45.120Z"
   },
   {
    "duration": 37,
    "start_time": "2024-11-10T23:50:45.133Z"
   },
   {
    "duration": 19,
    "start_time": "2024-11-10T23:50:45.174Z"
   },
   {
    "duration": 13,
    "start_time": "2024-11-10T23:50:45.195Z"
   },
   {
    "duration": 61,
    "start_time": "2024-11-10T23:50:45.209Z"
   },
   {
    "duration": 21,
    "start_time": "2024-11-10T23:50:45.271Z"
   },
   {
    "duration": 7,
    "start_time": "2024-11-10T23:50:45.294Z"
   },
   {
    "duration": 32,
    "start_time": "2024-11-10T23:50:45.302Z"
   },
   {
    "duration": 38,
    "start_time": "2024-11-10T23:50:45.336Z"
   },
   {
    "duration": 21,
    "start_time": "2024-11-10T23:50:45.376Z"
   },
   {
    "duration": 25,
    "start_time": "2024-11-10T23:50:45.398Z"
   },
   {
    "duration": 46,
    "start_time": "2024-11-10T23:50:45.425Z"
   },
   {
    "duration": 22,
    "start_time": "2024-11-10T23:50:45.472Z"
   },
   {
    "duration": 3,
    "start_time": "2024-11-10T23:50:45.495Z"
   },
   {
    "duration": 44,
    "start_time": "2024-11-10T23:50:45.500Z"
   },
   {
    "duration": 24,
    "start_time": "2024-11-10T23:50:45.546Z"
   },
   {
    "duration": 45,
    "start_time": "2024-11-10T23:50:45.572Z"
   },
   {
    "duration": 3,
    "start_time": "2024-11-10T23:50:45.619Z"
   },
   {
    "duration": 234,
    "start_time": "2024-11-10T23:50:45.624Z"
   },
   {
    "duration": 0,
    "start_time": "2024-11-10T23:50:45.860Z"
   },
   {
    "duration": 0,
    "start_time": "2024-11-10T23:50:45.861Z"
   },
   {
    "duration": 0,
    "start_time": "2024-11-10T23:50:45.863Z"
   },
   {
    "duration": 0,
    "start_time": "2024-11-10T23:50:45.869Z"
   },
   {
    "duration": 0,
    "start_time": "2024-11-10T23:50:45.871Z"
   },
   {
    "duration": 0,
    "start_time": "2024-11-10T23:50:45.872Z"
   },
   {
    "duration": 0,
    "start_time": "2024-11-10T23:50:45.874Z"
   },
   {
    "duration": 0,
    "start_time": "2024-11-10T23:50:45.874Z"
   },
   {
    "duration": 0,
    "start_time": "2024-11-10T23:50:45.876Z"
   },
   {
    "duration": 0,
    "start_time": "2024-11-10T23:50:45.877Z"
   },
   {
    "duration": 0,
    "start_time": "2024-11-10T23:50:45.878Z"
   },
   {
    "duration": 14,
    "start_time": "2024-11-10T23:51:21.288Z"
   },
   {
    "duration": 3,
    "start_time": "2024-11-10T23:51:32.853Z"
   },
   {
    "duration": 13,
    "start_time": "2024-11-10T23:51:33.922Z"
   },
   {
    "duration": 45,
    "start_time": "2024-11-10T23:52:07.213Z"
   },
   {
    "duration": 3,
    "start_time": "2024-11-10T23:52:10.640Z"
   },
   {
    "duration": 45,
    "start_time": "2024-11-10T23:52:13.498Z"
   },
   {
    "duration": 3,
    "start_time": "2024-11-10T23:52:38.291Z"
   },
   {
    "duration": 14,
    "start_time": "2024-11-10T23:52:39.149Z"
   },
   {
    "duration": 2,
    "start_time": "2024-11-10T23:53:06.414Z"
   },
   {
    "duration": 779,
    "start_time": "2024-11-10T23:53:06.931Z"
   },
   {
    "duration": 37,
    "start_time": "2024-11-10T23:53:30.059Z"
   },
   {
    "duration": 4,
    "start_time": "2024-11-10T23:54:24.001Z"
   },
   {
    "duration": 102,
    "start_time": "2024-11-10T23:54:25.294Z"
   },
   {
    "duration": 2,
    "start_time": "2024-11-10T23:54:44.941Z"
   },
   {
    "duration": 155,
    "start_time": "2024-11-10T23:54:44.945Z"
   },
   {
    "duration": 8,
    "start_time": "2024-11-10T23:54:45.102Z"
   },
   {
    "duration": 7,
    "start_time": "2024-11-10T23:54:45.112Z"
   },
   {
    "duration": 7,
    "start_time": "2024-11-10T23:54:45.121Z"
   },
   {
    "duration": 8,
    "start_time": "2024-11-10T23:54:45.130Z"
   },
   {
    "duration": 32,
    "start_time": "2024-11-10T23:54:45.140Z"
   },
   {
    "duration": 14,
    "start_time": "2024-11-10T23:54:45.174Z"
   },
   {
    "duration": 41,
    "start_time": "2024-11-10T23:54:45.190Z"
   },
   {
    "duration": 44,
    "start_time": "2024-11-10T23:54:45.233Z"
   },
   {
    "duration": 127,
    "start_time": "2024-11-10T23:54:45.279Z"
   },
   {
    "duration": 12,
    "start_time": "2024-11-10T23:54:45.408Z"
   },
   {
    "duration": 20,
    "start_time": "2024-11-10T23:54:45.423Z"
   },
   {
    "duration": 36,
    "start_time": "2024-11-10T23:54:45.445Z"
   },
   {
    "duration": 14,
    "start_time": "2024-11-10T23:54:45.483Z"
   },
   {
    "duration": 39,
    "start_time": "2024-11-10T23:54:45.499Z"
   },
   {
    "duration": 36,
    "start_time": "2024-11-10T23:54:45.541Z"
   },
   {
    "duration": 7,
    "start_time": "2024-11-10T23:54:45.579Z"
   },
   {
    "duration": 31,
    "start_time": "2024-11-10T23:54:45.587Z"
   },
   {
    "duration": 10,
    "start_time": "2024-11-10T23:54:45.620Z"
   },
   {
    "duration": 46,
    "start_time": "2024-11-10T23:54:45.633Z"
   },
   {
    "duration": 26,
    "start_time": "2024-11-10T23:54:45.681Z"
   },
   {
    "duration": 26,
    "start_time": "2024-11-10T23:54:45.709Z"
   },
   {
    "duration": 42,
    "start_time": "2024-11-10T23:54:45.736Z"
   },
   {
    "duration": 3,
    "start_time": "2024-11-10T23:54:45.780Z"
   },
   {
    "duration": 44,
    "start_time": "2024-11-10T23:54:45.784Z"
   },
   {
    "duration": 3,
    "start_time": "2024-11-10T23:54:45.829Z"
   },
   {
    "duration": 72,
    "start_time": "2024-11-10T23:54:45.834Z"
   },
   {
    "duration": 3,
    "start_time": "2024-11-10T23:54:45.908Z"
   },
   {
    "duration": 103,
    "start_time": "2024-11-10T23:54:45.914Z"
   },
   {
    "duration": 0,
    "start_time": "2024-11-10T23:54:46.019Z"
   },
   {
    "duration": 0,
    "start_time": "2024-11-10T23:54:46.020Z"
   },
   {
    "duration": 0,
    "start_time": "2024-11-10T23:54:46.021Z"
   },
   {
    "duration": 0,
    "start_time": "2024-11-10T23:54:46.022Z"
   },
   {
    "duration": 0,
    "start_time": "2024-11-10T23:54:46.023Z"
   },
   {
    "duration": 0,
    "start_time": "2024-11-10T23:54:46.024Z"
   },
   {
    "duration": 0,
    "start_time": "2024-11-10T23:54:46.026Z"
   },
   {
    "duration": 0,
    "start_time": "2024-11-10T23:54:46.027Z"
   },
   {
    "duration": 0,
    "start_time": "2024-11-10T23:54:46.029Z"
   },
   {
    "duration": 0,
    "start_time": "2024-11-10T23:54:46.031Z"
   },
   {
    "duration": 0,
    "start_time": "2024-11-10T23:54:46.032Z"
   },
   {
    "duration": 3,
    "start_time": "2024-11-10T23:54:53.580Z"
   },
   {
    "duration": 54,
    "start_time": "2024-11-10T23:54:54.137Z"
   },
   {
    "duration": 3,
    "start_time": "2024-11-10T23:54:58.751Z"
   },
   {
    "duration": 126,
    "start_time": "2024-11-10T23:54:59.354Z"
   },
   {
    "duration": 2,
    "start_time": "2024-11-10T23:55:57.515Z"
   },
   {
    "duration": 153,
    "start_time": "2024-11-10T23:55:57.519Z"
   },
   {
    "duration": 8,
    "start_time": "2024-11-10T23:55:57.673Z"
   },
   {
    "duration": 7,
    "start_time": "2024-11-10T23:55:57.683Z"
   },
   {
    "duration": 16,
    "start_time": "2024-11-10T23:55:57.692Z"
   },
   {
    "duration": 8,
    "start_time": "2024-11-10T23:55:57.710Z"
   },
   {
    "duration": 9,
    "start_time": "2024-11-10T23:55:57.721Z"
   },
   {
    "duration": 40,
    "start_time": "2024-11-10T23:55:57.732Z"
   },
   {
    "duration": 38,
    "start_time": "2024-11-10T23:55:57.774Z"
   },
   {
    "duration": 24,
    "start_time": "2024-11-10T23:55:57.814Z"
   },
   {
    "duration": 141,
    "start_time": "2024-11-10T23:55:57.839Z"
   },
   {
    "duration": 12,
    "start_time": "2024-11-10T23:55:57.981Z"
   },
   {
    "duration": 20,
    "start_time": "2024-11-10T23:55:57.994Z"
   },
   {
    "duration": 18,
    "start_time": "2024-11-10T23:55:58.017Z"
   },
   {
    "duration": 38,
    "start_time": "2024-11-10T23:55:58.037Z"
   },
   {
    "duration": 38,
    "start_time": "2024-11-10T23:55:58.077Z"
   },
   {
    "duration": 20,
    "start_time": "2024-11-10T23:55:58.117Z"
   },
   {
    "duration": 7,
    "start_time": "2024-11-10T23:55:58.139Z"
   },
   {
    "duration": 32,
    "start_time": "2024-11-10T23:55:58.171Z"
   },
   {
    "duration": 9,
    "start_time": "2024-11-10T23:55:58.205Z"
   },
   {
    "duration": 19,
    "start_time": "2024-11-10T23:55:58.217Z"
   },
   {
    "duration": 44,
    "start_time": "2024-11-10T23:55:58.238Z"
   },
   {
    "duration": 21,
    "start_time": "2024-11-10T23:55:58.284Z"
   },
   {
    "duration": 20,
    "start_time": "2024-11-10T23:55:58.307Z"
   },
   {
    "duration": 3,
    "start_time": "2024-11-10T23:55:58.329Z"
   },
   {
    "duration": 69,
    "start_time": "2024-11-10T23:55:58.333Z"
   },
   {
    "duration": 3,
    "start_time": "2024-11-10T23:55:58.404Z"
   },
   {
    "duration": 45,
    "start_time": "2024-11-10T23:55:58.409Z"
   },
   {
    "duration": 2,
    "start_time": "2024-11-10T23:55:58.471Z"
   },
   {
    "duration": 114,
    "start_time": "2024-11-10T23:55:58.475Z"
   },
   {
    "duration": 0,
    "start_time": "2024-11-10T23:55:58.591Z"
   },
   {
    "duration": 0,
    "start_time": "2024-11-10T23:55:58.592Z"
   },
   {
    "duration": 0,
    "start_time": "2024-11-10T23:55:58.593Z"
   },
   {
    "duration": 0,
    "start_time": "2024-11-10T23:55:58.594Z"
   },
   {
    "duration": 0,
    "start_time": "2024-11-10T23:55:58.595Z"
   },
   {
    "duration": 0,
    "start_time": "2024-11-10T23:55:58.597Z"
   },
   {
    "duration": 0,
    "start_time": "2024-11-10T23:55:58.598Z"
   },
   {
    "duration": 0,
    "start_time": "2024-11-10T23:55:58.599Z"
   },
   {
    "duration": 0,
    "start_time": "2024-11-10T23:55:58.600Z"
   },
   {
    "duration": 0,
    "start_time": "2024-11-10T23:55:58.601Z"
   },
   {
    "duration": 0,
    "start_time": "2024-11-10T23:55:58.602Z"
   },
   {
    "duration": 3,
    "start_time": "2024-11-10T23:56:05.589Z"
   },
   {
    "duration": 151,
    "start_time": "2024-11-10T23:56:08.076Z"
   },
   {
    "duration": 8,
    "start_time": "2024-11-10T23:56:10.846Z"
   },
   {
    "duration": 8,
    "start_time": "2024-11-10T23:56:12.318Z"
   },
   {
    "duration": 9,
    "start_time": "2024-11-10T23:56:17.015Z"
   },
   {
    "duration": 9,
    "start_time": "2024-11-10T23:56:19.345Z"
   },
   {
    "duration": 13,
    "start_time": "2024-11-10T23:56:23.610Z"
   },
   {
    "duration": 18,
    "start_time": "2024-11-10T23:56:28.948Z"
   },
   {
    "duration": 59,
    "start_time": "2024-11-10T23:56:31.020Z"
   },
   {
    "duration": 24,
    "start_time": "2024-11-10T23:56:34.776Z"
   },
   {
    "duration": 120,
    "start_time": "2024-11-10T23:56:37.413Z"
   },
   {
    "duration": 14,
    "start_time": "2024-11-10T23:56:40.708Z"
   },
   {
    "duration": 22,
    "start_time": "2024-11-10T23:56:43.501Z"
   },
   {
    "duration": 20,
    "start_time": "2024-11-10T23:56:46.463Z"
   },
   {
    "duration": 15,
    "start_time": "2024-11-10T23:56:53.122Z"
   },
   {
    "duration": 39,
    "start_time": "2024-11-10T23:56:57.042Z"
   },
   {
    "duration": 21,
    "start_time": "2024-11-10T23:57:00.092Z"
   },
   {
    "duration": 7,
    "start_time": "2024-11-10T23:57:03.563Z"
   },
   {
    "duration": 32,
    "start_time": "2024-11-10T23:57:06.417Z"
   },
   {
    "duration": 10,
    "start_time": "2024-11-10T23:57:09.991Z"
   },
   {
    "duration": 23,
    "start_time": "2024-11-10T23:57:13.385Z"
   },
   {
    "duration": 25,
    "start_time": "2024-11-10T23:57:14.554Z"
   },
   {
    "duration": 25,
    "start_time": "2024-11-10T23:57:18.734Z"
   },
   {
    "duration": 22,
    "start_time": "2024-11-10T23:57:20.940Z"
   },
   {
    "duration": 3,
    "start_time": "2024-11-10T23:57:25.302Z"
   },
   {
    "duration": 46,
    "start_time": "2024-11-10T23:57:26.344Z"
   },
   {
    "duration": 3,
    "start_time": "2024-11-10T23:57:28.998Z"
   },
   {
    "duration": 45,
    "start_time": "2024-11-10T23:57:29.874Z"
   },
   {
    "duration": 3,
    "start_time": "2024-11-10T23:57:32.913Z"
   },
   {
    "duration": 100,
    "start_time": "2024-11-10T23:57:33.555Z"
   },
   {
    "duration": 105,
    "start_time": "2024-11-10T23:57:42.466Z"
   },
   {
    "duration": 24,
    "start_time": "2024-11-10T23:58:00.952Z"
   },
   {
    "duration": 14,
    "start_time": "2024-11-10T23:58:06.604Z"
   },
   {
    "duration": 4,
    "start_time": "2024-11-10T23:58:34.196Z"
   },
   {
    "duration": 398,
    "start_time": "2024-11-10T23:58:34.814Z"
   },
   {
    "duration": 3,
    "start_time": "2024-11-10T23:59:34.510Z"
   },
   {
    "duration": 103,
    "start_time": "2024-11-11T00:02:23.759Z"
   },
   {
    "duration": 3,
    "start_time": "2024-11-11T00:02:42.872Z"
   },
   {
    "duration": 3,
    "start_time": "2024-11-11T00:02:56.191Z"
   },
   {
    "duration": 157,
    "start_time": "2024-11-11T00:02:56.196Z"
   },
   {
    "duration": 9,
    "start_time": "2024-11-11T00:02:56.355Z"
   },
   {
    "duration": 10,
    "start_time": "2024-11-11T00:02:56.366Z"
   },
   {
    "duration": 7,
    "start_time": "2024-11-11T00:02:56.379Z"
   },
   {
    "duration": 7,
    "start_time": "2024-11-11T00:02:56.388Z"
   },
   {
    "duration": 10,
    "start_time": "2024-11-11T00:02:56.397Z"
   },
   {
    "duration": 16,
    "start_time": "2024-11-11T00:02:56.408Z"
   },
   {
    "duration": 69,
    "start_time": "2024-11-11T00:02:56.425Z"
   },
   {
    "duration": 24,
    "start_time": "2024-11-11T00:02:56.495Z"
   },
   {
    "duration": 144,
    "start_time": "2024-11-11T00:02:56.521Z"
   },
   {
    "duration": 12,
    "start_time": "2024-11-11T00:02:56.671Z"
   },
   {
    "duration": 22,
    "start_time": "2024-11-11T00:02:56.686Z"
   },
   {
    "duration": 19,
    "start_time": "2024-11-11T00:02:56.711Z"
   },
   {
    "duration": 14,
    "start_time": "2024-11-11T00:02:56.732Z"
   },
   {
    "duration": 41,
    "start_time": "2024-11-11T00:02:56.769Z"
   },
   {
    "duration": 20,
    "start_time": "2024-11-11T00:02:56.812Z"
   },
   {
    "duration": 7,
    "start_time": "2024-11-11T00:02:56.834Z"
   },
   {
    "duration": 57,
    "start_time": "2024-11-11T00:02:56.842Z"
   },
   {
    "duration": 9,
    "start_time": "2024-11-11T00:02:56.901Z"
   },
   {
    "duration": 20,
    "start_time": "2024-11-11T00:02:56.911Z"
   },
   {
    "duration": 44,
    "start_time": "2024-11-11T00:02:56.934Z"
   },
   {
    "duration": 23,
    "start_time": "2024-11-11T00:02:56.980Z"
   },
   {
    "duration": 21,
    "start_time": "2024-11-11T00:02:57.005Z"
   },
   {
    "duration": 3,
    "start_time": "2024-11-11T00:02:57.027Z"
   },
   {
    "duration": 71,
    "start_time": "2024-11-11T00:02:57.032Z"
   },
   {
    "duration": 3,
    "start_time": "2024-11-11T00:02:57.105Z"
   },
   {
    "duration": 60,
    "start_time": "2024-11-11T00:02:57.110Z"
   },
   {
    "duration": 11,
    "start_time": "2024-11-11T00:02:57.172Z"
   },
   {
    "duration": 105,
    "start_time": "2024-11-11T00:02:57.188Z"
   },
   {
    "duration": 0,
    "start_time": "2024-11-11T00:02:57.295Z"
   },
   {
    "duration": 0,
    "start_time": "2024-11-11T00:02:57.296Z"
   },
   {
    "duration": 0,
    "start_time": "2024-11-11T00:02:57.297Z"
   },
   {
    "duration": 0,
    "start_time": "2024-11-11T00:02:57.298Z"
   },
   {
    "duration": 0,
    "start_time": "2024-11-11T00:02:57.299Z"
   },
   {
    "duration": 0,
    "start_time": "2024-11-11T00:02:57.301Z"
   },
   {
    "duration": 0,
    "start_time": "2024-11-11T00:02:57.302Z"
   },
   {
    "duration": 0,
    "start_time": "2024-11-11T00:02:57.303Z"
   },
   {
    "duration": 0,
    "start_time": "2024-11-11T00:02:57.304Z"
   },
   {
    "duration": 0,
    "start_time": "2024-11-11T00:02:57.305Z"
   },
   {
    "duration": 0,
    "start_time": "2024-11-11T00:02:57.307Z"
   },
   {
    "duration": 103,
    "start_time": "2024-11-11T00:03:21.132Z"
   },
   {
    "duration": 3,
    "start_time": "2024-11-11T00:03:38.012Z"
   },
   {
    "duration": 29,
    "start_time": "2024-11-11T00:03:38.749Z"
   },
   {
    "duration": 46,
    "start_time": "2024-11-11T00:03:45.135Z"
   },
   {
    "duration": 32,
    "start_time": "2024-11-11T00:03:48.715Z"
   },
   {
    "duration": 3,
    "start_time": "2024-11-11T00:03:52.314Z"
   },
   {
    "duration": 77,
    "start_time": "2024-11-11T00:03:52.993Z"
   },
   {
    "duration": 9,
    "start_time": "2024-11-11T00:12:38.589Z"
   },
   {
    "duration": 11,
    "start_time": "2024-11-11T00:32:53.257Z"
   },
   {
    "duration": 7,
    "start_time": "2024-11-11T00:34:12.126Z"
   },
   {
    "duration": 13,
    "start_time": "2024-11-11T00:34:24.094Z"
   },
   {
    "duration": 10,
    "start_time": "2024-11-11T00:39:01.523Z"
   },
   {
    "duration": 13,
    "start_time": "2024-11-11T00:39:10.121Z"
   },
   {
    "duration": 10,
    "start_time": "2024-11-11T00:39:30.854Z"
   },
   {
    "duration": 11,
    "start_time": "2024-11-11T00:39:38.246Z"
   },
   {
    "duration": 12,
    "start_time": "2024-11-11T00:40:53.028Z"
   },
   {
    "duration": 11,
    "start_time": "2024-11-11T00:41:06.035Z"
   },
   {
    "duration": 11,
    "start_time": "2024-11-11T00:41:13.143Z"
   },
   {
    "duration": 13,
    "start_time": "2024-11-11T00:41:43.409Z"
   },
   {
    "duration": 14,
    "start_time": "2024-11-11T00:41:54.474Z"
   },
   {
    "duration": 13,
    "start_time": "2024-11-11T00:42:04.834Z"
   },
   {
    "duration": 13,
    "start_time": "2024-11-11T00:44:39.513Z"
   },
   {
    "duration": 147,
    "start_time": "2024-11-11T00:52:19.750Z"
   },
   {
    "duration": 127,
    "start_time": "2024-11-11T00:53:03.237Z"
   },
   {
    "duration": 128,
    "start_time": "2024-11-11T00:55:23.110Z"
   },
   {
    "duration": 15,
    "start_time": "2024-11-11T00:58:51.945Z"
   },
   {
    "duration": 15,
    "start_time": "2024-11-11T00:59:24.900Z"
   },
   {
    "duration": 143,
    "start_time": "2024-11-11T01:00:22.369Z"
   },
   {
    "duration": 128,
    "start_time": "2024-11-11T01:00:47.883Z"
   },
   {
    "duration": 18,
    "start_time": "2024-11-11T01:13:36.467Z"
   },
   {
    "duration": 8,
    "start_time": "2024-11-11T01:13:53.366Z"
   },
   {
    "duration": 9,
    "start_time": "2024-11-11T01:14:32.866Z"
   },
   {
    "duration": 137,
    "start_time": "2024-11-11T01:16:29.524Z"
   },
   {
    "duration": 133,
    "start_time": "2024-11-11T01:16:39.388Z"
   },
   {
    "duration": 128,
    "start_time": "2024-11-11T01:17:32.115Z"
   },
   {
    "duration": 123,
    "start_time": "2024-11-11T01:17:48.209Z"
   },
   {
    "duration": 123,
    "start_time": "2024-11-11T01:17:57.922Z"
   },
   {
    "duration": 112,
    "start_time": "2024-11-11T01:19:38.922Z"
   },
   {
    "duration": 224,
    "start_time": "2024-11-11T01:23:12.608Z"
   },
   {
    "duration": 110,
    "start_time": "2024-11-11T01:25:36.203Z"
   },
   {
    "duration": 104,
    "start_time": "2024-11-11T01:26:06.841Z"
   },
   {
    "duration": 136,
    "start_time": "2024-11-11T01:26:41.675Z"
   },
   {
    "duration": 115,
    "start_time": "2024-11-11T01:27:01.957Z"
   },
   {
    "duration": 102,
    "start_time": "2024-11-11T01:27:24.106Z"
   },
   {
    "duration": 100,
    "start_time": "2024-11-11T01:28:19.901Z"
   },
   {
    "duration": 13,
    "start_time": "2024-11-11T01:36:48.118Z"
   },
   {
    "duration": 7,
    "start_time": "2024-11-11T01:37:06.384Z"
   },
   {
    "duration": 5,
    "start_time": "2024-11-11T01:37:28.133Z"
   },
   {
    "duration": 55,
    "start_time": "2024-11-11T01:38:05.131Z"
   },
   {
    "duration": 4,
    "start_time": "2024-11-11T01:38:20.278Z"
   },
   {
    "duration": 7,
    "start_time": "2024-11-11T01:39:10.939Z"
   },
   {
    "duration": 7,
    "start_time": "2024-11-11T01:39:36.409Z"
   },
   {
    "duration": 16,
    "start_time": "2024-11-11T01:40:12.627Z"
   },
   {
    "duration": 7,
    "start_time": "2024-11-11T01:40:22.356Z"
   },
   {
    "duration": 2,
    "start_time": "2024-11-11T01:46:28.560Z"
   },
   {
    "duration": 79,
    "start_time": "2024-11-11T01:48:24.167Z"
   },
   {
    "duration": 77,
    "start_time": "2024-11-11T01:49:18.948Z"
   },
   {
    "duration": 243,
    "start_time": "2024-11-11T01:50:15.934Z"
   },
   {
    "duration": 77,
    "start_time": "2024-11-11T01:50:24.965Z"
   },
   {
    "duration": 104,
    "start_time": "2024-11-11T01:50:46.473Z"
   },
   {
    "duration": 10,
    "start_time": "2024-11-11T01:54:49.064Z"
   },
   {
    "duration": 10,
    "start_time": "2024-11-11T01:54:59.427Z"
   },
   {
    "duration": 14,
    "start_time": "2024-11-11T01:55:57.661Z"
   },
   {
    "duration": 7,
    "start_time": "2024-11-11T02:08:45.467Z"
   },
   {
    "duration": 6,
    "start_time": "2024-11-11T02:08:55.068Z"
   },
   {
    "duration": 6,
    "start_time": "2024-11-11T02:09:56.803Z"
   },
   {
    "duration": 6,
    "start_time": "2024-11-11T02:11:10.149Z"
   },
   {
    "duration": 3,
    "start_time": "2024-11-11T02:11:32.677Z"
   },
   {
    "duration": 5,
    "start_time": "2024-11-11T02:11:43.729Z"
   },
   {
    "duration": 7,
    "start_time": "2024-11-11T02:11:56.687Z"
   },
   {
    "duration": 7,
    "start_time": "2024-11-11T02:14:27.997Z"
   },
   {
    "duration": 149,
    "start_time": "2024-11-11T02:15:48.213Z"
   },
   {
    "duration": 393,
    "start_time": "2024-11-11T02:16:27.512Z"
   },
   {
    "duration": 251,
    "start_time": "2024-11-11T02:17:22.013Z"
   },
   {
    "duration": 9,
    "start_time": "2024-11-11T02:22:38.674Z"
   },
   {
    "duration": 7,
    "start_time": "2024-11-11T02:23:55.714Z"
   },
   {
    "duration": 8,
    "start_time": "2024-11-11T02:26:03.154Z"
   },
   {
    "duration": 11,
    "start_time": "2024-11-11T02:37:05.921Z"
   },
   {
    "duration": 10,
    "start_time": "2024-11-11T02:37:41.675Z"
   },
   {
    "duration": 11,
    "start_time": "2024-11-11T02:38:52.253Z"
   },
   {
    "duration": 18,
    "start_time": "2024-11-11T02:40:47.841Z"
   },
   {
    "duration": 20,
    "start_time": "2024-11-11T02:41:36.556Z"
   },
   {
    "duration": 12,
    "start_time": "2024-11-11T02:42:47.439Z"
   },
   {
    "duration": 87,
    "start_time": "2024-11-11T02:43:39.890Z"
   },
   {
    "duration": 11,
    "start_time": "2024-11-11T02:44:08.649Z"
   },
   {
    "duration": 11,
    "start_time": "2024-11-11T02:45:12.026Z"
   },
   {
    "duration": 119,
    "start_time": "2024-11-11T02:56:04.654Z"
   },
   {
    "duration": 247,
    "start_time": "2024-11-11T02:57:16.236Z"
   },
   {
    "duration": 235,
    "start_time": "2024-11-11T02:57:49.283Z"
   },
   {
    "duration": 11,
    "start_time": "2024-11-11T03:05:20.951Z"
   },
   {
    "duration": 7,
    "start_time": "2024-11-11T03:09:42.127Z"
   },
   {
    "duration": 9,
    "start_time": "2024-11-11T03:10:04.870Z"
   },
   {
    "duration": 10,
    "start_time": "2024-11-11T03:11:47.323Z"
   },
   {
    "duration": 9,
    "start_time": "2024-11-11T03:12:19.480Z"
   },
   {
    "duration": 73,
    "start_time": "2024-11-11T03:13:20.369Z"
   },
   {
    "duration": 324,
    "start_time": "2024-11-11T03:13:36.286Z"
   },
   {
    "duration": 307,
    "start_time": "2024-11-11T03:13:49.476Z"
   },
   {
    "duration": 21,
    "start_time": "2024-11-11T04:00:10.437Z"
   },
   {
    "duration": 9,
    "start_time": "2024-11-11T04:00:42.347Z"
   },
   {
    "duration": 33,
    "start_time": "2024-11-11T04:01:39.354Z"
   },
   {
    "duration": 11,
    "start_time": "2024-11-11T04:02:02.807Z"
   },
   {
    "duration": 14,
    "start_time": "2024-11-11T04:02:36.812Z"
   },
   {
    "duration": 8,
    "start_time": "2024-11-11T04:02:47.820Z"
   },
   {
    "duration": 2,
    "start_time": "2024-11-11T04:07:05.844Z"
   },
   {
    "duration": 7,
    "start_time": "2024-11-11T04:09:43.925Z"
   },
   {
    "duration": 9,
    "start_time": "2024-11-11T04:10:01.905Z"
   },
   {
    "duration": 9,
    "start_time": "2024-11-11T04:10:37.858Z"
   },
   {
    "duration": 8,
    "start_time": "2024-11-11T04:11:00.348Z"
   },
   {
    "duration": 9,
    "start_time": "2024-11-11T04:11:14.973Z"
   },
   {
    "duration": 7,
    "start_time": "2024-11-11T04:11:34.297Z"
   },
   {
    "duration": 30,
    "start_time": "2024-11-11T04:13:27.927Z"
   },
   {
    "duration": 23,
    "start_time": "2024-11-11T04:14:14.476Z"
   },
   {
    "duration": 7,
    "start_time": "2024-11-11T04:14:17.302Z"
   },
   {
    "duration": 23,
    "start_time": "2024-11-11T04:14:17.933Z"
   },
   {
    "duration": 3,
    "start_time": "2024-11-11T04:15:17.842Z"
   },
   {
    "duration": 3,
    "start_time": "2024-11-11T04:15:26.057Z"
   },
   {
    "duration": 3,
    "start_time": "2024-11-11T04:16:37.577Z"
   },
   {
    "duration": 6,
    "start_time": "2024-11-11T04:16:41.021Z"
   },
   {
    "duration": 3,
    "start_time": "2024-11-11T04:16:41.546Z"
   },
   {
    "duration": 4,
    "start_time": "2024-11-11T04:19:01.520Z"
   },
   {
    "duration": 3,
    "start_time": "2024-11-11T04:20:36.855Z"
   },
   {
    "duration": 24,
    "start_time": "2024-11-11T04:22:44.645Z"
   },
   {
    "duration": 4,
    "start_time": "2024-11-11T04:23:17.862Z"
   },
   {
    "duration": 16,
    "start_time": "2024-11-11T04:23:43.666Z"
   },
   {
    "duration": 21,
    "start_time": "2024-11-11T04:24:03.064Z"
   },
   {
    "duration": 8,
    "start_time": "2024-11-11T04:26:51.603Z"
   },
   {
    "duration": 4,
    "start_time": "2024-11-11T04:27:14.064Z"
   },
   {
    "duration": 14,
    "start_time": "2024-11-11T04:29:54.222Z"
   },
   {
    "duration": 13,
    "start_time": "2024-11-11T04:30:22.280Z"
   },
   {
    "duration": 15,
    "start_time": "2024-11-11T04:32:13.625Z"
   },
   {
    "duration": 12,
    "start_time": "2024-11-11T04:33:02.971Z"
   },
   {
    "duration": 16,
    "start_time": "2024-11-11T04:34:35.685Z"
   },
   {
    "duration": 4,
    "start_time": "2024-11-11T04:35:18.868Z"
   },
   {
    "duration": 14,
    "start_time": "2024-11-11T04:35:59.902Z"
   },
   {
    "duration": 5,
    "start_time": "2024-11-11T04:36:22.580Z"
   },
   {
    "duration": 3,
    "start_time": "2024-11-11T04:36:28.788Z"
   },
   {
    "duration": 14,
    "start_time": "2024-11-11T04:36:36.093Z"
   },
   {
    "duration": 2,
    "start_time": "2024-11-11T04:36:58.278Z"
   },
   {
    "duration": 5,
    "start_time": "2024-11-11T04:44:18.427Z"
   },
   {
    "duration": 7,
    "start_time": "2024-11-11T04:44:53.497Z"
   },
   {
    "duration": 8,
    "start_time": "2024-11-11T04:45:08.804Z"
   },
   {
    "duration": 4,
    "start_time": "2024-11-11T04:45:31.433Z"
   },
   {
    "duration": 13,
    "start_time": "2024-11-11T04:46:06.036Z"
   },
   {
    "duration": 4,
    "start_time": "2024-11-11T04:46:20.824Z"
   },
   {
    "duration": 10,
    "start_time": "2024-11-11T04:49:29.145Z"
   },
   {
    "duration": 2584,
    "start_time": "2024-11-12T03:50:43.511Z"
   },
   {
    "duration": 216,
    "start_time": "2024-11-12T03:50:46.098Z"
   },
   {
    "duration": 13,
    "start_time": "2024-11-12T03:50:46.316Z"
   },
   {
    "duration": 20,
    "start_time": "2024-11-12T03:50:46.331Z"
   },
   {
    "duration": 10,
    "start_time": "2024-11-12T03:50:46.354Z"
   },
   {
    "duration": 10,
    "start_time": "2024-11-12T03:50:46.366Z"
   },
   {
    "duration": 10,
    "start_time": "2024-11-12T03:50:46.378Z"
   },
   {
    "duration": 15,
    "start_time": "2024-11-12T03:50:46.390Z"
   },
   {
    "duration": 65,
    "start_time": "2024-11-12T03:50:46.406Z"
   },
   {
    "duration": 26,
    "start_time": "2024-11-12T03:50:46.473Z"
   },
   {
    "duration": 155,
    "start_time": "2024-11-12T03:50:46.500Z"
   },
   {
    "duration": 17,
    "start_time": "2024-11-12T03:50:46.657Z"
   },
   {
    "duration": 24,
    "start_time": "2024-11-12T03:50:46.676Z"
   },
   {
    "duration": 19,
    "start_time": "2024-11-12T03:50:46.704Z"
   },
   {
    "duration": 14,
    "start_time": "2024-11-12T03:50:46.725Z"
   },
   {
    "duration": 70,
    "start_time": "2024-11-12T03:50:46.743Z"
   },
   {
    "duration": 22,
    "start_time": "2024-11-12T03:50:46.814Z"
   },
   {
    "duration": 7,
    "start_time": "2024-11-12T03:50:46.838Z"
   },
   {
    "duration": 54,
    "start_time": "2024-11-12T03:50:46.846Z"
   },
   {
    "duration": 9,
    "start_time": "2024-11-12T03:50:46.902Z"
   },
   {
    "duration": 20,
    "start_time": "2024-11-12T03:50:46.912Z"
   },
   {
    "duration": 51,
    "start_time": "2024-11-12T03:50:46.934Z"
   },
   {
    "duration": 23,
    "start_time": "2024-11-12T03:50:46.986Z"
   },
   {
    "duration": 22,
    "start_time": "2024-11-12T03:50:47.011Z"
   },
   {
    "duration": 2,
    "start_time": "2024-11-12T03:50:47.035Z"
   },
   {
    "duration": 71,
    "start_time": "2024-11-12T03:50:47.039Z"
   },
   {
    "duration": 3,
    "start_time": "2024-11-12T03:50:47.111Z"
   },
   {
    "duration": 63,
    "start_time": "2024-11-12T03:50:47.116Z"
   },
   {
    "duration": 4,
    "start_time": "2024-11-12T03:50:47.181Z"
   },
   {
    "duration": 47,
    "start_time": "2024-11-12T03:50:47.187Z"
   },
   {
    "duration": 47,
    "start_time": "2024-11-12T03:50:47.236Z"
   },
   {
    "duration": 3,
    "start_time": "2024-11-12T03:50:47.286Z"
   },
   {
    "duration": 92,
    "start_time": "2024-11-12T03:50:47.291Z"
   },
   {
    "duration": 15,
    "start_time": "2024-11-12T03:50:47.384Z"
   },
   {
    "duration": 10,
    "start_time": "2024-11-12T03:50:47.401Z"
   },
   {
    "duration": 155,
    "start_time": "2024-11-12T03:50:47.413Z"
   },
   {
    "duration": 143,
    "start_time": "2024-11-12T03:50:47.570Z"
   },
   {
    "duration": 10,
    "start_time": "2024-11-12T03:50:47.715Z"
   },
   {
    "duration": 119,
    "start_time": "2024-11-12T03:50:47.727Z"
   },
   {
    "duration": 166,
    "start_time": "2024-11-12T03:50:47.848Z"
   },
   {
    "duration": 6,
    "start_time": "2024-11-12T03:50:48.020Z"
   },
   {
    "duration": 106,
    "start_time": "2024-11-12T03:50:48.028Z"
   },
   {
    "duration": 87,
    "start_time": "2024-11-12T03:50:48.137Z"
   },
   {
    "duration": 11,
    "start_time": "2024-11-12T03:50:48.226Z"
   },
   {
    "duration": 8,
    "start_time": "2024-11-12T03:50:48.239Z"
   },
   {
    "duration": 268,
    "start_time": "2024-11-12T03:50:48.248Z"
   },
   {
    "duration": 11,
    "start_time": "2024-11-12T03:50:48.518Z"
   },
   {
    "duration": 7,
    "start_time": "2024-11-12T03:50:48.531Z"
   },
   {
    "duration": 268,
    "start_time": "2024-11-12T03:50:48.540Z"
   },
   {
    "duration": 12,
    "start_time": "2024-11-12T03:50:48.811Z"
   },
   {
    "duration": 10,
    "start_time": "2024-11-12T03:50:48.825Z"
   },
   {
    "duration": 295,
    "start_time": "2024-11-12T03:50:48.837Z"
   },
   {
    "duration": 8,
    "start_time": "2024-11-12T03:50:49.134Z"
   },
   {
    "duration": 3,
    "start_time": "2024-11-12T03:50:49.143Z"
   },
   {
    "duration": 3,
    "start_time": "2024-11-12T03:50:49.148Z"
   },
   {
    "duration": 21,
    "start_time": "2024-11-12T03:50:49.152Z"
   },
   {
    "duration": 5,
    "start_time": "2024-11-12T03:50:49.175Z"
   },
   {
    "duration": 3,
    "start_time": "2024-11-12T03:50:49.182Z"
   },
   {
    "duration": 5,
    "start_time": "2024-11-12T03:55:44.008Z"
   },
   {
    "duration": 4,
    "start_time": "2024-11-12T03:55:56.759Z"
   },
   {
    "duration": 563,
    "start_time": "2024-11-12T03:56:53.856Z"
   },
   {
    "duration": 16,
    "start_time": "2024-11-12T03:57:59.816Z"
   },
   {
    "duration": 5,
    "start_time": "2024-11-12T04:04:55.189Z"
   },
   {
    "duration": 26,
    "start_time": "2024-11-12T04:05:02.123Z"
   },
   {
    "duration": 5,
    "start_time": "2024-11-12T04:06:18.438Z"
   },
   {
    "duration": 25,
    "start_time": "2024-11-12T04:06:27.558Z"
   },
   {
    "duration": 5,
    "start_time": "2024-11-12T04:10:20.126Z"
   },
   {
    "duration": 6,
    "start_time": "2024-11-12T04:11:53.259Z"
   },
   {
    "duration": 5,
    "start_time": "2024-11-12T04:12:15.047Z"
   },
   {
    "duration": 287,
    "start_time": "2024-11-12T04:13:25.591Z"
   },
   {
    "duration": 7,
    "start_time": "2024-11-12T04:13:43.481Z"
   },
   {
    "duration": 8,
    "start_time": "2024-11-12T04:15:00.246Z"
   },
   {
    "duration": 7,
    "start_time": "2024-11-12T04:15:21.510Z"
   },
   {
    "duration": 5,
    "start_time": "2024-11-12T04:15:32.935Z"
   },
   {
    "duration": 6,
    "start_time": "2024-11-12T04:18:01.457Z"
   },
   {
    "duration": 10,
    "start_time": "2024-11-12T04:21:41.079Z"
   },
   {
    "duration": 6,
    "start_time": "2024-11-12T04:21:48.195Z"
   },
   {
    "duration": 17,
    "start_time": "2024-11-12T04:23:52.440Z"
   },
   {
    "duration": 6,
    "start_time": "2024-11-12T04:24:01.502Z"
   },
   {
    "duration": 8,
    "start_time": "2024-11-12T04:25:22.175Z"
   },
   {
    "duration": 3,
    "start_time": "2024-11-12T04:27:26.161Z"
   },
   {
    "duration": 4,
    "start_time": "2024-11-12T04:29:54.623Z"
   },
   {
    "duration": 4,
    "start_time": "2024-11-12T04:30:19.144Z"
   },
   {
    "duration": 8,
    "start_time": "2024-11-12T04:36:26.139Z"
   },
   {
    "duration": 7,
    "start_time": "2024-11-12T04:36:43.699Z"
   },
   {
    "duration": 3,
    "start_time": "2024-11-12T04:41:54.421Z"
   },
   {
    "duration": 3,
    "start_time": "2024-11-12T04:42:10.523Z"
   },
   {
    "duration": 4,
    "start_time": "2024-11-12T04:42:58.736Z"
   },
   {
    "duration": 3,
    "start_time": "2024-11-12T04:43:09.710Z"
   },
   {
    "duration": 3,
    "start_time": "2024-11-12T04:43:14.734Z"
   },
   {
    "duration": 3,
    "start_time": "2024-11-12T04:43:17.509Z"
   },
   {
    "duration": 8,
    "start_time": "2024-11-12T04:43:22.769Z"
   },
   {
    "duration": 4,
    "start_time": "2024-11-12T04:43:23.466Z"
   },
   {
    "duration": 2,
    "start_time": "2024-11-12T04:43:24.248Z"
   },
   {
    "duration": 3,
    "start_time": "2024-11-12T04:43:41.361Z"
   },
   {
    "duration": 3,
    "start_time": "2024-11-12T04:43:44.390Z"
   },
   {
    "duration": 3,
    "start_time": "2024-11-12T04:43:46.001Z"
   },
   {
    "duration": 7,
    "start_time": "2024-11-12T04:43:49.940Z"
   },
   {
    "duration": 4,
    "start_time": "2024-11-12T04:43:50.540Z"
   },
   {
    "duration": 3,
    "start_time": "2024-11-12T04:43:52.025Z"
   },
   {
    "duration": 4,
    "start_time": "2024-11-12T04:44:00.262Z"
   },
   {
    "duration": 3,
    "start_time": "2024-11-12T04:44:09.608Z"
   },
   {
    "duration": 3,
    "start_time": "2024-11-12T04:44:10.642Z"
   },
   {
    "duration": 4,
    "start_time": "2024-11-12T04:44:23.865Z"
   },
   {
    "duration": 7,
    "start_time": "2024-11-12T04:44:28.147Z"
   },
   {
    "duration": 4,
    "start_time": "2024-11-12T04:44:28.612Z"
   },
   {
    "duration": 4,
    "start_time": "2024-11-12T04:44:29.129Z"
   },
   {
    "duration": 3,
    "start_time": "2024-11-12T04:44:51.988Z"
   },
   {
    "duration": 3,
    "start_time": "2024-11-12T04:44:52.599Z"
   },
   {
    "duration": 3,
    "start_time": "2024-11-12T04:44:53.583Z"
   },
   {
    "duration": 6,
    "start_time": "2024-11-12T04:44:56.347Z"
   },
   {
    "duration": 3,
    "start_time": "2024-11-12T04:44:57.169Z"
   },
   {
    "duration": 3,
    "start_time": "2024-11-12T04:45:00.187Z"
   },
   {
    "duration": 5,
    "start_time": "2024-11-12T04:45:10.579Z"
   },
   {
    "duration": 3,
    "start_time": "2024-11-12T04:45:11.765Z"
   },
   {
    "duration": 4,
    "start_time": "2024-11-12T04:45:20.278Z"
   },
   {
    "duration": 3,
    "start_time": "2024-11-12T04:45:21.240Z"
   },
   {
    "duration": 4,
    "start_time": "2024-11-12T04:45:23.977Z"
   },
   {
    "duration": 6,
    "start_time": "2024-11-12T06:31:05.385Z"
   },
   {
    "duration": 6,
    "start_time": "2024-11-12T06:31:25.879Z"
   },
   {
    "duration": 6,
    "start_time": "2024-11-12T06:35:42.346Z"
   },
   {
    "duration": 7,
    "start_time": "2024-11-12T06:36:08.639Z"
   },
   {
    "duration": 10,
    "start_time": "2024-11-12T06:40:57.040Z"
   },
   {
    "duration": 10,
    "start_time": "2024-11-12T06:41:13.929Z"
   },
   {
    "duration": 7,
    "start_time": "2024-11-13T03:11:46.255Z"
   },
   {
    "duration": 161,
    "start_time": "2024-11-13T03:16:08.631Z"
   },
   {
    "duration": 2400,
    "start_time": "2024-11-13T03:16:15.527Z"
   },
   {
    "duration": 225,
    "start_time": "2024-11-13T03:16:17.929Z"
   },
   {
    "duration": 10,
    "start_time": "2024-11-13T03:16:18.156Z"
   },
   {
    "duration": 9,
    "start_time": "2024-11-13T03:16:18.169Z"
   },
   {
    "duration": 10,
    "start_time": "2024-11-13T03:16:18.180Z"
   },
   {
    "duration": 10,
    "start_time": "2024-11-13T03:16:18.192Z"
   },
   {
    "duration": 28,
    "start_time": "2024-11-13T03:16:18.204Z"
   },
   {
    "duration": 14,
    "start_time": "2024-11-13T03:16:18.234Z"
   },
   {
    "duration": 42,
    "start_time": "2024-11-13T03:16:18.250Z"
   },
   {
    "duration": 47,
    "start_time": "2024-11-13T03:16:18.294Z"
   },
   {
    "duration": 138,
    "start_time": "2024-11-13T03:16:18.343Z"
   },
   {
    "duration": 12,
    "start_time": "2024-11-13T03:16:18.482Z"
   },
   {
    "duration": 34,
    "start_time": "2024-11-13T03:16:18.496Z"
   },
   {
    "duration": 18,
    "start_time": "2024-11-13T03:16:18.534Z"
   },
   {
    "duration": 14,
    "start_time": "2024-11-13T03:16:18.554Z"
   },
   {
    "duration": 66,
    "start_time": "2024-11-13T03:16:18.569Z"
   },
   {
    "duration": 20,
    "start_time": "2024-11-13T03:16:18.638Z"
   },
   {
    "duration": 7,
    "start_time": "2024-11-13T03:16:18.660Z"
   },
   {
    "duration": 32,
    "start_time": "2024-11-13T03:16:18.669Z"
   },
   {
    "duration": 9,
    "start_time": "2024-11-13T03:16:18.724Z"
   },
   {
    "duration": 21,
    "start_time": "2024-11-13T03:16:18.734Z"
   },
   {
    "duration": 24,
    "start_time": "2024-11-13T03:16:18.757Z"
   },
   {
    "duration": 48,
    "start_time": "2024-11-13T03:16:18.783Z"
   },
   {
    "duration": 22,
    "start_time": "2024-11-13T03:16:18.833Z"
   },
   {
    "duration": 5,
    "start_time": "2024-11-13T03:16:18.857Z"
   },
   {
    "duration": 67,
    "start_time": "2024-11-13T03:16:18.863Z"
   },
   {
    "duration": 3,
    "start_time": "2024-11-13T03:16:18.932Z"
   },
   {
    "duration": 45,
    "start_time": "2024-11-13T03:16:18.937Z"
   },
   {
    "duration": 3,
    "start_time": "2024-11-13T03:16:18.984Z"
   },
   {
    "duration": 70,
    "start_time": "2024-11-13T03:16:18.988Z"
   },
   {
    "duration": 27,
    "start_time": "2024-11-13T03:16:19.060Z"
   },
   {
    "duration": 3,
    "start_time": "2024-11-13T03:16:19.089Z"
   },
   {
    "duration": 96,
    "start_time": "2024-11-13T03:16:19.094Z"
   },
   {
    "duration": 14,
    "start_time": "2024-11-13T03:16:19.192Z"
   },
   {
    "duration": 22,
    "start_time": "2024-11-13T03:16:19.208Z"
   },
   {
    "duration": 150,
    "start_time": "2024-11-13T03:16:19.232Z"
   },
   {
    "duration": 201,
    "start_time": "2024-11-13T03:16:19.384Z"
   },
   {
    "duration": 10,
    "start_time": "2024-11-13T03:16:19.587Z"
   },
   {
    "duration": 118,
    "start_time": "2024-11-13T03:16:19.598Z"
   },
   {
    "duration": 112,
    "start_time": "2024-11-13T03:16:19.717Z"
   },
   {
    "duration": 7,
    "start_time": "2024-11-13T03:16:19.833Z"
   },
   {
    "duration": 89,
    "start_time": "2024-11-13T03:16:19.842Z"
   },
   {
    "duration": 77,
    "start_time": "2024-11-13T03:16:19.933Z"
   },
   {
    "duration": 11,
    "start_time": "2024-11-13T03:16:20.024Z"
   },
   {
    "duration": 7,
    "start_time": "2024-11-13T03:16:20.036Z"
   },
   {
    "duration": 254,
    "start_time": "2024-11-13T03:16:20.045Z"
   },
   {
    "duration": 11,
    "start_time": "2024-11-13T03:16:20.301Z"
   },
   {
    "duration": 6,
    "start_time": "2024-11-13T03:16:20.324Z"
   },
   {
    "duration": 266,
    "start_time": "2024-11-13T03:16:20.332Z"
   },
   {
    "duration": 11,
    "start_time": "2024-11-13T03:16:20.600Z"
   },
   {
    "duration": 19,
    "start_time": "2024-11-13T03:16:20.613Z"
   },
   {
    "duration": 296,
    "start_time": "2024-11-13T03:16:20.634Z"
   },
   {
    "duration": 6,
    "start_time": "2024-11-13T03:16:20.932Z"
   },
   {
    "duration": 3,
    "start_time": "2024-11-13T03:16:20.940Z"
   },
   {
    "duration": 3,
    "start_time": "2024-11-13T03:16:20.944Z"
   },
   {
    "duration": 6,
    "start_time": "2024-11-13T03:16:20.949Z"
   },
   {
    "duration": 3,
    "start_time": "2024-11-13T03:16:20.957Z"
   },
   {
    "duration": 3,
    "start_time": "2024-11-13T03:16:20.962Z"
   },
   {
    "duration": 37,
    "start_time": "2024-11-13T03:16:48.580Z"
   },
   {
    "duration": 27,
    "start_time": "2024-11-13T03:25:03.675Z"
   },
   {
    "duration": 3,
    "start_time": "2024-11-13T03:25:23.009Z"
   },
   {
    "duration": 181,
    "start_time": "2024-11-13T03:25:23.014Z"
   },
   {
    "duration": 8,
    "start_time": "2024-11-13T03:25:23.197Z"
   },
   {
    "duration": 7,
    "start_time": "2024-11-13T03:25:23.207Z"
   },
   {
    "duration": 9,
    "start_time": "2024-11-13T03:25:23.224Z"
   },
   {
    "duration": 7,
    "start_time": "2024-11-13T03:25:23.234Z"
   },
   {
    "duration": 10,
    "start_time": "2024-11-13T03:25:23.243Z"
   },
   {
    "duration": 15,
    "start_time": "2024-11-13T03:25:23.254Z"
   },
   {
    "duration": 76,
    "start_time": "2024-11-13T03:25:23.272Z"
   },
   {
    "duration": 24,
    "start_time": "2024-11-13T03:25:23.350Z"
   },
   {
    "duration": 135,
    "start_time": "2024-11-13T03:25:23.376Z"
   },
   {
    "duration": 18,
    "start_time": "2024-11-13T03:25:23.513Z"
   },
   {
    "duration": 20,
    "start_time": "2024-11-13T03:25:23.532Z"
   },
   {
    "duration": 116,
    "start_time": "2024-11-13T03:25:23.554Z"
   },
   {
    "duration": 13,
    "start_time": "2024-11-13T03:25:23.671Z"
   },
   {
    "duration": 59,
    "start_time": "2024-11-13T03:25:23.686Z"
   },
   {
    "duration": 22,
    "start_time": "2024-11-13T03:25:23.747Z"
   },
   {
    "duration": 7,
    "start_time": "2024-11-13T03:25:23.770Z"
   },
   {
    "duration": 49,
    "start_time": "2024-11-13T03:25:23.779Z"
   },
   {
    "duration": 10,
    "start_time": "2024-11-13T03:25:23.829Z"
   },
   {
    "duration": 31,
    "start_time": "2024-11-13T03:25:23.841Z"
   },
   {
    "duration": 25,
    "start_time": "2024-11-13T03:25:23.874Z"
   },
   {
    "duration": 39,
    "start_time": "2024-11-13T03:25:23.901Z"
   },
   {
    "duration": 21,
    "start_time": "2024-11-13T03:25:23.944Z"
   },
   {
    "duration": 3,
    "start_time": "2024-11-13T03:25:23.967Z"
   },
   {
    "duration": 64,
    "start_time": "2024-11-13T03:25:23.971Z"
   },
   {
    "duration": 2,
    "start_time": "2024-11-13T03:25:24.037Z"
   },
   {
    "duration": 45,
    "start_time": "2024-11-13T03:25:24.041Z"
   },
   {
    "duration": 2,
    "start_time": "2024-11-13T03:25:24.088Z"
   },
   {
    "duration": 82,
    "start_time": "2024-11-13T03:25:24.092Z"
   },
   {
    "duration": 35,
    "start_time": "2024-11-13T03:25:24.176Z"
   },
   {
    "duration": 12,
    "start_time": "2024-11-13T03:25:24.213Z"
   },
   {
    "duration": 76,
    "start_time": "2024-11-13T03:25:24.227Z"
   },
   {
    "duration": 26,
    "start_time": "2024-11-13T03:25:24.305Z"
   },
   {
    "duration": 9,
    "start_time": "2024-11-13T03:25:24.333Z"
   },
   {
    "duration": 143,
    "start_time": "2024-11-13T03:25:24.344Z"
   },
   {
    "duration": 143,
    "start_time": "2024-11-13T03:25:24.489Z"
   },
   {
    "duration": 10,
    "start_time": "2024-11-13T03:25:24.634Z"
   },
   {
    "duration": 117,
    "start_time": "2024-11-13T03:25:24.645Z"
   },
   {
    "duration": 107,
    "start_time": "2024-11-13T03:25:24.764Z"
   },
   {
    "duration": 6,
    "start_time": "2024-11-13T03:25:24.873Z"
   },
   {
    "duration": 87,
    "start_time": "2024-11-13T03:25:24.881Z"
   },
   {
    "duration": 83,
    "start_time": "2024-11-13T03:25:24.970Z"
   },
   {
    "duration": 12,
    "start_time": "2024-11-13T03:25:25.056Z"
   },
   {
    "duration": 7,
    "start_time": "2024-11-13T03:25:25.069Z"
   },
   {
    "duration": 272,
    "start_time": "2024-11-13T03:25:25.078Z"
   },
   {
    "duration": 12,
    "start_time": "2024-11-13T03:25:25.351Z"
   },
   {
    "duration": 7,
    "start_time": "2024-11-13T03:25:25.366Z"
   },
   {
    "duration": 258,
    "start_time": "2024-11-13T03:25:25.374Z"
   },
   {
    "duration": 12,
    "start_time": "2024-11-13T03:25:25.634Z"
   },
   {
    "duration": 9,
    "start_time": "2024-11-13T03:25:25.647Z"
   },
   {
    "duration": 285,
    "start_time": "2024-11-13T03:25:25.658Z"
   },
   {
    "duration": 7,
    "start_time": "2024-11-13T03:25:25.945Z"
   },
   {
    "duration": 3,
    "start_time": "2024-11-13T03:25:25.954Z"
   },
   {
    "duration": 3,
    "start_time": "2024-11-13T03:25:25.959Z"
   },
   {
    "duration": 6,
    "start_time": "2024-11-13T03:25:25.964Z"
   },
   {
    "duration": 3,
    "start_time": "2024-11-13T03:25:25.971Z"
   },
   {
    "duration": 3,
    "start_time": "2024-11-13T03:25:25.976Z"
   },
   {
    "duration": 5,
    "start_time": "2024-11-13T03:27:31.069Z"
   },
   {
    "duration": 3,
    "start_time": "2024-11-13T03:27:50.756Z"
   },
   {
    "duration": 3,
    "start_time": "2024-11-13T03:27:59.759Z"
   },
   {
    "duration": 3,
    "start_time": "2024-11-13T03:28:56.006Z"
   },
   {
    "duration": 5,
    "start_time": "2024-11-13T03:31:34.194Z"
   },
   {
    "duration": 4,
    "start_time": "2024-11-13T03:32:46.486Z"
   },
   {
    "duration": 6,
    "start_time": "2024-11-13T03:39:26.532Z"
   },
   {
    "duration": 335,
    "start_time": "2024-11-13T03:48:13.468Z"
   },
   {
    "duration": 271,
    "start_time": "2024-11-13T03:49:18.053Z"
   },
   {
    "duration": 6,
    "start_time": "2024-11-13T03:56:02.495Z"
   },
   {
    "duration": 10,
    "start_time": "2024-11-13T03:56:11.389Z"
   },
   {
    "duration": 237,
    "start_time": "2024-11-13T03:57:37.603Z"
   },
   {
    "duration": 11,
    "start_time": "2024-11-13T03:59:33.913Z"
   },
   {
    "duration": 361,
    "start_time": "2024-11-13T04:00:42.123Z"
   },
   {
    "duration": 157,
    "start_time": "2024-11-13T04:00:55.880Z"
   },
   {
    "duration": 132,
    "start_time": "2024-11-13T04:01:11.244Z"
   },
   {
    "duration": 13,
    "start_time": "2024-11-13T04:04:45.790Z"
   },
   {
    "duration": 237,
    "start_time": "2024-11-13T04:12:24.732Z"
   },
   {
    "duration": 23,
    "start_time": "2024-11-13T04:12:46.989Z"
   },
   {
    "duration": 22,
    "start_time": "2024-11-13T04:13:41.163Z"
   },
   {
    "duration": 17,
    "start_time": "2024-11-13T04:16:15.718Z"
   },
   {
    "duration": 14,
    "start_time": "2024-11-13T04:16:28.393Z"
   },
   {
    "duration": 16,
    "start_time": "2024-11-13T04:17:54.231Z"
   },
   {
    "duration": 16,
    "start_time": "2024-11-13T04:22:25.324Z"
   },
   {
    "duration": 11,
    "start_time": "2024-11-13T04:22:34.652Z"
   },
   {
    "duration": 12,
    "start_time": "2024-11-13T04:22:46.097Z"
   },
   {
    "duration": 12,
    "start_time": "2024-11-13T04:23:29.877Z"
   },
   {
    "duration": 11,
    "start_time": "2024-11-13T04:23:48.946Z"
   },
   {
    "duration": 6,
    "start_time": "2024-11-13T04:23:54.663Z"
   },
   {
    "duration": 170,
    "start_time": "2024-11-13T04:24:21.780Z"
   },
   {
    "duration": 126,
    "start_time": "2024-11-13T04:24:36.000Z"
   },
   {
    "duration": 7,
    "start_time": "2024-11-13T04:26:49.612Z"
   },
   {
    "duration": 11,
    "start_time": "2024-11-13T04:26:56.360Z"
   },
   {
    "duration": 118,
    "start_time": "2024-11-13T04:27:25.449Z"
   },
   {
    "duration": 159,
    "start_time": "2024-11-13T04:27:53.580Z"
   },
   {
    "duration": 224,
    "start_time": "2024-11-13T04:30:03.791Z"
   },
   {
    "duration": 129,
    "start_time": "2024-11-13T04:30:17.597Z"
   },
   {
    "duration": 136,
    "start_time": "2024-11-13T04:30:27.529Z"
   },
   {
    "duration": 180,
    "start_time": "2024-11-13T04:30:38.293Z"
   },
   {
    "duration": 116,
    "start_time": "2024-11-13T04:30:44.675Z"
   },
   {
    "duration": 115,
    "start_time": "2024-11-13T04:30:49.778Z"
   },
   {
    "duration": 123,
    "start_time": "2024-11-13T04:33:05.178Z"
   },
   {
    "duration": 162,
    "start_time": "2024-11-13T04:33:21.748Z"
   },
   {
    "duration": 126,
    "start_time": "2024-11-13T04:33:46.977Z"
   },
   {
    "duration": 109,
    "start_time": "2024-11-13T04:33:50.681Z"
   },
   {
    "duration": 242,
    "start_time": "2024-11-13T04:34:28.584Z"
   },
   {
    "duration": 130,
    "start_time": "2024-11-13T04:34:37.062Z"
   },
   {
    "duration": 138,
    "start_time": "2024-11-13T04:34:50.740Z"
   },
   {
    "duration": 162,
    "start_time": "2024-11-13T04:35:00.323Z"
   },
   {
    "duration": 151,
    "start_time": "2024-11-13T04:35:08.852Z"
   },
   {
    "duration": 139,
    "start_time": "2024-11-13T04:35:16.500Z"
   },
   {
    "duration": 167,
    "start_time": "2024-11-13T04:36:01.055Z"
   },
   {
    "duration": 156,
    "start_time": "2024-11-13T06:54:30.725Z"
   },
   {
    "duration": 2506,
    "start_time": "2024-11-13T06:54:53.387Z"
   },
   {
    "duration": 224,
    "start_time": "2024-11-13T06:54:55.895Z"
   },
   {
    "duration": 9,
    "start_time": "2024-11-13T06:54:56.121Z"
   },
   {
    "duration": 9,
    "start_time": "2024-11-13T06:54:56.131Z"
   },
   {
    "duration": 8,
    "start_time": "2024-11-13T06:54:56.142Z"
   },
   {
    "duration": 8,
    "start_time": "2024-11-13T06:54:56.152Z"
   },
   {
    "duration": 11,
    "start_time": "2024-11-13T06:54:56.161Z"
   },
   {
    "duration": 40,
    "start_time": "2024-11-13T06:54:56.173Z"
   },
   {
    "duration": 41,
    "start_time": "2024-11-13T06:54:56.215Z"
   },
   {
    "duration": 25,
    "start_time": "2024-11-13T06:54:56.257Z"
   },
   {
    "duration": 149,
    "start_time": "2024-11-13T06:54:56.284Z"
   },
   {
    "duration": 12,
    "start_time": "2024-11-13T06:54:56.435Z"
   },
   {
    "duration": 20,
    "start_time": "2024-11-13T06:54:56.449Z"
   },
   {
    "duration": 39,
    "start_time": "2024-11-13T06:54:56.473Z"
   },
   {
    "duration": 13,
    "start_time": "2024-11-13T06:54:56.514Z"
   },
   {
    "duration": 41,
    "start_time": "2024-11-13T06:54:56.528Z"
   },
   {
    "duration": 38,
    "start_time": "2024-11-13T06:54:56.571Z"
   },
   {
    "duration": 7,
    "start_time": "2024-11-13T06:54:56.610Z"
   },
   {
    "duration": 33,
    "start_time": "2024-11-13T06:54:56.619Z"
   },
   {
    "duration": 9,
    "start_time": "2024-11-13T06:54:56.654Z"
   },
   {
    "duration": 45,
    "start_time": "2024-11-13T06:54:56.665Z"
   },
   {
    "duration": 25,
    "start_time": "2024-11-13T06:54:56.711Z"
   },
   {
    "duration": 22,
    "start_time": "2024-11-13T06:54:56.737Z"
   },
   {
    "duration": 22,
    "start_time": "2024-11-13T06:54:56.761Z"
   },
   {
    "duration": 25,
    "start_time": "2024-11-13T06:54:56.785Z"
   },
   {
    "duration": 45,
    "start_time": "2024-11-13T06:54:56.811Z"
   },
   {
    "duration": 3,
    "start_time": "2024-11-13T06:54:56.857Z"
   },
   {
    "duration": 61,
    "start_time": "2024-11-13T06:54:56.862Z"
   },
   {
    "duration": 2,
    "start_time": "2024-11-13T06:54:56.925Z"
   },
   {
    "duration": 46,
    "start_time": "2024-11-13T06:54:56.929Z"
   },
   {
    "duration": 47,
    "start_time": "2024-11-13T06:54:56.978Z"
   },
   {
    "duration": 3,
    "start_time": "2024-11-13T06:54:57.027Z"
   },
   {
    "duration": 82,
    "start_time": "2024-11-13T06:54:57.032Z"
   },
   {
    "duration": 17,
    "start_time": "2024-11-13T06:54:57.116Z"
   },
   {
    "duration": 9,
    "start_time": "2024-11-13T06:54:57.135Z"
   },
   {
    "duration": 10,
    "start_time": "2024-11-13T06:54:57.145Z"
   },
   {
    "duration": 212,
    "start_time": "2024-11-13T06:54:57.157Z"
   },
   {
    "duration": 10,
    "start_time": "2024-11-13T06:54:57.371Z"
   },
   {
    "duration": 180,
    "start_time": "2024-11-13T06:54:57.383Z"
   },
   {
    "duration": 7,
    "start_time": "2024-11-13T06:54:57.565Z"
   },
   {
    "duration": 0,
    "start_time": "2024-11-13T06:54:57.574Z"
   },
   {
    "duration": 0,
    "start_time": "2024-11-13T06:54:57.575Z"
   },
   {
    "duration": 0,
    "start_time": "2024-11-13T06:54:57.577Z"
   },
   {
    "duration": 0,
    "start_time": "2024-11-13T06:54:57.578Z"
   },
   {
    "duration": 0,
    "start_time": "2024-11-13T06:54:57.579Z"
   },
   {
    "duration": 0,
    "start_time": "2024-11-13T06:54:57.580Z"
   },
   {
    "duration": 0,
    "start_time": "2024-11-13T06:54:57.581Z"
   },
   {
    "duration": 0,
    "start_time": "2024-11-13T06:54:57.582Z"
   },
   {
    "duration": 0,
    "start_time": "2024-11-13T06:54:57.583Z"
   },
   {
    "duration": 0,
    "start_time": "2024-11-13T06:54:57.609Z"
   },
   {
    "duration": 0,
    "start_time": "2024-11-13T06:54:57.610Z"
   },
   {
    "duration": 0,
    "start_time": "2024-11-13T06:54:57.611Z"
   },
   {
    "duration": 0,
    "start_time": "2024-11-13T06:54:57.613Z"
   },
   {
    "duration": 0,
    "start_time": "2024-11-13T06:54:57.614Z"
   },
   {
    "duration": 0,
    "start_time": "2024-11-13T06:54:57.615Z"
   },
   {
    "duration": 0,
    "start_time": "2024-11-13T06:54:57.616Z"
   },
   {
    "duration": 0,
    "start_time": "2024-11-13T06:54:57.618Z"
   },
   {
    "duration": 0,
    "start_time": "2024-11-13T06:54:57.619Z"
   },
   {
    "duration": 159,
    "start_time": "2024-11-13T06:55:06.392Z"
   },
   {
    "duration": 216,
    "start_time": "2024-11-13T06:55:21.353Z"
   },
   {
    "duration": 1055,
    "start_time": "2024-11-13T06:55:42.128Z"
   },
   {
    "duration": 160,
    "start_time": "2024-11-13T06:55:49.969Z"
   },
   {
    "duration": 164,
    "start_time": "2024-11-13T06:56:06.047Z"
   },
   {
    "duration": 163,
    "start_time": "2024-11-13T06:56:15.866Z"
   },
   {
    "duration": 163,
    "start_time": "2024-11-13T06:56:22.470Z"
   },
   {
    "duration": 174,
    "start_time": "2024-11-13T06:56:27.957Z"
   },
   {
    "duration": 4,
    "start_time": "2024-11-13T06:56:46.959Z"
   },
   {
    "duration": 133,
    "start_time": "2024-11-13T06:57:02.964Z"
   },
   {
    "duration": 125,
    "start_time": "2024-11-13T06:57:30.129Z"
   },
   {
    "duration": 160,
    "start_time": "2024-11-13T06:57:50.669Z"
   },
   {
    "duration": 164,
    "start_time": "2024-11-13T06:58:06.972Z"
   },
   {
    "duration": 151,
    "start_time": "2024-11-13T06:58:18.598Z"
   },
   {
    "duration": 172,
    "start_time": "2024-11-13T06:58:28.804Z"
   },
   {
    "duration": 166,
    "start_time": "2024-11-13T06:58:34.391Z"
   },
   {
    "duration": 152,
    "start_time": "2024-11-13T06:58:38.966Z"
   },
   {
    "duration": 171,
    "start_time": "2024-11-13T06:58:49.713Z"
   },
   {
    "duration": 287,
    "start_time": "2024-11-13T06:59:00.167Z"
   },
   {
    "duration": 152,
    "start_time": "2024-11-13T06:59:19.358Z"
   },
   {
    "duration": 150,
    "start_time": "2024-11-13T07:00:00.091Z"
   },
   {
    "duration": 163,
    "start_time": "2024-11-13T07:00:13.104Z"
   },
   {
    "duration": 157,
    "start_time": "2024-11-13T07:00:24.448Z"
   },
   {
    "duration": 170,
    "start_time": "2024-11-13T07:00:34.302Z"
   },
   {
    "duration": 7,
    "start_time": "2024-11-13T07:04:01.596Z"
   },
   {
    "duration": 77,
    "start_time": "2024-11-13T07:04:04.290Z"
   },
   {
    "duration": 79,
    "start_time": "2024-11-13T07:04:07.954Z"
   },
   {
    "duration": 9852,
    "start_time": "2024-11-13T07:05:40.419Z"
   },
   {
    "duration": 79,
    "start_time": "2024-11-13T07:05:50.365Z"
   },
   {
    "duration": 6,
    "start_time": "2024-11-13T07:05:50.446Z"
   },
   {
    "duration": 245,
    "start_time": "2024-11-13T07:09:10.700Z"
   },
   {
    "duration": 49,
    "start_time": "2024-11-13T07:09:39.393Z"
   },
   {
    "duration": 77,
    "start_time": "2024-11-13T07:09:53.218Z"
   },
   {
    "duration": 188,
    "start_time": "2024-11-13T07:12:54.885Z"
   },
   {
    "duration": 176,
    "start_time": "2024-11-13T07:13:18.140Z"
   },
   {
    "duration": 116,
    "start_time": "2024-11-13T07:13:39.437Z"
   },
   {
    "duration": 195,
    "start_time": "2024-11-13T07:14:59.306Z"
   },
   {
    "duration": 114,
    "start_time": "2024-11-13T07:15:07.041Z"
   },
   {
    "duration": 171,
    "start_time": "2024-11-13T07:15:57.264Z"
   },
   {
    "duration": 113,
    "start_time": "2024-11-13T07:16:11.802Z"
   },
   {
    "duration": 37,
    "start_time": "2024-11-13T07:16:36.816Z"
   },
   {
    "duration": 113,
    "start_time": "2024-11-13T07:16:41.772Z"
   },
   {
    "duration": 119,
    "start_time": "2024-11-13T07:20:50.153Z"
   },
   {
    "duration": 179,
    "start_time": "2024-11-13T07:23:39.008Z"
   },
   {
    "duration": 158,
    "start_time": "2024-11-13T07:23:51.728Z"
   },
   {
    "duration": 167,
    "start_time": "2024-11-13T07:25:27.611Z"
   },
   {
    "duration": 169,
    "start_time": "2024-11-13T07:26:23.096Z"
   },
   {
    "duration": 164,
    "start_time": "2024-11-13T07:26:43.718Z"
   },
   {
    "duration": 166,
    "start_time": "2024-11-13T07:26:56.052Z"
   },
   {
    "duration": 150,
    "start_time": "2024-11-13T07:27:02.874Z"
   },
   {
    "duration": 157,
    "start_time": "2024-11-13T07:28:32.386Z"
   },
   {
    "duration": 169,
    "start_time": "2024-11-13T07:29:27.732Z"
   },
   {
    "duration": 5,
    "start_time": "2024-11-13T07:31:26.794Z"
   },
   {
    "duration": 11,
    "start_time": "2024-11-13T07:31:38.605Z"
   },
   {
    "duration": 7,
    "start_time": "2024-11-13T07:31:41.814Z"
   },
   {
    "duration": 666,
    "start_time": "2024-11-13T07:31:44.391Z"
   },
   {
    "duration": 11,
    "start_time": "2024-11-13T07:31:50.334Z"
   },
   {
    "duration": 7,
    "start_time": "2024-11-13T07:31:51.064Z"
   },
   {
    "duration": 233,
    "start_time": "2024-11-13T07:31:51.887Z"
   },
   {
    "duration": 12,
    "start_time": "2024-11-13T07:31:54.138Z"
   },
   {
    "duration": 9,
    "start_time": "2024-11-13T07:31:54.343Z"
   },
   {
    "duration": 260,
    "start_time": "2024-11-13T07:31:54.533Z"
   },
   {
    "duration": 7,
    "start_time": "2024-11-13T07:31:55.408Z"
   },
   {
    "duration": 3,
    "start_time": "2024-11-13T07:31:55.573Z"
   },
   {
    "duration": 3,
    "start_time": "2024-11-13T07:31:55.738Z"
   },
   {
    "duration": 7,
    "start_time": "2024-11-13T07:31:56.070Z"
   },
   {
    "duration": 2,
    "start_time": "2024-11-13T07:31:56.250Z"
   },
   {
    "duration": 3,
    "start_time": "2024-11-13T07:31:56.873Z"
   },
   {
    "duration": 15,
    "start_time": "2024-11-13T07:34:36.835Z"
   },
   {
    "duration": 10,
    "start_time": "2024-11-13T07:35:12.157Z"
   },
   {
    "duration": 6,
    "start_time": "2024-11-13T07:35:18.267Z"
   },
   {
    "duration": 11,
    "start_time": "2024-11-13T07:37:30.088Z"
   },
   {
    "duration": 156,
    "start_time": "2024-11-13T07:38:40.821Z"
   },
   {
    "duration": 158,
    "start_time": "2024-11-13T07:41:16.277Z"
   },
   {
    "duration": 11,
    "start_time": "2024-11-13T07:43:04.125Z"
   },
   {
    "duration": 11,
    "start_time": "2024-11-13T07:44:28.453Z"
   },
   {
    "duration": 11,
    "start_time": "2024-11-13T07:45:33.180Z"
   },
   {
    "duration": 533,
    "start_time": "2024-11-13T07:46:37.704Z"
   },
   {
    "duration": 159,
    "start_time": "2024-11-13T07:46:57.758Z"
   },
   {
    "duration": 156,
    "start_time": "2024-11-13T07:49:28.942Z"
   },
   {
    "duration": 11,
    "start_time": "2024-11-13T07:51:07.873Z"
   },
   {
    "duration": 153,
    "start_time": "2024-11-13T07:52:49.346Z"
   },
   {
    "duration": 160,
    "start_time": "2024-11-13T07:54:37.992Z"
   },
   {
    "duration": 3,
    "start_time": "2024-11-13T07:56:12.773Z"
   }
  ],
  "colab": {
   "provenance": []
  },
  "kernelspec": {
   "display_name": "Python 3 (ipykernel)",
   "language": "python",
   "name": "python3"
  },
  "language_info": {
   "codemirror_mode": {
    "name": "ipython",
    "version": 3
   },
   "file_extension": ".py",
   "mimetype": "text/x-python",
   "name": "python",
   "nbconvert_exporter": "python",
   "pygments_lexer": "ipython3",
   "version": "3.9.19"
  },
  "toc": {
   "base_numbering": 1,
   "nav_menu": {},
   "number_sections": true,
   "sideBar": true,
   "skip_h1_title": false,
   "title_cell": "Table of Contents",
   "title_sidebar": "Contents",
   "toc_cell": false,
   "toc_position": {},
   "toc_section_display": true,
   "toc_window_display": true
  }
 },
 "nbformat": 4,
 "nbformat_minor": 1
}
