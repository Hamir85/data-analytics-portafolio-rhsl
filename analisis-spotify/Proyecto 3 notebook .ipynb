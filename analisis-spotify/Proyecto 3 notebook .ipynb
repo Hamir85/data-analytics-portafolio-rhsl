{
 "cells": [
  {
   "cell_type": "markdown",
   "metadata": {},
   "source": [
    "# ¡Hola  !🙋🏻‍♂️\n",
    "\n",
    "Te escribe Lisandro Saez, soy revisor de código en Tripleten y tengo el agrado de revisar el proyecto que entregaste.\n",
    "\n",
    "Para simular la dinámica de un ambiente de trabajo, si veo algún error, en primer instancia solo los señalaré, dándote la oportunidad de encontrarlos y corregirlos por tu cuenta. En un trabajo real, el líder de tu equipo hará una dinámica similar. En caso de que no puedas resolver la tarea, te daré una información más precisa en la próxima revisión.\n",
    "\n",
    "Encontrarás mis comentarios más abajo - **por favor, no los muevas, no los modifiques ni los borres**.\n",
    "\n",
    "¿Cómo lo voy a hacer? Voy a leer detenidamente cada una de las implementaciones que has llevado a cabo para cumplir con lo solicitado. Verás los comentarios de esta forma:\n",
    "\n",
    "<div class=\"alert alert-block alert-success\">\n",
    "<b>Comentario del revisor</b> <a class=\"tocSkip\"></a>\n",
    "\n",
    "Si todo está perfecto.\n",
    "</div>\n",
    "\n",
    "\n",
    "<div class=\"alert alert-block alert-warning\">\n",
    "<b>Comentario del revisor</b> <a class=\"tocSkip\"></a>\n",
    "\n",
    "Si tu código está bien pero se puede mejorar o hay algún detalle que le hace falta. Se aceptan uno o dos comentarios de este tipo en el borrador, pero si hay más, deberías hacer las correcciones. Es como una tarea de prueba al solicitar un trabajo: muchos pequeños errores pueden hacer que un candidato sea rechazado.\n",
    "</div>\n",
    "\n",
    "<div class=\"alert alert-block alert-danger\">\n",
    "\n",
    "<b>Comentario del revisor</b> <a class=\"tocSkip\"></a>\n",
    "\n",
    "Si de pronto hace falta algo o existe algún problema con tu código o conclusiones.\n",
    "</div>\n",
    "\n",
    "Puedes responderme de esta forma (no te preocupes, no es obligatorio):\n",
    "\n",
    "<div class=\"alert alert-block alert-info\">\n",
    "<b>Respuesta del estudiante</b> <a class=\"tocSkip\"></a>\n",
    "\n",
    "Hola, muchas gracias por tus comentarios y la revisión.\n",
    "</div>\n",
    "\n",
    "¡Empecemos!"
   ]
  },
  {
   "cell_type": "markdown",
   "metadata": {
    "id": "E0vqbgi9ay0H"
   },
   "source": [
    "# Déjame escuchar la música"
   ]
  },
  {
   "cell_type": "markdown",
   "metadata": {
    "id": "fhq_eyov_Zcs"
   },
   "source": [
    "# Contenido <a id='back'></a>\n",
    "\n",
    "* [Introducción](#intro)\n",
    "* [Etapa 1. Descripción de los datos](#data_review)\n",
    "    * [Conclusiones](#data_review_conclusions)\n",
    "* [Etapa 2. Preprocesamiento de datos](#data_preprocessing)\n",
    "    * [2.1 Estilo del encabezado](#header_style)\n",
    "    * [2.2 Valores ausentes](#missing_values)\n",
    "    * [2.3 Duplicados](#duplicates)\n",
    "    * [2.4 Conclusiones](#data_preprocessing_conclusions)\n",
    "* [Etapa 3. Prueba de hipótesis](#hypothesis)\n",
    "    * [3.1 Hipótesis 1: actividad de los usuarios y las usuarias en las dos ciudades](#activity)\n",
    "* [Conclusiones](#end)"
   ]
  },
  {
   "cell_type": "markdown",
   "metadata": {
    "id": "VUC88oWjTJw2"
   },
   "source": [
    "## Introducción <a id='intro'></a>\n",
    "Como analista de datos, tu trabajo consiste en analizar datos para extraer información valiosa y tomar decisiones basadas en ellos. Esto implica diferentes etapas, como la descripción general de los datos, el preprocesamiento y la prueba de hipótesis.\n",
    "\n",
    "Siempre que investigamos, necesitamos formular hipótesis que después podamos probar. A veces aceptamos estas hipótesis; otras veces, las rechazamos. Para tomar las decisiones correctas, una empresa debe ser capaz de entender si está haciendo las suposiciones correctas.\n",
    "\n",
    "En este proyecto, compararás las preferencias musicales de las ciudades de Springfield y Shelbyville. Estudiarás datos reales de transmisión de música online para probar la hipótesis a continuación y comparar el comportamiento de los usuarios y las usuarias de estas dos ciudades.\n",
    "\n",
    "### Objetivo:\n",
    "Prueba la hipótesis:\n",
    "1. La actividad de los usuarios y las usuarias difiere según el día de la semana y dependiendo de la ciudad.\n",
    "\n",
    "\n",
    "### Etapas\n",
    "Los datos del comportamiento del usuario se almacenan en el archivo `/datasets/music_project_en.csv`. No hay ninguna información sobre la calidad de los datos, así que necesitarás examinarlos antes de probar la hipótesis.\n",
    "\n",
    "Primero, evaluarás la calidad de los datos y verás si los problemas son significativos. Entonces, durante el preprocesamiento de datos, tomarás en cuenta los problemas más críticos.\n",
    "\n",
    "Tu proyecto consistirá en tres etapas:\n",
    " 1. Descripción de los datos.\n",
    " 2. Preprocesamiento de datos.\n",
    " 3. Prueba de hipótesis.\n",
    "\n",
    "\n",
    "\n",
    "\n",
    "\n",
    "\n"
   ]
  },
  {
   "cell_type": "markdown",
   "metadata": {
    "id": "hDt6pg-Rw-1U"
   },
   "source": [
    "[Volver a Contenidos](#back)"
   ]
  },
  {
   "cell_type": "markdown",
   "metadata": {
    "id": "Ml1hmfXC_Zcs"
   },
   "source": [
    "## Etapa 1. Descripción de los datos <a id='data_review'></a>\n",
    "\n",
    "Abre los datos y examínalos."
   ]
  },
  {
   "cell_type": "markdown",
   "metadata": {
    "id": "57eAOGIz_Zcs"
   },
   "source": [
    "Necesitarás `pandas`, así que impórtalo."
   ]
  },
  {
   "cell_type": "code",
   "execution_count": 1,
   "metadata": {
    "id": "AXN7PHPN_Zcs"
   },
   "outputs": [],
   "source": [
    "# Importar pandas\n",
    "import pandas as pd "
   ]
  },
  {
   "cell_type": "markdown",
   "metadata": {
    "id": "SG23P8tt_Zcs"
   },
   "source": [
    "Lee el archivo `music_project_en.csv` de la carpeta `/datasets/` y guárdalo en la variable `df`:"
   ]
  },
  {
   "cell_type": "code",
   "execution_count": 2,
   "metadata": {
    "id": "fFVu7vqh_Zct"
   },
   "outputs": [],
   "source": [
    "# Leer el archivo y almacenarlo en df\n",
    "df = pd.read_csv('/datasets/music_project_en.csv')"
   ]
  },
  {
   "cell_type": "markdown",
   "metadata": {},
   "source": [
    "<div class=\"alert alert-block alert-success\">\n",
    "<b>Comentario del revisor</b> <a class=\"tocSkip\"></a>\n",
    "\n",
    "Bien hecho! Siempre es importante que pasemos el set de datos que estamos usando a `DataFrame`!</div>\n"
   ]
  },
  {
   "cell_type": "markdown",
   "metadata": {
    "id": "rDoOMd3uTqnZ"
   },
   "source": [
    "Muestra las 10 primeras filas de la tabla:"
   ]
  },
  {
   "cell_type": "code",
   "execution_count": 3,
   "metadata": {
    "id": "oWTVX3gW_Zct"
   },
   "outputs": [
    {
     "name": "stdout",
     "output_type": "stream",
     "text": [
      "     userID                        Track            artist   genre  \\\n",
      "0  FFB692EC            Kamigata To Boots  The Mass Missile    rock   \n",
      "1  55204538  Delayed Because of Accident  Andreas Rönnberg    rock   \n",
      "2    20EC38            Funiculì funiculà       Mario Lanza     pop   \n",
      "3  A3DD03C9        Dragons in the Sunset        Fire + Ice    folk   \n",
      "4  E2DC1FAE                  Soul People        Space Echo   dance   \n",
      "5  842029A1                       Chains          Obladaet  rusrap   \n",
      "6  4CB90AA5                         True      Roman Messer   dance   \n",
      "7  F03E1C1F             Feeling This Way   Polina Griffith   dance   \n",
      "8  8FA1D3BE                     L’estate       Julia Dalia  ruspop   \n",
      "9  E772D5C0                    Pessimist               NaN   dance   \n",
      "\n",
      "        City        time        Day  \n",
      "0  Shelbyville  20:28:33  Wednesday  \n",
      "1  Springfield  14:07:09     Friday  \n",
      "2  Shelbyville  20:58:07  Wednesday  \n",
      "3  Shelbyville  08:37:09     Monday  \n",
      "4  Springfield  08:34:34     Monday  \n",
      "5  Shelbyville  13:09:41     Friday  \n",
      "6  Springfield  13:00:07  Wednesday  \n",
      "7  Springfield  20:47:49  Wednesday  \n",
      "8  Springfield  09:17:40     Friday  \n",
      "9  Shelbyville  21:20:49  Wednesday  \n"
     ]
    }
   ],
   "source": [
    "# Obtener las 10 primeras filas de la tabla df\n",
    "print(df.head(10))"
   ]
  },
  {
   "cell_type": "markdown",
   "metadata": {
    "id": "EO73Kwic_Zct"
   },
   "source": [
    "Obtén la información general sobre la tabla con un comando. Conoces el método que muestra la información general que necesitamos."
   ]
  },
  {
   "cell_type": "code",
   "execution_count": 4,
   "metadata": {
    "id": "DSf2kIb-_Zct"
   },
   "outputs": [
    {
     "name": "stdout",
     "output_type": "stream",
     "text": [
      "<class 'pandas.core.frame.DataFrame'>\n",
      "RangeIndex: 65079 entries, 0 to 65078\n",
      "Data columns (total 7 columns):\n",
      " #   Column    Non-Null Count  Dtype \n",
      "---  ------    --------------  ----- \n",
      " 0     userID  65079 non-null  object\n",
      " 1   Track     63736 non-null  object\n",
      " 2   artist    57512 non-null  object\n",
      " 3   genre     63881 non-null  object\n",
      " 4     City    65079 non-null  object\n",
      " 5   time      65079 non-null  object\n",
      " 6   Day       65079 non-null  object\n",
      "dtypes: object(7)\n",
      "memory usage: 3.5+ MB\n",
      "None\n"
     ]
    }
   ],
   "source": [
    "# Obtener la información general sobre nuestros datos\n",
    "print(df.info())"
   ]
  },
  {
   "cell_type": "markdown",
   "metadata": {
    "id": "TaQ2Iwbr_Zct"
   },
   "source": [
    "Estas son nuestras observaciones sobre la tabla. Contiene siete columnas. Almacenan los mismos tipos de datos: `object`.\n",
    "\n",
    "Según la documentación:\n",
    "- `' userID'`: identificador del usuario o la usuaria;\n",
    "- `'Track'`: título de la canción;\n",
    "- `'artist'`: nombre del artista;\n",
    "- `'genre'`: género de la pista;\n",
    "- `'City'`: ciudad del usuario o la usuaria;\n",
    "- `'time'`: la hora exacta en la que se reprodujo la canción;\n",
    "- `'Day'`: día de la semana.\n",
    "\n",
    "Podemos ver tres problemas con el estilo en los encabezados de la tabla:\n",
    "1. Algunos encabezados están en mayúsculas, otros en minúsculas.\n",
    "2. Hay espacios en algunos encabezados.\n",
    "3. `Tenemos valores ausentes y el tipo de datos en  la variable \"time\"`.\n",
    "\n",
    "\n"
   ]
  },
  {
   "cell_type": "markdown",
   "metadata": {
    "id": "MCB6-dXG_Zct"
   },
   "source": [
    "### Escribe observaciones de tu parte. Estas son algunas de las preguntas que pueden ser útiles: <a id='data_review_conclusions'></a>\n",
    "\n",
    "`1.   ¿Qué tipo de datos tenemos a nuestra disposición en las filas? ¿Y cómo podemos entender lo que almacenan las columnas?`R= Tenemos una base de datos con la información de las canciones reproducidas en dos ciudades. Buestros datos son de tipo no numericos, que nos proporciona la información de cada canción reproducida. Cada que se reproduce una canción, se guardan los datos correspondientes en nuestras columnas.\n",
    "`2.   ¿Hay suficientes datos para proporcionar respuestas a nuestra hipótesis o necesitamos más información?`\n",
    "R= Si contamos con la mayoria de los datos para poder tener un buen analisis.\n",
    "`3.   ¿Notaste algún problema en los datos, como valores ausentes, duplicados o tipos de datos incorrectos?`\n",
    "R= Si, contamos con 3 columnas con valores ausentes(Track, artist y genre), todos los datos son de timpo objet y vienen los nombres de las columnas con espación y letras mayusculas y minusculas. "
   ]
  },
  {
   "cell_type": "markdown",
   "metadata": {},
   "source": [
    "\n",
    "<div class=\"alert alert-block alert-success\">\n",
    "<b>Comentario del revisor</b> <a class=\"tocSkip\"></a>\n",
    "\n",
    "Gran trabajo! Es importante que antes de encarar cualquier problema que queramos resolver con Python, nos paremos a pensar bien en qué consisten los datos con los que vamos a trabajar!\n",
    "</div>"
   ]
  },
  {
   "cell_type": "markdown",
   "metadata": {
    "id": "3eL__vcwViOi"
   },
   "source": [
    "[Volver a Contenidos](#back)"
   ]
  },
  {
   "cell_type": "markdown",
   "metadata": {
    "id": "SjYF6Ub9_Zct"
   },
   "source": [
    "## Etapa 2. Preprocesamiento de datos <a id='data_preprocessing'></a>\n",
    "\n",
    "El objetivo aquí es preparar los datos para que sean analizados.\n",
    "El primer paso es resolver cualquier problema con los encabezados. Luego podemos avanzar a los valores ausentes y duplicados. Empecemos.\n",
    "\n",
    "Corrige el formato en los encabezados de la tabla.\n"
   ]
  },
  {
   "cell_type": "markdown",
   "metadata": {
    "id": "dIaKXr29_Zct"
   },
   "source": [
    "### Estilo del encabezado <a id='header_style'></a>\n",
    "Muestra los encabezados de la tabla (los nombres de las columnas):"
   ]
  },
  {
   "cell_type": "code",
   "execution_count": 5,
   "metadata": {
    "id": "oKOTdF_Q_Zct"
   },
   "outputs": [
    {
     "name": "stdout",
     "output_type": "stream",
     "text": [
      "Index(['  userID', 'Track', 'artist', 'genre', '  City  ', 'time', 'Day'], dtype='object')\n"
     ]
    }
   ],
   "source": [
    "# Muestra los nombres de las columnas\n",
    "print(df.columns)"
   ]
  },
  {
   "cell_type": "markdown",
   "metadata": {
    "id": "zj5534cv_Zct"
   },
   "source": [
    "Cambia los encabezados de la tabla de acuerdo con las reglas del buen estilo:\n",
    "* Todos los caracteres deben ser minúsculas.\n",
    "* Elimina los espacios.\n",
    "* Si el nombre tiene varias palabras, utiliza snake_case."
   ]
  },
  {
   "cell_type": "markdown",
   "metadata": {
    "id": "Xu0zkfe5zNJe"
   },
   "source": [
    "Anteriormente, aprendiste acerca de la forma automática de cambiar el nombre de las columnas. Vamos a aplicarla ahora. Utiliza el bucle for para iterar sobre los nombres de las columnas y poner todos los caracteres en minúsculas. Cuando hayas terminado, vuelve a mostrar los encabezados de la tabla:"
   ]
  },
  {
   "cell_type": "code",
   "execution_count": 6,
   "metadata": {
    "id": "6I_RwwMhzM4e"
   },
   "outputs": [
    {
     "name": "stdout",
     "output_type": "stream",
     "text": [
      "Index(['  userid', 'track', 'artist', 'genre', '  city  ', 'time', 'day'], dtype='object')\n"
     ]
    }
   ],
   "source": [
    "new_col = []\n",
    "for col in df:\n",
    "    lower = col.lower()\n",
    "    new_col.append(lower)\n",
    "\n",
    "df.columns = new_col\n",
    "print (df.columns)\n",
    "\n",
    "   "
   ]
  },
  {
   "cell_type": "markdown",
   "metadata": {
    "id": "pweIRxjSzPYW"
   },
   "source": [
    "Ahora, utilizando el mismo método, elimina los espacios al principio y al final de los nombres de las columnas e imprime los nombres de las columnas nuevamente:"
   ]
  },
  {
   "cell_type": "code",
   "execution_count": 7,
   "metadata": {
    "id": "vVQXbFyJzSYl"
   },
   "outputs": [
    {
     "name": "stdout",
     "output_type": "stream",
     "text": [
      "Index(['userid', 'track', 'artist', 'genre', 'city', 'time', 'day'], dtype='object')\n"
     ]
    }
   ],
   "source": [
    "new_col_espa = []\n",
    "for col_esp in df:\n",
    "    strip = col_esp.strip()\n",
    "    new_col_espa.append(strip)\n",
    "    # Bucle en los encabezados eliminando los espacios\n",
    "df.columns = new_col_espa\n",
    "print (df.columns)"
   ]
  },
  {
   "cell_type": "markdown",
   "metadata": {
    "id": "yCb8MW1JzURd"
   },
   "source": [
    "Necesitamos aplicar la regla de snake_case a la columna `userid`. Debe ser `user_id`. Cambia el nombre de esta columna y muestra los nombres de todas las columnas cuando hayas terminado."
   ]
  },
  {
   "cell_type": "code",
   "execution_count": 8,
   "metadata": {
    "id": "ISlFqs5y_Zct"
   },
   "outputs": [
    {
     "name": "stdout",
     "output_type": "stream",
     "text": [
      "Index(['user_id', 'track', 'artist', 'genre', 'city', 'time', 'day'], dtype='object')\n"
     ]
    }
   ],
   "source": [
    "new_col_us = []\n",
    "for col_us in df:\n",
    "    replace = col_us.replace('userid','user_id')\n",
    "    new_col_us.append(replace)# Cambiar el nombre de la columna \"userid\"\n",
    "df.columns = new_col_us\n",
    "print (df.columns)"
   ]
  },
  {
   "cell_type": "markdown",
   "metadata": {
    "id": "1dqbh00J_Zct"
   },
   "source": [
    "Comprueba el resultado. Muestra los encabezados una vez más:"
   ]
  },
  {
   "cell_type": "code",
   "execution_count": 9,
   "metadata": {
    "id": "d4NOAmTW_Zct"
   },
   "outputs": [
    {
     "name": "stdout",
     "output_type": "stream",
     "text": [
      "Index(['user_id', 'track', 'artist', 'genre', 'city', 'time', 'day'], dtype='object')\n"
     ]
    }
   ],
   "source": [
    "# Comprobar el resultado: la lista de encabezados\n",
    "print(df.columns)"
   ]
  },
  {
   "cell_type": "markdown",
   "metadata": {
    "id": "xYJk6ksJVpOl"
   },
   "source": [
    "[Volver a Contenidos](#back)"
   ]
  },
  {
   "cell_type": "markdown",
   "metadata": {
    "id": "5ISfbcfY_Zct"
   },
   "source": [
    "### Valores ausentes <a id='missing_values'></a>\n",
    " Primero, encuentra el número de valores ausentes en la tabla. Debes utilizar dos métodos en una secuencia para obtener el número de valores ausentes."
   ]
  },
  {
   "cell_type": "code",
   "execution_count": 10,
   "metadata": {
    "id": "RskX29qr_Zct"
   },
   "outputs": [
    {
     "data": {
      "text/plain": [
       "user_id       0\n",
       "track      1343\n",
       "artist     7567\n",
       "genre      1198\n",
       "city          0\n",
       "time          0\n",
       "day           0\n",
       "dtype: int64"
      ]
     },
     "execution_count": 10,
     "metadata": {},
     "output_type": "execute_result"
    }
   ],
   "source": [
    "df.isna().sum()# Calcular el número de valores ausentes\n"
   ]
  },
  {
   "cell_type": "markdown",
   "metadata": {
    "id": "qubhgnlO_Zct"
   },
   "source": [
    "No todos los valores ausentes afectan a la investigación. Por ejemplo, los valores ausentes en `track` y `artist` no son cruciales. Simplemente puedes reemplazarlos con valores predeterminados como el string `'unknown'` (desconocido).\n",
    "\n",
    "Pero los valores ausentes en `'genre'` pueden afectar la comparación entre las preferencias musicales de Springfield y Shelbyville. En la vida real, sería útil saber las razones por las cuales hay datos ausentes e intentar recuperarlos. Pero no tenemos esa oportunidad en este proyecto. Así que tendrás que:\n",
    "* rellenar estos valores ausentes con un valor predeterminado;\n",
    "* evaluar cuánto podrían afectar los valores ausentes a tus cómputos;"
   ]
  },
  {
   "cell_type": "markdown",
   "metadata": {
    "id": "fSv2laPA_Zct"
   },
   "source": [
    "Reemplazar los valores ausentes en las columnas `'track'`, `'artist'` y `'genre'` con el string `'unknown'`. Como mostramos anteriormente en las lecciones, la mejor forma de hacerlo es crear una lista que almacene los nombres de las columnas donde se necesita el reemplazo. Luego, utiliza esta lista e itera sobre las columnas donde se necesita el reemplazo haciendo el propio reemplazo."
   ]
  },
  {
   "cell_type": "code",
   "execution_count": 11,
   "metadata": {
    "id": "KplB5qWs_Zct"
   },
   "outputs": [
    {
     "name": "stdout",
     "output_type": "stream",
     "text": [
      "<bound method DataFrame.info of         user_id                              track            artist  \\\n",
      "0      FFB692EC                  Kamigata To Boots  The Mass Missile   \n",
      "1      55204538        Delayed Because of Accident  Andreas Rönnberg   \n",
      "2        20EC38                  Funiculì funiculà       Mario Lanza   \n",
      "3      A3DD03C9              Dragons in the Sunset        Fire + Ice   \n",
      "4      E2DC1FAE                        Soul People        Space Echo   \n",
      "...         ...                                ...               ...   \n",
      "65074  729CBB09                            My Name            McLean   \n",
      "65075  D08D4A55  Maybe One Day (feat. Black Spade)       Blu & Exile   \n",
      "65076  C5E3A0D5                          Jalopiina           unknown   \n",
      "65077  321D0506                      Freight Train     Chas McDevitt   \n",
      "65078  3A64EF84          Tell Me Sweet Little Lies      Monica Lopez   \n",
      "\n",
      "            genre         city      time        day  \n",
      "0            rock  Shelbyville  20:28:33  Wednesday  \n",
      "1            rock  Springfield  14:07:09     Friday  \n",
      "2             pop  Shelbyville  20:58:07  Wednesday  \n",
      "3            folk  Shelbyville  08:37:09     Monday  \n",
      "4           dance  Springfield  08:34:34     Monday  \n",
      "...           ...          ...       ...        ...  \n",
      "65074         rnb  Springfield  13:32:28  Wednesday  \n",
      "65075         hip  Shelbyville  10:00:00     Monday  \n",
      "65076  industrial  Springfield  20:09:26     Friday  \n",
      "65077        rock  Springfield  21:43:59     Friday  \n",
      "65078     country  Springfield  21:59:46     Friday  \n",
      "\n",
      "[65079 rows x 7 columns]>\n"
     ]
    }
   ],
   "source": [
    "rem_columns =df[['track','artist','genre']]\n",
    "for colu in rem_columns:\n",
    "    colu = rem_columns.fillna('unknown')\n",
    "    \n",
    "\n",
    "df[['track','artist','genre']]= colu\n",
    "print(df.info)# Bucle en los encabezados reemplazando los valores ausentes con 'unknown'\n"
   ]
  },
  {
   "cell_type": "markdown",
   "metadata": {
    "id": "Ilsm-MZo_Zct"
   },
   "source": [
    "Ahora comprueba el resultado para asegurarte de que después del reemplazo no haya valores ausentes en el conjunto de datos. Para hacer esto, cuenta los valores ausentes nuevamente."
   ]
  },
  {
   "cell_type": "code",
   "execution_count": 12,
   "metadata": {
    "id": "Tq4nYRX4_Zct"
   },
   "outputs": [
    {
     "data": {
      "text/plain": [
       "user_id    0\n",
       "track      0\n",
       "artist     0\n",
       "genre      0\n",
       "city       0\n",
       "time       0\n",
       "day        0\n",
       "dtype: int64"
      ]
     },
     "execution_count": 12,
     "metadata": {},
     "output_type": "execute_result"
    }
   ],
   "source": [
    "# Contar valores ausentes\n",
    "df.isna().sum()"
   ]
  },
  {
   "cell_type": "markdown",
   "metadata": {
    "id": "74ZIBmq9VrsK"
   },
   "source": [
    "[Volver a Contenidos](#back)"
   ]
  },
  {
   "cell_type": "markdown",
   "metadata": {},
   "source": [
    "<div class=\"alert alert-block alert-success\">\n",
    "<b>Comentario del revisor</b> <a class=\"tocSkip\"></a>\n",
    "\n",
    "Te felicito por haber eliminado los NaNs! Es una parte fundamental del análisis de datos!\n",
    "</div>\n"
   ]
  },
  {
   "cell_type": "markdown",
   "metadata": {
    "id": "BWKRtBJ3_Zct"
   },
   "source": [
    "### Duplicados <a id='duplicates'></a>\n",
    "Encuentra el número de duplicados explícitos en la tabla. Una vez más, debes aplicar dos métodos en una secuencia para obtener la cantidad de duplicados explícitos."
   ]
  },
  {
   "cell_type": "code",
   "execution_count": 13,
   "metadata": {
    "id": "36eES_S0_Zct"
   },
   "outputs": [
    {
     "data": {
      "text/plain": [
       "3826"
      ]
     },
     "execution_count": 13,
     "metadata": {},
     "output_type": "execute_result"
    }
   ],
   "source": [
    "# Contar duplicados explícitos\n",
    "df.duplicated().sum()"
   ]
  },
  {
   "cell_type": "markdown",
   "metadata": {
    "id": "Ot25h6XR_Zct"
   },
   "source": [
    "Ahora, elimina todos los duplicados. Para ello, llama al método que hace exactamente esto."
   ]
  },
  {
   "cell_type": "code",
   "execution_count": 14,
   "metadata": {
    "id": "exFHq6tt_Zct"
   },
   "outputs": [],
   "source": [
    "# Eliminar duplicados explícitos\n",
    "df= df.drop_duplicates()"
   ]
  },
  {
   "cell_type": "markdown",
   "metadata": {
    "id": "Im2YwBEG_Zct"
   },
   "source": [
    "Comprobemos ahora si eliminamos con éxito todos los duplicados. Cuenta los duplicados explícitos una vez más para asegurarte de haberlos eliminado todos:"
   ]
  },
  {
   "cell_type": "code",
   "execution_count": 15,
   "metadata": {
    "id": "-8PuNWQ0_Zct"
   },
   "outputs": [
    {
     "data": {
      "text/plain": [
       "0"
      ]
     },
     "execution_count": 15,
     "metadata": {},
     "output_type": "execute_result"
    }
   ],
   "source": [
    "df.duplicated().sum()# Comprobar de nuevo si hay duplicados"
   ]
  },
  {
   "cell_type": "markdown",
   "metadata": {
    "id": "QlFBsxAr_Zct"
   },
   "source": [
    "Ahora queremos deshacernos de los duplicados implícitos en la columna `genre`. Por ejemplo, el nombre de un género se puede escribir de varias formas. Dichos errores también pueden afectar al resultado."
   ]
  },
  {
   "cell_type": "markdown",
   "metadata": {
    "id": "eSjWwsOh_Zct"
   },
   "source": [
    "Para hacerlo, primero mostremos una lista de nombres de género únicos, ordenados en orden alfabético. Para ello:\n",
    "* Extrae la columna `genre` del DataFrame.\n",
    "* Llama al método que devolverá todos los valores únicos en la columna extraída.\n"
   ]
  },
  {
   "cell_type": "code",
   "execution_count": 16,
   "metadata": {
    "id": "JIUcqzZN_Zct"
   },
   "outputs": [
    {
     "data": {
      "text/plain": [
       "array(['acid', 'acoustic', 'action', 'adult', 'africa', 'afrikaans',\n",
       "       'alternative', 'ambient', 'americana', 'animated', 'anime',\n",
       "       'arabesk', 'arabic', 'arena', 'argentinetango', 'art', 'audiobook',\n",
       "       'avantgarde', 'axé', 'baile', 'balkan', 'beats', 'bigroom',\n",
       "       'black', 'bluegrass', 'blues', 'bollywood', 'bossa', 'brazilian',\n",
       "       'breakbeat', 'breaks', 'broadway', 'cantautori', 'cantopop',\n",
       "       'canzone', 'caribbean', 'caucasian', 'celtic', 'chamber',\n",
       "       'children', 'chill', 'chinese', 'choral', 'christian', 'christmas',\n",
       "       'classical', 'classicmetal', 'club', 'colombian', 'comedy',\n",
       "       'conjazz', 'contemporary', 'country', 'cuban', 'dance',\n",
       "       'dancehall', 'dancepop', 'dark', 'death', 'deep', 'deutschrock',\n",
       "       'deutschspr', 'dirty', 'disco', 'dnb', 'documentary', 'downbeat',\n",
       "       'downtempo', 'drum', 'dub', 'dubstep', 'eastern', 'easy',\n",
       "       'electronic', 'electropop', 'emo', 'entehno', 'epicmetal',\n",
       "       'estrada', 'ethnic', 'eurofolk', 'european', 'experimental',\n",
       "       'extrememetal', 'fado', 'film', 'fitness', 'flamenco', 'folk',\n",
       "       'folklore', 'folkmetal', 'folkrock', 'folktronica', 'forró',\n",
       "       'frankreich', 'französisch', 'french', 'funk', 'future', 'gangsta',\n",
       "       'garage', 'german', 'ghazal', 'gitarre', 'glitch', 'gospel',\n",
       "       'gothic', 'grime', 'grunge', 'gypsy', 'handsup', \"hard'n'heavy\",\n",
       "       'hardcore', 'hardstyle', 'hardtechno', 'hip', 'hip-hop', 'hiphop',\n",
       "       'historisch', 'holiday', 'hop', 'horror', 'house', 'idm',\n",
       "       'independent', 'indian', 'indie', 'indipop', 'industrial',\n",
       "       'inspirational', 'instrumental', 'international', 'irish', 'jam',\n",
       "       'japanese', 'jazz', 'jewish', 'jpop', 'jungle', 'k-pop',\n",
       "       'karadeniz', 'karaoke', 'kayokyoku', 'korean', 'laiko', 'latin',\n",
       "       'latino', 'leftfield', 'local', 'lounge', 'loungeelectronic',\n",
       "       'lovers', 'malaysian', 'mandopop', 'marschmusik', 'meditative',\n",
       "       'mediterranean', 'melodic', 'metal', 'metalcore', 'mexican',\n",
       "       'middle', 'minimal', 'miscellaneous', 'modern', 'mood', 'mpb',\n",
       "       'muslim', 'native', 'neoklassik', 'neue', 'new', 'newage',\n",
       "       'newwave', 'nu', 'nujazz', 'numetal', 'oceania', 'old', 'opera',\n",
       "       'orchestral', 'other', 'piano', 'pop', 'popelectronic',\n",
       "       'popeurodance', 'post', 'posthardcore', 'postrock', 'power',\n",
       "       'progmetal', 'progressive', 'psychedelic', 'punjabi', 'punk',\n",
       "       'quebecois', 'ragga', 'ram', 'rancheras', 'rap', 'rave', 'reggae',\n",
       "       'reggaeton', 'regional', 'relax', 'religious', 'retro', 'rhythm',\n",
       "       'rnb', 'rnr', 'rock', 'rockabilly', 'romance', 'roots', 'ruspop',\n",
       "       'rusrap', 'rusrock', 'salsa', 'samba', 'schlager', 'self',\n",
       "       'sertanejo', 'shoegazing', 'showtunes', 'singer', 'ska', 'slow',\n",
       "       'smooth', 'soul', 'soulful', 'sound', 'soundtrack', 'southern',\n",
       "       'specialty', 'speech', 'spiritual', 'sport', 'stonerrock', 'surf',\n",
       "       'swing', 'synthpop', 'sängerportrait', 'tango', 'tanzorchester',\n",
       "       'taraftar', 'tech', 'techno', 'thrash', 'top', 'traditional',\n",
       "       'tradjazz', 'trance', 'tribal', 'trip', 'triphop', 'tropical',\n",
       "       'türk', 'türkçe', 'unknown', 'urban', 'uzbek', 'variété', 'vi',\n",
       "       'videogame', 'vocal', 'western', 'world', 'worldbeat', 'ïîï'],\n",
       "      dtype=object)"
      ]
     },
     "execution_count": 16,
     "metadata": {},
     "output_type": "execute_result"
    }
   ],
   "source": [
    "df['genre'].sort_values().unique()# Inspeccionar los nombres de géneros únicos\n"
   ]
  },
  {
   "cell_type": "markdown",
   "metadata": {
    "id": "qej-Qmuo_Zct"
   },
   "source": [
    "Busca en la lista para encontrar duplicados implícitos del género `hiphop`. Estos pueden ser nombres escritos incorrectamente o nombres alternativos para el mismo género.\n",
    "\n",
    "Verás los siguientes duplicados implícitos:\n",
    "* `hip`\n",
    "* `hop`\n",
    "* `hip-hop`\n",
    "\n",
    "Para deshacerte de ellos, crea una función llamada `replace_wrong_genres()` con dos parámetros:\n",
    "* `wrong_genres=`: esta es una lista que contiene todos los valores que necesitas reemplazar.\n",
    "* `correct_genre=`: este es un string que vas a utilizar como reemplazo.\n",
    "\n",
    "Como resultado, la función debería corregir los nombres en la columna `'genre'` de la tabla `df`, es decir, remplazar cada valor de la lista `wrong_genres` por el valor en `correct_genre`.\n",
    "\n",
    "Dentro del cuerpo de la función, utiliza un bucle `'for'` para iterar sobre la lista de géneros incorrectos, extrae la columna `'genre'` y aplica el método `replace` para hacer correcciones."
   ]
  },
  {
   "cell_type": "code",
   "execution_count": 47,
   "metadata": {
    "id": "ErNDkmns_Zct"
   },
   "outputs": [],
   "source": [
    "def replace_wrong_genres(df,wrong_genres,correct_genre):\n",
    "    for colum in wrong_genres:\n",
    "        df['genre'].replace(colum,correct_genre,inplace = True)\n",
    "        \n",
    "\n",
    "# Función para reemplazar duplicados implícitos"
   ]
  },
  {
   "cell_type": "markdown",
   "metadata": {
    "id": "aDoBJxbA_Zct"
   },
   "source": [
    "Ahora, llama a `replace_wrong_genres()` y pásale tales argumentos para que retire los duplicados implícitos (`hip`, `hop` y `hip-hop`) y los reemplace por `hiphop`:"
   ]
  },
  {
   "cell_type": "code",
   "execution_count": 48,
   "metadata": {
    "id": "YN5i2hpmSo09"
   },
   "outputs": [],
   "source": [
    " replace_wrong_genres(df,['hip','hop','hip-hop'],'hiphop')# Eliminar duplicados implícitos\n"
   ]
  },
  {
   "cell_type": "markdown",
   "metadata": {
    "id": "zQKF16_RG15m"
   },
   "source": [
    "Asegúrate de que los nombres duplicados han sido eliminados. Muestra la lista de valores únicos de la columna `'genre'` una vez más:"
   ]
  },
  {
   "cell_type": "code",
   "execution_count": 50,
   "metadata": {
    "id": "wvixALnFG15m"
   },
   "outputs": [
    {
     "name": "stdout",
     "output_type": "stream",
     "text": [
      "['acid' 'acoustic' 'action' 'adult' 'africa' 'afrikaans' 'alternative'\n",
      " 'ambient' 'americana' 'animated' 'anime' 'arabesk' 'arabic' 'arena'\n",
      " 'argentinetango' 'art' 'audiobook' 'avantgarde' 'axé' 'baile' 'balkan'\n",
      " 'beats' 'bigroom' 'black' 'bluegrass' 'blues' 'bollywood' 'bossa'\n",
      " 'brazilian' 'breakbeat' 'breaks' 'broadway' 'cantautori' 'cantopop'\n",
      " 'canzone' 'caribbean' 'caucasian' 'celtic' 'chamber' 'children' 'chill'\n",
      " 'chinese' 'choral' 'christian' 'christmas' 'classical' 'classicmetal'\n",
      " 'club' 'colombian' 'comedy' 'conjazz' 'contemporary' 'country' 'cuban'\n",
      " 'dance' 'dancehall' 'dancepop' 'dark' 'death' 'deep' 'deutschrock'\n",
      " 'deutschspr' 'dirty' 'disco' 'dnb' 'documentary' 'downbeat' 'downtempo'\n",
      " 'drum' 'dub' 'dubstep' 'eastern' 'easy' 'electronic' 'electropop' 'emo'\n",
      " 'entehno' 'epicmetal' 'estrada' 'ethnic' 'eurofolk' 'european'\n",
      " 'experimental' 'extrememetal' 'fado' 'film' 'fitness' 'flamenco' 'folk'\n",
      " 'folklore' 'folkmetal' 'folkrock' 'folktronica' 'forró' 'frankreich'\n",
      " 'französisch' 'french' 'funk' 'future' 'gangsta' 'garage' 'german'\n",
      " 'ghazal' 'gitarre' 'glitch' 'gospel' 'gothic' 'grime' 'grunge' 'gypsy'\n",
      " 'handsup' \"hard'n'heavy\" 'hardcore' 'hardstyle' 'hardtechno' 'hiphop'\n",
      " 'historisch' 'holiday' 'horror' 'house' 'idm' 'independent' 'indian'\n",
      " 'indie' 'indipop' 'industrial' 'inspirational' 'instrumental'\n",
      " 'international' 'irish' 'jam' 'japanese' 'jazz' 'jewish' 'jpop' 'jungle'\n",
      " 'k-pop' 'karadeniz' 'karaoke' 'kayokyoku' 'korean' 'laiko' 'latin'\n",
      " 'latino' 'leftfield' 'local' 'lounge' 'loungeelectronic' 'lovers'\n",
      " 'malaysian' 'mandopop' 'marschmusik' 'meditative' 'mediterranean'\n",
      " 'melodic' 'metal' 'metalcore' 'mexican' 'middle' 'minimal'\n",
      " 'miscellaneous' 'modern' 'mood' 'mpb' 'muslim' 'native' 'neoklassik'\n",
      " 'neue' 'new' 'newage' 'newwave' 'nu' 'nujazz' 'numetal' 'oceania' 'old'\n",
      " 'opera' 'orchestral' 'other' 'piano' 'pop' 'popelectronic' 'popeurodance'\n",
      " 'post' 'posthardcore' 'postrock' 'power' 'progmetal' 'progressive'\n",
      " 'psychedelic' 'punjabi' 'punk' 'quebecois' 'ragga' 'ram' 'rancheras'\n",
      " 'rap' 'rave' 'reggae' 'reggaeton' 'regional' 'relax' 'religious' 'retro'\n",
      " 'rhythm' 'rnb' 'rnr' 'rock' 'rockabilly' 'romance' 'roots' 'ruspop'\n",
      " 'rusrap' 'rusrock' 'salsa' 'samba' 'schlager' 'self' 'sertanejo'\n",
      " 'shoegazing' 'showtunes' 'singer' 'ska' 'slow' 'smooth' 'soul' 'soulful'\n",
      " 'sound' 'soundtrack' 'southern' 'specialty' 'speech' 'spiritual' 'sport'\n",
      " 'stonerrock' 'surf' 'swing' 'synthpop' 'sängerportrait' 'tango'\n",
      " 'tanzorchester' 'taraftar' 'tech' 'techno' 'thrash' 'top' 'traditional'\n",
      " 'tradjazz' 'trance' 'tribal' 'trip' 'triphop' 'tropical' 'türk' 'türkçe'\n",
      " 'unknown' 'urban' 'uzbek' 'variété' 'vi' 'videogame' 'vocal' 'western'\n",
      " 'world' 'worldbeat' 'ïîï']\n"
     ]
    }
   ],
   "source": [
    "# Comprobación de duplicados implícitos\n",
    "print(df['genre'].sort_values().unique())"
   ]
  },
  {
   "cell_type": "markdown",
   "metadata": {
    "id": "ALgNbvF3VtPA"
   },
   "source": [
    "[Volver a Contenidos](#back)"
   ]
  },
  {
   "cell_type": "markdown",
   "metadata": {},
   "source": [
    "<div class=\"alert alert-block alert-success\">\n",
    "<b>Comentario del revisor</b> <a class=\"tocSkip\"></a>\n",
    "\n",
    "Te felicito por haber eliminado los duplicados! Es una parte fundamental del análisis de datos!\n",
    "</div>\n"
   ]
  },
  {
   "cell_type": "markdown",
   "metadata": {
    "id": "jz6a9-7HQUDd"
   },
   "source": [
    "### Tus observaciones <a id='data_preprocessing_conclusions'></a>\n",
    "\n",
    "`Describe brevemente lo que has notado al analizar duplicados, cómo abordaste sus eliminaciones y qué resultados obtuviste.`\n",
    "Realizamos las correcciónes de los nombres de las columnas en la primera parte. Tambien nos dimos cuenta que había valores ausentes o nulos y porocedimos a llenarlos con \"unknown\" para los valores que no aparcen en el dataframe. Posteriormente nos dimos cuenta que la base de datos contenia erres en los nombres de del genero hiphop y se reemplazaron todos homogeneamente para su analisis."
   ]
  },
  {
   "cell_type": "markdown",
   "metadata": {
    "id": "eK1es74rVujj"
   },
   "source": [
    "[Volver a Contenidos](#back)"
   ]
  },
  {
   "cell_type": "markdown",
   "metadata": {
    "id": "WttZHXH0SqKk"
   },
   "source": [
    "## Etapa 3. Prueba de hipótesis <a id='hypothesis'></a>"
   ]
  },
  {
   "cell_type": "markdown",
   "metadata": {
    "id": "Im936VVi_Zcu"
   },
   "source": [
    "### Hipótesis: comparar el comportamiento del usuario o la usuaria en las dos ciudades <a id='activity'></a>"
   ]
  },
  {
   "cell_type": "markdown",
   "metadata": {
    "id": "nwt_MuaL_Zcu"
   },
   "source": [
    "La hipótesis afirma que existen diferencias en la forma en que los usuarios y las usuarias de Springfield y Shelbyville consumen música. Para comprobar esto, usa los datos de tres días de la semana: lunes, miércoles y viernes.\n",
    "\n",
    "* Agrupa a los usuarios y las usuarias por ciudad.\n",
    "* Compara el número de canciones que cada grupo reprodujo el lunes, el miércoles y el viernes.\n"
   ]
  },
  {
   "cell_type": "markdown",
   "metadata": {
    "id": "8Dw_YMmT_Zcu"
   },
   "source": [
    "Realiza cada cálculo por separado.\n",
    "\n",
    "El primer paso es evaluar la actividad del usuario en cada ciudad. Recuerda las etapas dividir-aplicar-combinar de las que hablamos anteriormente en la lección. Tu objetivo ahora es agrupar los datos por ciudad, aplicar el método apropiado para contar durante la etapa de aplicación y luego encontrar la cantidad de canciones reproducidas en cada grupo especificando la columna para obtener el recuento.\n",
    "\n",
    "A continuación se muestra un ejemplo de cómo debería verse el resultado final:\n",
    "`df.groupby(by='....')['column'].method()`Realiza cada cálculo por separado.\n",
    "\n",
    "Para evaluar la actividad de los usuarios y las usuarias en cada ciudad, agrupa los datos por ciudad y encuentra la cantidad de canciones reproducidas en cada grupo.\n",
    "\n"
   ]
  },
  {
   "cell_type": "code",
   "execution_count": 51,
   "metadata": {
    "id": "0_Qs96oh_Zcu"
   },
   "outputs": [
    {
     "data": {
      "text/plain": [
       "city\n",
       "Shelbyville    18512\n",
       "Springfield    42741\n",
       "Name: track, dtype: int64"
      ]
     },
     "execution_count": 51,
     "metadata": {},
     "output_type": "execute_result"
    }
   ],
   "source": [
    "df.groupby('city')['track'].count()\n",
    "# Contar las canciones reproducidas en cada ciudad\n"
   ]
  },
  {
   "cell_type": "markdown",
   "metadata": {
    "id": "t_Qx-3NewAnK"
   },
   "source": [
    "`Comenta tus observaciones aquí` La ciudad de Springfield reproduce más del doble de canciones que Shelbyville."
   ]
  },
  {
   "cell_type": "markdown",
   "metadata": {
    "id": "dzli3w8o_Zcu"
   },
   "source": [
    "Ahora agrupemos los datos por día de la semana y encontremos el número de canciones reproducidas el lunes, miércoles y viernes. Utiliza el mismo método que antes, pero ahora necesitamos una agrupación diferente.\n"
   ]
  },
  {
   "cell_type": "code",
   "execution_count": 62,
   "metadata": {
    "id": "uZMKjiJz_Zcu"
   },
   "outputs": [
    {
     "data": {
      "text/plain": [
       "day\n",
       "Friday       21840\n",
       "Monday       21354\n",
       "Wednesday    18059\n",
       "Name: track, dtype: int64"
      ]
     },
     "execution_count": 62,
     "metadata": {},
     "output_type": "execute_result"
    }
   ],
   "source": [
    "df.groupby('day')['track'].count()# Calcular las canciones reproducidas en cada uno de los tres días\n"
   ]
  },
  {
   "cell_type": "markdown",
   "metadata": {},
   "source": [
    "\n",
    "<div class=\"alert alert-block alert-success\">\n",
    "<b>Comentario del revisor</b> <a class=\"tocSkip\"></a>\n",
    "\n",
    "Gran trabajo utilizando `groupby()`!</div>\n",
    "\n"
   ]
  },
  {
   "cell_type": "markdown",
   "metadata": {
    "id": "cC2tNrlL_Zcu"
   },
   "source": [
    "`Comenta tus observaciones aquí`Nos dimos cuenta que el día que se reproduce más musica en el día Viernes. "
   ]
  },
  {
   "cell_type": "markdown",
   "metadata": {
    "id": "POzs8bGa_Zcu"
   },
   "source": [
    "Ya sabes cómo contar entradas agrupándolas por ciudad o día. Ahora necesitas escribir una función que pueda contar entradas según ambos criterios simultáneamente.\n",
    "\n",
    "Crea la función `number_tracks()` para calcular el número de canciones reproducidas en un determinado día **y** ciudad. La función debe aceptar dos parámetros:\n",
    "\n",
    "- `day`: un día de la semana para filtrar. Por ejemplo, `'Monday'` (lunes).\n",
    "- `city`: una ciudad para filtrar. Por ejemplo, `'Springfield'`.\n",
    "\n",
    "Dentro de la función, aplicarás un filtrado consecutivo con indexación lógica.\n",
    "\n",
    "Primero filtra los datos por día y luego filtra la tabla resultante por ciudad.\n",
    "\n",
    "Después de filtrar los datos por dos criterios, cuenta el número de valores de la columna 'user_id' en la tabla resultante. Este recuento representa el número de entradas que estás buscando. Guarda el resultado en una nueva variable y devuélvelo desde la función."
   ]
  },
  {
   "cell_type": "code",
   "execution_count": 65,
   "metadata": {
    "id": "Nz3GdQB1_Zcu"
   },
   "outputs": [],
   "source": [
    "def number_tracks(df, city, day ):\n",
    "# Declara la función number_tracks() con dos parámetros: day= y city=.    \n",
    "    df_day = df[df['day'] == day]\n",
    "# Almacena las filas del DataFrame donde el valor en la columna 'day' es igual al parámetro day=\n",
    "    df_city = df_day[df_day['city'] == city ]\n",
    "    # Filtra las filas donde el valor en la columna 'city' es igual al parámetro city=\n",
    "    result = df_city['user_id'].count()\n",
    "    # Extrae la columna 'user_id' de la tabla filtrada y aplica el método count()\n",
    "    return result  # Devolve el número de valores de la columna 'user_id'"
   ]
  },
  {
   "cell_type": "markdown",
   "metadata": {
    "id": "ytf7xFrFJQ2r"
   },
   "source": [
    "Llama a `number_tracks()` seis veces, cambiando los valores de los parámetros para que recuperes los datos de ambas ciudades para cada uno de los tres días."
   ]
  },
  {
   "cell_type": "code",
   "execution_count": 66,
   "metadata": {
    "id": "rJcRATNQ_Zcu"
   },
   "outputs": [
    {
     "data": {
      "text/plain": [
       "15740"
      ]
     },
     "execution_count": 66,
     "metadata": {},
     "output_type": "execute_result"
    }
   ],
   "source": [
    "number_tracks(df,'Springfield','Monday')# El número de canciones reproducidas en Springfield el lunes\n"
   ]
  },
  {
   "cell_type": "code",
   "execution_count": 67,
   "metadata": {
    "id": "hq_ncZ5T_Zcu"
   },
   "outputs": [
    {
     "data": {
      "text/plain": [
       "5614"
      ]
     },
     "execution_count": 67,
     "metadata": {},
     "output_type": "execute_result"
    }
   ],
   "source": [
    "# El número de canciones reproducidas en Shelbyville el lunes\n",
    "number_tracks(df,'Shelbyville','Monday')"
   ]
  },
  {
   "cell_type": "code",
   "execution_count": 68,
   "metadata": {
    "id": "_NTy2VPU_Zcu"
   },
   "outputs": [
    {
     "data": {
      "text/plain": [
       "11056"
      ]
     },
     "execution_count": 68,
     "metadata": {},
     "output_type": "execute_result"
    }
   ],
   "source": [
    "# El número de canciones reproducidas en Springfield el miércoles\n",
    "number_tracks(df,'Springfield','Wednesday')"
   ]
  },
  {
   "cell_type": "code",
   "execution_count": 69,
   "metadata": {
    "id": "j2y3TAwo_Zcu"
   },
   "outputs": [
    {
     "data": {
      "text/plain": [
       "7003"
      ]
     },
     "execution_count": 69,
     "metadata": {},
     "output_type": "execute_result"
    }
   ],
   "source": [
    "# El número de canciones reproducidas en Shelbyville el miércoles\n",
    "number_tracks(df,'Shelbyville','Wednesday')"
   ]
  },
  {
   "cell_type": "code",
   "execution_count": 70,
   "metadata": {
    "id": "vYDw5u_K_Zcu"
   },
   "outputs": [
    {
     "data": {
      "text/plain": [
       "15945"
      ]
     },
     "execution_count": 70,
     "metadata": {},
     "output_type": "execute_result"
    }
   ],
   "source": [
    "# El número de canciones reproducidas en Springfield el viernes\n",
    "number_tracks(df,'Springfield','Friday')"
   ]
  },
  {
   "cell_type": "code",
   "execution_count": 72,
   "metadata": {
    "id": "8_yzFtW3_Zcu"
   },
   "outputs": [
    {
     "data": {
      "text/plain": [
       "5895"
      ]
     },
     "execution_count": 72,
     "metadata": {},
     "output_type": "execute_result"
    }
   ],
   "source": [
    "# El número de canciones reproducidas en Shelbyville el viernes\n",
    "number_tracks(df,'Shelbyville','Friday')"
   ]
  },
  {
   "cell_type": "markdown",
   "metadata": {
    "id": "-EgPIHYu_Zcu"
   },
   "source": [
    "**Conclusiones**\n",
    "\n",
    "`Comenta si la hipótesis es correcta o se debe rechazar. Explica tu razonamiento.` Se acepta la hipotesis, difiere tanto el día como la ciudad la cantidad de canciones reporducidas. "
   ]
  },
  {
   "cell_type": "markdown",
   "metadata": {},
   "source": [
    "\n",
    "<div class=\"alert alert-block alert-success\">\n",
    "<b>Comentario del revisor</b> <a class=\"tocSkip\"></a>\n",
    "\n",
    "Grandísimo trabajo con el análisis de hipótesis. Felicitaciones!</div>\n"
   ]
  },
  {
   "cell_type": "markdown",
   "metadata": {
    "id": "p7nFQajCVw5B"
   },
   "source": [
    "[Volver a Contenidos](#back)"
   ]
  },
  {
   "cell_type": "markdown",
   "metadata": {
    "id": "ykKQ0N65_Zcv"
   },
   "source": [
    "# Conclusiones <a id='end'></a>"
   ]
  },
  {
   "cell_type": "markdown",
   "metadata": {
    "id": "tjUwbHb3_Zcv"
   },
   "source": [
    "`Resume aquí tus conclusiones sobre la hipótesis.`\n",
    "Dado que hay el doble de ususarios que escuchan musica en Springfield, tenemos que el viernes y lunes son los días que más canciones escuchan. El Mircoles podemos ver como en Shelbyville hay un incremento en las reproducciónes a comparación de Springfield que es el día que menos canciones escuchan."
   ]
  },
  {
   "cell_type": "markdown",
   "metadata": {
    "id": "azLHu64yOIp7"
   },
   "source": [
    "### Nota\n",
    "En proyectos de investigación reales, la prueba de hipótesis estadística es más precisa y cuantitativa. También ten en cuenta que no siempre se pueden sacar conclusiones sobre una ciudad entera a partir de datos de una sola fuente.\n",
    "\n",
    "Aprenderás más sobre la prueba de hipótesis en el sprint de análisis estadístico de datos."
   ]
  },
  {
   "cell_type": "markdown",
   "metadata": {},
   "source": [
    "\n",
    "<div class=\"alert alert-block alert-success\">\n",
    "<b>Comentario del revisor</b> <a class=\"tocSkip\"></a>\n",
    "\n",
    "Felicitaciones por el excelente trabajo que hiciste durante todo el sprint!</div>\n",
    "\n",
    "\n"
   ]
  },
  {
   "cell_type": "markdown",
   "metadata": {
    "id": "Ju4AHDSgV1FE"
   },
   "source": [
    "[Volver a Contenidos](#back)"
   ]
  }
 ],
 "metadata": {
  "ExecuteTimeLog": [
   {
    "duration": 161,
    "start_time": "2024-09-21T22:11:15.288Z"
   },
   {
    "duration": 327,
    "start_time": "2024-09-21T22:11:47.409Z"
   },
   {
    "duration": 113,
    "start_time": "2024-09-21T22:11:53.646Z"
   },
   {
    "duration": 7,
    "start_time": "2024-09-21T22:12:17.276Z"
   },
   {
    "duration": 170,
    "start_time": "2024-09-21T23:49:24.031Z"
   },
   {
    "duration": 13,
    "start_time": "2024-09-21T23:49:39.616Z"
   },
   {
    "duration": 302,
    "start_time": "2024-09-21T23:49:51.909Z"
   },
   {
    "duration": 120,
    "start_time": "2024-09-21T23:49:54.891Z"
   },
   {
    "duration": 8,
    "start_time": "2024-09-21T23:49:57.406Z"
   },
   {
    "duration": 21,
    "start_time": "2024-09-21T23:50:00.558Z"
   },
   {
    "duration": 3,
    "start_time": "2024-09-22T00:13:56.414Z"
   },
   {
    "duration": 4,
    "start_time": "2024-09-22T00:20:04.141Z"
   },
   {
    "duration": 4,
    "start_time": "2024-09-22T00:24:39.593Z"
   },
   {
    "duration": 3,
    "start_time": "2024-09-22T00:24:51.313Z"
   },
   {
    "duration": 3,
    "start_time": "2024-09-22T00:25:09.713Z"
   },
   {
    "duration": 3,
    "start_time": "2024-09-22T00:25:29.377Z"
   },
   {
    "duration": 2,
    "start_time": "2024-09-22T00:25:36.013Z"
   },
   {
    "duration": 387,
    "start_time": "2024-09-22T00:25:41.523Z"
   },
   {
    "duration": 28,
    "start_time": "2024-09-22T00:25:56.615Z"
   },
   {
    "duration": 30,
    "start_time": "2024-09-22T00:26:10.394Z"
   },
   {
    "duration": 26,
    "start_time": "2024-09-22T00:26:55.169Z"
   },
   {
    "duration": 3,
    "start_time": "2024-09-22T00:27:01.614Z"
   },
   {
    "duration": 2,
    "start_time": "2024-09-22T00:27:04.099Z"
   },
   {
    "duration": 2,
    "start_time": "2024-09-22T00:27:06.224Z"
   },
   {
    "duration": 26,
    "start_time": "2024-09-22T00:27:09.919Z"
   },
   {
    "duration": 4,
    "start_time": "2024-09-22T00:28:35.130Z"
   },
   {
    "duration": 3,
    "start_time": "2024-09-22T00:28:48.949Z"
   },
   {
    "duration": 4,
    "start_time": "2024-09-22T00:30:38.954Z"
   },
   {
    "duration": 3,
    "start_time": "2024-09-22T00:33:41.129Z"
   },
   {
    "duration": 2,
    "start_time": "2024-09-22T00:34:52.646Z"
   },
   {
    "duration": 2,
    "start_time": "2024-09-22T00:34:58.025Z"
   },
   {
    "duration": 2,
    "start_time": "2024-09-22T00:35:04.834Z"
   },
   {
    "duration": 4,
    "start_time": "2024-09-22T00:35:52.439Z"
   },
   {
    "duration": 3,
    "start_time": "2024-09-22T00:36:02.944Z"
   },
   {
    "duration": 94,
    "start_time": "2024-09-22T00:36:05.141Z"
   },
   {
    "duration": 5,
    "start_time": "2024-09-22T00:36:07.349Z"
   },
   {
    "duration": 20,
    "start_time": "2024-09-22T00:36:12.947Z"
   },
   {
    "duration": 3,
    "start_time": "2024-09-22T00:36:18.714Z"
   },
   {
    "duration": 3,
    "start_time": "2024-09-22T00:38:18.813Z"
   },
   {
    "duration": 30,
    "start_time": "2024-09-22T00:40:13.617Z"
   },
   {
    "duration": 36,
    "start_time": "2024-09-22T00:40:49.185Z"
   },
   {
    "duration": 4,
    "start_time": "2024-09-22T00:41:08.763Z"
   },
   {
    "duration": 6,
    "start_time": "2024-09-22T00:43:51.534Z"
   },
   {
    "duration": 3,
    "start_time": "2024-09-22T00:43:59.820Z"
   },
   {
    "duration": 2,
    "start_time": "2024-09-22T00:44:25.598Z"
   },
   {
    "duration": 21,
    "start_time": "2024-09-22T00:46:10.938Z"
   },
   {
    "duration": 3,
    "start_time": "2024-09-22T01:27:52.286Z"
   },
   {
    "duration": 455,
    "start_time": "2024-09-22T01:28:01.202Z"
   },
   {
    "duration": 37,
    "start_time": "2024-09-22T01:28:58.962Z"
   },
   {
    "duration": 39,
    "start_time": "2024-09-22T01:29:01.740Z"
   },
   {
    "duration": 2,
    "start_time": "2024-09-22T01:29:10.719Z"
   },
   {
    "duration": 90,
    "start_time": "2024-09-22T01:29:10.724Z"
   },
   {
    "duration": 7,
    "start_time": "2024-09-22T01:29:10.816Z"
   },
   {
    "duration": 21,
    "start_time": "2024-09-22T01:29:10.825Z"
   },
   {
    "duration": 2,
    "start_time": "2024-09-22T01:29:10.849Z"
   },
   {
    "duration": 4,
    "start_time": "2024-09-22T01:29:10.853Z"
   },
   {
    "duration": 4,
    "start_time": "2024-09-22T01:29:10.859Z"
   },
   {
    "duration": 4,
    "start_time": "2024-09-22T01:29:10.864Z"
   },
   {
    "duration": 4,
    "start_time": "2024-09-22T01:29:10.904Z"
   },
   {
    "duration": 18,
    "start_time": "2024-09-22T01:29:10.909Z"
   },
   {
    "duration": 37,
    "start_time": "2024-09-22T01:29:10.929Z"
   },
   {
    "duration": 0,
    "start_time": "2024-09-22T01:29:10.969Z"
   },
   {
    "duration": 0,
    "start_time": "2024-09-22T01:29:10.971Z"
   },
   {
    "duration": 0,
    "start_time": "2024-09-22T01:29:10.972Z"
   },
   {
    "duration": 0,
    "start_time": "2024-09-22T01:29:10.973Z"
   },
   {
    "duration": 0,
    "start_time": "2024-09-22T01:29:11.005Z"
   },
   {
    "duration": 0,
    "start_time": "2024-09-22T01:29:11.006Z"
   },
   {
    "duration": 0,
    "start_time": "2024-09-22T01:29:11.007Z"
   },
   {
    "duration": 0,
    "start_time": "2024-09-22T01:29:11.008Z"
   },
   {
    "duration": 0,
    "start_time": "2024-09-22T01:29:11.009Z"
   },
   {
    "duration": 0,
    "start_time": "2024-09-22T01:29:11.010Z"
   },
   {
    "duration": 0,
    "start_time": "2024-09-22T01:29:11.011Z"
   },
   {
    "duration": 0,
    "start_time": "2024-09-22T01:29:11.013Z"
   },
   {
    "duration": 0,
    "start_time": "2024-09-22T01:29:11.014Z"
   },
   {
    "duration": 0,
    "start_time": "2024-09-22T01:29:11.015Z"
   },
   {
    "duration": 0,
    "start_time": "2024-09-22T01:29:11.017Z"
   },
   {
    "duration": 0,
    "start_time": "2024-09-22T01:29:11.018Z"
   },
   {
    "duration": 0,
    "start_time": "2024-09-22T01:29:11.021Z"
   },
   {
    "duration": 39,
    "start_time": "2024-09-22T01:29:16.911Z"
   },
   {
    "duration": 18,
    "start_time": "2024-09-22T01:29:23.517Z"
   },
   {
    "duration": 37,
    "start_time": "2024-09-22T01:29:36.869Z"
   },
   {
    "duration": 4,
    "start_time": "2024-09-22T01:29:53.395Z"
   },
   {
    "duration": 2,
    "start_time": "2024-09-22T01:29:59.519Z"
   },
   {
    "duration": 91,
    "start_time": "2024-09-22T01:30:01.533Z"
   },
   {
    "duration": 5,
    "start_time": "2024-09-22T01:30:03.713Z"
   },
   {
    "duration": 20,
    "start_time": "2024-09-22T01:30:06.680Z"
   },
   {
    "duration": 3,
    "start_time": "2024-09-22T01:30:11.381Z"
   },
   {
    "duration": 3,
    "start_time": "2024-09-22T01:30:15.073Z"
   },
   {
    "duration": 4,
    "start_time": "2024-09-22T01:30:20.170Z"
   },
   {
    "duration": 3,
    "start_time": "2024-09-22T01:30:23.389Z"
   },
   {
    "duration": 3,
    "start_time": "2024-09-22T01:30:25.316Z"
   },
   {
    "duration": 18,
    "start_time": "2024-09-22T01:30:28.653Z"
   },
   {
    "duration": 3,
    "start_time": "2024-09-22T01:30:51.008Z"
   },
   {
    "duration": 2,
    "start_time": "2024-09-22T01:31:15.551Z"
   },
   {
    "duration": 39,
    "start_time": "2024-09-22T01:36:25.658Z"
   },
   {
    "duration": 14,
    "start_time": "2024-09-22T01:36:45.511Z"
   },
   {
    "duration": 7,
    "start_time": "2024-09-22T01:36:52.694Z"
   },
   {
    "duration": 4,
    "start_time": "2024-09-22T01:40:47.359Z"
   },
   {
    "duration": 29,
    "start_time": "2024-09-22T01:40:56.527Z"
   },
   {
    "duration": 37,
    "start_time": "2024-09-22T01:41:23.891Z"
   },
   {
    "duration": 32,
    "start_time": "2024-09-22T01:42:04.594Z"
   },
   {
    "duration": 26,
    "start_time": "2024-09-22T01:42:48.462Z"
   },
   {
    "duration": 33,
    "start_time": "2024-09-22T01:43:07.125Z"
   },
   {
    "duration": 26,
    "start_time": "2024-09-22T01:45:19.214Z"
   },
   {
    "duration": 43,
    "start_time": "2024-09-22T01:48:12.902Z"
   },
   {
    "duration": 37,
    "start_time": "2024-09-22T01:48:25.278Z"
   },
   {
    "duration": 27,
    "start_time": "2024-09-22T01:49:21.079Z"
   },
   {
    "duration": 338,
    "start_time": "2024-09-22T01:56:44.294Z"
   },
   {
    "duration": 339,
    "start_time": "2024-09-22T01:56:54.736Z"
   },
   {
    "duration": 366,
    "start_time": "2024-09-22T01:57:33.811Z"
   },
   {
    "duration": 27,
    "start_time": "2024-09-22T01:57:46.715Z"
   },
   {
    "duration": 417,
    "start_time": "2024-09-22T01:59:17.951Z"
   },
   {
    "duration": 33,
    "start_time": "2024-09-22T01:59:31.956Z"
   },
   {
    "duration": 26,
    "start_time": "2024-09-22T02:00:01.254Z"
   },
   {
    "duration": 42,
    "start_time": "2024-09-22T02:02:25.145Z"
   },
   {
    "duration": 40,
    "start_time": "2024-09-22T02:02:29.540Z"
   },
   {
    "duration": 32,
    "start_time": "2024-09-22T02:03:41.982Z"
   },
   {
    "duration": 39,
    "start_time": "2024-09-22T02:04:06.136Z"
   },
   {
    "duration": 3,
    "start_time": "2024-09-22T02:04:31.926Z"
   },
   {
    "duration": 50,
    "start_time": "2024-09-22T02:06:18.686Z"
   },
   {
    "duration": 40,
    "start_time": "2024-09-22T02:06:40.369Z"
   },
   {
    "duration": 39,
    "start_time": "2024-09-22T02:06:46.651Z"
   },
   {
    "duration": 47,
    "start_time": "2024-09-22T02:07:15.758Z"
   },
   {
    "duration": 42,
    "start_time": "2024-09-22T02:07:28.210Z"
   },
   {
    "duration": 39,
    "start_time": "2024-09-22T02:07:30.984Z"
   },
   {
    "duration": 7,
    "start_time": "2024-09-22T02:08:49.975Z"
   },
   {
    "duration": 8,
    "start_time": "2024-09-22T02:11:32.297Z"
   },
   {
    "duration": 8,
    "start_time": "2024-09-22T02:12:02.050Z"
   },
   {
    "duration": 7,
    "start_time": "2024-09-22T02:12:10.612Z"
   },
   {
    "duration": 158,
    "start_time": "2024-09-22T06:08:40.059Z"
   },
   {
    "duration": 12,
    "start_time": "2024-09-22T06:09:29.922Z"
   },
   {
    "duration": 304,
    "start_time": "2024-09-22T06:09:38.349Z"
   },
   {
    "duration": 122,
    "start_time": "2024-09-22T06:09:40.357Z"
   },
   {
    "duration": 8,
    "start_time": "2024-09-22T06:09:42.558Z"
   },
   {
    "duration": 23,
    "start_time": "2024-09-22T06:09:47.779Z"
   },
   {
    "duration": 3,
    "start_time": "2024-09-22T06:09:52.140Z"
   },
   {
    "duration": 4,
    "start_time": "2024-09-22T06:09:57.635Z"
   },
   {
    "duration": 4,
    "start_time": "2024-09-22T06:10:01.423Z"
   },
   {
    "duration": 4,
    "start_time": "2024-09-22T06:10:04.012Z"
   },
   {
    "duration": 3,
    "start_time": "2024-09-22T06:10:06.699Z"
   },
   {
    "duration": 21,
    "start_time": "2024-09-22T06:10:10.711Z"
   },
   {
    "duration": 33,
    "start_time": "2024-09-22T06:10:15.448Z"
   },
   {
    "duration": 20,
    "start_time": "2024-09-22T06:10:20.495Z"
   },
   {
    "duration": 46,
    "start_time": "2024-09-22T06:10:23.660Z"
   },
   {
    "duration": 49,
    "start_time": "2024-09-22T06:10:26.002Z"
   },
   {
    "duration": 41,
    "start_time": "2024-09-22T06:10:29.438Z"
   },
   {
    "duration": 32,
    "start_time": "2024-09-22T06:10:42.671Z"
   },
   {
    "duration": 3,
    "start_time": "2024-09-22T06:18:53.935Z"
   },
   {
    "duration": 302,
    "start_time": "2024-09-23T19:57:23.531Z"
   },
   {
    "duration": 121,
    "start_time": "2024-09-23T19:57:26.509Z"
   },
   {
    "duration": 6,
    "start_time": "2024-09-23T19:57:29.086Z"
   },
   {
    "duration": 28,
    "start_time": "2024-09-23T19:57:32.771Z"
   },
   {
    "duration": 3,
    "start_time": "2024-09-23T19:57:36.555Z"
   },
   {
    "duration": 5,
    "start_time": "2024-09-23T19:57:40.990Z"
   },
   {
    "duration": 3,
    "start_time": "2024-09-23T19:57:43.851Z"
   },
   {
    "duration": 3,
    "start_time": "2024-09-23T19:57:46.347Z"
   },
   {
    "duration": 3,
    "start_time": "2024-09-23T19:57:48.542Z"
   },
   {
    "duration": 26,
    "start_time": "2024-09-23T19:57:52.198Z"
   },
   {
    "duration": 30,
    "start_time": "2024-09-23T19:57:58.293Z"
   },
   {
    "duration": 19,
    "start_time": "2024-09-23T19:58:02.830Z"
   },
   {
    "duration": 45,
    "start_time": "2024-09-23T19:58:05.218Z"
   },
   {
    "duration": 45,
    "start_time": "2024-09-23T19:58:08.949Z"
   },
   {
    "duration": 41,
    "start_time": "2024-09-23T19:58:17.851Z"
   },
   {
    "duration": 32,
    "start_time": "2024-09-23T19:58:23.006Z"
   },
   {
    "duration": 3,
    "start_time": "2024-09-23T20:04:46.034Z"
   },
   {
    "duration": 3,
    "start_time": "2024-09-23T20:04:49.529Z"
   },
   {
    "duration": 3,
    "start_time": "2024-09-23T20:04:52.725Z"
   },
   {
    "duration": 29,
    "start_time": "2024-09-23T20:07:58.002Z"
   },
   {
    "duration": 3,
    "start_time": "2024-09-23T20:09:55.153Z"
   },
   {
    "duration": 3,
    "start_time": "2024-09-23T20:09:58.392Z"
   },
   {
    "duration": 29,
    "start_time": "2024-09-23T20:10:00.650Z"
   },
   {
    "duration": 172,
    "start_time": "2024-09-23T20:10:31.010Z"
   },
   {
    "duration": 12,
    "start_time": "2024-09-23T20:10:45.005Z"
   },
   {
    "duration": 2,
    "start_time": "2024-09-23T20:10:54.616Z"
   },
   {
    "duration": 17,
    "start_time": "2024-09-23T20:10:57.654Z"
   },
   {
    "duration": 3,
    "start_time": "2024-09-23T20:11:04.778Z"
   },
   {
    "duration": 3,
    "start_time": "2024-09-23T20:11:24.831Z"
   },
   {
    "duration": 3,
    "start_time": "2024-09-23T20:11:32.563Z"
   },
   {
    "duration": 6,
    "start_time": "2024-09-23T20:11:43.108Z"
   },
   {
    "duration": 30,
    "start_time": "2024-09-23T20:12:12.865Z"
   },
   {
    "duration": 2,
    "start_time": "2024-09-23T20:12:48.303Z"
   },
   {
    "duration": 3,
    "start_time": "2024-09-23T20:13:12.808Z"
   },
   {
    "duration": 3,
    "start_time": "2024-09-23T20:13:16.314Z"
   },
   {
    "duration": 293,
    "start_time": "2024-09-23T20:13:19.180Z"
   },
   {
    "duration": 41,
    "start_time": "2024-09-23T20:13:40.224Z"
   },
   {
    "duration": 42,
    "start_time": "2024-09-23T20:13:43.863Z"
   },
   {
    "duration": 43,
    "start_time": "2024-09-23T20:13:55.479Z"
   },
   {
    "duration": 2,
    "start_time": "2024-09-23T20:14:02.972Z"
   },
   {
    "duration": 45,
    "start_time": "2024-09-23T20:14:06.927Z"
   },
   {
    "duration": 3,
    "start_time": "2024-09-23T20:17:52.084Z"
   },
   {
    "duration": 3,
    "start_time": "2024-09-23T20:18:29.596Z"
   },
   {
    "duration": 38,
    "start_time": "2024-09-23T20:18:34.254Z"
   },
   {
    "duration": 30,
    "start_time": "2024-09-23T20:18:41.542Z"
   },
   {
    "duration": 2,
    "start_time": "2024-09-23T20:18:58.845Z"
   },
   {
    "duration": 3,
    "start_time": "2024-09-23T20:19:01.994Z"
   },
   {
    "duration": 31,
    "start_time": "2024-09-23T20:19:04.634Z"
   },
   {
    "duration": 2,
    "start_time": "2024-09-23T20:22:51.615Z"
   },
   {
    "duration": 5,
    "start_time": "2024-09-23T20:22:55.700Z"
   },
   {
    "duration": 30,
    "start_time": "2024-09-23T20:22:58.389Z"
   },
   {
    "duration": 3,
    "start_time": "2024-09-23T20:24:23.729Z"
   },
   {
    "duration": 46,
    "start_time": "2024-09-23T20:24:26.802Z"
   },
   {
    "duration": 44,
    "start_time": "2024-09-23T20:27:43.975Z"
   },
   {
    "duration": 43,
    "start_time": "2024-09-23T20:31:29.693Z"
   },
   {
    "duration": 3,
    "start_time": "2024-09-23T20:31:55.338Z"
   },
   {
    "duration": 43,
    "start_time": "2024-09-23T20:31:58.390Z"
   },
   {
    "duration": 3,
    "start_time": "2024-09-23T20:32:57.585Z"
   },
   {
    "duration": 3,
    "start_time": "2024-09-23T20:33:00.975Z"
   },
   {
    "duration": 3,
    "start_time": "2024-09-23T20:34:08.126Z"
   },
   {
    "duration": 45,
    "start_time": "2024-09-23T20:34:10.951Z"
   },
   {
    "duration": 3,
    "start_time": "2024-09-23T20:35:02.120Z"
   },
   {
    "duration": 13,
    "start_time": "2024-09-23T20:35:24.016Z"
   },
   {
    "duration": 13,
    "start_time": "2024-09-23T20:35:47.017Z"
   },
   {
    "duration": 3,
    "start_time": "2024-09-23T20:35:58.298Z"
   },
   {
    "duration": 3,
    "start_time": "2024-09-23T20:36:01.352Z"
   },
   {
    "duration": 3,
    "start_time": "2024-09-23T20:36:09.254Z"
   },
   {
    "duration": 4,
    "start_time": "2024-09-23T20:36:11.173Z"
   },
   {
    "duration": 3,
    "start_time": "2024-09-23T20:38:33.816Z"
   },
   {
    "duration": 5,
    "start_time": "2024-09-23T20:41:23.628Z"
   },
   {
    "duration": 4,
    "start_time": "2024-09-23T20:41:33.998Z"
   },
   {
    "duration": 3,
    "start_time": "2024-09-23T20:41:43.467Z"
   },
   {
    "duration": 3,
    "start_time": "2024-09-23T20:41:59.788Z"
   },
   {
    "duration": 12,
    "start_time": "2024-09-23T20:42:04.770Z"
   },
   {
    "duration": 4,
    "start_time": "2024-09-23T20:42:52.970Z"
   },
   {
    "duration": 40,
    "start_time": "2024-09-23T20:43:06.559Z"
   },
   {
    "duration": 43,
    "start_time": "2024-09-23T20:43:15.320Z"
   },
   {
    "duration": 43,
    "start_time": "2024-09-23T20:43:18.059Z"
   },
   {
    "duration": 18,
    "start_time": "2024-09-23T20:45:52.401Z"
   },
   {
    "duration": 38,
    "start_time": "2024-09-23T20:46:10.036Z"
   },
   {
    "duration": 43,
    "start_time": "2024-09-23T20:46:16.498Z"
   },
   {
    "duration": 3,
    "start_time": "2024-09-23T20:46:33.904Z"
   },
   {
    "duration": 43,
    "start_time": "2024-09-23T20:46:37.137Z"
   },
   {
    "duration": 2,
    "start_time": "2024-09-23T20:47:04.608Z"
   },
   {
    "duration": 3,
    "start_time": "2024-09-23T20:47:15.163Z"
   },
   {
    "duration": 46,
    "start_time": "2024-09-23T20:47:18.607Z"
   },
   {
    "duration": 39,
    "start_time": "2024-09-23T20:47:47.057Z"
   },
   {
    "duration": 3,
    "start_time": "2024-09-23T20:48:08.677Z"
   },
   {
    "duration": 44,
    "start_time": "2024-09-23T20:48:14.251Z"
   },
   {
    "duration": 3,
    "start_time": "2024-09-23T20:48:32.965Z"
   },
   {
    "duration": 42,
    "start_time": "2024-09-23T20:48:36.896Z"
   },
   {
    "duration": 44,
    "start_time": "2024-09-23T20:48:42.056Z"
   },
   {
    "duration": 14,
    "start_time": "2024-09-23T20:52:03.004Z"
   },
   {
    "duration": 3,
    "start_time": "2024-09-23T20:52:11.944Z"
   },
   {
    "duration": 45,
    "start_time": "2024-09-23T20:52:17.123Z"
   },
   {
    "duration": 3,
    "start_time": "2024-09-23T20:52:23.719Z"
   },
   {
    "duration": 4,
    "start_time": "2024-09-23T20:52:53.934Z"
   },
   {
    "duration": 43,
    "start_time": "2024-09-23T20:53:02.036Z"
   },
   {
    "duration": 3,
    "start_time": "2024-09-23T20:53:11.177Z"
   },
   {
    "duration": 46,
    "start_time": "2024-09-23T20:53:13.835Z"
   },
   {
    "duration": 3,
    "start_time": "2024-09-23T20:53:51.941Z"
   },
   {
    "duration": 42,
    "start_time": "2024-09-23T20:53:55.875Z"
   },
   {
    "duration": 4,
    "start_time": "2024-09-23T20:54:19.596Z"
   },
   {
    "duration": 3,
    "start_time": "2024-09-23T20:55:28.094Z"
   },
   {
    "duration": 86,
    "start_time": "2024-09-23T20:55:31.099Z"
   },
   {
    "duration": 291,
    "start_time": "2024-09-23T22:46:17.226Z"
   },
   {
    "duration": 118,
    "start_time": "2024-09-23T22:46:19.322Z"
   },
   {
    "duration": 7,
    "start_time": "2024-09-23T22:46:21.755Z"
   },
   {
    "duration": 20,
    "start_time": "2024-09-23T22:46:25.548Z"
   },
   {
    "duration": 6,
    "start_time": "2024-09-23T22:46:28.969Z"
   },
   {
    "duration": 8,
    "start_time": "2024-09-23T22:46:31.735Z"
   },
   {
    "duration": 4,
    "start_time": "2024-09-23T22:46:34.497Z"
   },
   {
    "duration": 4,
    "start_time": "2024-09-23T22:46:36.740Z"
   },
   {
    "duration": 2,
    "start_time": "2024-09-23T22:46:40.200Z"
   },
   {
    "duration": 21,
    "start_time": "2024-09-23T22:46:43.164Z"
   },
   {
    "duration": 30,
    "start_time": "2024-09-23T22:46:48.704Z"
   },
   {
    "duration": 18,
    "start_time": "2024-09-23T22:46:52.124Z"
   },
   {
    "duration": 44,
    "start_time": "2024-09-23T22:46:54.342Z"
   },
   {
    "duration": 47,
    "start_time": "2024-09-23T22:46:56.930Z"
   },
   {
    "duration": 38,
    "start_time": "2024-09-23T22:46:59.169Z"
   },
   {
    "duration": 31,
    "start_time": "2024-09-23T22:47:08.759Z"
   },
   {
    "duration": 3,
    "start_time": "2024-09-23T22:49:33.692Z"
   },
   {
    "duration": 3,
    "start_time": "2024-09-23T22:57:25.171Z"
   },
   {
    "duration": 174,
    "start_time": "2024-09-23T23:08:48.522Z"
   },
   {
    "duration": 116,
    "start_time": "2024-09-23T23:09:06.068Z"
   },
   {
    "duration": 2530,
    "start_time": "2024-09-23T23:09:55.835Z"
   },
   {
    "duration": 6,
    "start_time": "2024-09-23T23:11:29.467Z"
   },
   {
    "duration": 3,
    "start_time": "2024-09-23T23:11:54.654Z"
   },
   {
    "duration": 3,
    "start_time": "2024-09-23T23:12:09.385Z"
   },
   {
    "duration": 21,
    "start_time": "2024-09-23T23:16:15.050Z"
   },
   {
    "duration": 19,
    "start_time": "2024-09-23T23:16:31.494Z"
   },
   {
    "duration": 23,
    "start_time": "2024-09-23T23:16:38.988Z"
   },
   {
    "duration": 24,
    "start_time": "2024-09-23T23:17:23.984Z"
   },
   {
    "duration": 20,
    "start_time": "2024-09-23T23:17:34.842Z"
   },
   {
    "duration": 4,
    "start_time": "2024-09-23T23:24:33.306Z"
   },
   {
    "duration": 338,
    "start_time": "2024-09-23T23:24:47.491Z"
   },
   {
    "duration": 42,
    "start_time": "2024-09-23T23:25:19.640Z"
   },
   {
    "duration": 42,
    "start_time": "2024-09-23T23:25:35.649Z"
   },
   {
    "duration": 40,
    "start_time": "2024-09-23T23:25:53.230Z"
   },
   {
    "duration": 38,
    "start_time": "2024-09-23T23:26:14.190Z"
   },
   {
    "duration": 17,
    "start_time": "2024-09-23T23:26:20.831Z"
   },
   {
    "duration": 20,
    "start_time": "2024-09-23T23:26:31.264Z"
   },
   {
    "duration": 8,
    "start_time": "2024-09-23T23:27:02.874Z"
   },
   {
    "duration": 3,
    "start_time": "2024-09-23T23:28:22.539Z"
   },
   {
    "duration": 3,
    "start_time": "2024-09-23T23:28:32.084Z"
   },
   {
    "duration": 5,
    "start_time": "2024-09-23T23:29:13.620Z"
   },
   {
    "duration": 39,
    "start_time": "2024-09-23T23:29:32.975Z"
   },
   {
    "duration": 42,
    "start_time": "2024-09-23T23:29:35.696Z"
   },
   {
    "duration": 9,
    "start_time": "2024-09-23T23:29:50.937Z"
   },
   {
    "duration": 4,
    "start_time": "2024-09-23T23:44:13.051Z"
   },
   {
    "duration": 4,
    "start_time": "2024-09-23T23:44:31.424Z"
   },
   {
    "duration": 3,
    "start_time": "2024-09-23T23:44:52.100Z"
   },
   {
    "duration": 7,
    "start_time": "2024-09-23T23:46:49.060Z"
   },
   {
    "duration": 14,
    "start_time": "2024-09-23T23:46:53.710Z"
   },
   {
    "duration": 30,
    "start_time": "2024-09-23T23:47:24.192Z"
   },
   {
    "duration": 10,
    "start_time": "2024-09-23T23:53:50.808Z"
   },
   {
    "duration": 9,
    "start_time": "2024-09-23T23:55:26.950Z"
   },
   {
    "duration": 3,
    "start_time": "2024-09-24T00:08:21.738Z"
   },
   {
    "duration": 6,
    "start_time": "2024-09-24T00:09:30.439Z"
   },
   {
    "duration": 3,
    "start_time": "2024-09-24T00:09:58.143Z"
   },
   {
    "duration": 8,
    "start_time": "2024-09-24T00:10:00.200Z"
   },
   {
    "duration": 9,
    "start_time": "2024-09-24T00:10:40.692Z"
   },
   {
    "duration": 7,
    "start_time": "2024-09-24T00:10:56.893Z"
   },
   {
    "duration": 7,
    "start_time": "2024-09-24T00:11:13.294Z"
   },
   {
    "duration": 3,
    "start_time": "2024-09-24T00:12:20.605Z"
   },
   {
    "duration": 8,
    "start_time": "2024-09-24T00:12:24.116Z"
   },
   {
    "duration": 10,
    "start_time": "2024-09-24T00:12:45.312Z"
   },
   {
    "duration": 7,
    "start_time": "2024-09-24T00:13:17.576Z"
   },
   {
    "duration": 3,
    "start_time": "2024-09-24T00:13:26.894Z"
   },
   {
    "duration": 3,
    "start_time": "2024-09-24T00:13:54.143Z"
   },
   {
    "duration": 12,
    "start_time": "2024-09-24T00:13:56.837Z"
   },
   {
    "duration": 13,
    "start_time": "2024-09-24T00:13:59.738Z"
   },
   {
    "duration": 11,
    "start_time": "2024-09-24T00:14:48.140Z"
   },
   {
    "duration": 12,
    "start_time": "2024-09-24T00:14:49.894Z"
   },
   {
    "duration": 13,
    "start_time": "2024-09-24T00:14:51.616Z"
   },
   {
    "duration": 11,
    "start_time": "2024-09-24T00:14:53.713Z"
   },
   {
    "duration": 13,
    "start_time": "2024-09-24T00:15:14.796Z"
   }
  ],
  "colab": {
   "collapsed_sections": [
    "E0vqbgi9ay0H",
    "VUC88oWjTJw2"
   ],
   "provenance": []
  },
  "kernelspec": {
   "display_name": "Python 3 (ipykernel)",
   "language": "python",
   "name": "python3"
  },
  "language_info": {
   "codemirror_mode": {
    "name": "ipython",
    "version": 3
   },
   "file_extension": ".py",
   "mimetype": "text/x-python",
   "name": "python",
   "nbconvert_exporter": "python",
   "pygments_lexer": "ipython3",
   "version": "3.9.19"
  },
  "toc": {
   "base_numbering": 1,
   "nav_menu": {},
   "number_sections": true,
   "sideBar": true,
   "skip_h1_title": true,
   "title_cell": "Table of Contents",
   "title_sidebar": "Contents",
   "toc_cell": false,
   "toc_position": {},
   "toc_section_display": true,
   "toc_window_display": false
  }
 },
 "nbformat": 4,
 "nbformat_minor": 1
}
